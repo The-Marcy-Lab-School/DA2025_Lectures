{
 "cells": [
  {
   "cell_type": "markdown",
   "metadata": {},
   "source": [
    "# **Code-Along: Handling Encoding and Mixed Delimiters in CSV Files**\n",
    "\n",
    "In this notebook, you will learn how to:\n",
    "1. Read a CSV file with a specific encoding.\n",
    "2. Handle mixed delimiters in a CSV file.\n",
    "3. Use Python's built-in tools (`open()` and `csv` module) to process the file.\n",
    "\n",
    "---\n",
    "\n",
    "## **Scenario**\n",
    "You are working with a CSV file that contains data about public transportation usage. The file:\n",
    "- Uses **UTF-8 encoding**.\n",
    "- Contains **mixed delimiters** (commas and semicolons).\n",
    "- Includes a header row.\n",
    "\n",
    "Your task is to:\n",
    "1. Read the file correctly.\n",
    "2. Extract specific information.\n",
    "3. Perform basic analysis on the data.\n",
    "\n",
    "---\n",
    "\n",
    "## **Dataset: public_transport.csv**\n",
    "\n",
    "**File Contents:**\n",
    "\n",
    "- Station\n",
    "- Daily Ridership (how many people rode)\n",
    "- City "
   ]
  },
  {
   "cell_type": "markdown",
   "metadata": {},
   "source": [
    "## **Part 1: Reading the CSV File**\n",
    "\n",
    "### Task:\n",
    "1. Open the file `public_transport.csv` using the `open()` function and the `with` statement.\n",
    "2. Use the `csv.reader()` function to read the file.\n",
    "3. Handle the mixed delimiters (commas and semicolons) by splitting the rows manually.\n"
   ]
  },
  {
   "cell_type": "code",
   "execution_count": null,
   "metadata": {},
   "outputs": [],
   "source": [
    "# import the csv package \n",
    "\n",
    "import csv"
   ]
  },
  {
   "cell_type": "code",
   "execution_count": null,
   "metadata": {},
   "outputs": [],
   "source": [
    "# Open the CSV file with UTF-8 encoding\n",
    "with open('data/public_transport.csv', 'r', encoding='utf-8') as file:\n",
    "    reader = csv.reader(file)\n",
    "    \n",
    "    # Iterate through the rows\n",
    "    for row in reader:\n",
    "        # The first column is the station name\n",
    "        station = None\n",
    "        \n",
    "        # The second column contains \"Daily_Ridership;City\", so we split it by the semicolon\n",
    "        ridership, city = None.split(';')  # Correctly access the second element of the list and split it\n",
    "        \n",
    "        # Print the extracted data\n",
    "        print(f\"Station: {station}, Daily Ridership: {ridership}, City: {city}\")"
   ]
  },
  {
   "cell_type": "markdown",
   "metadata": {},
   "source": [
    "## Part 2: Extracting Specific Information\n",
    "### Task:\n",
    "- Skip the header row.\n",
    "- Print only the station names and their corresponding cities.\n"
   ]
  },
  {
   "cell_type": "code",
   "execution_count": null,
   "metadata": {},
   "outputs": [],
   "source": [
    "# Open the CSV file with UTF-8 encoding\n",
    "with open('data/public_transport.csv', 'r', encoding='utf-8') as file:\n",
    "    reader = csv.reader(file)\n",
    "    \n",
    "    # Skip the header row\n",
    "    next(None)\n",
    "    \n",
    "    # Print station names and cities\n",
    "    for row in None:\n",
    "        station = None\n",
    "        city = None.split(';')[1]  # Split the second column and get the city\n",
    "        print(f\"Station: {station}, City: {city}\")"
   ]
  },
  {
   "cell_type": "markdown",
   "metadata": {},
   "source": [
    "## Part 3: Basic Analysis\n",
    "\n",
    "### Task:\n",
    "- Count the total number of stations.\n",
    "- Calculate the total daily ridership across all stations.\n"
   ]
  },
  {
   "cell_type": "code",
   "execution_count": null,
   "metadata": {},
   "outputs": [],
   "source": [
    "# Initialize variables\n",
    "station_count = 0\n",
    "total_ridership = 0\n",
    "\n",
    "# Open the CSV file with UTF-8 encoding\n",
    "with open('data/public_transport.csv', 'r', encoding='utf-8') as file:\n",
    "    reader = csv.reader(file)\n",
    "    \n",
    "    # Skip the header row\n",
    "    next(None)\n",
    "    \n",
    "    # Iterate through the rows\n",
    "    for row in None:\n",
    "        station_count += 1\n",
    "        ridership = int(None.split(';')[0])  # Convert ridership to an integer\n",
    "        total_ridership += ridership\n",
    "\n",
    "# Print the results\n",
    "print(\"Total Stations:\", station_count)\n",
    "print(\"Total Daily Ridership:\", total_ridership)"
   ]
  }
 ],
 "metadata": {
  "kernelspec": {
   "display_name": "Python (learn-env)",
   "language": "python",
   "name": "learn-env"
  },
  "language_info": {
   "codemirror_mode": {
    "name": "ipython",
    "version": 3
   },
   "file_extension": ".py",
   "mimetype": "text/x-python",
   "name": "python",
   "nbconvert_exporter": "python",
   "pygments_lexer": "ipython3",
   "version": "3.12.4"
  }
 },
 "nbformat": 4,
 "nbformat_minor": 2
}
