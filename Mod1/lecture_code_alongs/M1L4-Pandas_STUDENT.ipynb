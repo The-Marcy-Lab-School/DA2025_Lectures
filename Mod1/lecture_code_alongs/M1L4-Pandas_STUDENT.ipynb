{
 "cells": [
  {
   "cell_type": "markdown",
   "metadata": {},
   "source": [
    "# M1L4 Pandas Code Walkthrough: Air Pollution Analysis\n",
    "\n",
    "Scenario: Analyze air pollution data\n",
    "\n",
    "Dataset: A CSV file containing air pollution metrics [DataSet](https://www.kaggle.com/datasets/sazidthe1/global-air-pollution-data)\n",
    "\n",
    "Tasks:\n",
    "- Load the dataset into a DataFrame.\n",
    "- Explore the data using attributes and methods.\n",
    "- Calculate summary statistics for air pollution metrics."
   ]
  },
  {
   "cell_type": "markdown",
   "metadata": {},
   "source": [
    "### Step 1: Import Pandas\n"
   ]
  },
  {
   "cell_type": "code",
   "execution_count": 2,
   "metadata": {},
   "outputs": [],
   "source": [
    "import pandas as pd"
   ]
  },
  {
   "cell_type": "markdown",
   "metadata": {},
   "source": [
    "### Step 2: Load the Air Pollution Dataset\n",
    "\n",
    "Load the dataset into a Pandas DataFrame. You will use the `pd.read_csv()` function.  Look at documentation to see what this function does and the arguments it takes in. "
   ]
  },
  {
   "cell_type": "code",
   "execution_count": 3,
   "metadata": {},
   "outputs": [],
   "source": [
    "air_data= pd.read_csv('global_air_pollution_data.csv')\n"
   ]
  },
  {
   "cell_type": "markdown",
   "metadata": {},
   "source": [
    "### Step 3: Explore the Data\n",
    "\n",
    "Task:\n",
    "- View the first 5 rows of the dataset.\n",
    "- Check the shape of the dataset.\n",
    "- Display the column names and data types."
   ]
  },
  {
   "cell_type": "code",
   "execution_count": 7,
   "metadata": {},
   "outputs": [
    {
     "name": "stdout",
     "output_type": "stream",
     "text": [
      "         country_name         city_name  aqi_value aqi_category  \\\n",
      "0  Russian Federation        Praskoveya         51     Moderate   \n",
      "1              Brazil  Presidente Dutra         41         Good   \n",
      "2               Italy   Priolo Gargallo         66     Moderate   \n",
      "3              Poland         Przasnysz         34         Good   \n",
      "4              France          Punaauia         22         Good   \n",
      "\n",
      "   co_aqi_value\\t co_aqi_category  ozone_aqi_value ozone_aqi_category  \\\n",
      "0               1            Good               36               Good   \n",
      "1               1            Good                5               Good   \n",
      "2               1            Good               39               Good   \n",
      "3               1            Good               34               Good   \n",
      "4               0            Good               22               Good   \n",
      "\n",
      "   no2_aqi_value no2_aqi_category  pm2.5_aqi_value pm2.5_aqi_category  \n",
      "0              0             Good               51           Moderate  \n",
      "1              1             Good               41               Good  \n",
      "2              2             Good               66           Moderate  \n",
      "3              0             Good               20               Good  \n",
      "4              0             Good                6               Good  \n",
      "(23463, 12)\n"
     ]
    },
    {
     "data": {
      "text/plain": [
       "country_name          object\n",
       "city_name             object\n",
       "aqi_value              int64\n",
       "aqi_category          object\n",
       "co_aqi_value\\t         int64\n",
       "co_aqi_category       object\n",
       "ozone_aqi_value        int64\n",
       "ozone_aqi_category    object\n",
       "no2_aqi_value          int64\n",
       "no2_aqi_category      object\n",
       "pm2.5_aqi_value        int64\n",
       "pm2.5_aqi_category    object\n",
       "dtype: object"
      ]
     },
     "execution_count": 7,
     "metadata": {},
     "output_type": "execute_result"
    }
   ],
   "source": [
    "# View the first 5 rows\n",
    "print(air_data.head())\n",
    "\n",
    "# Check the shape of the dataset\n",
    "print(air_data.shape)\n",
    "\n",
    "# Display column names and data types\n",
    "(air_data.dtypes)"
   ]
  },
  {
   "cell_type": "markdown",
   "metadata": {},
   "source": [
    "### Step 4: Calculate Summary Statistics\n",
    "\n",
    "Task:\n",
    "- Use `.describe()` to get summary statistics for all numeric columns.\n",
    "- What are some takeaways that you notice?  \n"
   ]
  },
  {
   "cell_type": "code",
   "execution_count": null,
   "metadata": {},
   "outputs": [
    {
     "name": "stdout",
     "output_type": "stream",
     "text": [
      "          aqi_value  co_aqi_value\\t  ozone_aqi_value  no2_aqi_value  \\\n",
      "count  23463.000000    23463.000000     23463.000000   23463.000000   \n",
      "mean      72.010868        1.368367        35.193709       3.063334   \n",
      "std       56.055220        1.832064        28.098723       5.254108   \n",
      "min        6.000000        0.000000         0.000000       0.000000   \n",
      "25%       39.000000        1.000000        21.000000       0.000000   \n",
      "50%       55.000000        1.000000        31.000000       1.000000   \n",
      "75%       79.000000        1.000000        40.000000       4.000000   \n",
      "max      500.000000      133.000000       235.000000      91.000000   \n",
      "\n",
      "       pm2.5_aqi_value  \n",
      "count     23463.000000  \n",
      "mean         68.519755  \n",
      "std          54.796443  \n",
      "min           0.000000  \n",
      "25%          35.000000  \n",
      "50%          54.000000  \n",
      "75%          79.000000  \n",
      "max         500.000000  \n"
     ]
    }
   ],
   "source": [
    "# Summary statistics for all numeric columns\n",
    "print(air_data.describe())\n",
    "#Summary statictis shows the count, mean, std, min, max. It also shows the percentiles in which the data uses. "
   ]
  }
 ],
 "metadata": {
  "kernelspec": {
   "display_name": "data-analysis-env",
   "language": "python",
   "name": "python3"
  },
  "language_info": {
   "codemirror_mode": {
    "name": "ipython",
    "version": 3
   },
   "file_extension": ".py",
   "mimetype": "text/x-python",
   "name": "python",
   "nbconvert_exporter": "python",
   "pygments_lexer": "ipython3",
   "version": "3.9.22"
  }
 },
 "nbformat": 4,
 "nbformat_minor": 2
}
