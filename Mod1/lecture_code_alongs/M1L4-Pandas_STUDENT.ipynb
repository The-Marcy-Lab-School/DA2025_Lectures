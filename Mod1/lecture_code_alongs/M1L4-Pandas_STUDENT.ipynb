{
 "cells": [
  {
   "cell_type": "markdown",
   "metadata": {},
   "source": [
    "# M1L4 Pandas Code Walkthrough: Air Pollution Analysis\n",
    "\n",
    "Scenario: Analyze air pollution data\n",
    "\n",
    "Dataset: A CSV file containing air pollution metrics [DataSet](https://www.kaggle.com/datasets/sazidthe1/global-air-pollution-data)\n",
    "\n",
    "Tasks:\n",
    "- Load the dataset into a DataFrame.\n",
    "- Explore the data using attributes and methods.\n",
    "- Calculate summary statistics for air pollution metrics."
   ]
  },
  {
   "cell_type": "markdown",
   "metadata": {},
   "source": [
    "### Step 1: Import Pandas\n"
   ]
  },
  {
   "cell_type": "code",
   "execution_count": 18,
   "metadata": {},
   "outputs": [],
   "source": [
    "import pandas as pd"
   ]
  },
  {
   "cell_type": "markdown",
   "metadata": {},
   "source": [
    "### Step 2: Load the Air Pollution Dataset\n",
    "\n",
    "Load the dataset into a Pandas DataFrame. You will use the `pd.read_csv()` function.  Look at documentation to see what this function does and the arguments it takes in. "
   ]
  },
  {
   "cell_type": "code",
   "execution_count": 19,
   "metadata": {},
   "outputs": [],
   "source": [
    "df = pd.read_csv(\"global_air_pollution_data.csv\")"
   ]
  },
  {
   "cell_type": "markdown",
   "metadata": {},
   "source": [
    "### Step 3: Explore the Data\n",
    "\n",
    "Task:\n",
    "- View the first 5 rows of the dataset.\n",
    "- Check the shape of the dataset.\n",
    "- Display the column names and data types."
   ]
  },
  {
   "cell_type": "code",
   "execution_count": 20,
   "metadata": {},
   "outputs": [
    {
     "name": "stdout",
     "output_type": "stream",
     "text": [
      "         country_name         city_name  aqi_value aqi_category  \\\n",
      "0  Russian Federation        Praskoveya         51     Moderate   \n",
      "1              Brazil  Presidente Dutra         41         Good   \n",
      "2               Italy   Priolo Gargallo         66     Moderate   \n",
      "3              Poland         Przasnysz         34         Good   \n",
      "4              France          Punaauia         22         Good   \n",
      "\n",
      "   co_aqi_value\\t co_aqi_category  ozone_aqi_value ozone_aqi_category  \\\n",
      "0               1            Good               36               Good   \n",
      "1               1            Good                5               Good   \n",
      "2               1            Good               39               Good   \n",
      "3               1            Good               34               Good   \n",
      "4               0            Good               22               Good   \n",
      "\n",
      "   no2_aqi_value no2_aqi_category  pm2.5_aqi_value pm2.5_aqi_category  \n",
      "0              0             Good               51           Moderate  \n",
      "1              1             Good               41               Good  \n",
      "2              2             Good               66           Moderate  \n",
      "3              0             Good               20               Good  \n",
      "4              0             Good                6               Good  \n",
      "(23463, 12)\n",
      "Index(['country_name', 'city_name', 'aqi_value', 'aqi_category',\n",
      "       'co_aqi_value\\t', 'co_aqi_category', 'ozone_aqi_value',\n",
      "       'ozone_aqi_category', 'no2_aqi_value', 'no2_aqi_category',\n",
      "       'pm2.5_aqi_value', 'pm2.5_aqi_category'],\n",
      "      dtype='object')\n"
     ]
    }
   ],
   "source": [
    "\n",
    "# View the first 5 rows\n",
    "print(df.head(5))\n",
    "\n",
    "# Check the shape of the dataset\n",
    "print(df.shape)\n",
    "\n",
    "# Display column names and data types\n",
    "print(df.columns)"
   ]
  },
  {
   "cell_type": "markdown",
   "metadata": {},
   "source": [
    "### Step 4: Calculate Summary Statistics\n",
    "\n",
    "Task:\n",
    "- Use `.describe()` to get summary statistics for all numeric columns.\n",
    "- What are some takeaways that you notice?  \n"
   ]
  },
  {
   "cell_type": "code",
   "execution_count": 24,
   "metadata": {},
   "outputs": [
    {
     "data": {
      "text/plain": [
       "<bound method NDFrame.describe of                    country_name         city_name  aqi_value aqi_category  \\\n",
       "0            Russian Federation        Praskoveya         51     Moderate   \n",
       "1                        Brazil  Presidente Dutra         41         Good   \n",
       "2                         Italy   Priolo Gargallo         66     Moderate   \n",
       "3                        Poland         Przasnysz         34         Good   \n",
       "4                        France          Punaauia         22         Good   \n",
       "...                         ...               ...        ...          ...   \n",
       "23458                     India      Gursahaiganj        184    Unhealthy   \n",
       "23459                    France            Sceaux         50         Good   \n",
       "23460                     India          Mormugao         50         Good   \n",
       "23461  United States of America       Westerville         71     Moderate   \n",
       "23462                  Malaysia            Marang         70     Moderate   \n",
       "\n",
       "       co_aqi_value\\t co_aqi_category  ozone_aqi_value ozone_aqi_category  \\\n",
       "0                   1            Good               36               Good   \n",
       "1                   1            Good                5               Good   \n",
       "2                   1            Good               39               Good   \n",
       "3                   1            Good               34               Good   \n",
       "4                   0            Good               22               Good   \n",
       "...               ...             ...              ...                ...   \n",
       "23458               3            Good              154          Unhealthy   \n",
       "23459               1            Good               20               Good   \n",
       "23460               1            Good               22               Good   \n",
       "23461               1            Good               44               Good   \n",
       "23462               1            Good               38               Good   \n",
       "\n",
       "       no2_aqi_value no2_aqi_category  pm2.5_aqi_value pm2.5_aqi_category  \n",
       "0                  0             Good               51           Moderate  \n",
       "1                  1             Good               41               Good  \n",
       "2                  2             Good               66           Moderate  \n",
       "3                  0             Good               20               Good  \n",
       "4                  0             Good                6               Good  \n",
       "...              ...              ...              ...                ...  \n",
       "23458              2             Good              184          Unhealthy  \n",
       "23459              5             Good               50               Good  \n",
       "23460              1             Good               50               Good  \n",
       "23461              2             Good               71           Moderate  \n",
       "23462              0             Good               70           Moderate  \n",
       "\n",
       "[23463 rows x 12 columns]>"
      ]
     },
     "execution_count": 24,
     "metadata": {},
     "output_type": "execute_result"
    }
   ],
   "source": [
    "# Summary statistics for all numeric columns\n",
    "col_names = ['country_name', 'city_name', 'aqi_value', 'aqi_category',\n",
    "       'co_aqi_value\\t', 'co_aqi_category', 'ozone_aqi_value',\n",
    "       'ozone_aqi_category', 'no2_aqi_value', 'no2_aqi_category',\n",
    "       'pm2.5_aqi_value', 'pm2.5_aqi_category']\n",
    "df.describe"
   ]
  }
 ],
 "metadata": {
  "kernelspec": {
   "display_name": "data-analysis-env",
   "language": "python",
   "name": "python3"
  },
  "language_info": {
   "codemirror_mode": {
    "name": "ipython",
    "version": 3
   },
   "file_extension": ".py",
   "mimetype": "text/x-python",
   "name": "python",
   "nbconvert_exporter": "python",
   "pygments_lexer": "ipython3",
   "version": "3.9.22"
  }
 },
 "nbformat": 4,
 "nbformat_minor": 2
}
