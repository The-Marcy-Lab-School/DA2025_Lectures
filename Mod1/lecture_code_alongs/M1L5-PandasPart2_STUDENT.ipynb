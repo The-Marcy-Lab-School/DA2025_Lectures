{
 "cells": [
  {
   "cell_type": "markdown",
   "metadata": {},
   "source": [
    "# M1L5 More EDA with Pandas \n",
    "\n",
    "This notebook will guide you through some essential data manipulation techniques using the Pandas library in Python. We'll be working with the Austin Animal Center Intakes dataset, which contains information about animals entering the Austin Animal Center.\n",
    "\n",
    "### **Dataset:** [Austin Animal Center Intakes](https://catalog.data.gov/dataset/austin-animal-center-intakes) -- This is also in your data folder \n",
    "\n",
    "### **Objectives:**\n",
    "\n",
    " 1.  Load and explore the dataset.\n",
    " 2.  Use `groupby()` to aggregate data.\n",
    " 3.  Create contingency tables using `crosstab()`.\n",
    " 4.  Identify and handle duplicate entries."
   ]
  },
  {
   "cell_type": "markdown",
   "metadata": {},
   "source": [
    "## Step 1:  Import pandas and numpy "
   ]
  },
  {
   "cell_type": "code",
   "execution_count": 16,
   "metadata": {},
   "outputs": [],
   "source": [
    "#Import packages \n",
    "\n",
    "import pandas as pd \n",
    "import numpy as np "
   ]
  },
  {
   "cell_type": "markdown",
   "metadata": {},
   "source": [
    "## Step 2:  Load in the data and save it as `df`"
   ]
  },
  {
   "cell_type": "code",
   "execution_count": 17,
   "metadata": {},
   "outputs": [],
   "source": [
    "df = pd.read_csv(\"Austin_Animal_Center_Intakes__10_01_2013_to_05_05_2025_.csv\")"
   ]
  },
  {
   "cell_type": "markdown",
   "metadata": {},
   "source": [
    "## Step 3:  Look at the data (can you think of some methods to do this)"
   ]
  },
  {
   "cell_type": "code",
   "execution_count": 18,
   "metadata": {},
   "outputs": [
    {
     "data": {
      "text/html": [
       "<div>\n",
       "<style scoped>\n",
       "    .dataframe tbody tr th:only-of-type {\n",
       "        vertical-align: middle;\n",
       "    }\n",
       "\n",
       "    .dataframe tbody tr th {\n",
       "        vertical-align: top;\n",
       "    }\n",
       "\n",
       "    .dataframe thead th {\n",
       "        text-align: right;\n",
       "    }\n",
       "</style>\n",
       "<table border=\"1\" class=\"dataframe\">\n",
       "  <thead>\n",
       "    <tr style=\"text-align: right;\">\n",
       "      <th></th>\n",
       "      <th>Animal ID</th>\n",
       "      <th>Name</th>\n",
       "      <th>DateTime</th>\n",
       "      <th>MonthYear</th>\n",
       "      <th>Found Location</th>\n",
       "      <th>Intake Type</th>\n",
       "      <th>Intake Condition</th>\n",
       "      <th>Animal Type</th>\n",
       "      <th>Sex upon Intake</th>\n",
       "      <th>Age upon Intake</th>\n",
       "      <th>Breed</th>\n",
       "      <th>Color</th>\n",
       "    </tr>\n",
       "  </thead>\n",
       "  <tbody>\n",
       "    <tr>\n",
       "      <th>0</th>\n",
       "      <td>A521520</td>\n",
       "      <td>Nina</td>\n",
       "      <td>10/01/2013 07:51:00 AM</td>\n",
       "      <td>October 2013</td>\n",
       "      <td>Norht Ec in Austin (TX)</td>\n",
       "      <td>Stray</td>\n",
       "      <td>Normal</td>\n",
       "      <td>Dog</td>\n",
       "      <td>Spayed Female</td>\n",
       "      <td>7 years</td>\n",
       "      <td>Border Terrier/Border Collie</td>\n",
       "      <td>White/Tan</td>\n",
       "    </tr>\n",
       "    <tr>\n",
       "      <th>1</th>\n",
       "      <td>A664235</td>\n",
       "      <td>NaN</td>\n",
       "      <td>10/01/2013 08:33:00 AM</td>\n",
       "      <td>October 2013</td>\n",
       "      <td>Abia in Austin (TX)</td>\n",
       "      <td>Stray</td>\n",
       "      <td>Normal</td>\n",
       "      <td>Cat</td>\n",
       "      <td>Unknown</td>\n",
       "      <td>1 week</td>\n",
       "      <td>Domestic Shorthair Mix</td>\n",
       "      <td>Orange/White</td>\n",
       "    </tr>\n",
       "    <tr>\n",
       "      <th>2</th>\n",
       "      <td>A664236</td>\n",
       "      <td>NaN</td>\n",
       "      <td>10/01/2013 08:33:00 AM</td>\n",
       "      <td>October 2013</td>\n",
       "      <td>Abia in Austin (TX)</td>\n",
       "      <td>Stray</td>\n",
       "      <td>Normal</td>\n",
       "      <td>Cat</td>\n",
       "      <td>Unknown</td>\n",
       "      <td>1 week</td>\n",
       "      <td>Domestic Shorthair Mix</td>\n",
       "      <td>Orange/White</td>\n",
       "    </tr>\n",
       "    <tr>\n",
       "      <th>3</th>\n",
       "      <td>A664237</td>\n",
       "      <td>NaN</td>\n",
       "      <td>10/01/2013 08:33:00 AM</td>\n",
       "      <td>October 2013</td>\n",
       "      <td>Abia in Austin (TX)</td>\n",
       "      <td>Stray</td>\n",
       "      <td>Normal</td>\n",
       "      <td>Cat</td>\n",
       "      <td>Unknown</td>\n",
       "      <td>1 week</td>\n",
       "      <td>Domestic Shorthair Mix</td>\n",
       "      <td>Orange/White</td>\n",
       "    </tr>\n",
       "    <tr>\n",
       "      <th>4</th>\n",
       "      <td>A664233</td>\n",
       "      <td>Stevie</td>\n",
       "      <td>10/01/2013 08:53:00 AM</td>\n",
       "      <td>October 2013</td>\n",
       "      <td>7405 Springtime in Austin (TX)</td>\n",
       "      <td>Stray</td>\n",
       "      <td>Injured</td>\n",
       "      <td>Dog</td>\n",
       "      <td>Intact Female</td>\n",
       "      <td>3 years</td>\n",
       "      <td>Pit Bull Mix</td>\n",
       "      <td>Blue/White</td>\n",
       "    </tr>\n",
       "  </tbody>\n",
       "</table>\n",
       "</div>"
      ],
      "text/plain": [
       "  Animal ID    Name                DateTime     MonthYear  \\\n",
       "0   A521520    Nina  10/01/2013 07:51:00 AM  October 2013   \n",
       "1   A664235     NaN  10/01/2013 08:33:00 AM  October 2013   \n",
       "2   A664236     NaN  10/01/2013 08:33:00 AM  October 2013   \n",
       "3   A664237     NaN  10/01/2013 08:33:00 AM  October 2013   \n",
       "4   A664233  Stevie  10/01/2013 08:53:00 AM  October 2013   \n",
       "\n",
       "                   Found Location Intake Type Intake Condition Animal Type  \\\n",
       "0         Norht Ec in Austin (TX)       Stray           Normal         Dog   \n",
       "1             Abia in Austin (TX)       Stray           Normal         Cat   \n",
       "2             Abia in Austin (TX)       Stray           Normal         Cat   \n",
       "3             Abia in Austin (TX)       Stray           Normal         Cat   \n",
       "4  7405 Springtime in Austin (TX)       Stray          Injured         Dog   \n",
       "\n",
       "  Sex upon Intake Age upon Intake                         Breed         Color  \n",
       "0   Spayed Female         7 years  Border Terrier/Border Collie     White/Tan  \n",
       "1         Unknown          1 week        Domestic Shorthair Mix  Orange/White  \n",
       "2         Unknown          1 week        Domestic Shorthair Mix  Orange/White  \n",
       "3         Unknown          1 week        Domestic Shorthair Mix  Orange/White  \n",
       "4   Intact Female         3 years                  Pit Bull Mix    Blue/White  "
      ]
     },
     "execution_count": 18,
     "metadata": {},
     "output_type": "execute_result"
    }
   ],
   "source": [
    "df.head()"
   ]
  },
  {
   "cell_type": "markdown",
   "metadata": {},
   "source": [
    "## Step 4:  Count up how many missing values exist in each column (you would need to chain two methods here -- one to check for missing values and the other to sum missing values up)"
   ]
  },
  {
   "cell_type": "code",
   "execution_count": 19,
   "metadata": {},
   "outputs": [
    {
     "data": {
      "text/plain": [
       "Animal ID               0\n",
       "Name                49991\n",
       "DateTime                0\n",
       "MonthYear               0\n",
       "Found Location          0\n",
       "Intake Type             0\n",
       "Intake Condition        0\n",
       "Animal Type             0\n",
       "Sex upon Intake         1\n",
       "Age upon Intake         0\n",
       "Breed                   0\n",
       "Color                   0\n",
       "dtype: int64"
      ]
     },
     "execution_count": 19,
     "metadata": {},
     "output_type": "execute_result"
    }
   ],
   "source": [
    "df.isna().sum()"
   ]
  },
  {
   "cell_type": "markdown",
   "metadata": {},
   "source": [
    "## Step 5:  Count up the amount of animals by Animal Type "
   ]
  },
  {
   "cell_type": "code",
   "execution_count": 20,
   "metadata": {},
   "outputs": [
    {
     "name": "stdout",
     "output_type": "stream",
     "text": [
      "Animal Type\n",
      "Dog          94608\n",
      "Cat          69324\n",
      "Other         8968\n",
      "Bird           878\n",
      "Livestock       34\n",
      "Name: count, dtype: int64\n"
     ]
    }
   ],
   "source": [
    "animal_counts = df['Animal Type'].value_counts()\n",
    "print(animal_counts)"
   ]
  },
  {
   "cell_type": "markdown",
   "metadata": {},
   "source": [
    "## Step 6:  Create a crosstab showing the count of animal types for each intake condition."
   ]
  },
  {
   "cell_type": "code",
   "execution_count": 21,
   "metadata": {},
   "outputs": [
    {
     "data": {
      "text/html": [
       "<div>\n",
       "<style scoped>\n",
       "    .dataframe tbody tr th:only-of-type {\n",
       "        vertical-align: middle;\n",
       "    }\n",
       "\n",
       "    .dataframe tbody tr th {\n",
       "        vertical-align: top;\n",
       "    }\n",
       "\n",
       "    .dataframe thead th {\n",
       "        text-align: right;\n",
       "    }\n",
       "</style>\n",
       "<table border=\"1\" class=\"dataframe\">\n",
       "  <thead>\n",
       "    <tr style=\"text-align: right;\">\n",
       "      <th>Animal Type</th>\n",
       "      <th>Bird</th>\n",
       "      <th>Cat</th>\n",
       "      <th>Dog</th>\n",
       "      <th>Livestock</th>\n",
       "      <th>Other</th>\n",
       "    </tr>\n",
       "    <tr>\n",
       "      <th>Intake Condition</th>\n",
       "      <th></th>\n",
       "      <th></th>\n",
       "      <th></th>\n",
       "      <th></th>\n",
       "      <th></th>\n",
       "    </tr>\n",
       "  </thead>\n",
       "  <tbody>\n",
       "    <tr>\n",
       "      <th>Aged</th>\n",
       "      <td>0</td>\n",
       "      <td>77</td>\n",
       "      <td>445</td>\n",
       "      <td>0</td>\n",
       "      <td>3</td>\n",
       "    </tr>\n",
       "    <tr>\n",
       "      <th>Agonal</th>\n",
       "      <td>0</td>\n",
       "      <td>3</td>\n",
       "      <td>1</td>\n",
       "      <td>0</td>\n",
       "      <td>0</td>\n",
       "    </tr>\n",
       "    <tr>\n",
       "      <th>Behavior</th>\n",
       "      <td>0</td>\n",
       "      <td>8</td>\n",
       "      <td>73</td>\n",
       "      <td>0</td>\n",
       "      <td>0</td>\n",
       "    </tr>\n",
       "    <tr>\n",
       "      <th>Congenital</th>\n",
       "      <td>0</td>\n",
       "      <td>0</td>\n",
       "      <td>1</td>\n",
       "      <td>0</td>\n",
       "      <td>0</td>\n",
       "    </tr>\n",
       "    <tr>\n",
       "      <th>Feral</th>\n",
       "      <td>0</td>\n",
       "      <td>133</td>\n",
       "      <td>11</td>\n",
       "      <td>0</td>\n",
       "      <td>1</td>\n",
       "    </tr>\n",
       "    <tr>\n",
       "      <th>Injured</th>\n",
       "      <td>249</td>\n",
       "      <td>4339</td>\n",
       "      <td>5000</td>\n",
       "      <td>2</td>\n",
       "      <td>1215</td>\n",
       "    </tr>\n",
       "    <tr>\n",
       "      <th>Med Attn</th>\n",
       "      <td>0</td>\n",
       "      <td>27</td>\n",
       "      <td>60</td>\n",
       "      <td>0</td>\n",
       "      <td>0</td>\n",
       "    </tr>\n",
       "    <tr>\n",
       "      <th>Med Urgent</th>\n",
       "      <td>0</td>\n",
       "      <td>11</td>\n",
       "      <td>10</td>\n",
       "      <td>0</td>\n",
       "      <td>0</td>\n",
       "    </tr>\n",
       "    <tr>\n",
       "      <th>Medical</th>\n",
       "      <td>0</td>\n",
       "      <td>213</td>\n",
       "      <td>391</td>\n",
       "      <td>0</td>\n",
       "      <td>10</td>\n",
       "    </tr>\n",
       "    <tr>\n",
       "      <th>Neonatal</th>\n",
       "      <td>1</td>\n",
       "      <td>1467</td>\n",
       "      <td>476</td>\n",
       "      <td>1</td>\n",
       "      <td>26</td>\n",
       "    </tr>\n",
       "    <tr>\n",
       "      <th>Neurologic</th>\n",
       "      <td>0</td>\n",
       "      <td>5</td>\n",
       "      <td>6</td>\n",
       "      <td>0</td>\n",
       "      <td>2</td>\n",
       "    </tr>\n",
       "    <tr>\n",
       "      <th>Normal</th>\n",
       "      <td>603</td>\n",
       "      <td>57032</td>\n",
       "      <td>83773</td>\n",
       "      <td>28</td>\n",
       "      <td>5705</td>\n",
       "    </tr>\n",
       "    <tr>\n",
       "      <th>Nursing</th>\n",
       "      <td>0</td>\n",
       "      <td>2559</td>\n",
       "      <td>1214</td>\n",
       "      <td>0</td>\n",
       "      <td>105</td>\n",
       "    </tr>\n",
       "    <tr>\n",
       "      <th>Other</th>\n",
       "      <td>8</td>\n",
       "      <td>110</td>\n",
       "      <td>229</td>\n",
       "      <td>0</td>\n",
       "      <td>6</td>\n",
       "    </tr>\n",
       "    <tr>\n",
       "      <th>Panleuk</th>\n",
       "      <td>0</td>\n",
       "      <td>1</td>\n",
       "      <td>0</td>\n",
       "      <td>0</td>\n",
       "      <td>0</td>\n",
       "    </tr>\n",
       "    <tr>\n",
       "      <th>Parvo</th>\n",
       "      <td>0</td>\n",
       "      <td>0</td>\n",
       "      <td>11</td>\n",
       "      <td>0</td>\n",
       "      <td>0</td>\n",
       "    </tr>\n",
       "    <tr>\n",
       "      <th>Pregnant</th>\n",
       "      <td>0</td>\n",
       "      <td>41</td>\n",
       "      <td>129</td>\n",
       "      <td>0</td>\n",
       "      <td>0</td>\n",
       "    </tr>\n",
       "    <tr>\n",
       "      <th>Sick</th>\n",
       "      <td>17</td>\n",
       "      <td>3287</td>\n",
       "      <td>2756</td>\n",
       "      <td>3</td>\n",
       "      <td>1876</td>\n",
       "    </tr>\n",
       "    <tr>\n",
       "      <th>Space</th>\n",
       "      <td>0</td>\n",
       "      <td>4</td>\n",
       "      <td>0</td>\n",
       "      <td>0</td>\n",
       "      <td>0</td>\n",
       "    </tr>\n",
       "    <tr>\n",
       "      <th>Unknown</th>\n",
       "      <td>0</td>\n",
       "      <td>7</td>\n",
       "      <td>22</td>\n",
       "      <td>0</td>\n",
       "      <td>19</td>\n",
       "    </tr>\n",
       "  </tbody>\n",
       "</table>\n",
       "</div>"
      ],
      "text/plain": [
       "Animal Type       Bird    Cat    Dog  Livestock  Other\n",
       "Intake Condition                                      \n",
       "Aged                 0     77    445          0      3\n",
       "Agonal               0      3      1          0      0\n",
       "Behavior             0      8     73          0      0\n",
       "Congenital           0      0      1          0      0\n",
       "Feral                0    133     11          0      1\n",
       "Injured            249   4339   5000          2   1215\n",
       "Med Attn             0     27     60          0      0\n",
       "Med Urgent           0     11     10          0      0\n",
       "Medical              0    213    391          0     10\n",
       "Neonatal             1   1467    476          1     26\n",
       "Neurologic           0      5      6          0      2\n",
       "Normal             603  57032  83773         28   5705\n",
       "Nursing              0   2559   1214          0    105\n",
       "Other                8    110    229          0      6\n",
       "Panleuk              0      1      0          0      0\n",
       "Parvo                0      0     11          0      0\n",
       "Pregnant             0     41    129          0      0\n",
       "Sick                17   3287   2756          3   1876\n",
       "Space                0      4      0          0      0\n",
       "Unknown              0      7     22          0     19"
      ]
     },
     "execution_count": 21,
     "metadata": {},
     "output_type": "execute_result"
    }
   ],
   "source": [
    "cross_table = pd.crosstab(df['Intake Condition'],df['Animal Type'], )\n",
    "cross_table"
   ]
  },
  {
   "cell_type": "markdown",
   "metadata": {},
   "source": [
    "## Step 7:  Check for duplicate Animal IDs (pay close attention to the syntax here)"
   ]
  },
  {
   "cell_type": "code",
   "execution_count": 22,
   "metadata": {},
   "outputs": [
    {
     "name": "stdout",
     "output_type": "stream",
     "text": [
      "0         False\n",
      "1         False\n",
      "2         False\n",
      "3         False\n",
      "4         False\n",
      "          ...  \n",
      "173807    False\n",
      "173808    False\n",
      "173809    False\n",
      "173810    False\n",
      "173811    False\n",
      "Length: 173812, dtype: bool\n"
     ]
    }
   ],
   "source": [
    "duplicate_ids = df.duplicated(\"Animal ID\")\n",
    "print(duplicate_ids)"
   ]
  },
  {
   "cell_type": "markdown",
   "metadata": {},
   "source": [
    "## Practice Joining Data "
   ]
  },
  {
   "cell_type": "markdown",
   "metadata": {},
   "source": [
    "### Scenario 1\n",
    "You have customer data split into two different files (DataFrames),\n",
    "and you want to combine them into a single DataFrame for analysis."
   ]
  },
  {
   "cell_type": "code",
   "execution_count": 23,
   "metadata": {},
   "outputs": [],
   "source": [
    "# Run the cell without changes to create the two dataframes \n",
    "\n",
    "customers_part1_df = pd.DataFrame({'CustomerID': [101, 102, 103],\n",
    "                                   'FirstName': ['Alice', 'Bob', 'Charlie'],\n",
    "                                   'City': ['Anytown', 'Otherville', 'Smallburg']})\n",
    "\n",
    "customers_part2_df = pd.DataFrame({'CustomerID': [104, 105, 106],\n",
    "                                   'FirstName': ['David', 'Emily', 'Frank'],\n",
    "                                   'City': ['Bigcity', 'Townsville', 'Villageton']})"
   ]
  },
  {
   "cell_type": "markdown",
   "metadata": {},
   "source": [
    "### Scenario 1 Task:  Use `pd.concat()` to stack the two dataframes above (afterall they have the same columns)"
   ]
  },
  {
   "cell_type": "code",
   "execution_count": 30,
   "metadata": {},
   "outputs": [
    {
     "data": {
      "text/html": [
       "<div>\n",
       "<style scoped>\n",
       "    .dataframe tbody tr th:only-of-type {\n",
       "        vertical-align: middle;\n",
       "    }\n",
       "\n",
       "    .dataframe tbody tr th {\n",
       "        vertical-align: top;\n",
       "    }\n",
       "\n",
       "    .dataframe thead th {\n",
       "        text-align: right;\n",
       "    }\n",
       "</style>\n",
       "<table border=\"1\" class=\"dataframe\">\n",
       "  <thead>\n",
       "    <tr style=\"text-align: right;\">\n",
       "      <th></th>\n",
       "      <th>CustomerID</th>\n",
       "      <th>FirstName</th>\n",
       "      <th>City</th>\n",
       "      <th>CustomerID</th>\n",
       "      <th>FirstName</th>\n",
       "      <th>City</th>\n",
       "    </tr>\n",
       "  </thead>\n",
       "  <tbody>\n",
       "    <tr>\n",
       "      <th>0</th>\n",
       "      <td>101</td>\n",
       "      <td>Alice</td>\n",
       "      <td>Anytown</td>\n",
       "      <td>104</td>\n",
       "      <td>David</td>\n",
       "      <td>Bigcity</td>\n",
       "    </tr>\n",
       "    <tr>\n",
       "      <th>1</th>\n",
       "      <td>102</td>\n",
       "      <td>Bob</td>\n",
       "      <td>Otherville</td>\n",
       "      <td>105</td>\n",
       "      <td>Emily</td>\n",
       "      <td>Townsville</td>\n",
       "    </tr>\n",
       "    <tr>\n",
       "      <th>2</th>\n",
       "      <td>103</td>\n",
       "      <td>Charlie</td>\n",
       "      <td>Smallburg</td>\n",
       "      <td>106</td>\n",
       "      <td>Frank</td>\n",
       "      <td>Villageton</td>\n",
       "    </tr>\n",
       "  </tbody>\n",
       "</table>\n",
       "</div>"
      ],
      "text/plain": [
       "   CustomerID FirstName        City  CustomerID FirstName        City\n",
       "0         101     Alice     Anytown         104     David     Bigcity\n",
       "1         102       Bob  Otherville         105     Emily  Townsville\n",
       "2         103   Charlie   Smallburg         106     Frank  Villageton"
      ]
     },
     "execution_count": 30,
     "metadata": {},
     "output_type": "execute_result"
    }
   ],
   "source": [
    "\n",
    "all_customers_df = pd.concat([customers_part1_df, customers_part2_df], axis=True)\n",
    "all_customers_df"
   ]
  },
  {
   "cell_type": "markdown",
   "metadata": {},
   "source": [
    "### Scenario 2"
   ]
  },
  {
   "cell_type": "markdown",
   "metadata": {},
   "source": [
    "Combining customer details and loyalty points."
   ]
  },
  {
   "cell_type": "code",
   "execution_count": 31,
   "metadata": {},
   "outputs": [],
   "source": [
    "# Run the cell without changes to create the two dataframes \n",
    "\n",
    "customer_details_df = pd.DataFrame({'CustomerID': [101, 102, 103],\n",
    "                                    'Name': ['Alice', 'Bob', 'Charlie'],\n",
    "                                    'City': ['Anytown', 'Otherville', 'Smallburg']})\n",
    "\n",
    "loyalty_points_df = pd.DataFrame({'CustomerID': [101, 102, 103],\n",
    "                                  'Points': [100, 250, 50]})"
   ]
  },
  {
   "cell_type": "markdown",
   "metadata": {},
   "source": [
    "### Scenario 2 Task :  Merge the DataFrames on CustomerID\n"
   ]
  },
  {
   "cell_type": "code",
   "execution_count": 32,
   "metadata": {},
   "outputs": [
    {
     "data": {
      "text/html": [
       "<div>\n",
       "<style scoped>\n",
       "    .dataframe tbody tr th:only-of-type {\n",
       "        vertical-align: middle;\n",
       "    }\n",
       "\n",
       "    .dataframe tbody tr th {\n",
       "        vertical-align: top;\n",
       "    }\n",
       "\n",
       "    .dataframe thead th {\n",
       "        text-align: right;\n",
       "    }\n",
       "</style>\n",
       "<table border=\"1\" class=\"dataframe\">\n",
       "  <thead>\n",
       "    <tr style=\"text-align: right;\">\n",
       "      <th></th>\n",
       "      <th>CustomerID</th>\n",
       "      <th>FirstName_x</th>\n",
       "      <th>City_x</th>\n",
       "      <th>FirstName_y</th>\n",
       "      <th>City_y</th>\n",
       "    </tr>\n",
       "  </thead>\n",
       "  <tbody>\n",
       "    <tr>\n",
       "      <th>0</th>\n",
       "      <td>101</td>\n",
       "      <td>Alice</td>\n",
       "      <td>Anytown</td>\n",
       "      <td>NaN</td>\n",
       "      <td>NaN</td>\n",
       "    </tr>\n",
       "    <tr>\n",
       "      <th>1</th>\n",
       "      <td>102</td>\n",
       "      <td>Bob</td>\n",
       "      <td>Otherville</td>\n",
       "      <td>NaN</td>\n",
       "      <td>NaN</td>\n",
       "    </tr>\n",
       "    <tr>\n",
       "      <th>2</th>\n",
       "      <td>103</td>\n",
       "      <td>Charlie</td>\n",
       "      <td>Smallburg</td>\n",
       "      <td>NaN</td>\n",
       "      <td>NaN</td>\n",
       "    </tr>\n",
       "    <tr>\n",
       "      <th>3</th>\n",
       "      <td>104</td>\n",
       "      <td>NaN</td>\n",
       "      <td>NaN</td>\n",
       "      <td>David</td>\n",
       "      <td>Bigcity</td>\n",
       "    </tr>\n",
       "    <tr>\n",
       "      <th>4</th>\n",
       "      <td>105</td>\n",
       "      <td>NaN</td>\n",
       "      <td>NaN</td>\n",
       "      <td>Emily</td>\n",
       "      <td>Townsville</td>\n",
       "    </tr>\n",
       "    <tr>\n",
       "      <th>5</th>\n",
       "      <td>106</td>\n",
       "      <td>NaN</td>\n",
       "      <td>NaN</td>\n",
       "      <td>Frank</td>\n",
       "      <td>Villageton</td>\n",
       "    </tr>\n",
       "  </tbody>\n",
       "</table>\n",
       "</div>"
      ],
      "text/plain": [
       "   CustomerID FirstName_x      City_x FirstName_y      City_y\n",
       "0         101       Alice     Anytown         NaN         NaN\n",
       "1         102         Bob  Otherville         NaN         NaN\n",
       "2         103     Charlie   Smallburg         NaN         NaN\n",
       "3         104         NaN         NaN       David     Bigcity\n",
       "4         105         NaN         NaN       Emily  Townsville\n",
       "5         106         NaN         NaN       Frank  Villageton"
      ]
     },
     "execution_count": 32,
     "metadata": {},
     "output_type": "execute_result"
    }
   ],
   "source": [
    "merged_customer_df = pd.merge(customers_part1_df, customers_part2_df, on=\"CustomerID\", how=\"outer\")\n",
    "merged_customer_df"
   ]
  }
 ],
 "metadata": {
  "kernelspec": {
   "display_name": "data-analysis-env",
   "language": "python",
   "name": "python3"
  },
  "language_info": {
   "codemirror_mode": {
    "name": "ipython",
    "version": 3
   },
   "file_extension": ".py",
   "mimetype": "text/x-python",
   "name": "python",
   "nbconvert_exporter": "python",
   "pygments_lexer": "ipython3",
   "version": "3.9.22"
  }
 },
 "nbformat": 4,
 "nbformat_minor": 2
}
