{
 "cells": [
  {
   "cell_type": "markdown",
   "metadata": {},
   "source": [
    "# M1L7 Data Types, Dates, Strings \n",
    "\n",
    " We'll be working with UFO sighting data.\n",
    "\n",
    "### **Dataset:** [UFO Sightings](https://www.kaggle.com/datasets/jonwright13/ufo-sightings-around-the-world-better?resource=download) -- This is also in your data folder \n",
    "\n",
    "### **Objectives:**\n",
    "\n",
    "- Change an object to a datetime object \n",
    "- Use string methods to manipulate data \n"
   ]
  },
  {
   "cell_type": "markdown",
   "metadata": {},
   "source": [
    "### Step 1:  Import pandas and numpy "
   ]
  },
  {
   "cell_type": "code",
   "execution_count": 1,
   "metadata": {},
   "outputs": [],
   "source": [
    "#Import packages \n",
    "\n",
    "import pandas as pd\n",
    "import numpy as np"
   ]
  },
  {
   "cell_type": "markdown",
   "metadata": {},
   "source": [
    "### Step 2:  Load in the data and save it as `ufo`\n",
    "\n",
    "- The dataset is named `ufo-sightings.csv`"
   ]
  },
  {
   "cell_type": "code",
   "execution_count": 2,
   "metadata": {},
   "outputs": [],
   "source": [
    "ufo = pd.read_csv(\"/Users/gabriel/Desktop/marcy/DA2025_Lectures2/Mod1/lecture_code_alongs/ufo-sightings-transformed.csv\")"
   ]
  },
  {
   "cell_type": "markdown",
   "metadata": {},
   "source": [
    "### Step 3: Check column data types and the head of the data -- does the data/types make sense?"
   ]
  },
  {
   "cell_type": "code",
   "execution_count": 6,
   "metadata": {},
   "outputs": [
    {
     "data": {
      "text/plain": [
       "Unnamed: 0                       int64\n",
       "Date_time                       object\n",
       "date_documented                 object\n",
       "Year                             int64\n",
       "Month                            int64\n",
       "Hour                             int64\n",
       "Season                          object\n",
       "Country_Code                    object\n",
       "Country                         object\n",
       "Region                          object\n",
       "Locale                          object\n",
       "latitude                       float64\n",
       "longitude                      float64\n",
       "UFO_shape                       object\n",
       "length_of_encounter_seconds    float64\n",
       "Encounter_Duration              object\n",
       "Description                     object\n",
       "dtype: object"
      ]
     },
     "execution_count": 6,
     "metadata": {},
     "output_type": "execute_result"
    }
   ],
   "source": [
    "ufo.dtypes"
   ]
  },
  {
   "cell_type": "code",
   "execution_count": 5,
   "metadata": {},
   "outputs": [
    {
     "data": {
      "text/plain": [
       "<bound method NDFrame.head of        Unnamed: 0            Date_time date_documented  Year  Month  Hour  \\\n",
       "0               0  1949-10-10 20:30:00       4/27/2004  1949     10    20   \n",
       "1               1  1949-10-10 21:00:00      12/16/2005  1949     10    21   \n",
       "2               2  1955-10-10 17:00:00       1/21/2008  1955     10    17   \n",
       "3               3  1956-10-10 21:00:00       1/17/2004  1956     10    21   \n",
       "4               4  1960-10-10 20:00:00       1/22/2004  1960     10    20   \n",
       "...           ...                  ...             ...   ...    ...   ...   \n",
       "80323       80323  2013-09-09 21:15:00       9/30/2013  2013      9    21   \n",
       "80324       80324  2013-09-09 22:00:00       9/30/2013  2013      9    22   \n",
       "80325       80325  2013-09-09 22:00:00       9/30/2013  2013      9    22   \n",
       "80326       80326  2013-09-09 22:20:00       9/30/2013  2013      9    22   \n",
       "80327       80327  2013-09-09 23:00:00       9/30/2013  2013      9    23   \n",
       "\n",
       "       Season Country_Code         Country      Region        Locale  \\\n",
       "0      Autumn          USA   United States       Texas    San Marcos   \n",
       "1      Autumn          USA   United States       Texas  Bexar County   \n",
       "2      Autumn          GBR  United Kingdom     England       Chester   \n",
       "3      Autumn          USA   United States       Texas          Edna   \n",
       "4      Autumn          USA   United States      Hawaii       Kaneohe   \n",
       "...       ...          ...             ...         ...           ...   \n",
       "80323  Autumn          USA   United States   Tennessee     Nashville   \n",
       "80324  Autumn          USA   United States       Idaho         Boise   \n",
       "80325  Autumn          USA   United States  California    Napa Abajo   \n",
       "80326  Autumn          USA   United States    Virginia        Vienna   \n",
       "80327  Autumn          USA   United States    Oklahoma        Edmond   \n",
       "\n",
       "        latitude   longitude UFO_shape  length_of_encounter_seconds  \\\n",
       "0      29.883056  -97.941111  Cylinder                       2700.0   \n",
       "1      29.384210  -98.581082     Light                       7200.0   \n",
       "2      53.200000   -2.916667    Circle                         20.0   \n",
       "3      28.978333  -96.645833    Circle                         20.0   \n",
       "4      21.418056 -157.803611     Light                        900.0   \n",
       "...          ...         ...       ...                          ...   \n",
       "80323  36.165833  -86.784444     Light                        600.0   \n",
       "80324  43.613611 -116.202500    Circle                       1200.0   \n",
       "80325  38.297222 -122.284444     Other                       1200.0   \n",
       "80326  38.901111  -77.265556    Circle                          5.0   \n",
       "80327  35.652778  -97.477778     Cigar                       1020.0   \n",
       "\n",
       "      Encounter_Duration                                        Description  \n",
       "0             45 minutes  This event took place in early fall around 194...  \n",
       "1                1-2 hrs  1949 Lackland AFB&#44 TX.  Lights racing acros...  \n",
       "2             20 seconds  Green/Orange circular disc over Chester&#44 En...  \n",
       "3               1/2 hour  My older brother and twin sister were leaving ...  \n",
       "4             15 minutes  AS a Marine 1st Lt. flying an FJ4B fighter/att...  \n",
       "...                  ...                                                ...  \n",
       "80323         10 minutes  Round from the distance/slowly changing colors...  \n",
       "80324         20 minutes  Boise&#44 ID&#44 spherical&#44 20 min&#44 10 r...  \n",
       "80325               hour                                       Napa UFO&#44  \n",
       "80326          5 seconds  Saw a five gold lit cicular craft moving fastl...  \n",
       "80327         17 minutes  2 witnesses 2  miles apart&#44 Red &amp; White...  \n",
       "\n",
       "[80328 rows x 17 columns]>"
      ]
     },
     "execution_count": 5,
     "metadata": {},
     "output_type": "execute_result"
    }
   ],
   "source": [
    "ufo.head"
   ]
  },
  {
   "cell_type": "markdown",
   "metadata": {},
   "source": [
    "### Step 4:  Convert the `Date` column to datetime \n",
    "\n",
    "- Even though we have columns for year, month, and hour; we still want to change Date_time to a datetime object \n",
    "- Dates can come in many formats so we will use this format: '%Y-%m-%d %H:%M:%S'"
   ]
  },
  {
   "cell_type": "code",
   "execution_count": 7,
   "metadata": {},
   "outputs": [],
   "source": [
    "ufo['Data_time_formatted'] = pd.to_datetime(ufo['Date_time'], format= '%Y-%m-%d %H:%M:%S')"
   ]
  },
  {
   "cell_type": "code",
   "execution_count": 8,
   "metadata": {},
   "outputs": [
    {
     "name": "stdout",
     "output_type": "stream",
     "text": [
      "<class 'pandas.core.frame.DataFrame'>\n",
      "RangeIndex: 80328 entries, 0 to 80327\n",
      "Data columns (total 18 columns):\n",
      " #   Column                       Non-Null Count  Dtype         \n",
      "---  ------                       --------------  -----         \n",
      " 0   Unnamed: 0                   80328 non-null  int64         \n",
      " 1   Date_time                    80328 non-null  object        \n",
      " 2   date_documented              80328 non-null  object        \n",
      " 3   Year                         80328 non-null  int64         \n",
      " 4   Month                        80328 non-null  int64         \n",
      " 5   Hour                         80328 non-null  int64         \n",
      " 6   Season                       80328 non-null  object        \n",
      " 7   Country_Code                 80069 non-null  object        \n",
      " 8   Country                      80069 non-null  object        \n",
      " 9   Region                       79762 non-null  object        \n",
      " 10  Locale                       79871 non-null  object        \n",
      " 11  latitude                     80328 non-null  float64       \n",
      " 12  longitude                    80328 non-null  float64       \n",
      " 13  UFO_shape                    78398 non-null  object        \n",
      " 14  length_of_encounter_seconds  80328 non-null  float64       \n",
      " 15  Encounter_Duration           80328 non-null  object        \n",
      " 16  Description                  80313 non-null  object        \n",
      " 17  Data_time_formatted          80328 non-null  datetime64[ns]\n",
      "dtypes: datetime64[ns](1), float64(3), int64(4), object(10)\n",
      "memory usage: 11.0+ MB\n"
     ]
    }
   ],
   "source": [
    "#Run this to see if the update worked \n",
    "ufo.info()"
   ]
  },
  {
   "cell_type": "markdown",
   "metadata": {},
   "source": [
    "### Step 5:  Make the `Description` column all lowercase \n",
    "\n",
    "- Think about why would we want text all lowercase \n",
    "\n",
    "**Instructor Notes**\n",
    "Feel free to talk about text analytics or LLMs or a simple case like states being different cases and you want to do aggregations"
   ]
  },
  {
   "cell_type": "code",
   "execution_count": 9,
   "metadata": {},
   "outputs": [
    {
     "name": "stdout",
     "output_type": "stream",
     "text": [
      "0        this event took place in early fall around 194...\n",
      "1        1949 lackland afb&#44 tx.  lights racing acros...\n",
      "2        green/orange circular disc over chester&#44 en...\n",
      "3        my older brother and twin sister were leaving ...\n",
      "4        as a marine 1st lt. flying an fj4b fighter/att...\n",
      "                               ...                        \n",
      "80323    round from the distance/slowly changing colors...\n",
      "80324    boise&#44 id&#44 spherical&#44 20 min&#44 10 r...\n",
      "80325                                         napa ufo&#44\n",
      "80326    saw a five gold lit cicular craft moving fastl...\n",
      "80327    2 witnesses 2  miles apart&#44 red &amp; white...\n",
      "Name: Description, Length: 80328, dtype: object\n"
     ]
    }
   ],
   "source": [
    "ufo['Description'] = ufo['Description'].str.lower()\n",
    "print(ufo['Description'])"
   ]
  },
  {
   "cell_type": "markdown",
   "metadata": {},
   "source": [
    "### Step 6:  Replace spaces with underscores in the `Encounter_Duration` column\n"
   ]
  },
  {
   "cell_type": "code",
   "execution_count": 10,
   "metadata": {},
   "outputs": [
    {
     "name": "stdout",
     "output_type": "stream",
     "text": [
      "0        45_minutes\n",
      "1           1-2_hrs\n",
      "2        20_seconds\n",
      "3          1/2_hour\n",
      "4        15_minutes\n",
      "            ...    \n",
      "80323    10_minutes\n",
      "80324    20_minutes\n",
      "80325          hour\n",
      "80326     5_seconds\n",
      "80327    17_minutes\n",
      "Name: Encounter_Duration, Length: 80328, dtype: object\n"
     ]
    }
   ],
   "source": [
    "ufo['Encounter_Duration'] = ufo['Encounter_Duration'].str.replace(\" \", \"_\")\n",
    "print(ufo['Encounter_Duration'])"
   ]
  }
 ],
 "metadata": {
  "kernelspec": {
   "display_name": "base",
   "language": "python",
   "name": "python3"
  },
  "language_info": {
   "codemirror_mode": {
    "name": "ipython",
    "version": 3
   },
   "file_extension": ".py",
   "mimetype": "text/x-python",
   "name": "python",
   "nbconvert_exporter": "python",
   "pygments_lexer": "ipython3",
   "version": "3.12.9"
  }
 },
 "nbformat": 4,
 "nbformat_minor": 2
}
