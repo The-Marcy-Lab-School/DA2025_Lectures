{
 "cells": [
  {
   "cell_type": "markdown",
   "metadata": {},
   "source": [
    "# M1L6 Data Challenge:  Missing Data\n",
    "\n",
    "## Scenario\n",
    "\n",
    "You are continuing your analysis of the \"New York City Leading Causes of Death\" dataset.  You've noticed that the Deaths and Death Rate columns contain some missing values, represented by periods ('.').  Missing data is a common issue in real-world datasets, and it's crucial to handle it appropriately to avoid biased or inaccurate conclusions.\n",
    "\n",
    "\n",
    "For more information about the data (which is highly recommended) here is the [Link to the Data](https://data.cityofnewyork.us/Health/New-York-City-Leading-Causes-of-Death/jb7j-dtam/about_data)\n",
    "\n",
    "## Objectives \n",
    "\n",
    "- Create missing value indicator columns.\n",
    "- Identify the extent of missing data in the Deaths and Death Rate columns.\n",
    "- Impute these missing values using appropriate strategies.\n",
    "\n",
    "\n",
    "\n",
    "**Let's get started!**"
   ]
  },
  {
   "cell_type": "markdown",
   "metadata": {},
   "source": [
    "### Step 1:  Import Pandas & Numpy"
   ]
  },
  {
   "cell_type": "code",
   "execution_count": 2,
   "metadata": {},
   "outputs": [],
   "source": [
    "# Import Pandas \n",
    "import pandas as pd\n",
    "import numpy as np"
   ]
  },
  {
   "cell_type": "markdown",
   "metadata": {},
   "source": [
    "### Step 2: Load the dataset (csv file stored in the data folder) into a Pandas DataFrame. \n",
    "\n",
    "The file is called:  `nyc_causeofdeath.csv`\n"
   ]
  },
  {
   "cell_type": "code",
   "execution_count": 3,
   "metadata": {},
   "outputs": [],
   "source": [
    "df = pd.read_csv(\"/Users/gabriel/Desktop/marcy/DA2025_Lectures2/Mod1/nyc_causeofdeath.csv\")"
   ]
  },
  {
   "cell_type": "markdown",
   "metadata": {},
   "source": [
    "### Step 3: Count up the number of missing values in 2 columns\n",
    "\n",
    "a.  Use value_counts() to determine the number of missing values (represented by '.') in the `Deaths` and `Death Rate` columns.  Print the value counts for each column.  Be sure to set dropna=False as an argument within value_counts()\n",
    "\n",
    "b.  Add a comment for the number of missig values (aka periods '.') are in each column\n"
   ]
  },
  {
   "cell_type": "code",
   "execution_count": 23,
   "metadata": {},
   "outputs": [
    {
     "name": "stdout",
     "output_type": "stream",
     "text": [
      "138\n"
     ]
    }
   ],
   "source": [
    "deathperiods = df.value_counts([\"Deaths\"], dropna=False)\n",
    "count1 = deathperiods[\".\"]\n",
    "print(count1)"
   ]
  },
  {
   "cell_type": "code",
   "execution_count": 24,
   "metadata": {},
   "outputs": [
    {
     "name": "stdout",
     "output_type": "stream",
     "text": [
      "386\n"
     ]
    }
   ],
   "source": [
    "deathrateperiods = df.value_counts([\"Death Rate\"], dropna=False)\n",
    "count2 = deathrateperiods[\".\"]\n",
    "print(count2)"
   ]
  },
  {
   "cell_type": "code",
   "execution_count": null,
   "metadata": {},
   "outputs": [],
   "source": [
    "#Comment 1:  \n",
    "138\n",
    "#Comment 2:  \n",
    "386"
   ]
  },
  {
   "cell_type": "markdown",
   "metadata": {},
   "source": [
    "### Step 4:  Replace periods with NaN (not a number) and convert to numeric \n",
    "\n",
    "- a. Replace the '.' values in the `Deaths` and `Death Rate` columns with `np.nan`.\n",
    "- b. Convert the `Deaths` and `Death Rate` columns to numeric.\n",
    "\n",
    "This may take several lines of code"
   ]
  },
  {
   "cell_type": "code",
   "execution_count": null,
   "metadata": {},
   "outputs": [
    {
     "name": "stdout",
     "output_type": "stream",
     "text": [
      "0         11\n",
      "1         70\n",
      "2        213\n",
      "3        NaN\n",
      "4       1852\n",
      "        ... \n",
      "1089    2293\n",
      "1090      94\n",
      "1091       9\n",
      "1092     149\n",
      "1093      93\n",
      "Name: Deaths, Length: 1094, dtype: object\n",
      "0         NaN\n",
      "1         NaN\n",
      "2          25\n",
      "3         NaN\n",
      "4       176.5\n",
      "        ...  \n",
      "1089    170.3\n",
      "1090      NaN\n",
      "1091      NaN\n",
      "1092       13\n",
      "1093      8.9\n",
      "Name: Death Rate, Length: 1094, dtype: object\n"
     ]
    }
   ],
   "source": [
    "df_filled1 = df[\"Deaths\"].replace(\".\", np.nan)\n",
    "print(df_filled1)\n"
   ]
  },
  {
   "cell_type": "code",
   "execution_count": 34,
   "metadata": {},
   "outputs": [
    {
     "name": "stdout",
     "output_type": "stream",
     "text": [
      "0         NaN\n",
      "1         NaN\n",
      "2          25\n",
      "3         NaN\n",
      "4       176.5\n",
      "        ...  \n",
      "1089    170.3\n",
      "1090      NaN\n",
      "1091      NaN\n",
      "1092       13\n",
      "1093      8.9\n",
      "Name: Death Rate, Length: 1094, dtype: object\n"
     ]
    }
   ],
   "source": [
    "df_filled2 = df[\"Death Rate\"].replace(\".\", np.nan)\n",
    "print(df_filled2)"
   ]
  },
  {
   "cell_type": "code",
   "execution_count": 35,
   "metadata": {},
   "outputs": [
    {
     "name": "stdout",
     "output_type": "stream",
     "text": [
      "      Year                                      Leading Cause Sex  \\\n",
      "0     2007                        Diabetes Mellitus (E10-E14)   M   \n",
      "1     2010     Diseases of Heart (I00-I09, I11, I13, I20-I51)   F   \n",
      "2     2007          Cerebrovascular Disease (Stroke: I60-I69)   M   \n",
      "3     2007                              Atherosclerosis (I70)   F   \n",
      "4     2014              Malignant Neoplasms (Cancer: C00-C97)   F   \n",
      "...    ...                                                ...  ..   \n",
      "1089  2013                                   All Other Causes   M   \n",
      "1090  2009     Diseases of Heart (I00-I09, I11, I13, I20-I51)   M   \n",
      "1091  2008  Human Immunodeficiency Virus Disease (HIV: B20...   M   \n",
      "1092  2010       Chronic Lower Respiratory Diseases (J40-J47)   M   \n",
      "1093  2013  Nephritis, Nephrotic Syndrome and Nephrisis (N...   F   \n",
      "\n",
      "             Race Ethnicity  Deaths  Death Rate Age Adjusted Death Rate  \n",
      "0     Other Race/ Ethnicity    11.0         NaN                       .  \n",
      "1        Not Stated/Unknown    70.0         NaN                       .  \n",
      "2        Black Non-Hispanic   213.0        25.0                      33  \n",
      "3     Other Race/ Ethnicity     NaN         NaN                       .  \n",
      "4        Black Non-Hispanic  1852.0       176.5                   148.4  \n",
      "...                     ...     ...         ...                     ...  \n",
      "1089     White Non-Hispanic  2293.0       170.3                   143.3  \n",
      "1090     Not Stated/Unknown    94.0         NaN                       .  \n",
      "1091     Not Stated/Unknown     9.0         NaN                       .  \n",
      "1092               Hispanic   149.0        13.0                    23.9  \n",
      "1093     Black Non-Hispanic    93.0         8.9                     7.6  \n",
      "\n",
      "[1094 rows x 7 columns]\n"
     ]
    }
   ],
   "source": [
    "df[['Deaths', 'Death Rate']] = df[['Deaths', 'Death Rate']].apply(pd.to_numeric, errors='coerce')\n",
    "print(df)"
   ]
  },
  {
   "cell_type": "markdown",
   "metadata": {},
   "source": [
    "### Step 5:  Check the data's info again \n",
    "\n",
    "Run a `.info()` to see if the columns have missing data in them -- they should!"
   ]
  },
  {
   "cell_type": "code",
   "execution_count": 36,
   "metadata": {},
   "outputs": [
    {
     "name": "stdout",
     "output_type": "stream",
     "text": [
      "<class 'pandas.core.frame.DataFrame'>\n",
      "RangeIndex: 1094 entries, 0 to 1093\n",
      "Data columns (total 7 columns):\n",
      " #   Column                   Non-Null Count  Dtype  \n",
      "---  ------                   --------------  -----  \n",
      " 0   Year                     1094 non-null   int64  \n",
      " 1   Leading Cause            1094 non-null   object \n",
      " 2   Sex                      1094 non-null   object \n",
      " 3   Race Ethnicity           1094 non-null   object \n",
      " 4   Deaths                   956 non-null    float64\n",
      " 5   Death Rate               708 non-null    float64\n",
      " 6   Age Adjusted Death Rate  1094 non-null   object \n",
      "dtypes: float64(2), int64(1), object(4)\n",
      "memory usage: 60.0+ KB\n"
     ]
    }
   ],
   "source": [
    "df.info()"
   ]
  },
  {
   "cell_type": "markdown",
   "metadata": {},
   "source": [
    "## Step 6:  Create a missing inidcator (run the code below without changes)\n",
    "\n",
    "-  This column will have a 1 if the row is missing a value in a respective column and 0 if it is not \n",
    "\n",
    "-  Add a comment about what the np.where() function is (feel free to use documentation)"
   ]
  },
  {
   "cell_type": "code",
   "execution_count": 37,
   "metadata": {},
   "outputs": [],
   "source": [
    "#Run this cell without changes \n",
    "\n",
    "df['Deaths_missing'] = np.where(df['Deaths'].isna(), 1, 0)\n",
    "df['Death_Rate_missing'] = np.where(df['Death Rate'].isna(), 1, 0)"
   ]
  },
  {
   "cell_type": "markdown",
   "metadata": {},
   "source": [
    "### Step 7:  Calculate the median for each column "
   ]
  },
  {
   "cell_type": "code",
   "execution_count": 40,
   "metadata": {},
   "outputs": [
    {
     "name": "stdout",
     "output_type": "stream",
     "text": [
      "Median of Deaths: 148.5\n",
      "Median of Death Rate: 18.35\n"
     ]
    }
   ],
   "source": [
    "median_col_a = df['Deaths'].median()\n",
    "median_col_b = df['Death Rate'].median()\n",
    "\n",
    "print(f\"Median of Deaths: {median_col_a}\")\n",
    "print(f\"Median of Death Rate: {median_col_b}\")"
   ]
  },
  {
   "cell_type": "markdown",
   "metadata": {},
   "source": [
    "### Step 8:  Use the median to fill in each column's missing values (aka impute)\n",
    "\n",
    "Hint:  Use `fillna()` with the median values you created above."
   ]
  },
  {
   "cell_type": "code",
   "execution_count": 42,
   "metadata": {},
   "outputs": [
    {
     "data": {
      "text/html": [
       "<div>\n",
       "<style scoped>\n",
       "    .dataframe tbody tr th:only-of-type {\n",
       "        vertical-align: middle;\n",
       "    }\n",
       "\n",
       "    .dataframe tbody tr th {\n",
       "        vertical-align: top;\n",
       "    }\n",
       "\n",
       "    .dataframe thead th {\n",
       "        text-align: right;\n",
       "    }\n",
       "</style>\n",
       "<table border=\"1\" class=\"dataframe\">\n",
       "  <thead>\n",
       "    <tr style=\"text-align: right;\">\n",
       "      <th></th>\n",
       "      <th>Year</th>\n",
       "      <th>Leading Cause</th>\n",
       "      <th>Sex</th>\n",
       "      <th>Race Ethnicity</th>\n",
       "      <th>Deaths</th>\n",
       "      <th>Death Rate</th>\n",
       "      <th>Age Adjusted Death Rate</th>\n",
       "      <th>Deaths_missing</th>\n",
       "      <th>Death_Rate_missing</th>\n",
       "    </tr>\n",
       "  </thead>\n",
       "  <tbody>\n",
       "    <tr>\n",
       "      <th>0</th>\n",
       "      <td>2007</td>\n",
       "      <td>Diabetes Mellitus (E10-E14)</td>\n",
       "      <td>M</td>\n",
       "      <td>Other Race/ Ethnicity</td>\n",
       "      <td>11.0</td>\n",
       "      <td>18.35</td>\n",
       "      <td>.</td>\n",
       "      <td>0</td>\n",
       "      <td>1</td>\n",
       "    </tr>\n",
       "    <tr>\n",
       "      <th>1</th>\n",
       "      <td>2010</td>\n",
       "      <td>Diseases of Heart (I00-I09, I11, I13, I20-I51)</td>\n",
       "      <td>F</td>\n",
       "      <td>Not Stated/Unknown</td>\n",
       "      <td>70.0</td>\n",
       "      <td>18.35</td>\n",
       "      <td>.</td>\n",
       "      <td>0</td>\n",
       "      <td>1</td>\n",
       "    </tr>\n",
       "    <tr>\n",
       "      <th>2</th>\n",
       "      <td>2007</td>\n",
       "      <td>Cerebrovascular Disease (Stroke: I60-I69)</td>\n",
       "      <td>M</td>\n",
       "      <td>Black Non-Hispanic</td>\n",
       "      <td>213.0</td>\n",
       "      <td>25.00</td>\n",
       "      <td>33</td>\n",
       "      <td>0</td>\n",
       "      <td>0</td>\n",
       "    </tr>\n",
       "    <tr>\n",
       "      <th>3</th>\n",
       "      <td>2007</td>\n",
       "      <td>Atherosclerosis (I70)</td>\n",
       "      <td>F</td>\n",
       "      <td>Other Race/ Ethnicity</td>\n",
       "      <td>148.5</td>\n",
       "      <td>18.35</td>\n",
       "      <td>.</td>\n",
       "      <td>1</td>\n",
       "      <td>1</td>\n",
       "    </tr>\n",
       "    <tr>\n",
       "      <th>4</th>\n",
       "      <td>2014</td>\n",
       "      <td>Malignant Neoplasms (Cancer: C00-C97)</td>\n",
       "      <td>F</td>\n",
       "      <td>Black Non-Hispanic</td>\n",
       "      <td>1852.0</td>\n",
       "      <td>176.50</td>\n",
       "      <td>148.4</td>\n",
       "      <td>0</td>\n",
       "      <td>0</td>\n",
       "    </tr>\n",
       "    <tr>\n",
       "      <th>...</th>\n",
       "      <td>...</td>\n",
       "      <td>...</td>\n",
       "      <td>...</td>\n",
       "      <td>...</td>\n",
       "      <td>...</td>\n",
       "      <td>...</td>\n",
       "      <td>...</td>\n",
       "      <td>...</td>\n",
       "      <td>...</td>\n",
       "    </tr>\n",
       "    <tr>\n",
       "      <th>1089</th>\n",
       "      <td>2013</td>\n",
       "      <td>All Other Causes</td>\n",
       "      <td>M</td>\n",
       "      <td>White Non-Hispanic</td>\n",
       "      <td>2293.0</td>\n",
       "      <td>170.30</td>\n",
       "      <td>143.3</td>\n",
       "      <td>0</td>\n",
       "      <td>0</td>\n",
       "    </tr>\n",
       "    <tr>\n",
       "      <th>1090</th>\n",
       "      <td>2009</td>\n",
       "      <td>Diseases of Heart (I00-I09, I11, I13, I20-I51)</td>\n",
       "      <td>M</td>\n",
       "      <td>Not Stated/Unknown</td>\n",
       "      <td>94.0</td>\n",
       "      <td>18.35</td>\n",
       "      <td>.</td>\n",
       "      <td>0</td>\n",
       "      <td>1</td>\n",
       "    </tr>\n",
       "    <tr>\n",
       "      <th>1091</th>\n",
       "      <td>2008</td>\n",
       "      <td>Human Immunodeficiency Virus Disease (HIV: B20...</td>\n",
       "      <td>M</td>\n",
       "      <td>Not Stated/Unknown</td>\n",
       "      <td>9.0</td>\n",
       "      <td>18.35</td>\n",
       "      <td>.</td>\n",
       "      <td>0</td>\n",
       "      <td>1</td>\n",
       "    </tr>\n",
       "    <tr>\n",
       "      <th>1092</th>\n",
       "      <td>2010</td>\n",
       "      <td>Chronic Lower Respiratory Diseases (J40-J47)</td>\n",
       "      <td>M</td>\n",
       "      <td>Hispanic</td>\n",
       "      <td>149.0</td>\n",
       "      <td>13.00</td>\n",
       "      <td>23.9</td>\n",
       "      <td>0</td>\n",
       "      <td>0</td>\n",
       "    </tr>\n",
       "    <tr>\n",
       "      <th>1093</th>\n",
       "      <td>2013</td>\n",
       "      <td>Nephritis, Nephrotic Syndrome and Nephrisis (N...</td>\n",
       "      <td>F</td>\n",
       "      <td>Black Non-Hispanic</td>\n",
       "      <td>93.0</td>\n",
       "      <td>8.90</td>\n",
       "      <td>7.6</td>\n",
       "      <td>0</td>\n",
       "      <td>0</td>\n",
       "    </tr>\n",
       "  </tbody>\n",
       "</table>\n",
       "<p>1094 rows × 9 columns</p>\n",
       "</div>"
      ],
      "text/plain": [
       "      Year                                      Leading Cause Sex  \\\n",
       "0     2007                        Diabetes Mellitus (E10-E14)   M   \n",
       "1     2010     Diseases of Heart (I00-I09, I11, I13, I20-I51)   F   \n",
       "2     2007          Cerebrovascular Disease (Stroke: I60-I69)   M   \n",
       "3     2007                              Atherosclerosis (I70)   F   \n",
       "4     2014              Malignant Neoplasms (Cancer: C00-C97)   F   \n",
       "...    ...                                                ...  ..   \n",
       "1089  2013                                   All Other Causes   M   \n",
       "1090  2009     Diseases of Heart (I00-I09, I11, I13, I20-I51)   M   \n",
       "1091  2008  Human Immunodeficiency Virus Disease (HIV: B20...   M   \n",
       "1092  2010       Chronic Lower Respiratory Diseases (J40-J47)   M   \n",
       "1093  2013  Nephritis, Nephrotic Syndrome and Nephrisis (N...   F   \n",
       "\n",
       "             Race Ethnicity  Deaths  Death Rate Age Adjusted Death Rate  \\\n",
       "0     Other Race/ Ethnicity    11.0       18.35                       .   \n",
       "1        Not Stated/Unknown    70.0       18.35                       .   \n",
       "2        Black Non-Hispanic   213.0       25.00                      33   \n",
       "3     Other Race/ Ethnicity   148.5       18.35                       .   \n",
       "4        Black Non-Hispanic  1852.0      176.50                   148.4   \n",
       "...                     ...     ...         ...                     ...   \n",
       "1089     White Non-Hispanic  2293.0      170.30                   143.3   \n",
       "1090     Not Stated/Unknown    94.0       18.35                       .   \n",
       "1091     Not Stated/Unknown     9.0       18.35                       .   \n",
       "1092               Hispanic   149.0       13.00                    23.9   \n",
       "1093     Black Non-Hispanic    93.0        8.90                     7.6   \n",
       "\n",
       "      Deaths_missing  Death_Rate_missing  \n",
       "0                  0                   1  \n",
       "1                  0                   1  \n",
       "2                  0                   0  \n",
       "3                  1                   1  \n",
       "4                  0                   0  \n",
       "...              ...                 ...  \n",
       "1089               0                   0  \n",
       "1090               0                   1  \n",
       "1091               0                   1  \n",
       "1092               0                   0  \n",
       "1093               0                   0  \n",
       "\n",
       "[1094 rows x 9 columns]"
      ]
     },
     "execution_count": 42,
     "metadata": {},
     "output_type": "execute_result"
    }
   ],
   "source": [
    "columns_to_fill = ['Deaths', 'Death Rate']\n",
    "medians = df[columns_to_fill].median()\n",
    "\n",
    "df[columns_to_fill] = df[columns_to_fill].fillna(medians)\n",
    "df"
   ]
  },
  {
   "cell_type": "code",
   "execution_count": 43,
   "metadata": {},
   "outputs": [
    {
     "name": "stdout",
     "output_type": "stream",
     "text": [
      "<class 'pandas.core.frame.DataFrame'>\n",
      "RangeIndex: 1094 entries, 0 to 1093\n",
      "Data columns (total 9 columns):\n",
      " #   Column                   Non-Null Count  Dtype  \n",
      "---  ------                   --------------  -----  \n",
      " 0   Year                     1094 non-null   int64  \n",
      " 1   Leading Cause            1094 non-null   object \n",
      " 2   Sex                      1094 non-null   object \n",
      " 3   Race Ethnicity           1094 non-null   object \n",
      " 4   Deaths                   1094 non-null   float64\n",
      " 5   Death Rate               1094 non-null   float64\n",
      " 6   Age Adjusted Death Rate  1094 non-null   object \n",
      " 7   Deaths_missing           1094 non-null   int64  \n",
      " 8   Death_Rate_missing       1094 non-null   int64  \n",
      "dtypes: float64(2), int64(3), object(4)\n",
      "memory usage: 77.1+ KB\n"
     ]
    }
   ],
   "source": [
    "#Check the info to see if imputation worked \n",
    "\n",
    "df.info()"
   ]
  },
  {
   "cell_type": "markdown",
   "metadata": {},
   "source": [
    "## Above and Beyond (AAB)  -- OPTIONAL\n",
    "\n",
    "### Question 1:  What year had the most deaths?"
   ]
  },
  {
   "cell_type": "code",
   "execution_count": null,
   "metadata": {},
   "outputs": [],
   "source": [
    "None"
   ]
  },
  {
   "cell_type": "markdown",
   "metadata": {},
   "source": [
    "### Question 2:  Change the 'Death Rate' column to a float.  \n",
    "\n",
    "Why would you want to do this?  Add a comment answering this question."
   ]
  },
  {
   "cell_type": "code",
   "execution_count": 19,
   "metadata": {},
   "outputs": [],
   "source": [
    "None "
   ]
  }
 ],
 "metadata": {
  "kernelspec": {
   "display_name": "base",
   "language": "python",
   "name": "python3"
  },
  "language_info": {
   "codemirror_mode": {
    "name": "ipython",
    "version": 3
   },
   "file_extension": ".py",
   "mimetype": "text/x-python",
   "name": "python",
   "nbconvert_exporter": "python",
   "pygments_lexer": "ipython3",
   "version": "3.12.9"
  }
 },
 "nbformat": 4,
 "nbformat_minor": 2
}
