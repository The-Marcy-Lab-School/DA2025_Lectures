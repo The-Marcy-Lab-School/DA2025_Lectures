{
 "cells": [
  {
   "cell_type": "markdown",
   "metadata": {},
   "source": [
    "# M1L7 Data Challenge:  Data Manipulation \n",
    "\n",
    " We'll continue to work with UFO sighting data.\n",
    "\n",
    "### **Dataset:** [UFO Sightings](https://www.kaggle.com/datasets/jonwright13/ufo-sightings-around-the-world-better?resource=download) -- This is also in your data folder \n",
    "\n",
    "### **Objectives:**\n",
    "\n",
    "- Use string methods to manipulate data \n",
    "- Filter Data \n",
    "- Work more with dates in Python\n",
    "\n",
    "\n",
    "\n",
    "**Let's get started!**"
   ]
  },
  {
   "cell_type": "markdown",
   "metadata": {},
   "source": [
    "### Step 1:  Import Pandas & Numpy"
   ]
  },
  {
   "cell_type": "code",
   "execution_count": 1,
   "metadata": {},
   "outputs": [],
   "source": [
    "# Import Pandas \n",
    "import pandas as pd\n",
    "import numpy as np"
   ]
  },
  {
   "cell_type": "markdown",
   "metadata": {},
   "source": [
    "### Step 2: Load the dataset (csv file stored in the data folder) into a Pandas DataFrame called `ufo`\n",
    "\n",
    "- The file is callled `ufo-sightings.csv`\n"
   ]
  },
  {
   "cell_type": "code",
   "execution_count": 7,
   "metadata": {},
   "outputs": [],
   "source": [
    "df = pd.read_csv('ufo-sightings-transformed.csv')\n"
   ]
  },
  {
   "cell_type": "markdown",
   "metadata": {},
   "source": [
    "### Step 3: Explore the Data\n",
    "\n",
    "Use any method(s) of your choice to look at the data and explore it \n"
   ]
  },
  {
   "cell_type": "code",
   "execution_count": 8,
   "metadata": {},
   "outputs": [
    {
     "data": {
      "text/plain": [
       "Unnamed: 0                       int64\n",
       "Date_time                       object\n",
       "date_documented                 object\n",
       "Year                             int64\n",
       "Month                            int64\n",
       "Hour                             int64\n",
       "Season                          object\n",
       "Country_Code                    object\n",
       "Country                         object\n",
       "Region                          object\n",
       "Locale                          object\n",
       "latitude                       float64\n",
       "longitude                      float64\n",
       "UFO_shape                       object\n",
       "length_of_encounter_seconds    float64\n",
       "Encounter_Duration              object\n",
       "Description                     object\n",
       "dtype: object"
      ]
     },
     "execution_count": 8,
     "metadata": {},
     "output_type": "execute_result"
    }
   ],
   "source": [
    "df.head\n",
    "df.dtypes"
   ]
  },
  {
   "cell_type": "markdown",
   "metadata": {},
   "source": [
    "### Step 4:  Clean the UFO_shape column \n",
    "- Make the column all uppercase \n",
    "- Strip off any leading and trailing spaces \n",
    "\n",
    "Even if there are no actual spaces; it is still good practice to trim off spaces even if you can't see space with the naked eye\n",
    "\n",
    "Hint:  You will use both `str.upper()` and `str.strip()` -- you can do it in one step or two separate steps "
   ]
  },
  {
   "cell_type": "code",
   "execution_count": 10,
   "metadata": {},
   "outputs": [],
   "source": [
    "string_columns = df.select_dtypes(include=['object']).columns\n",
    "for col in string_columns:\n",
    "    df[col] = df[col].str.upper()\n",
    "    df[col] = df[col].str.strip()\n",
    "\n"
   ]
  },
  {
   "cell_type": "markdown",
   "metadata": {},
   "source": [
    "### Step 5:  Use `pd.crosstab` to sum the number of shapes seen by season\n",
    "\n",
    "- Add a comment of a main takeaway from the output "
   ]
  },
  {
   "cell_type": "code",
   "execution_count": null,
   "metadata": {},
   "outputs": [
    {
     "name": "stdout",
     "output_type": "stream",
     "text": [
      "Season     AUTUMN  SPRING  SUMMER  WINTER\n",
      "UFO_shape                                \n",
      "CHANGED         0       0       1       0\n",
      "CHANGING      552     443     565     402\n",
      "CHEVRON       333     215     225     179\n",
      "CIGAR         519     421     783     334\n",
      "CIRCLE       2002    1464    2604    1537\n",
      "CONE           85      70      84      77\n",
      "CRESCENT        1       1       0       0\n",
      "CROSS          63      53      70      47\n",
      "CYLINDER      332     272     449     230\n",
      "DELTA           3       1       2       1\n",
      "DIAMOND       309     244     349     276\n",
      "DISK         1320    1052    1973     868\n",
      "DOME            0       1       0       0\n",
      "EGG           176     159     260     164\n",
      "FIREBALL     1789    1038    2025    1356\n",
      "FLARE           1       0       0       0\n",
      "FLASH         387     253     420     268\n",
      "FORMATION     726     546     684     501\n",
      "HEXAGON         0       0       0       1\n",
      "LIGHT        4458    3229    5518    3360\n",
      "OTHER        1561    1155    1853    1080\n",
      "OVAL          962     762    1258     751\n",
      "PYRAMID         0       0       0       1\n",
      "RECTANGLE     343     261     452     240\n",
      "ROUND           1       0       0       1\n",
      "SPHERE       1365    1114    1884    1024\n",
      "TEARDROP      213     149     234     154\n",
      "TRIANGLE     2272    1742    2322    1529\n",
      "UNKNOWN      1488    1154    1753    1189\n"
     ]
    }
   ],
   "source": [
    "ct = pd.crosstab(df['UFO_shape'], df['Season'])\n",
    "print(ct)\n",
    "#Add comment here:  It seems that ufo sightings are highest most frequent in the summer"
   ]
  },
  {
   "cell_type": "code",
   "execution_count": 15,
   "metadata": {},
   "outputs": [],
   "source": [
    "# Run this cell without changes before moving on to step 6!\n",
    "\n",
    "df['Date_time'] = pd.to_datetime(df['Date_time'], format=\"%Y-%m-%d %H:%M:%S\")"
   ]
  },
  {
   "cell_type": "markdown",
   "metadata": {},
   "source": [
    "### Step 6:  Filter the data where the region is equal to `New York`"
   ]
  },
  {
   "cell_type": "code",
   "execution_count": 18,
   "metadata": {},
   "outputs": [],
   "source": [
    "new_york_data = df[df['Region'] == 'New York']\n"
   ]
  },
  {
   "cell_type": "markdown",
   "metadata": {},
   "source": [
    "### Step 7:  Get the most recent `Date_time` that a UFO was sighted in New York \n",
    "\n",
    "Hint:  Make sure you saved your filtered data from Step 6 to a new dataframe object aka varaible.  You can use `.max()` right after a column name to get the max of that column\n",
    "\n",
    "You are using the `Date_time` column for this question"
   ]
  },
  {
   "cell_type": "code",
   "execution_count": 24,
   "metadata": {},
   "outputs": [
    {
     "data": {
      "text/plain": [
       "NaT"
      ]
     },
     "execution_count": 24,
     "metadata": {},
     "output_type": "execute_result"
    }
   ],
   "source": [
    "new_york_data['Date_time'].max()\n"
   ]
  },
  {
   "cell_type": "markdown",
   "metadata": {},
   "source": [
    "## Above and Beyond (AAB)  -- OPTIONAL\n",
    "\n",
    "### Question 1:  How many days have passed between the first UFO sighting in NY and the most recent sighting in NY based on this data?"
   ]
  },
  {
   "cell_type": "code",
   "execution_count": null,
   "metadata": {},
   "outputs": [],
   "source": [
    "None"
   ]
  },
  {
   "cell_type": "markdown",
   "metadata": {},
   "source": [
    "### Question 2:  Filter the data where UFO_shape is `UNKNOWN` and the Region is `New York` "
   ]
  },
  {
   "cell_type": "code",
   "execution_count": null,
   "metadata": {},
   "outputs": [],
   "source": [
    "None"
   ]
  }
 ],
 "metadata": {
  "kernelspec": {
   "display_name": "data-analysis-env",
   "language": "python",
   "name": "python3"
  },
  "language_info": {
   "codemirror_mode": {
    "name": "ipython",
    "version": 3
   },
   "file_extension": ".py",
   "mimetype": "text/x-python",
   "name": "python",
   "nbconvert_exporter": "python",
   "pygments_lexer": "ipython3",
   "version": "3.9.22"
  }
 },
 "nbformat": 4,
 "nbformat_minor": 2
}
