{
 "cells": [
  {
   "cell_type": "markdown",
   "metadata": {},
   "source": [
    "# M1L2 NumPy Data Challenge: Basketball Stats Analysis\n",
    "\n",
    "## Scenario\n",
    "\n",
    "Imagine you're analyzing basketball player statistics. Each player has several stats, such as points scored, rebounds, and assists. You'll use NumPy to store and manipulate this data.\n",
    "\n",
    "\n",
    "## Learning Objectives\n",
    "\n",
    "1. Create and manipulate NumPy arrays.\n",
    "2. Work with multidimensional arrays (players as rows, stats as columns).\n",
    "3. Perform mathematical operations on arrays.\n",
    "4. Transpose arrays and understand their significance.\n",
    "5. Learn about correlation and calculate it using NumPy."
   ]
  },
  {
   "cell_type": "markdown",
   "metadata": {},
   "source": [
    "### Step 1:  Import NumPy"
   ]
  },
  {
   "cell_type": "code",
   "execution_count": 3,
   "metadata": {},
   "outputs": [],
   "source": [
    "# Import NumPy \n",
    "import numpy as np"
   ]
  },
  {
   "cell_type": "markdown",
   "metadata": {},
   "source": [
    "### Step 2:  Create a 1D Array \n",
    "\n",
    "Create a 1D array to store the points scored by 5 players in a game.\n",
    "Make up any 5 numbers you want (or you can research your favorite basketball team and get these 5 numbers)"
   ]
  },
  {
   "cell_type": "code",
   "execution_count": 28,
   "metadata": {},
   "outputs": [
    {
     "name": "stdout",
     "output_type": "stream",
     "text": [
      "[23 30 16 20 38]\n"
     ]
    }
   ],
   "source": [
    "points = np.array([23,30,16,20,38])\n",
    "print(points)"
   ]
  },
  {
   "cell_type": "code",
   "execution_count": 29,
   "metadata": {},
   "outputs": [
    {
     "data": {
      "text/plain": [
       "array([23, 16, 38])"
      ]
     },
     "execution_count": 29,
     "metadata": {},
     "output_type": "execute_result"
    }
   ],
   "source": [
    "points[::2]"
   ]
  },
  {
   "cell_type": "markdown",
   "metadata": {},
   "source": [
    "### Step 3:  Create a 2D Array\n",
    "\n",
    "Now, create a 2D array where:\n",
    "- Each row represents a player (5 rows total).\n",
    "- Each column represents a stat (e.g., points, rebounds, assists)."
   ]
  },
  {
   "cell_type": "code",
   "execution_count": 42,
   "metadata": {},
   "outputs": [
    {
     "name": "stdout",
     "output_type": "stream",
     "text": [
      "[[25 10  5]\n",
      " [18  7  8]\n",
      " [30 12  4]\n",
      " [22  9  6]\n",
      " [15  5  7]]\n"
     ]
    }
   ],
   "source": [
    "# Create a 2D array for player stats\n",
    "# Example: [[points, rebounds, assists], ...]\n",
    "\n",
    "pplayer_stats = np.array([[23,5,10],\n",
    "                         [21,9,2],\n",
    "                         [34,8,7]])\n",
    "print(player_stats)"
   ]
  },
  {
   "cell_type": "code",
   "execution_count": 51,
   "metadata": {},
   "outputs": [
    {
     "name": "stdout",
     "output_type": "stream",
     "text": [
      "9.86326267607651\n",
      "8.0\n",
      "26.0\n"
     ]
    }
   ],
   "source": [
    "average_point = np.average(pplayer_stats[:,0])\n",
    "median_rebounds = np.median(pplayer_stats[:,1])\n",
    "std =np.std(pplayer_stats) \n",
    "print(std)\n",
    "print(median_rebounds)\n",
    "print (average_point)"
   ]
  },
  {
   "cell_type": "code",
   "execution_count": 37,
   "metadata": {},
   "outputs": [
    {
     "name": "stdout",
     "output_type": "stream",
     "text": [
      "[[ 5 10]\n",
      " [ 9  2]]\n"
     ]
    }
   ],
   "source": [
    "print(pplayer_stats[0:2,1:])"
   ]
  },
  {
   "cell_type": "markdown",
   "metadata": {},
   "source": [
    "### Step 4:  Perform Mathematical Operations\n",
    "\n",
    "Calculate the total stats for each player (sum of points, rebounds, and assists).\n",
    "\n",
    "**This is done for you however determine what axis=1 does.  Remove it and run the cell then add it back in.  This will be important for future code**"
   ]
  },
  {
   "cell_type": "code",
   "execution_count": 15,
   "metadata": {},
   "outputs": [
    {
     "name": "stdout",
     "output_type": "stream",
     "text": [
      "[38 32 49]\n"
     ]
    }
   ],
   "source": [
    "# Calculate total stats for each player\n",
    "total_stats = np.sum(player_stats, axis=1)\n",
    "print(total_stats)"
   ]
  },
  {
   "cell_type": "markdown",
   "metadata": {},
   "source": [
    "### Step 5:  Transpose the Array\n",
    "\n",
    "Transpose the `player_stats` array so that rows become columns and vice versa. Use the NumPy documentation online to learn about the `transpose()` function."
   ]
  },
  {
   "cell_type": "code",
   "execution_count": 17,
   "metadata": {},
   "outputs": [
    {
     "name": "stdout",
     "output_type": "stream",
     "text": [
      "[[23 21 34]\n",
      " [ 5  9  8]\n",
      " [10  2  7]]\n"
     ]
    }
   ],
   "source": [
    "# Transpose the array\n",
    "transposed_stats = np.transpose(player_stats)\n",
    "print(transposed_stats)"
   ]
  },
  {
   "cell_type": "markdown",
   "metadata": {},
   "source": [
    "### Step 6:  Correlation \n",
    "\n",
    "Correlation measures the relationship between two variables. For example, you can calculate the correlation between points scored and assists.\n",
    "\n",
    "Use the `np.corrcoef()` function to calculate the correlation between two columns in the `player_stats` array."
   ]
  },
  {
   "cell_type": "code",
   "execution_count": 18,
   "metadata": {},
   "outputs": [
    {
     "name": "stdout",
     "output_type": "stream",
     "text": [
      "[[1.         0.28278381]\n",
      " [0.28278381 1.        ]]\n"
     ]
    }
   ],
   "source": [
    "# Calculate correlation between points and assists -- what does the output mean?\n",
    "\n",
    "correlation = np.corrcoef(player_stats[:, 0], player_stats[:, 2])\n",
    "print(correlation)"
   ]
  },
  {
   "cell_type": "markdown",
   "metadata": {},
   "source": [
    "## Above and Beyond (Optional Challenge)"
   ]
  },
  {
   "cell_type": "markdown",
   "metadata": {},
   "source": [
    "### AAB Question 1:  Find the Player with the Best Stat\n",
    "\n",
    "Task:\n",
    "Using the player_stats array (where rows represent players and columns represent stats), find the player who has the highest total stats (sum of all stats for each player).\n",
    "\n",
    "1) Calculate the total stats for each player (you may have already done this in a previous step).\n",
    "2) Use NumPy to find the index of the player with the highest total stats.\n",
    "3) Print the index of the player and their total stats.\n",
    "\n",
    "\n",
    "Hint: Use `np.sum()` to calculate totals and `np.argmax()` to find the index of the maximum value.\n"
   ]
  },
  {
   "cell_type": "code",
   "execution_count": 55,
   "metadata": {},
   "outputs": [
    {
     "name": "stdout",
     "output_type": "stream",
     "text": [
      "1.4142135623730951\n",
      "9.0\n",
      "22.0\n",
      "16.5\n",
      "[40 33 46 37 27]\n",
      "2\n",
      "Player with the highest total stats: Player 3\n",
      "Total stats: 46\n"
     ]
    }
   ],
   "source": [
    "# Player stats array\n",
    "player_stats = np.array([\n",
    "    [25, 10, 5],\n",
    "    [18, 7, 8],\n",
    "    [30, 12, 4],\n",
    "    [22, 9, 6],\n",
    "    [15, 5, 7]\n",
    "])\n",
    "average_point = np.average(player_stats[:,0])\n",
    "median_rebounds = np.median(player_stats[:,1])\n",
    "std_assist =np.std(player_stats[:,2]) \n",
    "print(std_assist)\n",
    "print(median_rebounds)\n",
    "print (average_point)\n",
    "# Calculate total stats for each player\n",
    "total_stats = np.sum(player_stats, axis=1)\n",
    "percentile_75= np.percentile(player_stats,75)\n",
    "print(percentile_75)\n",
    "\n",
    "# Find the index of the player with the highest total stats\n",
    "best_player_index = np.argmax(total_stats)\n",
    "\n",
    "\n",
    "# Print the result\n",
    "print(total_stats)\n",
    "print(best_player_index)\n",
    "print(f\"Player with the highest total stats: Player {best_player_index + 1}\")\n",
    "print(f\"Total stats: {total_stats[best_player_index]}\")"
   ]
  },
  {
   "cell_type": "code",
   "execution_count": 57,
   "metadata": {},
   "outputs": [
    {
     "name": "stdout",
     "output_type": "stream",
     "text": [
      "-8.5\n",
      "31.5\n"
     ]
    }
   ],
   "source": [
    "# dealing with outliers\n",
    "# calculating Q1 and Q3\n",
    "Q1= np.percentile(player_stats,25)\n",
    "Q3= np.percentile(player_stats,75)\n",
    "# calculate IQR \n",
    "IQR= Q3-Q1\n",
    "#Calculate the lower bound and upper bound\n",
    "lower_bound= Q1-(1.5 * IQR)\n",
    "upper_bouncd= Q3+(1.5 * IQR)\n",
    "print (lower_bound)\n",
    "print (upper_bouncd)"
   ]
  }
 ],
 "metadata": {
  "kernelspec": {
   "display_name": "data-analysis-env",
   "language": "python",
   "name": "python3"
  },
  "language_info": {
   "codemirror_mode": {
    "name": "ipython",
    "version": 3
   },
   "file_extension": ".py",
   "mimetype": "text/x-python",
   "name": "python",
   "nbconvert_exporter": "python",
   "pygments_lexer": "ipython3",
   "version": "3.9.22"
  }
 },
 "nbformat": 4,
 "nbformat_minor": 2
}
