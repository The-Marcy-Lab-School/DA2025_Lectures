{
 "cells": [
  {
   "cell_type": "markdown",
   "metadata": {},
   "source": [
    "# M1L4 Pandas Data Challenge:  EDA \n",
    "\n",
    "## Scenario\n",
    "\n",
    "We'll be working with a real-world dataset from the NYC Open Data portal, focusing on the leading causes of death in New York City. This dataset provides valuable insights into public health trends and disparities. Understanding this data is crucial for community advocacy and policy-making.\n",
    "\n",
    "## Recall:  What is Exploratory Data Analysis (EDA)?\n",
    "\n",
    "EDA is the process of understanding a dataset by summarizing its main characteristics, often with visual methods. In Pandas, this involves:\n",
    "\n",
    "- Loading data: Reading data from files (like CSV) into DataFrames.\n",
    "- Inspecting data: Checking the data's structure, data types, and basic statistics.\n",
    "- Cleaning data: Handling missing values, correcting data types, and removing inconsistencies.\n",
    "- Analyzing data: Calculating summary statistics, identifying patterns, and exploring relationships between variables.\n",
    "\n",
    "For more information about the data (which is highly recommended) here is the [Link to the Data](https://data.cityofnewyork.us/Health/New-York-City-Leading-Causes-of-Death/jb7j-dtam/about_data)\n",
    "\n",
    "**Let's get started!**"
   ]
  },
  {
   "cell_type": "markdown",
   "metadata": {},
   "source": [
    "### Step 1:  Import Pandas use the alias `pd` "
   ]
  },
  {
   "cell_type": "code",
   "execution_count": 16,
   "metadata": {},
   "outputs": [],
   "source": [
    "# Import Pandas \n",
    "import pandas as pd\n",
    "import numpy as np"
   ]
  },
  {
   "cell_type": "markdown",
   "metadata": {},
   "source": [
    "### Step 2: Load the dataset (csv file stored in the data folder) into a Pandas DataFrame. The file is called:  `nyc_causeofdeath.csv`\n"
   ]
  },
  {
   "cell_type": "code",
   "execution_count": 17,
   "metadata": {},
   "outputs": [],
   "source": [
    "df = pd.read_csv('New_York_City_Leading_Causes_of_Death_20250609.csv')\n"
   ]
  },
  {
   "cell_type": "markdown",
   "metadata": {},
   "source": [
    "### Step 3: Display the first 10 rows AND the last 10 rows of the DataFrame.\n"
   ]
  },
  {
   "cell_type": "code",
   "execution_count": 18,
   "metadata": {},
   "outputs": [
    {
     "name": "stdout",
     "output_type": "stream",
     "text": [
      "    Year                                    Leading Cause Sex  \\\n",
      "0   2007                      Diabetes Mellitus (E10-E14)   M   \n",
      "1   2010   Diseases of Heart (I00-I09, I11, I13, I20-I51)   F   \n",
      "2   2007        Cerebrovascular Disease (Stroke: I60-I69)   M   \n",
      "3   2007                            Atherosclerosis (I70)   F   \n",
      "4   2014            Malignant Neoplasms (Cancer: C00-C97)   F   \n",
      "5   2010     Chronic Lower Respiratory Diseases (J40-J47)   F   \n",
      "6   2007  Intentional Self-Harm (Suicide: X60-X84, Y87.0)   M   \n",
      "7   2012                                 All Other Causes   F   \n",
      "8   2009   Diseases of Heart (I00-I09, I11, I13, I20-I51)   F   \n",
      "9   2010                             Septicemia (A40-A41)   F   \n",
      "10  2011                      Diabetes Mellitus (E10-E14)   F   \n",
      "\n",
      "                Race Ethnicity Deaths Death Rate Age Adjusted Death Rate  \n",
      "0        Other Race/ Ethnicity     11          .                       .  \n",
      "1           Not Stated/Unknown     70          .                       .  \n",
      "2           Black Non-Hispanic    213         25                      33  \n",
      "3        Other Race/ Ethnicity      .          .                       .  \n",
      "4           Black Non-Hispanic   1852      176.5                   148.4  \n",
      "5           White Non-Hispanic    501         35                    20.7  \n",
      "6   Asian and Pacific Islander     36        7.4                     7.7  \n",
      "7           Not Stated/Unknown     53          .                       .  \n",
      "8                     Hispanic   1349      112.7                   143.8  \n",
      "9           White Non-Hispanic    107        7.5                     4.3  \n",
      "10          White Non-Hispanic    253       17.9                    11.1  \n"
     ]
    }
   ],
   "source": [
    "# Display the first 10 rows\n",
    "print(df.head(11))"
   ]
  },
  {
   "cell_type": "code",
   "execution_count": 19,
   "metadata": {},
   "outputs": [
    {
     "name": "stdout",
     "output_type": "stream",
     "text": [
      "      Year                                      Leading Cause Sex  \\\n",
      "1083  2013     Diseases of Heart (I00-I09, I11, I13, I20-I51)   F   \n",
      "1084  2010  Certain Conditions originating in the Perinata...   F   \n",
      "1085  2009  Essential Hypertension and Renal Diseases (I10...   F   \n",
      "1086  2011          Cerebrovascular Disease (Stroke: I60-I69)   F   \n",
      "1087  2008     Diseases of Heart (I00-I09, I11, I13, I20-I51)   F   \n",
      "1088  2010     Diseases of Heart (I00-I09, I11, I13, I20-I51)   M   \n",
      "1089  2013                                   All Other Causes   M   \n",
      "1090  2009     Diseases of Heart (I00-I09, I11, I13, I20-I51)   M   \n",
      "1091  2008  Human Immunodeficiency Virus Disease (HIV: B20...   M   \n",
      "1092  2010       Chronic Lower Respiratory Diseases (J40-J47)   M   \n",
      "1093  2013  Nephritis, Nephrotic Syndrome and Nephrisis (N...   F   \n",
      "\n",
      "                  Race Ethnicity Deaths Death Rate Age Adjusted Death Rate  \n",
      "1083          Black Non-Hispanic   2365      226.4                   187.3  \n",
      "1084  Asian and Pacific Islander     18        3.2                       4  \n",
      "1085                    Hispanic     84          7                     8.8  \n",
      "1086          White Non-Hispanic    466       32.9                    17.6  \n",
      "1087          Not Stated/Unknown    108          .                       .  \n",
      "1088                    Hispanic   1354      118.5                   215.5  \n",
      "1089          White Non-Hispanic   2293      170.3                   143.3  \n",
      "1090          Not Stated/Unknown     94          .                       .  \n",
      "1091          Not Stated/Unknown      9          .                       .  \n",
      "1092                    Hispanic    149         13                    23.9  \n",
      "1093          Black Non-Hispanic     93        8.9                     7.6  \n"
     ]
    }
   ],
   "source": [
    "# Display the last 10 rows\n",
    "print(df.tail(11))"
   ]
  },
  {
   "cell_type": "markdown",
   "metadata": {},
   "source": [
    "### Step 4:  Get a summary of the DataFrame's information by using the `.info()` method.  Type in a comment that is the name of the only numeric column\n"
   ]
  },
  {
   "cell_type": "code",
   "execution_count": 20,
   "metadata": {},
   "outputs": [
    {
     "name": "stdout",
     "output_type": "stream",
     "text": [
      "<class 'pandas.core.frame.DataFrame'>\n",
      "RangeIndex: 1094 entries, 0 to 1093\n",
      "Data columns (total 7 columns):\n",
      " #   Column                   Non-Null Count  Dtype \n",
      "---  ------                   --------------  ----- \n",
      " 0   Year                     1094 non-null   int64 \n",
      " 1   Leading Cause            1094 non-null   object\n",
      " 2   Sex                      1094 non-null   object\n",
      " 3   Race Ethnicity           1094 non-null   object\n",
      " 4   Deaths                   1094 non-null   object\n",
      " 5   Death Rate               1094 non-null   object\n",
      " 6   Age Adjusted Death Rate  1094 non-null   object\n",
      "dtypes: int64(1), object(6)\n",
      "memory usage: 60.0+ KB\n"
     ]
    }
   ],
   "source": [
    "# Only numeric column is YEAR\n",
    "#(df.dtypes)\n",
    "(df.info())"
   ]
  },
  {
   "cell_type": "markdown",
   "metadata": {},
   "source": [
    "### Step 5:  Calculate descriptive statistics for the numerical columns using the `.describe()` method.  Add a comment to list the range of the years in the data set\n"
   ]
  },
  {
   "cell_type": "code",
   "execution_count": 21,
   "metadata": {},
   "outputs": [
    {
     "data": {
      "text/plain": [
       "array([2007, 2010, 2014, 2012, 2009, 2011, 2013, 2008])"
      ]
     },
     "execution_count": 21,
     "metadata": {},
     "output_type": "execute_result"
    }
   ],
   "source": [
    "# Years are 8\n",
    "\n",
    "df['Year'].unique()\n"
   ]
  },
  {
   "cell_type": "markdown",
   "metadata": {},
   "source": [
    "### Step 6:  Run the cell below to see the method `value_counts()` in action.  Then use the same method to check the unique values in the 'Race Ethnicity' column.  Is there one Ethnicity that shows up in the data more than another -- Type the answer as a comment?  \n"
   ]
  },
  {
   "cell_type": "code",
   "execution_count": 22,
   "metadata": {},
   "outputs": [
    {
     "name": "stdout",
     "output_type": "stream",
     "text": [
      "Sex\n",
      "F    554\n",
      "M    540\n",
      "Name: count, dtype: int64\n"
     ]
    }
   ],
   "source": [
    "# Run this cell without changes \n",
    "print(df['Sex'].value_counts())"
   ]
  },
  {
   "cell_type": "code",
   "execution_count": 23,
   "metadata": {},
   "outputs": [
    {
     "name": "stdout",
     "output_type": "stream",
     "text": [
      "Race Ethnicity\n",
      "Not Stated/Unknown            200\n",
      "Other Race/ Ethnicity         186\n",
      "Black Non-Hispanic            178\n",
      "Asian and Pacific Islander    177\n",
      "Hispanic                      177\n",
      "White Non-Hispanic            176\n",
      "Name: count, dtype: int64\n"
     ]
    }
   ],
   "source": [
    "# Use value_counts() on the Race Ethnicity column\n",
    "# The most common Race is Black Non-Hispanic . \n",
    "print(df['Race Ethnicity'].value_counts())"
   ]
  },
  {
   "cell_type": "markdown",
   "metadata": {},
   "source": [
    "### Step 7:  Convert the 'Death Rate` column to numeric by running the cell below.  Type a resonse on what you think the errors='coerce' argument does AND list the method you would use to change a numeric column to text"
   ]
  },
  {
   "cell_type": "code",
   "execution_count": 24,
   "metadata": {},
   "outputs": [],
   "source": [
    "#Run this cell without changes \n",
    "\n",
    "df['Death Rate'] = pd.to_numeric(df['Death Rate'], errors='coerce')\n"
   ]
  },
  {
   "cell_type": "markdown",
   "metadata": {},
   "source": [
    "What is the method you would use to change a numeric column to text?  \n",
    "Double-click this cell to type in an answer below:\n",
    "\n",
    "1. the error ='coerce' is probably used to not include blanks within that row when being converted to text , or maybe to not have errors when going through the death rate column.\n",
    "\n",
    "2. i would find the numbers that are present in the dataset , and then assign numbers to mean specific statements. \n",
    "for instance 1-5 bad 5- 10 good , medium  and so on. "
   ]
  },
  {
   "cell_type": "markdown",
   "metadata": {},
   "source": [
    "### Step 8:  Use `.describe()` again now that Death Rate is a number.  Type a response on a main takeaways about the death rates in NYC based on this data.  List at least one other question you could answer about death rates based soley on this dataset.  "
   ]
  },
  {
   "cell_type": "code",
   "execution_count": 42,
   "metadata": {},
   "outputs": [
    {
     "data": {
      "text/html": [
       "<div>\n",
       "<style scoped>\n",
       "    .dataframe tbody tr th:only-of-type {\n",
       "        vertical-align: middle;\n",
       "    }\n",
       "\n",
       "    .dataframe tbody tr th {\n",
       "        vertical-align: top;\n",
       "    }\n",
       "\n",
       "    .dataframe thead th {\n",
       "        text-align: right;\n",
       "    }\n",
       "</style>\n",
       "<table border=\"1\" class=\"dataframe\">\n",
       "  <thead>\n",
       "    <tr style=\"text-align: right;\">\n",
       "      <th></th>\n",
       "      <th>Year</th>\n",
       "      <th>Death Rate</th>\n",
       "    </tr>\n",
       "  </thead>\n",
       "  <tbody>\n",
       "    <tr>\n",
       "      <th>count</th>\n",
       "      <td>1094.000000</td>\n",
       "      <td>708.000000</td>\n",
       "    </tr>\n",
       "    <tr>\n",
       "      <th>mean</th>\n",
       "      <td>2010.477148</td>\n",
       "      <td>53.438842</td>\n",
       "    </tr>\n",
       "    <tr>\n",
       "      <th>std</th>\n",
       "      <td>2.293419</td>\n",
       "      <td>76.524700</td>\n",
       "    </tr>\n",
       "    <tr>\n",
       "      <th>min</th>\n",
       "      <td>2007.000000</td>\n",
       "      <td>2.400000</td>\n",
       "    </tr>\n",
       "    <tr>\n",
       "      <th>25%</th>\n",
       "      <td>2008.000000</td>\n",
       "      <td>11.600000</td>\n",
       "    </tr>\n",
       "    <tr>\n",
       "      <th>50%</th>\n",
       "      <td>2010.000000</td>\n",
       "      <td>18.350000</td>\n",
       "    </tr>\n",
       "    <tr>\n",
       "      <th>75%</th>\n",
       "      <td>2012.000000</td>\n",
       "      <td>64.625000</td>\n",
       "    </tr>\n",
       "    <tr>\n",
       "      <th>max</th>\n",
       "      <td>2014.000000</td>\n",
       "      <td>491.400000</td>\n",
       "    </tr>\n",
       "  </tbody>\n",
       "</table>\n",
       "</div>"
      ],
      "text/plain": [
       "              Year  Death Rate\n",
       "count  1094.000000  708.000000\n",
       "mean   2010.477148   53.438842\n",
       "std       2.293419   76.524700\n",
       "min    2007.000000    2.400000\n",
       "25%    2008.000000   11.600000\n",
       "50%    2010.000000   18.350000\n",
       "75%    2012.000000   64.625000\n",
       "max    2014.000000  491.400000"
      ]
     },
     "execution_count": 42,
     "metadata": {},
     "output_type": "execute_result"
    }
   ],
   "source": [
    "df.describe()\n",
    "\n",
    "#df.dtypes"
   ]
  },
  {
   "cell_type": "markdown",
   "metadata": {},
   "source": [
    "What is one other question you could answer about death rates based soley on the data\n",
    "\n",
    "Double-click this cell to type in an answer below: \n",
    "\n",
    "1. You can use to answer other questions such as , which year had the most deaths , what happened during that year , an it might even connect with the ethnicity that had the highest death rates. Or the opposites , which ethnicity has the lowest death rates in general based on the 25% area. \n"
   ]
  },
  {
   "cell_type": "markdown",
   "metadata": {},
   "source": [
    "## Above and Beyond (AAB) -- OPTIONAL"
   ]
  },
  {
   "cell_type": "markdown",
   "metadata": {},
   "source": [
    "### Question 1:  View the documentation for the pandas `group_by()` method and get an average of the Death Rate column by Sex\n",
    "\n",
    "[Group By Documentation](https://pandas.pydata.org/docs/reference/api/pandas.DataFrame.groupby.html)"
   ]
  },
  {
   "cell_type": "code",
   "execution_count": 52,
   "metadata": {},
   "outputs": [
    {
     "ename": "TypeError",
     "evalue": "'DataFrameGroupBy' object is not callable",
     "output_type": "error",
     "traceback": [
      "\u001b[0;31m---------------------------------------------------------------------------\u001b[0m",
      "\u001b[0;31mTypeError\u001b[0m                                 Traceback (most recent call last)",
      "Cell \u001b[0;32mIn[52], line 1\u001b[0m\n\u001b[0;32m----> 1\u001b[0m average_death_rates \u001b[38;5;241m=\u001b[39m \u001b[43mdf\u001b[49m\u001b[38;5;241;43m.\u001b[39;49m\u001b[43mgroupby\u001b[49m\u001b[43m(\u001b[49m\u001b[38;5;124;43m'\u001b[39;49m\u001b[38;5;124;43mDeath Rate\u001b[39;49m\u001b[38;5;124;43m'\u001b[39;49m\u001b[43m)\u001b[49m\u001b[43m(\u001b[49m\u001b[38;5;124;43m'\u001b[39;49m\u001b[38;5;124;43mSex\u001b[39;49m\u001b[38;5;124;43m'\u001b[39;49m\u001b[43m)\u001b[49m\u001b[38;5;241m.\u001b[39mmean()\n\u001b[1;32m      2\u001b[0m \u001b[38;5;28mprint\u001b[39m(average_death_rates)\n",
      "\u001b[0;31mTypeError\u001b[0m: 'DataFrameGroupBy' object is not callable"
     ]
    }
   ],
   "source": [
    "average_death_rates = df.groupby('Death Rate')('Sex').mean()\n",
    "print(average_death_rates)"
   ]
  },
  {
   "cell_type": "markdown",
   "metadata": {},
   "source": [
    "### Question 2:  Use `group_by()` along with the `size()` method to count the number of Sex and Race combinations that exist in the data"
   ]
  },
  {
   "cell_type": "code",
   "execution_count": null,
   "metadata": {},
   "outputs": [],
   "source": [
    "sex_race_counts = None\n",
    "print(sex_race_counts)"
   ]
  }
 ],
 "metadata": {
  "kernelspec": {
   "display_name": "data-analysis-env",
   "language": "python",
   "name": "python3"
  },
  "language_info": {
   "codemirror_mode": {
    "name": "ipython",
    "version": 3
   },
   "file_extension": ".py",
   "mimetype": "text/x-python",
   "name": "python",
   "nbconvert_exporter": "python",
   "pygments_lexer": "ipython3",
   "version": "3.9.22"
  }
 },
 "nbformat": 4,
 "nbformat_minor": 2
}
