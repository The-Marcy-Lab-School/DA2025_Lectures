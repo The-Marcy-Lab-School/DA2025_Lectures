{
 "cells": [
  {
   "cell_type": "markdown",
   "metadata": {},
   "source": [
    "## 🛠️ Mod5 Data Challenge 1: ETL-in-the-Wild — Cleaning Civic Data for Product Insights\n",
    "\n",
    "### 🎯 Purpose\n",
    "\n",
    "Practice applying the \"Transform\" step of an ETL pipeline using a real-world dataset—NYC 311 Service Requests. You’ll clean, standardize, and engineer features to prep the data for downstream analysis and business reporting.\n",
    "\n",
    "### 📚 KSBs\n",
    "\n",
    "K14 – Strategic feature engineering to improve analysis outcomes\n",
    "\n",
    "S5 – Data transformation techniques in Python\n",
    "\n",
    "S8 – Uses Pandas for EDA and data manipulation\n",
    "\n",
    "B4 – Exercises critical judgment about data quality and reliability\n",
    "\n",
    "B6 – Pursues deeper insights beyond surface-level observations\n",
    "\n",
    "### Data\n",
    "Use the **nyc311.csv** file located in your Github's `data` folder within Mod5/DataChallenges.  This is a sample of the originial file looking at just one week of data since the dataset is HUGE.  Read more about the columns [HERE](https://data.cityofnewyork.us/Social-Services/311-Service-Requests-from-2010-to-Present/erm2-nwe9/about_data).   "
   ]
  },
  {
   "cell_type": "markdown",
   "metadata": {},
   "source": [
    "### 👩‍🏫 Instructor-Led Demo (15 minutes)"
   ]
  },
  {
   "cell_type": "markdown",
   "metadata": {},
   "source": [
    "#### Step 1:  Load + Preview \n",
    "* Read in data\n",
    "\n",
    "* Show .head(), .info() to examine structure and datatypes"
   ]
  },
  {
   "cell_type": "code",
   "execution_count": 28,
   "metadata": {},
   "outputs": [],
   "source": [
    "import pandas as pd\n",
    "import matplotlib.pyplot as plt\n",
    "\n",
    "df = pd.read_csv(\"/Users/Marcy_Student/Downloads/nyc311.csv\")"
   ]
  },
  {
   "cell_type": "code",
   "execution_count": 29,
   "metadata": {},
   "outputs": [
    {
     "name": "stdout",
     "output_type": "stream",
     "text": [
      "<class 'pandas.core.frame.DataFrame'>\n",
      "RangeIndex: 55815 entries, 0 to 55814\n",
      "Data columns (total 41 columns):\n",
      " #   Column                          Non-Null Count  Dtype  \n",
      "---  ------                          --------------  -----  \n",
      " 0   Unique Key                      55815 non-null  int64  \n",
      " 1   Created Date                    55815 non-null  object \n",
      " 2   Closed Date                     41348 non-null  object \n",
      " 3   Agency                          55815 non-null  object \n",
      " 4   Agency Name                     55815 non-null  object \n",
      " 5   Complaint Type                  55815 non-null  object \n",
      " 6   Descriptor                      54400 non-null  object \n",
      " 7   Location Type                   49701 non-null  object \n",
      " 8   Incident Zip                    55361 non-null  float64\n",
      " 9   Incident Address                54235 non-null  object \n",
      " 10  Street Name                     54233 non-null  object \n",
      " 11  Cross Street 1                  46608 non-null  object \n",
      " 12  Cross Street 2                  46637 non-null  object \n",
      " 13  Intersection Street 1           44052 non-null  object \n",
      " 14  Intersection Street 2           44091 non-null  object \n",
      " 15  Address Type                    55621 non-null  object \n",
      " 16  City                            52708 non-null  object \n",
      " 17  Landmark                        40086 non-null  object \n",
      " 18  Facility Type                   134 non-null    object \n",
      " 19  Status                          55815 non-null  object \n",
      " 20  Due Date                        328 non-null    object \n",
      " 21  Resolution Description          48016 non-null  object \n",
      " 22  Resolution Action Updated Date  48870 non-null  object \n",
      " 23  Community Board                 55815 non-null  object \n",
      " 24  BBL                             49122 non-null  float64\n",
      " 25  Borough                         55815 non-null  object \n",
      " 26  X Coordinate (State Plane)      54942 non-null  float64\n",
      " 27  Y Coordinate (State Plane)      54943 non-null  float64\n",
      " 28  Open Data Channel Type          55815 non-null  object \n",
      " 29  Park Facility Name              55675 non-null  object \n",
      " 30  Park Borough                    55815 non-null  object \n",
      " 31  Vehicle Type                    2871 non-null   object \n",
      " 32  Taxi Company Borough            31 non-null     object \n",
      " 33  Taxi Pick Up Location           494 non-null    object \n",
      " 34  Bridge Highway Name             277 non-null    object \n",
      " 35  Bridge Highway Direction        139 non-null    object \n",
      " 36  Road Ramp                       118 non-null    object \n",
      " 37  Bridge Highway Segment          277 non-null    object \n",
      " 38  Latitude                        54942 non-null  float64\n",
      " 39  Longitude                       54942 non-null  float64\n",
      " 40  Location                        54942 non-null  object \n",
      "dtypes: float64(6), int64(1), object(34)\n",
      "memory usage: 17.5+ MB\n"
     ]
    }
   ],
   "source": [
    "df.info()"
   ]
  },
  {
   "cell_type": "markdown",
   "metadata": {},
   "source": [
    "#### Step 2:  Clean up Categorical Variable \n",
    "\n",
    "* Normalize Borough & Complaint Type (e.g., strip whitespace, title-case or upper-case values)\n",
    "\n",
    "* Show .value_counts() before and after cleaning"
   ]
  },
  {
   "cell_type": "code",
   "execution_count": 30,
   "metadata": {},
   "outputs": [
    {
     "data": {
      "text/plain": [
       "Complaint Type\n",
       "Illegal Parking            10654\n",
       "Noise - Residential         6603\n",
       "Noise - Street/Sidewalk     4532\n",
       "Blocked Driveway            3002\n",
       "Unsanitary Condition        1539\n",
       "Noise - Commercial          1411\n",
       "Dirty Condition             1176\n",
       "Abandoned Vehicle           1050\n",
       "Street Condition            1032\n",
       "Noise                       1023\n",
       "Name: count, dtype: int64"
      ]
     },
     "metadata": {},
     "output_type": "display_data"
    },
    {
     "data": {
      "text/plain": [
       "Borough\n",
       "Brooklyn         17102\n",
       "Queens           14668\n",
       "Manhattan        11729\n",
       "Bronx            10041\n",
       "Staten Island     2226\n",
       "Unspecified         49\n",
       "Name: count, dtype: int64"
      ]
     },
     "metadata": {},
     "output_type": "display_data"
    }
   ],
   "source": [
    "# Strip whitespace and standardize case\n",
    "for col in [\"Complaint Type\", \"Borough\"]:\n",
    "    if col in df.columns:\n",
    "        df[col] = df[col].astype(str).str.strip()\n",
    "\n",
    "# pick a style (title-case often reads nicely)\n",
    "df[\"Complaint Type\"] = df[\"Complaint Type\"].str.title()\n",
    "df[\"Borough\"] = df[\"Borough\"].str.title()\n",
    "\n",
    "# quick sanity checks\n",
    "display(df[\"Complaint Type\"].value_counts().head(10))\n",
    "display(df[\"Borough\"].value_counts())"
   ]
  },
  {
   "cell_type": "markdown",
   "metadata": {},
   "source": [
    "#### Step 3:  Feature Engineering\n",
    "\n",
    "* Convert Created Date to datetime\n",
    "\n",
    "* Create a new feature: is_weekend based on weekday"
   ]
  },
  {
   "cell_type": "code",
   "execution_count": 31,
   "metadata": {},
   "outputs": [],
   "source": [
    "df[\"Created Date\"] = pd.to_datetime(df[\"Created Date\"])\n",
    "\n",
    "# is_weekend flag\n",
    "df['is_weekend'] = df['Created Date'].dt.weekday >= 5"
   ]
  },
  {
   "cell_type": "markdown",
   "metadata": {},
   "source": [
    "### 👩‍💻 Student-Led Section (30 minutes)"
   ]
  },
  {
   "cell_type": "markdown",
   "metadata": {},
   "source": [
    "#### Task1:  Clean & Filter\n",
    "\n",
    "* Drop rows with missing Created Date or Closed Date\n",
    "\n",
    "* Drop duplicate rows\n",
    "\n",
    "* Filter data to only include one borough (e.g., Brooklyn)"
   ]
  },
  {
   "cell_type": "code",
   "execution_count": 32,
   "metadata": {},
   "outputs": [
    {
     "data": {
      "text/plain": [
       "(12553, 42)"
      ]
     },
     "execution_count": 32,
     "metadata": {},
     "output_type": "execute_result"
    }
   ],
   "source": [
    "# 1a) Drop rows with missing Created/Closed Date\n",
    "df = df.dropna(subset=['Created Date','Closed Date'])\n",
    "\n",
    "# 1b) Drop duplicates\n",
    "df = df.drop_duplicates()\n",
    "\n",
    "# 1c) Filter to a single borough (STUDENT CHOICE)\n",
    "borough_name = 'Brooklyn'  # e.g., \"Brooklyn\"\n",
    "df_b = df[df[\"Borough\"] == borough_name].copy()\n",
    "df_b.shape"
   ]
  },
  {
   "cell_type": "markdown",
   "metadata": {},
   "source": [
    "#### Task2:  Time Transformations \n",
    "\n",
    "* Create a new column `response_time_hrs` = difference between Closed Date and Created Date (in hours)\n",
    "\n",
    "* Ensure datetime types are properly parsed and timezone-aware (localize to America/New_York → convert to UTC)"
   ]
  },
  {
   "cell_type": "code",
   "execution_count": 33,
   "metadata": {},
   "outputs": [],
   "source": [
    "# RUN THIS CELL WITHOUT CHANGES!!!! \n",
    "\n",
    "LOCAL_TZ = \"America/New_York\"\n",
    "\n",
    "def to_utc(series, local_tz=LOCAL_TZ):\n",
    "    # 1) parse\n",
    "    s = pd.to_datetime(series, errors=\"coerce\")\n",
    "\n",
    "    # 2) if naive -> localize; if tz-aware -> skip (KEEP NONE in this if statement)\n",
    "    if s.dt.tz is None:\n",
    "        s = s.dt.tz_localize(local_tz, nonexistent=\"shift_forward\", ambiguous=\"NaT\")\n",
    "\n",
    "    # 3) convert whatever tz it has to UTC\n",
    "    return s.dt.tz_convert(\"UTC\")"
   ]
  },
  {
   "cell_type": "code",
   "execution_count": 34,
   "metadata": {},
   "outputs": [
    {
     "data": {
      "text/html": [
       "<div>\n",
       "<style scoped>\n",
       "    .dataframe tbody tr th:only-of-type {\n",
       "        vertical-align: middle;\n",
       "    }\n",
       "\n",
       "    .dataframe tbody tr th {\n",
       "        vertical-align: top;\n",
       "    }\n",
       "\n",
       "    .dataframe thead th {\n",
       "        text-align: right;\n",
       "    }\n",
       "</style>\n",
       "<table border=\"1\" class=\"dataframe\">\n",
       "  <thead>\n",
       "    <tr style=\"text-align: right;\">\n",
       "      <th></th>\n",
       "      <th>Unique Key</th>\n",
       "      <th>Created Date</th>\n",
       "      <th>Closed Date</th>\n",
       "      <th>Agency</th>\n",
       "      <th>Agency Name</th>\n",
       "      <th>Complaint Type</th>\n",
       "      <th>Descriptor</th>\n",
       "      <th>Location Type</th>\n",
       "      <th>Incident Zip</th>\n",
       "      <th>Incident Address</th>\n",
       "      <th>...</th>\n",
       "      <th>Taxi Pick Up Location</th>\n",
       "      <th>Bridge Highway Name</th>\n",
       "      <th>Bridge Highway Direction</th>\n",
       "      <th>Road Ramp</th>\n",
       "      <th>Bridge Highway Segment</th>\n",
       "      <th>Latitude</th>\n",
       "      <th>Longitude</th>\n",
       "      <th>Location</th>\n",
       "      <th>is_weekend</th>\n",
       "      <th>response_time_hrs</th>\n",
       "    </tr>\n",
       "  </thead>\n",
       "  <tbody>\n",
       "    <tr>\n",
       "      <th>47</th>\n",
       "      <td>66173993</td>\n",
       "      <td>2025-09-17 05:27:57+00:00</td>\n",
       "      <td>2025-09-17 05:29:09+00:00</td>\n",
       "      <td>NYPD</td>\n",
       "      <td>New York City Police Department</td>\n",
       "      <td>Noise - Commercial</td>\n",
       "      <td>Loud Talking</td>\n",
       "      <td>Club/Bar/Restaurant</td>\n",
       "      <td>11237.0</td>\n",
       "      <td>44 WILSON AVENUE</td>\n",
       "      <td>...</td>\n",
       "      <td>NaN</td>\n",
       "      <td>NaN</td>\n",
       "      <td>NaN</td>\n",
       "      <td>NaN</td>\n",
       "      <td>NaN</td>\n",
       "      <td>40.702777</td>\n",
       "      <td>-73.929386</td>\n",
       "      <td>(40.70277711007218, -73.92938632693719)</td>\n",
       "      <td>False</td>\n",
       "      <td>0.020000</td>\n",
       "    </tr>\n",
       "    <tr>\n",
       "      <th>54</th>\n",
       "      <td>66174271</td>\n",
       "      <td>2025-09-17 05:23:49+00:00</td>\n",
       "      <td>2025-09-17 05:39:28+00:00</td>\n",
       "      <td>NYPD</td>\n",
       "      <td>New York City Police Department</td>\n",
       "      <td>Noise - Residential</td>\n",
       "      <td>Loud Talking</td>\n",
       "      <td>Residential Building/House</td>\n",
       "      <td>11201.0</td>\n",
       "      <td>5 FLEET WALK</td>\n",
       "      <td>...</td>\n",
       "      <td>NaN</td>\n",
       "      <td>NaN</td>\n",
       "      <td>NaN</td>\n",
       "      <td>NaN</td>\n",
       "      <td>NaN</td>\n",
       "      <td>40.695529</td>\n",
       "      <td>-73.981230</td>\n",
       "      <td>(40.69552909769039, -73.98122967592082)</td>\n",
       "      <td>False</td>\n",
       "      <td>0.260833</td>\n",
       "    </tr>\n",
       "    <tr>\n",
       "      <th>60</th>\n",
       "      <td>66175304</td>\n",
       "      <td>2025-09-17 05:19:15+00:00</td>\n",
       "      <td>2025-09-17 05:44:27+00:00</td>\n",
       "      <td>NYPD</td>\n",
       "      <td>New York City Police Department</td>\n",
       "      <td>Noise - Residential</td>\n",
       "      <td>Banging/Pounding</td>\n",
       "      <td>Residential Building/House</td>\n",
       "      <td>11237.0</td>\n",
       "      <td>1420 DEKALB AVENUE</td>\n",
       "      <td>...</td>\n",
       "      <td>NaN</td>\n",
       "      <td>NaN</td>\n",
       "      <td>NaN</td>\n",
       "      <td>NaN</td>\n",
       "      <td>NaN</td>\n",
       "      <td>40.700229</td>\n",
       "      <td>-73.923229</td>\n",
       "      <td>(40.700228769188584, -73.92322918276676)</td>\n",
       "      <td>False</td>\n",
       "      <td>0.420000</td>\n",
       "    </tr>\n",
       "    <tr>\n",
       "      <th>62</th>\n",
       "      <td>66171896</td>\n",
       "      <td>2025-09-17 05:16:19+00:00</td>\n",
       "      <td>2025-09-17 05:44:39+00:00</td>\n",
       "      <td>NYPD</td>\n",
       "      <td>New York City Police Department</td>\n",
       "      <td>Noise - Residential</td>\n",
       "      <td>Banging/Pounding</td>\n",
       "      <td>Residential Building/House</td>\n",
       "      <td>11237.0</td>\n",
       "      <td>1420 DEKALB AVENUE</td>\n",
       "      <td>...</td>\n",
       "      <td>NaN</td>\n",
       "      <td>NaN</td>\n",
       "      <td>NaN</td>\n",
       "      <td>NaN</td>\n",
       "      <td>NaN</td>\n",
       "      <td>40.700229</td>\n",
       "      <td>-73.923229</td>\n",
       "      <td>(40.700228769188584, -73.92322918276676)</td>\n",
       "      <td>False</td>\n",
       "      <td>0.472222</td>\n",
       "    </tr>\n",
       "    <tr>\n",
       "      <th>67</th>\n",
       "      <td>66178958</td>\n",
       "      <td>2025-09-17 05:14:22+00:00</td>\n",
       "      <td>2025-09-17 05:35:03+00:00</td>\n",
       "      <td>NYPD</td>\n",
       "      <td>New York City Police Department</td>\n",
       "      <td>Noise - Street/Sidewalk</td>\n",
       "      <td>Loud Talking</td>\n",
       "      <td>Street/Sidewalk</td>\n",
       "      <td>11201.0</td>\n",
       "      <td>55 CLARK STREET</td>\n",
       "      <td>...</td>\n",
       "      <td>NaN</td>\n",
       "      <td>NaN</td>\n",
       "      <td>NaN</td>\n",
       "      <td>NaN</td>\n",
       "      <td>NaN</td>\n",
       "      <td>40.697715</td>\n",
       "      <td>-73.993931</td>\n",
       "      <td>(40.697715303250725, -73.99393054925939)</td>\n",
       "      <td>False</td>\n",
       "      <td>0.344722</td>\n",
       "    </tr>\n",
       "  </tbody>\n",
       "</table>\n",
       "<p>5 rows × 43 columns</p>\n",
       "</div>"
      ],
      "text/plain": [
       "    Unique Key              Created Date               Closed Date Agency  \\\n",
       "47    66173993 2025-09-17 05:27:57+00:00 2025-09-17 05:29:09+00:00   NYPD   \n",
       "54    66174271 2025-09-17 05:23:49+00:00 2025-09-17 05:39:28+00:00   NYPD   \n",
       "60    66175304 2025-09-17 05:19:15+00:00 2025-09-17 05:44:27+00:00   NYPD   \n",
       "62    66171896 2025-09-17 05:16:19+00:00 2025-09-17 05:44:39+00:00   NYPD   \n",
       "67    66178958 2025-09-17 05:14:22+00:00 2025-09-17 05:35:03+00:00   NYPD   \n",
       "\n",
       "                        Agency Name           Complaint Type  \\\n",
       "47  New York City Police Department       Noise - Commercial   \n",
       "54  New York City Police Department      Noise - Residential   \n",
       "60  New York City Police Department      Noise - Residential   \n",
       "62  New York City Police Department      Noise - Residential   \n",
       "67  New York City Police Department  Noise - Street/Sidewalk   \n",
       "\n",
       "          Descriptor               Location Type  Incident Zip  \\\n",
       "47      Loud Talking         Club/Bar/Restaurant       11237.0   \n",
       "54      Loud Talking  Residential Building/House       11201.0   \n",
       "60  Banging/Pounding  Residential Building/House       11237.0   \n",
       "62  Banging/Pounding  Residential Building/House       11237.0   \n",
       "67      Loud Talking             Street/Sidewalk       11201.0   \n",
       "\n",
       "      Incident Address  ... Taxi Pick Up Location Bridge Highway Name  \\\n",
       "47    44 WILSON AVENUE  ...                   NaN                 NaN   \n",
       "54        5 FLEET WALK  ...                   NaN                 NaN   \n",
       "60  1420 DEKALB AVENUE  ...                   NaN                 NaN   \n",
       "62  1420 DEKALB AVENUE  ...                   NaN                 NaN   \n",
       "67     55 CLARK STREET  ...                   NaN                 NaN   \n",
       "\n",
       "   Bridge Highway Direction Road Ramp Bridge Highway Segment   Latitude  \\\n",
       "47                      NaN       NaN                    NaN  40.702777   \n",
       "54                      NaN       NaN                    NaN  40.695529   \n",
       "60                      NaN       NaN                    NaN  40.700229   \n",
       "62                      NaN       NaN                    NaN  40.700229   \n",
       "67                      NaN       NaN                    NaN  40.697715   \n",
       "\n",
       "    Longitude                                  Location is_weekend  \\\n",
       "47 -73.929386   (40.70277711007218, -73.92938632693719)      False   \n",
       "54 -73.981230   (40.69552909769039, -73.98122967592082)      False   \n",
       "60 -73.923229  (40.700228769188584, -73.92322918276676)      False   \n",
       "62 -73.923229  (40.700228769188584, -73.92322918276676)      False   \n",
       "67 -73.993931  (40.697715303250725, -73.99393054925939)      False   \n",
       "\n",
       "   response_time_hrs  \n",
       "47          0.020000  \n",
       "54          0.260833  \n",
       "60          0.420000  \n",
       "62          0.472222  \n",
       "67          0.344722  \n",
       "\n",
       "[5 rows x 43 columns]"
      ]
     },
     "execution_count": 34,
     "metadata": {},
     "output_type": "execute_result"
    }
   ],
   "source": [
    "# Convert both columns to utc\n",
    "df_b[\"Created Date\"] = to_utc(df_b[\"Created Date\"])\n",
    "df_b[\"Closed Date\"]  = to_utc(df_b[\"Closed Date\"])\n",
    "\n",
    "# Now compute the response time\n",
    "delta = df_b['Closed Date'] - df_b['Created Date']\n",
    "df_b[\"response_time_hrs\"] = delta.dt.total_seconds() / 3600\n",
    "\n",
    "# Check the data with a .head()\n",
    "df_b.head()"
   ]
  },
  {
   "cell_type": "markdown",
   "metadata": {},
   "source": [
    "#### Task3:  Feature Engineer\n",
    "\n",
    "* Create `hour_of_day` from Created Date\n",
    "\n",
    "* Create `is_high_priority`: True if Complaint Type is in a list of priority complaints (e.g., [\"HEAT/HOT WATER\", \"ELECTRIC\", \"STRUCTURAL\"])"
   ]
  },
  {
   "cell_type": "code",
   "execution_count": 35,
   "metadata": {},
   "outputs": [
    {
     "data": {
      "text/html": [
       "<div>\n",
       "<style scoped>\n",
       "    .dataframe tbody tr th:only-of-type {\n",
       "        vertical-align: middle;\n",
       "    }\n",
       "\n",
       "    .dataframe tbody tr th {\n",
       "        vertical-align: top;\n",
       "    }\n",
       "\n",
       "    .dataframe thead th {\n",
       "        text-align: right;\n",
       "    }\n",
       "</style>\n",
       "<table border=\"1\" class=\"dataframe\">\n",
       "  <thead>\n",
       "    <tr style=\"text-align: right;\">\n",
       "      <th></th>\n",
       "      <th>Complaint Type</th>\n",
       "      <th>hour_of_day</th>\n",
       "      <th>is_high_priority</th>\n",
       "    </tr>\n",
       "  </thead>\n",
       "  <tbody>\n",
       "    <tr>\n",
       "      <th>47</th>\n",
       "      <td>Noise - Commercial</td>\n",
       "      <td>5</td>\n",
       "      <td>False</td>\n",
       "    </tr>\n",
       "    <tr>\n",
       "      <th>54</th>\n",
       "      <td>Noise - Residential</td>\n",
       "      <td>5</td>\n",
       "      <td>False</td>\n",
       "    </tr>\n",
       "    <tr>\n",
       "      <th>60</th>\n",
       "      <td>Noise - Residential</td>\n",
       "      <td>5</td>\n",
       "      <td>False</td>\n",
       "    </tr>\n",
       "    <tr>\n",
       "      <th>62</th>\n",
       "      <td>Noise - Residential</td>\n",
       "      <td>5</td>\n",
       "      <td>False</td>\n",
       "    </tr>\n",
       "    <tr>\n",
       "      <th>67</th>\n",
       "      <td>Noise - Street/Sidewalk</td>\n",
       "      <td>5</td>\n",
       "      <td>False</td>\n",
       "    </tr>\n",
       "  </tbody>\n",
       "</table>\n",
       "</div>"
      ],
      "text/plain": [
       "             Complaint Type  hour_of_day  is_high_priority\n",
       "47       Noise - Commercial            5             False\n",
       "54      Noise - Residential            5             False\n",
       "60      Noise - Residential            5             False\n",
       "62      Noise - Residential            5             False\n",
       "67  Noise - Street/Sidewalk            5             False"
      ]
     },
     "metadata": {},
     "output_type": "display_data"
    }
   ],
   "source": [
    "# hour_of_day from Created Date \n",
    "df_b[\"hour_of_day\"] = df_b['Created Date'].dt.hour\n",
    "\n",
    "# define a high-priority list (STUDENT CHOICE)\n",
    "priority_list = ['Structural']  # e.g., [\"Heat/Hot Water\",\"Electric\",\"Elevator\",\"Structural\"]\n",
    "df_b[\"is_high_priority\"] = df_b['Complaint Type'].isin(priority_list)\n",
    "\n",
    "display(df_b[[\"Complaint Type\",\"hour_of_day\",\"is_high_priority\"]].head(5))"
   ]
  },
  {
   "cell_type": "markdown",
   "metadata": {},
   "source": [
    "#### Task4:  Aggregates & Visuals \n",
    "\n",
    "* Average response time by Complaint Type (sorted descending)\n",
    "\n",
    "* Total number of complaints by hour_of_day (bar chart)"
   ]
  },
  {
   "cell_type": "code",
   "execution_count": 36,
   "metadata": {},
   "outputs": [
    {
     "data": {
      "text/html": [
       "<div>\n",
       "<style scoped>\n",
       "    .dataframe tbody tr th:only-of-type {\n",
       "        vertical-align: middle;\n",
       "    }\n",
       "\n",
       "    .dataframe tbody tr th {\n",
       "        vertical-align: top;\n",
       "    }\n",
       "\n",
       "    .dataframe thead th {\n",
       "        text-align: right;\n",
       "    }\n",
       "</style>\n",
       "<table border=\"1\" class=\"dataframe\">\n",
       "  <thead>\n",
       "    <tr style=\"text-align: right;\">\n",
       "      <th></th>\n",
       "      <th>Complaint Type</th>\n",
       "      <th>response_time_hrs</th>\n",
       "    </tr>\n",
       "  </thead>\n",
       "  <tbody>\n",
       "    <tr>\n",
       "      <th>0</th>\n",
       "      <td>Drinking Water</td>\n",
       "      <td>102.416389</td>\n",
       "    </tr>\n",
       "    <tr>\n",
       "      <th>1</th>\n",
       "      <td>Food Establishment</td>\n",
       "      <td>81.377500</td>\n",
       "    </tr>\n",
       "    <tr>\n",
       "      <th>2</th>\n",
       "      <td>Safety</td>\n",
       "      <td>79.348843</td>\n",
       "    </tr>\n",
       "    <tr>\n",
       "      <th>3</th>\n",
       "      <td>Highway Condition</td>\n",
       "      <td>72.211250</td>\n",
       "    </tr>\n",
       "    <tr>\n",
       "      <th>4</th>\n",
       "      <td>Street Sign - Damaged</td>\n",
       "      <td>68.475648</td>\n",
       "    </tr>\n",
       "    <tr>\n",
       "      <th>5</th>\n",
       "      <td>Door/Window</td>\n",
       "      <td>66.941325</td>\n",
       "    </tr>\n",
       "    <tr>\n",
       "      <th>6</th>\n",
       "      <td>Illegal Animal Sold</td>\n",
       "      <td>63.184167</td>\n",
       "    </tr>\n",
       "    <tr>\n",
       "      <th>7</th>\n",
       "      <td>Unsanitary Condition</td>\n",
       "      <td>62.481782</td>\n",
       "    </tr>\n",
       "    <tr>\n",
       "      <th>8</th>\n",
       "      <td>Flooring/Stairs</td>\n",
       "      <td>60.351852</td>\n",
       "    </tr>\n",
       "    <tr>\n",
       "      <th>9</th>\n",
       "      <td>General</td>\n",
       "      <td>60.350159</td>\n",
       "    </tr>\n",
       "  </tbody>\n",
       "</table>\n",
       "</div>"
      ],
      "text/plain": [
       "          Complaint Type  response_time_hrs\n",
       "0         Drinking Water         102.416389\n",
       "1     Food Establishment          81.377500\n",
       "2                 Safety          79.348843\n",
       "3      Highway Condition          72.211250\n",
       "4  Street Sign - Damaged          68.475648\n",
       "5            Door/Window          66.941325\n",
       "6    Illegal Animal Sold          63.184167\n",
       "7   Unsanitary Condition          62.481782\n",
       "8        Flooring/Stairs          60.351852\n",
       "9                General          60.350159"
      ]
     },
     "metadata": {},
     "output_type": "display_data"
    }
   ],
   "source": [
    "# Average response time by complaint type (descending)\n",
    "avg_resp = df_b.groupby(\"Complaint Type\", dropna=False)[\"response_time_hrs\"].mean().sort_values(ascending=False).reset_index()\n",
    "display(avg_resp.head (10))\n"
   ]
  },
  {
   "cell_type": "code",
   "execution_count": 52,
   "metadata": {},
   "outputs": [
    {
     "data": {
      "image/png": "[encoded data removed]",
      "text/plain": [
       "<Figure size 640x480 with 1 Axes>"
      ]
     },
     "metadata": {},
     "output_type": "display_data"
    }
   ],
   "source": [
    "\n",
    "complaints_by_hour = df_b['hour_of_day'].value_counts()\n",
    "\n",
    "\n",
    "plt.bar(complaints_by_hour.index, complaints_by_hour)\n",
    "\n",
    "plt.title(\"Total NYC 311 Complaints by Hour of the Day\")\n",
    "plt.xlabel(\"Hour of the Day\")\n",
    "plt.ylabel(\"Total Complaints\")\n",
    "plt.xticks(range(0,24))  \n",
    "plt.show()\n"
   ]
  },
  {
   "cell_type": "markdown",
   "metadata": {},
   "source": [
    "#### Notebook Reflection\n",
    "\n",
    "Answer the questions in a markdown cell below.  Be thorough (no need to use AWES just answer the question fully)\n",
    "\n",
    "1. Describe one transformation or feature you engineered (e.g., response_time_hrs, is_high_priority) and explain why it would be useful for a city analyst or operations manager.\n",
    "\n",
    "2. What could go wrong if you didn’t clean the datetime fields properly or skipped removing rows with missing Closed Date? How might that distort future dashboards or decisions?"
   ]
  },
  {
   "cell_type": "markdown",
   "metadata": {},
   "source": [
    "One feature I engineered is a high priority list for structural complaints. It may be useful for operations managers because it helps them properly identify the most important problems and appropriately assign resources.\n",
    "\n",
    "It could mess up analysis on how long response time is or how long it takes to solve a complaint. If, for example, someone was trying to file a noise complaint in a residental area, and they were trying to check how long it took for previous noise complaints to be resolved, they might see undefined for the response time. This would likely make them upset with our services and less likely to use them in the future."
   ]
  },
  {
   "cell_type": "markdown",
   "metadata": {},
   "source": [
    "### 📣 Class Share-Out (15 minutes)\n",
    "\n",
    "Be ready to share out the following points with the class: \n",
    "\n",
    "📣 Explain:\n",
    "\n",
    "How average response_time_hrs by complaint type offers insight (e.g., “Elevator complaints take longer to resolve”)\n",
    "\n",
    "What does your chosen borough trends reveal (e.g., “Most heating complaints come in before 10am”)\n",
    "\n",
    "🛠️ Propose:\n",
    "\n",
    "One next transformation step you would include in the full data pipeline (e.g., flagging overdue requests)\n",
    "\n"
   ]
  }
 ],
 "metadata": {
  "kernelspec": {
   "display_name": "base",
   "language": "python",
   "name": "python3"
  },
  "language_info": {
   "codemirror_mode": {
    "name": "ipython",
    "version": 3
   },
   "file_extension": ".py",
   "mimetype": "text/x-python",
   "name": "python",
   "nbconvert_exporter": "python",
   "pygments_lexer": "ipython3",
   "version": "3.12.9"
  }
 },
 "nbformat": 4,
 "nbformat_minor": 2
}
