{
 "cells": [
  {
   "cell_type": "markdown",
   "metadata": {},
   "source": [
    "## 🛠️ Mod5 Data Challenge 1: ETL-in-the-Wild — Cleaning Civic Data for Product Insights\n",
    "\n",
    "### 🎯 Purpose\n",
    "\n",
    "Practice applying the \"Transform\" step of an ETL pipeline using a real-world dataset—NYC 311 Service Requests. You’ll clean, standardize, and engineer features to prep the data for downstream analysis and business reporting.\n",
    "\n",
    "### 📚 KSBs\n",
    "\n",
    "K14 – Strategic feature engineering to improve analysis outcomes\n",
    "\n",
    "S5 – Data transformation techniques in Python\n",
    "\n",
    "S8 – Uses Pandas for EDA and data manipulation\n",
    "\n",
    "B4 – Exercises critical judgment about data quality and reliability\n",
    "\n",
    "B6 – Pursues deeper insights beyond surface-level observations\n",
    "\n",
    "### Data\n",
    "Use the **nyc311.csv** file located in your Github's `data` folder within Mod5/DataChallenges.  This is a sample of the originial file looking at just one week of data since the dataset is HUGE.  Read more about the columns [HERE](https://data.cityofnewyork.us/Social-Services/311-Service-Requests-from-2010-to-Present/erm2-nwe9/about_data).   "
   ]
  },
  {
   "cell_type": "markdown",
   "metadata": {},
   "source": [
    "### 👩‍🏫 Instructor-Led Demo (15 minutes)"
   ]
  },
  {
   "cell_type": "markdown",
   "metadata": {},
   "source": [
    "#### Step 1:  Load + Preview \n",
    "* Read in data\n",
    "\n",
    "* Show .head(), .info() to examine structure and datatypes"
   ]
  },
  {
   "cell_type": "code",
   "execution_count": 2,
   "metadata": {},
   "outputs": [],
   "source": [
    "import pandas as pd"
   ]
  },
  {
   "cell_type": "code",
   "execution_count": 3,
   "metadata": {},
   "outputs": [],
   "source": [
    "df = pd.read_csv('/Users/ayemaq/Desktop/marcy_lab/DA2025_Lectures/Mod5/DataChallenges/data/nyc311.csv')"
   ]
  },
  {
   "cell_type": "markdown",
   "metadata": {},
   "source": [
    "#### Step 2:  Clean up Categorical Variable \n",
    "\n",
    "* Normalize Borough & Complaint Type (e.g., strip whitespace, title-case or upper-case values)\n",
    "\n",
    "* Show .value_counts() before and after cleaning"
   ]
  },
  {
   "cell_type": "code",
   "execution_count": 5,
   "metadata": {},
   "outputs": [
    {
     "data": {
      "text/plain": [
       "Complaint Type\n",
       "Illegal Parking            10654\n",
       "Noise - Residential         6603\n",
       "Noise - Street/Sidewalk     4532\n",
       "Blocked Driveway            3002\n",
       "Unsanitary Condition        1539\n",
       "Noise - Commercial          1411\n",
       "Dirty Condition             1176\n",
       "Abandoned Vehicle           1050\n",
       "Street Condition            1032\n",
       "Noise                       1023\n",
       "Name: count, dtype: int64"
      ]
     },
     "metadata": {},
     "output_type": "display_data"
    },
    {
     "data": {
      "text/plain": [
       "Borough\n",
       "Brooklyn         17102\n",
       "Queens           14668\n",
       "Manhattan        11729\n",
       "Bronx            10041\n",
       "Staten Island     2226\n",
       "Unspecified         49\n",
       "Name: count, dtype: int64"
      ]
     },
     "metadata": {},
     "output_type": "display_data"
    }
   ],
   "source": [
    "# Strip whitespace and standardize case\n",
    "for col in [\"Complaint Type\", \"Borough\"]:\n",
    "    if col in df.columns:\n",
    "        df[col] = df[col].astype(str).str.strip()\n",
    "\n",
    "# pick a style (title-case often reads nicely)\n",
    "df[\"Complaint Type\"] = df[\"Complaint Type\"].str.title()\n",
    "df[\"Borough\"] = df[\"Borough\"].str.title()\n",
    "\n",
    "# quick sanity checks\n",
    "display(df[\"Complaint Type\"].value_counts().head(10))\n",
    "display(df[\"Borough\"].value_counts())"
   ]
  },
  {
   "cell_type": "markdown",
   "metadata": {},
   "source": [
    "#### Step 3:  Feature Engineering\n",
    "\n",
    "* Convert Created Date to datetime\n",
    "\n",
    "* Create a new feature: is_weekend based on weekday"
   ]
  },
  {
   "cell_type": "code",
   "execution_count": 6,
   "metadata": {},
   "outputs": [],
   "source": [
    "df[\"Created Date\"] = pd.to_datetime(df[\"Created Date\"], errors=\"coerce\")\n",
    "\n",
    "# is_weekend flag\n",
    "df[\"is_weekend\"] = df[\"Created Date\"].dt.dayofweek >= 5"
   ]
  },
  {
   "cell_type": "markdown",
   "metadata": {},
   "source": [
    "### 👩‍💻 Student-Led Section (30 minutes)"
   ]
  },
  {
   "cell_type": "markdown",
   "metadata": {},
   "source": [
    "#### Task1:  Clean & Filter\n",
    "\n",
    "* Drop rows with missing Created Date or Closed Date\n",
    "\n",
    "* Drop duplicate rows\n",
    "\n",
    "* Filter data to only include one borough (e.g., Brooklyn)"
   ]
  },
  {
   "cell_type": "code",
   "execution_count": 11,
   "metadata": {},
   "outputs": [
    {
     "data": {
      "text/plain": [
       "(11509, 42)"
      ]
     },
     "execution_count": 11,
     "metadata": {},
     "output_type": "execute_result"
    }
   ],
   "source": [
    "# 1a) Drop rows with missing Created/Closed Date\n",
    "df = df.dropna(subset=[\"Created Date\", \"Closed Date\"])\n",
    "\n",
    "# 1b) Drop duplicates\n",
    "df = df.drop_duplicates()\n",
    "\n",
    "# 1c) Filter to a single borough (STUDENT CHOICE)\n",
    "borough_name = \"Queens\"  # e.g., \"Brooklyn\"\n",
    "df_b = df[df[\"Borough\"] == borough_name].copy()\n",
    "df_b.shape"
   ]
  },
  {
   "cell_type": "markdown",
   "metadata": {},
   "source": [
    "#### Task2:  Time Transformations \n",
    "\n",
    "* Create a new column `response_time_hrs` = difference between Closed Date and Created Date (in hours)\n",
    "\n",
    "* Ensure datetime types are properly parsed and timezone-aware (localize to America/New_York → convert to UTC)"
   ]
  },
  {
   "cell_type": "code",
   "execution_count": 12,
   "metadata": {},
   "outputs": [],
   "source": [
    "# RUN THIS CELL WITHOUT CHANGES!!!! \n",
    "\n",
    "LOCAL_TZ = \"America/New_York\"\n",
    "\n",
    "def to_utc(series, local_tz=LOCAL_TZ):\n",
    "    # 1) parse\n",
    "    s = pd.to_datetime(series, errors=\"coerce\")\n",
    "\n",
    "    # 2) if naive -> localize; if tz-aware -> skip (KEEP NONE in this if statement)\n",
    "    if s.dt.tz is None:\n",
    "        s = s.dt.tz_localize(local_tz, nonexistent=\"shift_forward\", ambiguous=\"NaT\")\n",
    "\n",
    "    # 3) convert whatever tz it has to UTC\n",
    "    return s.dt.tz_convert(\"UTC\")"
   ]
  },
  {
   "cell_type": "code",
   "execution_count": 14,
   "metadata": {},
   "outputs": [
    {
     "data": {
      "text/html": [
       "<div>\n",
       "<style scoped>\n",
       "    .dataframe tbody tr th:only-of-type {\n",
       "        vertical-align: middle;\n",
       "    }\n",
       "\n",
       "    .dataframe tbody tr th {\n",
       "        vertical-align: top;\n",
       "    }\n",
       "\n",
       "    .dataframe thead th {\n",
       "        text-align: right;\n",
       "    }\n",
       "</style>\n",
       "<table border=\"1\" class=\"dataframe\">\n",
       "  <thead>\n",
       "    <tr style=\"text-align: right;\">\n",
       "      <th></th>\n",
       "      <th>Created Date</th>\n",
       "      <th>Closed Date</th>\n",
       "      <th>response_time_hrs</th>\n",
       "    </tr>\n",
       "  </thead>\n",
       "  <tbody>\n",
       "    <tr>\n",
       "      <th>7</th>\n",
       "      <td>2025-09-17 05:49:53+00:00</td>\n",
       "      <td>NaT</td>\n",
       "      <td>NaN</td>\n",
       "    </tr>\n",
       "    <tr>\n",
       "      <th>37</th>\n",
       "      <td>2025-09-17 05:33:27+00:00</td>\n",
       "      <td>NaT</td>\n",
       "      <td>NaN</td>\n",
       "    </tr>\n",
       "    <tr>\n",
       "      <th>50</th>\n",
       "      <td>2025-09-17 05:26:39+00:00</td>\n",
       "      <td>NaT</td>\n",
       "      <td>NaN</td>\n",
       "    </tr>\n",
       "    <tr>\n",
       "      <th>69</th>\n",
       "      <td>2025-09-17 05:14:11+00:00</td>\n",
       "      <td>NaT</td>\n",
       "      <td>NaN</td>\n",
       "    </tr>\n",
       "    <tr>\n",
       "      <th>74</th>\n",
       "      <td>2025-09-17 05:09:02+00:00</td>\n",
       "      <td>NaT</td>\n",
       "      <td>NaN</td>\n",
       "    </tr>\n",
       "  </tbody>\n",
       "</table>\n",
       "</div>"
      ],
      "text/plain": [
       "                Created Date Closed Date  response_time_hrs\n",
       "7  2025-09-17 05:49:53+00:00         NaT                NaN\n",
       "37 2025-09-17 05:33:27+00:00         NaT                NaN\n",
       "50 2025-09-17 05:26:39+00:00         NaT                NaN\n",
       "69 2025-09-17 05:14:11+00:00         NaT                NaN\n",
       "74 2025-09-17 05:09:02+00:00         NaT                NaN"
      ]
     },
     "execution_count": 14,
     "metadata": {},
     "output_type": "execute_result"
    }
   ],
   "source": [
    "# Convert both columns to utc\n",
    "df_b[\"Created Date\"] = to_utc(df_b[\"Created Date\"])\n",
    "df_b[\"Closed Date\"]  = to_utc(df_b[\"Closed Date\"])\n",
    "\n",
    "# Now compute the response time\n",
    "delta = df_b[\"Closed Date\"] - df_b[\"Created Date\"]\n",
    "df_b[\"response_time_hrs\"] = delta.dt.total_seconds() / 3600\n",
    "\n",
    "# Check the data with a .head()\n",
    "df_b[[\"Created Date\", \"Closed Date\", \"response_time_hrs\"]].head()"
   ]
  },
  {
   "cell_type": "markdown",
   "metadata": {},
   "source": [
    "#### Task3:  Feature Engineer\n",
    "\n",
    "* Create `hour_of_day` from Created Date\n",
    "\n",
    "* Create `is_high_priority`: True if Complaint Type is in a list of priority complaints (e.g., [\"HEAT/HOT WATER\", \"ELECTRIC\", \"STRUCTURAL\"])"
   ]
  },
  {
   "cell_type": "code",
   "execution_count": 26,
   "metadata": {},
   "outputs": [
    {
     "data": {
      "text/html": [
       "<div>\n",
       "<style scoped>\n",
       "    .dataframe tbody tr th:only-of-type {\n",
       "        vertical-align: middle;\n",
       "    }\n",
       "\n",
       "    .dataframe tbody tr th {\n",
       "        vertical-align: top;\n",
       "    }\n",
       "\n",
       "    .dataframe thead th {\n",
       "        text-align: right;\n",
       "    }\n",
       "</style>\n",
       "<table border=\"1\" class=\"dataframe\">\n",
       "  <thead>\n",
       "    <tr style=\"text-align: right;\">\n",
       "      <th></th>\n",
       "      <th>Complaint Type</th>\n",
       "      <th>hour_of_day</th>\n",
       "      <th>is_high_priority</th>\n",
       "    </tr>\n",
       "  </thead>\n",
       "  <tbody>\n",
       "    <tr>\n",
       "      <th>7</th>\n",
       "      <td>Homeless Person Assistance</td>\n",
       "      <td>5</td>\n",
       "      <td>False</td>\n",
       "    </tr>\n",
       "    <tr>\n",
       "      <th>37</th>\n",
       "      <td>Blocked Driveway</td>\n",
       "      <td>5</td>\n",
       "      <td>False</td>\n",
       "    </tr>\n",
       "    <tr>\n",
       "      <th>50</th>\n",
       "      <td>Non-Emergency Police Matter</td>\n",
       "      <td>5</td>\n",
       "      <td>False</td>\n",
       "    </tr>\n",
       "    <tr>\n",
       "      <th>69</th>\n",
       "      <td>Homeless Person Assistance</td>\n",
       "      <td>5</td>\n",
       "      <td>False</td>\n",
       "    </tr>\n",
       "    <tr>\n",
       "      <th>74</th>\n",
       "      <td>Illegal Parking</td>\n",
       "      <td>5</td>\n",
       "      <td>False</td>\n",
       "    </tr>\n",
       "    <tr>\n",
       "      <th>89</th>\n",
       "      <td>Noise - Street/Sidewalk</td>\n",
       "      <td>5</td>\n",
       "      <td>False</td>\n",
       "    </tr>\n",
       "    <tr>\n",
       "      <th>96</th>\n",
       "      <td>Noise - Vehicle</td>\n",
       "      <td>4</td>\n",
       "      <td>False</td>\n",
       "    </tr>\n",
       "    <tr>\n",
       "      <th>103</th>\n",
       "      <td>Noise - Residential</td>\n",
       "      <td>4</td>\n",
       "      <td>False</td>\n",
       "    </tr>\n",
       "    <tr>\n",
       "      <th>111</th>\n",
       "      <td>Noise - Street/Sidewalk</td>\n",
       "      <td>4</td>\n",
       "      <td>False</td>\n",
       "    </tr>\n",
       "    <tr>\n",
       "      <th>114</th>\n",
       "      <td>Illegal Parking</td>\n",
       "      <td>4</td>\n",
       "      <td>False</td>\n",
       "    </tr>\n",
       "  </tbody>\n",
       "</table>\n",
       "</div>"
      ],
      "text/plain": [
       "                  Complaint Type  hour_of_day  is_high_priority\n",
       "7     Homeless Person Assistance            5             False\n",
       "37              Blocked Driveway            5             False\n",
       "50   Non-Emergency Police Matter            5             False\n",
       "69    Homeless Person Assistance            5             False\n",
       "74               Illegal Parking            5             False\n",
       "89       Noise - Street/Sidewalk            5             False\n",
       "96               Noise - Vehicle            4             False\n",
       "103          Noise - Residential            4             False\n",
       "111      Noise - Street/Sidewalk            4             False\n",
       "114              Illegal Parking            4             False"
      ]
     },
     "metadata": {},
     "output_type": "display_data"
    }
   ],
   "source": [
    "# hour_of_day from Created Date \n",
    "df_b[\"hour_of_day\"] = df_b[\"Created Date\"].dt.hour\n",
    "\n",
    "# define a high-priority list (STUDENT CHOICE)\n",
    "priority_list = [\"Heat/Hot Water\",\"Electric\",\"Elevator\",\"Structural\"]  # e.g., [\"Heat/Hot Water\",\"Electric\",\"Elevator\",\"Structural\"]\n",
    "df_b[\"is_high_priority\"] = df_b[\"Complaint Type\"].isin(priority_list)\n",
    "\n",
    "display(df_b[[\"Complaint Type\",\"hour_of_day\",\"is_high_priority\"]].head(10))"
   ]
  },
  {
   "cell_type": "markdown",
   "metadata": {},
   "source": [
    "#### Task4:  Aggregates & Visuals \n",
    "\n",
    "* Average response time by Complaint Type (sorted descending)\n",
    "\n",
    "* Total number of complaints by hour_of_day (bar chart)"
   ]
  },
  {
   "cell_type": "code",
   "execution_count": 18,
   "metadata": {},
   "outputs": [],
   "source": [
    "# Average response time by complaint type (descending)\n",
    "avg_resp = df_b.groupby(\"Complaint Type\")[\"response_time_hrs\"].mean().sort_values(ascending=False)"
   ]
  },
  {
   "cell_type": "code",
   "execution_count": 20,
   "metadata": {},
   "outputs": [
    {
     "data": {
      "image/png": "[encoded data removed]",
      "text/plain": [
       "<Figure size 1000x500 with 1 Axes>"
      ]
     },
     "metadata": {},
     "output_type": "display_data"
    }
   ],
   "source": [
    "# Total complaints by hour_of_day (bar chart)\n",
    "import matplotlib.pyplot as plt\n",
    "\n",
    "# Group by hour_of_day and count complaints\n",
    "total_complaints = df_b.groupby(\"hour_of_day\")[\"Complaint Type\"].count()\n",
    "\n",
    "# Plot\n",
    "plt.figure(figsize=(10,5))\n",
    "plt.bar(total_complaints.index, total_complaints.values)\n",
    "\n",
    "plt.xlabel('Hour of Day')\n",
    "plt.ylabel('Number of Complaints')\n",
    "plt.title('Total Complaints by Hour of Day')\n",
    "plt.xticks(range(0,24))  \n",
    "plt.show()\n"
   ]
  },
  {
   "cell_type": "markdown",
   "metadata": {},
   "source": [
    "#### Notebook Reflection\n",
    "\n",
    "Answer the questions in a markdown cell below.  Be thorough (no need to use AWES just answer the question fully)\n",
    "\n",
    "1. Describe one transformation or feature you engineered (e.g., response_time_hrs, is_high_priority) and explain why it would be useful for a city analyst or operations manager.\n",
    "- One transformation I created was response_time_hrs, which calculates how long it takes for the city to respond to a complaint. This feature is useful because it allows us to measure the efficiency of 311 services. For example, city analysts can identify which complaint types take the longest to resolve (e.g., elevator or heating issues) and use that insight to allocate more resources or adjust policies. Operations managers can also monitor service reliability over time and ensure residents are receiving timely responses.\n",
    "2. What could go wrong if you didn’t clean the datetime fields properly or skipped removing rows with missing Closed Date? How might that distort future dashboards or decisions?\n",
    "- If datetime fields aren’t cleaned properly, the calculated response times may be inaccurate or misleading. For example, a missing or malformed Closed Date could result in negative or extremely large response times, which would distort averages. If these errors go unnoticed, dashboards might falsely suggest that certain complaints are resolved instantly or take weeks longer than they actually do. Decision-makers relying on this data might then misallocate resources or fail to identify true service delays, ultimately lowering trust in the system."
   ]
  },
  {
   "cell_type": "markdown",
   "metadata": {},
   "source": [
    "### 📣 Class Share-Out (15 minutes)\n",
    "\n",
    "Be ready to share out the following points with the class: \n",
    "\n",
    "📣 Explain:\n",
    "\n",
    "How average response_time_hrs by complaint type offers insight (e.g., “Elevator complaints take longer to resolve”)\n",
    "\n",
    "What does your chosen borough trends reveal (e.g., “Most heating complaints come in before 10am”)\n",
    "\n",
    "🛠️ Propose:\n",
    "\n",
    "One next transformation step you would include in the full data pipeline (e.g., flagging overdue requests)\n",
    "\n"
   ]
  }
 ],
 "metadata": {
  "kernelspec": {
   "display_name": "base",
   "language": "python",
   "name": "python3"
  },
  "language_info": {
   "codemirror_mode": {
    "name": "ipython",
    "version": 3
   },
   "file_extension": ".py",
   "mimetype": "text/x-python",
   "name": "python",
   "nbconvert_exporter": "python",
   "pygments_lexer": "ipython3",
   "version": "3.12.7"
  }
 },
 "nbformat": 4,
 "nbformat_minor": 2
}
