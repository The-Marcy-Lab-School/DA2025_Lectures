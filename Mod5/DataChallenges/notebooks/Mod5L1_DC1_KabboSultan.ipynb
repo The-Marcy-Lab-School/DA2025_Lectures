{
 "cells": [
  {
   "cell_type": "markdown",
   "metadata": {},
   "source": [
    "## 🛠️ Mod5 Data Challenge 1: ETL-in-the-Wild — Cleaning Civic Data for Product Insights\n",
    "\n",
    "### 🎯 Purpose\n",
    "\n",
    "Practice applying the \"Transform\" step of an ETL pipeline using a real-world dataset—NYC 311 Service Requests. You’ll clean, standardize, and engineer features to prep the data for downstream analysis and business reporting.\n",
    "\n",
    "### 📚 KSBs\n",
    "\n",
    "K14 – Strategic feature engineering to improve analysis outcomes\n",
    "\n",
    "S5 – Data transformation techniques in Python\n",
    "\n",
    "S8 – Uses Pandas for EDA and data manipulation\n",
    "\n",
    "B4 – Exercises critical judgment about data quality and reliability\n",
    "\n",
    "B6 – Pursues deeper insights beyond surface-level observations\n",
    "\n",
    "### Data\n",
    "Use the **nyc311.csv** file located in your Github's `data` folder within Mod5/DataChallenges.  This is a sample of the originial file looking at just one week of data since the dataset is HUGE.  Read more about the columns [HERE](https://data.cityofnewyork.us/Social-Services/311-Service-Requests-from-2010-to-Present/erm2-nwe9/about_data).   "
   ]
  },
  {
   "cell_type": "markdown",
   "metadata": {},
   "source": [
    "### 👩‍🏫 Instructor-Led Demo (15 minutes)"
   ]
  },
  {
   "cell_type": "markdown",
   "metadata": {},
   "source": [
    "#### Step 1:  Load + Preview \n",
    "* Read in data\n",
    "\n",
    "* Show .head(), .info() to examine structure and datatypes"
   ]
  },
  {
   "cell_type": "code",
   "execution_count": 2,
   "metadata": {},
   "outputs": [],
   "source": [
    "import pandas as pd\n",
    "df = pd.read_csv('/Users/kabbo/Downloads/nyc311.csv')"
   ]
  },
  {
   "cell_type": "markdown",
   "metadata": {},
   "source": [
    "#### Step 2:  Clean up Categorical Variable \n",
    "\n",
    "* Normalize Borough & Complaint Type (e.g., strip whitespace, title-case or upper-case values)\n",
    "\n",
    "* Show .value_counts() before and after cleaning"
   ]
  },
  {
   "cell_type": "code",
   "execution_count": 3,
   "metadata": {},
   "outputs": [
    {
     "data": {
      "text/plain": [
       "Complaint Type\n",
       "Illegal Parking            10654\n",
       "Noise - Residential         6603\n",
       "Noise - Street/Sidewalk     4532\n",
       "Blocked Driveway            3002\n",
       "Unsanitary Condition        1539\n",
       "Noise - Commercial          1411\n",
       "Dirty Condition             1176\n",
       "Abandoned Vehicle           1050\n",
       "Street Condition            1032\n",
       "Noise                       1023\n",
       "Name: count, dtype: int64"
      ]
     },
     "metadata": {},
     "output_type": "display_data"
    },
    {
     "data": {
      "text/plain": [
       "Borough\n",
       "Brooklyn         17102\n",
       "Queens           14668\n",
       "Manhattan        11729\n",
       "Bronx            10041\n",
       "Staten Island     2226\n",
       "Unspecified         49\n",
       "Name: count, dtype: int64"
      ]
     },
     "metadata": {},
     "output_type": "display_data"
    }
   ],
   "source": [
    "# Strip whitespace and standardize case\n",
    "for col in [\"Complaint Type\", \"Borough\"]:\n",
    "    if col in df.columns:\n",
    "        df[col] = df[col].astype(str).str.strip()\n",
    "\n",
    "# pick a style (title-case often reads nicely)\n",
    "df[\"Complaint Type\"] = df[\"Complaint Type\"].str.title()\n",
    "df[\"Borough\"] = df[\"Borough\"].str.title()\n",
    "\n",
    "# quick sanity checks\n",
    "display(df[\"Complaint Type\"].value_counts().head(10))\n",
    "display(df[\"Borough\"].value_counts())"
   ]
  },
  {
   "cell_type": "markdown",
   "metadata": {},
   "source": [
    "#### Step 3:  Feature Engineering\n",
    "\n",
    "* Convert Created Date to datetime\n",
    "\n",
    "* Create a new feature: is_weekend based on weekday"
   ]
  },
  {
   "cell_type": "code",
   "execution_count": 4,
   "metadata": {},
   "outputs": [
    {
     "data": {
      "text/plain": [
       "0        False\n",
       "1        False\n",
       "2        False\n",
       "3        False\n",
       "4        False\n",
       "         ...  \n",
       "55810    False\n",
       "55811    False\n",
       "55812    False\n",
       "55813    False\n",
       "55814    False\n",
       "Name: Created Date, Length: 55815, dtype: bool"
      ]
     },
     "execution_count": 4,
     "metadata": {},
     "output_type": "execute_result"
    }
   ],
   "source": [
    "df[\"Created Date\"] = pd.to_datetime(df[\"Created Date\"])\n",
    "\n",
    "# is_weekend flag\n",
    "#df[\"is_weekend\"] = \n",
    "\n",
    "df[\"Created Date\"].dt.day_of_week > 5"
   ]
  },
  {
   "cell_type": "markdown",
   "metadata": {},
   "source": [
    "### 👩‍💻 Student-Led Section (30 minutes)"
   ]
  },
  {
   "cell_type": "markdown",
   "metadata": {},
   "source": [
    "#### Task1:  Clean & Filter\n",
    "\n",
    "* Drop rows with missing Created Date or Closed Date\n",
    "\n",
    "* Drop duplicate rows\n",
    "\n",
    "* Filter data to only include one borough (e.g., Brooklyn)"
   ]
  },
  {
   "cell_type": "code",
   "execution_count": null,
   "metadata": {},
   "outputs": [
    {
     "data": {
      "text/plain": [
       "(11509, 41)"
      ]
     },
     "execution_count": 5,
     "metadata": {},
     "output_type": "execute_result"
    }
   ],
   "source": [
    "# 1a) Drop rows with missing Created/Closed Date\n",
    "df = df.dropna(subset=['Created Date', 'Closed Date'])\n",
    "\n",
    "# 1b) Drop duplicates\n",
    "df = df.drop_duplicates()\n",
    "\n",
    "# 1c) Filter to a single borough (STUDENT CHOICE)\n",
    "borough_name = \"Queens\"  # e.g., \"Brooklyn\"\n",
    "df_b = df[df[\"Borough\"] == borough_name].copy()\n",
    "df_b.shape"
   ]
  },
  {
   "cell_type": "markdown",
   "metadata": {},
   "source": [
    "#### Task2:  Time Transformations \n",
    "\n",
    "* Create a new column `response_time_hrs` = difference between Closed Date and Created Date (in hours)\n",
    "\n",
    "* Ensure datetime types are properly parsed and timezone-aware (localize to America/New_York → convert to UTC)"
   ]
  },
  {
   "cell_type": "code",
   "execution_count": 6,
   "metadata": {},
   "outputs": [],
   "source": [
    "# RUN THIS CELL WITHOUT CHANGES!!!! \n",
    "\n",
    "LOCAL_TZ = \"America/New_York\"\n",
    "\n",
    "def to_utc(series, local_tz=LOCAL_TZ):\n",
    "    # 1) parse\n",
    "    s = pd.to_datetime(series, errors=\"coerce\")\n",
    "\n",
    "    # 2) if naive -> localize; if tz-aware -> skip (KEEP NONE in this if statement)\n",
    "    if s.dt.tz is None:\n",
    "        s = s.dt.tz_localize(local_tz, nonexistent=\"shift_forward\", ambiguous=\"NaT\")\n",
    "\n",
    "    # 3) convert whatever tz it has to UTC\n",
    "    return s.dt.tz_convert(\"UTC\")"
   ]
  },
  {
   "cell_type": "code",
   "execution_count": 7,
   "metadata": {},
   "outputs": [
    {
     "data": {
      "text/html": [
       "<div>\n",
       "<style scoped>\n",
       "    .dataframe tbody tr th:only-of-type {\n",
       "        vertical-align: middle;\n",
       "    }\n",
       "\n",
       "    .dataframe tbody tr th {\n",
       "        vertical-align: top;\n",
       "    }\n",
       "\n",
       "    .dataframe thead th {\n",
       "        text-align: right;\n",
       "    }\n",
       "</style>\n",
       "<table border=\"1\" class=\"dataframe\">\n",
       "  <thead>\n",
       "    <tr style=\"text-align: right;\">\n",
       "      <th></th>\n",
       "      <th>Unique Key</th>\n",
       "      <th>Created Date</th>\n",
       "      <th>Closed Date</th>\n",
       "      <th>Agency</th>\n",
       "      <th>Agency Name</th>\n",
       "      <th>Complaint Type</th>\n",
       "      <th>Descriptor</th>\n",
       "      <th>Location Type</th>\n",
       "      <th>Incident Zip</th>\n",
       "      <th>Incident Address</th>\n",
       "      <th>...</th>\n",
       "      <th>Taxi Company Borough</th>\n",
       "      <th>Taxi Pick Up Location</th>\n",
       "      <th>Bridge Highway Name</th>\n",
       "      <th>Bridge Highway Direction</th>\n",
       "      <th>Road Ramp</th>\n",
       "      <th>Bridge Highway Segment</th>\n",
       "      <th>Latitude</th>\n",
       "      <th>Longitude</th>\n",
       "      <th>Location</th>\n",
       "      <th>response_time_hrs</th>\n",
       "    </tr>\n",
       "  </thead>\n",
       "  <tbody>\n",
       "    <tr>\n",
       "      <th>7</th>\n",
       "      <td>66176906</td>\n",
       "      <td>2025-09-17 05:49:53+00:00</td>\n",
       "      <td>2025-09-17 07:00:34+00:00</td>\n",
       "      <td>DHS</td>\n",
       "      <td>Department of Homeless Services</td>\n",
       "      <td>Homeless Person Assistance</td>\n",
       "      <td>Non-Chronic</td>\n",
       "      <td>Store/Commercial</td>\n",
       "      <td>11385.0</td>\n",
       "      <td>55-25 MYRTLE AVENUE</td>\n",
       "      <td>...</td>\n",
       "      <td>NaN</td>\n",
       "      <td>NaN</td>\n",
       "      <td>NaN</td>\n",
       "      <td>NaN</td>\n",
       "      <td>NaN</td>\n",
       "      <td>NaN</td>\n",
       "      <td>40.699957</td>\n",
       "      <td>-73.907722</td>\n",
       "      <td>(40.69995662802054, -73.90772175534917)</td>\n",
       "      <td>1.178056</td>\n",
       "    </tr>\n",
       "    <tr>\n",
       "      <th>37</th>\n",
       "      <td>66170659</td>\n",
       "      <td>2025-09-17 05:33:27+00:00</td>\n",
       "      <td>2025-09-17 05:42:59+00:00</td>\n",
       "      <td>NYPD</td>\n",
       "      <td>New York City Police Department</td>\n",
       "      <td>Blocked Driveway</td>\n",
       "      <td>No Access</td>\n",
       "      <td>Street/Sidewalk</td>\n",
       "      <td>11419.0</td>\n",
       "      <td>111-01 101 AVENUE</td>\n",
       "      <td>...</td>\n",
       "      <td>NaN</td>\n",
       "      <td>NaN</td>\n",
       "      <td>NaN</td>\n",
       "      <td>NaN</td>\n",
       "      <td>NaN</td>\n",
       "      <td>NaN</td>\n",
       "      <td>40.688089</td>\n",
       "      <td>-73.832615</td>\n",
       "      <td>(40.68808859339035, -73.8326146957164)</td>\n",
       "      <td>0.158889</td>\n",
       "    </tr>\n",
       "    <tr>\n",
       "      <th>50</th>\n",
       "      <td>66178986</td>\n",
       "      <td>2025-09-17 05:26:39+00:00</td>\n",
       "      <td>2025-09-17 05:28:51+00:00</td>\n",
       "      <td>NYPD</td>\n",
       "      <td>New York City Police Department</td>\n",
       "      <td>Non-Emergency Police Matter</td>\n",
       "      <td>Other (complaint details)</td>\n",
       "      <td>Street/Sidewalk</td>\n",
       "      <td>11374.0</td>\n",
       "      <td>98-30 67 AVENUE</td>\n",
       "      <td>...</td>\n",
       "      <td>NaN</td>\n",
       "      <td>NaN</td>\n",
       "      <td>NaN</td>\n",
       "      <td>NaN</td>\n",
       "      <td>NaN</td>\n",
       "      <td>NaN</td>\n",
       "      <td>40.725022</td>\n",
       "      <td>-73.855031</td>\n",
       "      <td>(40.72502241781684, -73.8550310677977)</td>\n",
       "      <td>0.036667</td>\n",
       "    </tr>\n",
       "    <tr>\n",
       "      <th>69</th>\n",
       "      <td>66174633</td>\n",
       "      <td>2025-09-17 05:14:11+00:00</td>\n",
       "      <td>2025-09-17 06:47:24+00:00</td>\n",
       "      <td>DHS</td>\n",
       "      <td>Department of Homeless Services</td>\n",
       "      <td>Homeless Person Assistance</td>\n",
       "      <td>Non-Chronic</td>\n",
       "      <td>Street/Sidewalk</td>\n",
       "      <td>11385.0</td>\n",
       "      <td>55-25 MYRTLE AVENUE</td>\n",
       "      <td>...</td>\n",
       "      <td>NaN</td>\n",
       "      <td>NaN</td>\n",
       "      <td>NaN</td>\n",
       "      <td>NaN</td>\n",
       "      <td>NaN</td>\n",
       "      <td>NaN</td>\n",
       "      <td>40.699957</td>\n",
       "      <td>-73.907722</td>\n",
       "      <td>(40.69995662802054, -73.90772175534917)</td>\n",
       "      <td>1.553611</td>\n",
       "    </tr>\n",
       "    <tr>\n",
       "      <th>74</th>\n",
       "      <td>66176165</td>\n",
       "      <td>2025-09-17 05:09:02+00:00</td>\n",
       "      <td>2025-09-17 05:26:20+00:00</td>\n",
       "      <td>NYPD</td>\n",
       "      <td>New York City Police Department</td>\n",
       "      <td>Illegal Parking</td>\n",
       "      <td>Blocked Sidewalk</td>\n",
       "      <td>Street/Sidewalk</td>\n",
       "      <td>11419.0</td>\n",
       "      <td>95 AVENUE</td>\n",
       "      <td>...</td>\n",
       "      <td>NaN</td>\n",
       "      <td>NaN</td>\n",
       "      <td>NaN</td>\n",
       "      <td>NaN</td>\n",
       "      <td>NaN</td>\n",
       "      <td>NaN</td>\n",
       "      <td>40.690553</td>\n",
       "      <td>-73.834044</td>\n",
       "      <td>(40.690552726198774, -73.83404367692309)</td>\n",
       "      <td>0.288333</td>\n",
       "    </tr>\n",
       "  </tbody>\n",
       "</table>\n",
       "<p>5 rows × 42 columns</p>\n",
       "</div>"
      ],
      "text/plain": [
       "    Unique Key              Created Date               Closed Date Agency  \\\n",
       "7     66176906 2025-09-17 05:49:53+00:00 2025-09-17 07:00:34+00:00    DHS   \n",
       "37    66170659 2025-09-17 05:33:27+00:00 2025-09-17 05:42:59+00:00   NYPD   \n",
       "50    66178986 2025-09-17 05:26:39+00:00 2025-09-17 05:28:51+00:00   NYPD   \n",
       "69    66174633 2025-09-17 05:14:11+00:00 2025-09-17 06:47:24+00:00    DHS   \n",
       "74    66176165 2025-09-17 05:09:02+00:00 2025-09-17 05:26:20+00:00   NYPD   \n",
       "\n",
       "                        Agency Name               Complaint Type  \\\n",
       "7   Department of Homeless Services   Homeless Person Assistance   \n",
       "37  New York City Police Department             Blocked Driveway   \n",
       "50  New York City Police Department  Non-Emergency Police Matter   \n",
       "69  Department of Homeless Services   Homeless Person Assistance   \n",
       "74  New York City Police Department              Illegal Parking   \n",
       "\n",
       "                   Descriptor     Location Type  Incident Zip  \\\n",
       "7                 Non-Chronic  Store/Commercial       11385.0   \n",
       "37                  No Access   Street/Sidewalk       11419.0   \n",
       "50  Other (complaint details)   Street/Sidewalk       11374.0   \n",
       "69                Non-Chronic   Street/Sidewalk       11385.0   \n",
       "74           Blocked Sidewalk   Street/Sidewalk       11419.0   \n",
       "\n",
       "       Incident Address  ... Taxi Company Borough Taxi Pick Up Location  \\\n",
       "7   55-25 MYRTLE AVENUE  ...                  NaN                   NaN   \n",
       "37    111-01 101 AVENUE  ...                  NaN                   NaN   \n",
       "50      98-30 67 AVENUE  ...                  NaN                   NaN   \n",
       "69  55-25 MYRTLE AVENUE  ...                  NaN                   NaN   \n",
       "74            95 AVENUE  ...                  NaN                   NaN   \n",
       "\n",
       "   Bridge Highway Name Bridge Highway Direction Road Ramp  \\\n",
       "7                  NaN                      NaN       NaN   \n",
       "37                 NaN                      NaN       NaN   \n",
       "50                 NaN                      NaN       NaN   \n",
       "69                 NaN                      NaN       NaN   \n",
       "74                 NaN                      NaN       NaN   \n",
       "\n",
       "   Bridge Highway Segment   Latitude  Longitude  \\\n",
       "7                     NaN  40.699957 -73.907722   \n",
       "37                    NaN  40.688089 -73.832615   \n",
       "50                    NaN  40.725022 -73.855031   \n",
       "69                    NaN  40.699957 -73.907722   \n",
       "74                    NaN  40.690553 -73.834044   \n",
       "\n",
       "                                    Location response_time_hrs  \n",
       "7    (40.69995662802054, -73.90772175534917)          1.178056  \n",
       "37    (40.68808859339035, -73.8326146957164)          0.158889  \n",
       "50    (40.72502241781684, -73.8550310677977)          0.036667  \n",
       "69   (40.69995662802054, -73.90772175534917)          1.553611  \n",
       "74  (40.690552726198774, -73.83404367692309)          0.288333  \n",
       "\n",
       "[5 rows x 42 columns]"
      ]
     },
     "execution_count": 7,
     "metadata": {},
     "output_type": "execute_result"
    }
   ],
   "source": [
    "# Convert both columns to utc\n",
    "df_b[\"Created Date\"] = to_utc(df_b[\"Created Date\"])\n",
    "df_b[\"Closed Date\"]  = to_utc(df_b[\"Closed Date\"])\n",
    "\n",
    "# Now compute the response time\n",
    "delta = df_b[\"Closed Date\"] - df_b[\"Created Date\"]\n",
    "df_b[\"response_time_hrs\"] = delta.dt.total_seconds() / 3600\n",
    "\n",
    "# Check the data with a .head()\n",
    "df_b.head()\n"
   ]
  },
  {
   "cell_type": "markdown",
   "metadata": {},
   "source": [
    "#### Task3:  Feature Engineer\n",
    "\n",
    "* Create `hour_of_day` from Created Date\n",
    "\n",
    "* Create `is_high_priority`: True if Complaint Type is in a list of priority complaints (e.g., [\"HEAT/HOT WATER\", \"ELECTRIC\", \"STRUCTURAL\"])"
   ]
  },
  {
   "cell_type": "code",
   "execution_count": 17,
   "metadata": {},
   "outputs": [
    {
     "data": {
      "text/html": [
       "<div>\n",
       "<style scoped>\n",
       "    .dataframe tbody tr th:only-of-type {\n",
       "        vertical-align: middle;\n",
       "    }\n",
       "\n",
       "    .dataframe tbody tr th {\n",
       "        vertical-align: top;\n",
       "    }\n",
       "\n",
       "    .dataframe thead th {\n",
       "        text-align: right;\n",
       "    }\n",
       "</style>\n",
       "<table border=\"1\" class=\"dataframe\">\n",
       "  <thead>\n",
       "    <tr style=\"text-align: right;\">\n",
       "      <th></th>\n",
       "      <th>Complaint Type</th>\n",
       "      <th>hour_of_day</th>\n",
       "      <th>is_high_priority</th>\n",
       "    </tr>\n",
       "  </thead>\n",
       "  <tbody>\n",
       "    <tr>\n",
       "      <th>7</th>\n",
       "      <td>Homeless Person Assistance</td>\n",
       "      <td>5</td>\n",
       "      <td>False</td>\n",
       "    </tr>\n",
       "    <tr>\n",
       "      <th>37</th>\n",
       "      <td>Blocked Driveway</td>\n",
       "      <td>5</td>\n",
       "      <td>False</td>\n",
       "    </tr>\n",
       "    <tr>\n",
       "      <th>50</th>\n",
       "      <td>Non-Emergency Police Matter</td>\n",
       "      <td>5</td>\n",
       "      <td>False</td>\n",
       "    </tr>\n",
       "    <tr>\n",
       "      <th>69</th>\n",
       "      <td>Homeless Person Assistance</td>\n",
       "      <td>5</td>\n",
       "      <td>False</td>\n",
       "    </tr>\n",
       "    <tr>\n",
       "      <th>74</th>\n",
       "      <td>Illegal Parking</td>\n",
       "      <td>5</td>\n",
       "      <td>False</td>\n",
       "    </tr>\n",
       "  </tbody>\n",
       "</table>\n",
       "</div>"
      ],
      "text/plain": [
       "                 Complaint Type  hour_of_day  is_high_priority\n",
       "7    Homeless Person Assistance            5             False\n",
       "37             Blocked Driveway            5             False\n",
       "50  Non-Emergency Police Matter            5             False\n",
       "69   Homeless Person Assistance            5             False\n",
       "74              Illegal Parking            5             False"
      ]
     },
     "metadata": {},
     "output_type": "display_data"
    }
   ],
   "source": [
    "# hour_of_day from Created Date \n",
    "df_b[\"hour_of_day\"] = df_b[\"Created Date\"].dt.hour\n",
    "\n",
    "# define a high-priority list (STUDENT CHOICE)\n",
    "priority_list = [\"Heat/Hot Water\"]  # e.g., [\"Heat/Hot Water\",\"Electric\",\"Elevator\",\"Structural\"]\n",
    "df_b[\"is_high_priority\"] = df_b[\"Complaint Type\"].isin(priority_list)\n",
    "\n",
    "display(df_b[[\"Complaint Type\",\"hour_of_day\",\"is_high_priority\"]].head(5))"
   ]
  },
  {
   "cell_type": "markdown",
   "metadata": {},
   "source": [
    "#### Task4:  Aggregates & Visuals \n",
    "\n",
    "* Average response time by Complaint Type (sorted descending)\n",
    "\n",
    "* Total number of complaints by hour_of_day (bar chart)"
   ]
  },
  {
   "cell_type": "code",
   "execution_count": 18,
   "metadata": {},
   "outputs": [
    {
     "data": {
      "text/html": [
       "<div>\n",
       "<style scoped>\n",
       "    .dataframe tbody tr th:only-of-type {\n",
       "        vertical-align: middle;\n",
       "    }\n",
       "\n",
       "    .dataframe tbody tr th {\n",
       "        vertical-align: top;\n",
       "    }\n",
       "\n",
       "    .dataframe thead th {\n",
       "        text-align: right;\n",
       "    }\n",
       "</style>\n",
       "<table border=\"1\" class=\"dataframe\">\n",
       "  <thead>\n",
       "    <tr style=\"text-align: right;\">\n",
       "      <th></th>\n",
       "      <th>Complaint Type</th>\n",
       "      <th>response_time_hrs</th>\n",
       "    </tr>\n",
       "  </thead>\n",
       "  <tbody>\n",
       "    <tr>\n",
       "      <th>0</th>\n",
       "      <td>Drinking Water</td>\n",
       "      <td>122.978333</td>\n",
       "    </tr>\n",
       "    <tr>\n",
       "      <th>1</th>\n",
       "      <td>Root/Sewer/Sidewalk Condition</td>\n",
       "      <td>98.179167</td>\n",
       "    </tr>\n",
       "    <tr>\n",
       "      <th>2</th>\n",
       "      <td>Flooring/Stairs</td>\n",
       "      <td>93.559563</td>\n",
       "    </tr>\n",
       "    <tr>\n",
       "      <th>3</th>\n",
       "      <td>Appliance</td>\n",
       "      <td>90.675093</td>\n",
       "    </tr>\n",
       "    <tr>\n",
       "      <th>4</th>\n",
       "      <td>Illegal Posting</td>\n",
       "      <td>88.732531</td>\n",
       "    </tr>\n",
       "    <tr>\n",
       "      <th>5</th>\n",
       "      <td>Dumpster Complaint</td>\n",
       "      <td>87.003611</td>\n",
       "    </tr>\n",
       "    <tr>\n",
       "      <th>6</th>\n",
       "      <td>Door/Window</td>\n",
       "      <td>81.591042</td>\n",
       "    </tr>\n",
       "    <tr>\n",
       "      <th>7</th>\n",
       "      <td>Water Leak</td>\n",
       "      <td>79.124419</td>\n",
       "    </tr>\n",
       "    <tr>\n",
       "      <th>8</th>\n",
       "      <td>Sanitation Worker Or Vehicle Complaint</td>\n",
       "      <td>69.638667</td>\n",
       "    </tr>\n",
       "    <tr>\n",
       "      <th>9</th>\n",
       "      <td>Unsanitary Condition</td>\n",
       "      <td>68.108110</td>\n",
       "    </tr>\n",
       "  </tbody>\n",
       "</table>\n",
       "</div>"
      ],
      "text/plain": [
       "                           Complaint Type  response_time_hrs\n",
       "0                          Drinking Water         122.978333\n",
       "1           Root/Sewer/Sidewalk Condition          98.179167\n",
       "2                         Flooring/Stairs          93.559563\n",
       "3                               Appliance          90.675093\n",
       "4                         Illegal Posting          88.732531\n",
       "5                      Dumpster Complaint          87.003611\n",
       "6                             Door/Window          81.591042\n",
       "7                              Water Leak          79.124419\n",
       "8  Sanitation Worker Or Vehicle Complaint          69.638667\n",
       "9                    Unsanitary Condition          68.108110"
      ]
     },
     "metadata": {},
     "output_type": "display_data"
    }
   ],
   "source": [
    "# Average response time by complaint type (descending)\n",
    "avg_resp = (df_b.groupby(\"Complaint Type\", dropna=False)[\"response_time_hrs\"].mean().sort_values(ascending=False).reset_index())\n",
    "display(avg_resp.head(10))"
   ]
  },
  {
   "cell_type": "code",
   "execution_count": 22,
   "metadata": {},
   "outputs": [
    {
     "name": "stdout",
     "output_type": "stream",
     "text": [
      "Index(['Unique Key', 'Created Date', 'Closed Date', 'Agency', 'Agency Name',\n",
      "       'Complaint Type', 'Descriptor', 'Location Type', 'Incident Zip',\n",
      "       'Incident Address', 'Street Name', 'Cross Street 1', 'Cross Street 2',\n",
      "       'Intersection Street 1', 'Intersection Street 2', 'Address Type',\n",
      "       'City', 'Landmark', 'Facility Type', 'Status', 'Due Date',\n",
      "       'Resolution Description', 'Resolution Action Updated Date',\n",
      "       'Community Board', 'BBL', 'Borough', 'X Coordinate (State Plane)',\n",
      "       'Y Coordinate (State Plane)', 'Open Data Channel Type',\n",
      "       'Park Facility Name', 'Park Borough', 'Vehicle Type',\n",
      "       'Taxi Company Borough', 'Taxi Pick Up Location', 'Bridge Highway Name',\n",
      "       'Bridge Highway Direction', 'Road Ramp', 'Bridge Highway Segment',\n",
      "       'Latitude', 'Longitude', 'Location'],\n",
      "      dtype='object')\n"
     ]
    }
   ],
   "source": [
    "print(df.columns)"
   ]
  },
  {
   "cell_type": "code",
   "execution_count": 28,
   "metadata": {},
   "outputs": [
    {
     "name": "stderr",
     "output_type": "stream",
     "text": [
      "/var/folders/78/8f22v_ln4kvg9b_7fr3_2nfh0000gn/T/ipykernel_94478/474683105.py:8: FutureWarning: \n",
      "\n",
      "Passing `palette` without assigning `hue` is deprecated and will be removed in v0.14.0. Assign the `x` variable to `hue` and set `legend=False` for the same effect.\n",
      "\n",
      "  sns.barplot(x=hourly_complaints.index, y=hourly_complaints.values, palette=\"viridis\")\n"
     ]
    },
    {
     "data": {
      "image/png": "[encoded data removed]",
      "text/plain": [
       "<Figure size 1200x700 with 1 Axes>"
      ]
     },
     "metadata": {},
     "output_type": "display_data"
    }
   ],
   "source": [
    "import seaborn as sns\n",
    "import matplotlib.pyplot as plt\n",
    "\n",
    "\n",
    "# Setting the figure size for better readability\n",
    "plt.figure(figsize=(12, 7))\n",
    "\n",
    "sns.barplot(x=hourly_complaints.index, y=hourly_complaints.values, palette=\"viridis\")\n",
    "\n",
    "# Add a clear title and labels\n",
    "plt.title('Total Complaints by Hour of Day', fontsize=16)\n",
    "plt.xlabel('Hour of Day (0-23)', fontsize=12)\n",
    "plt.ylabel('Number of Complaints', fontsize=12)\n",
    "\n",
    "# Display the plot\n",
    "plt.tight_layout()\n",
    "plt.show()"
   ]
  },
  {
   "cell_type": "markdown",
   "metadata": {},
   "source": [
    "#### Notebook Reflection\n",
    "\n",
    "Answer the questions in a markdown cell below.  Be thorough (no need to use AWES just answer the question fully)\n",
    "\n",
    "1. Describe one transformation or feature you engineered (e.g., response_time_hrs, is_high_priority) and explain why it would be useful for a city analyst or operations manager.\n",
    "One key feature engineered in this notebook is response_time_hrs. This feature was created by first ensuring the Created Date and Closed Date columns were properly converted to timezone-aware datetime objects (localized to 'America/New_York' and then converted to UTC for standardization). Then, the difference between the Closed Date and Created Date was calculated, and this duration was converted into hours.\n",
    "\n",
    "For a City Analyst: This feature allows for quantitative analysis of the city's operational efficiency. An analyst can aggregate this data to identify which complaint types have the longest or shortest resolution times on average, as demonstrated in the notebook (avg_resp table). They could further segment this data by borough, time of day, or day of the week to uncover deeper trends.\n",
    "\n",
    "For an Operations Manager: This feature serves as a critical Key Performance Indicator (KPI). A manager can use it to set service-level agreement (SLA) targets for different complaint categories and monitor their team's performance against these goals. If the average response time for \"Blocked Driveway\" complaints starts to increase, the manager can investigate immediately. It helps pinpoint bottlenecks in the workflow, identify high-performing teams or shifts, and make informed decisions about staffing levels needed to meet demand and maintain service quality for citizens.\n",
    "\n",
    "2. What could go wrong if you didn’t clean the datetime fields properly or skipped removing rows with missing Closed Date? How might that distort future dashboards or decisions?\n",
    "\n",
    "Failing to properly clean datetime fields and handle missing values would introduce significant errors into the analysis, leading to distorted dashboards and flawed decision-making.\n",
    "\n",
    "Consequences of Improper Datetime Cleaning:\n",
    "\n",
    "Inaccurate Calculations: If timezones are not handled correctly (e.g., by localizing to 'America/New_York' and converting to UTC), the calculation of response_time_hrs would be wrong. For instance, a complaint made during a Daylight Saving Time shift could have its duration miscalculated by an hour. This would make any analysis of response times unreliable.\n",
    "\n",
    "Faulty Trend Analysis: Features derived from datetime objects, such as hour_of_day, would be incorrect if based on naive timestamps. A complaint logged at 10 PM EST is hour 22, but in UTC it would be hour 2 or 3 of the next day. A dashboard plotting complaints by hour would show misleading peaks and troughs, potentially causing a manager to misallocate staff to the wrong shifts.\n",
    "\n",
    "Consequences of Not Removing Rows with Missing Closed Date:\n",
    "\n",
    "Skewed Averages: A missing Closed Date typically means the service request is still open. If these rows are not removed, any attempt to calculate response_time_hrs would result in a null (NaN) value. When calculating an average, these nulls might be silently dropped or, if improperly handled, could be treated as zero. Treating them as zero would drastically and artificially lower the average response time, making a department appear far more efficient than it actually is.\n",
    "\n",
    "Distorted Dashboards and Decisions: A dashboard built on this flawed data would present a misleading picture of reality. A city manager might see a low average response time for \"Unsanitary Condition\" complaints and conclude that no action is needed. In reality, the low average could be masking a large backlog of unresolved, open cases that were not properly excluded from the calculation. This would lead to poor resource allocation, unresolved civic issues, and a decline in the quality of city services."
   ]
  },
  {
   "cell_type": "markdown",
   "metadata": {},
   "source": [
    "### 📣 Class Share-Out (15 minutes)\n",
    "\n",
    "Be ready to share out the following points with the class: \n",
    "\n",
    "📣 Explain:\n",
    "\n",
    "How average response_time_hrs by complaint type offers insight (e.g., “Elevator complaints take longer to resolve”)\n",
    "\n",
    "What does your chosen borough trends reveal (e.g., “Most heating complaints come in before 10am”)\n",
    "\n",
    "🛠️ Propose:\n",
    "\n",
    "One next transformation step you would include in the full data pipeline (e.g., flagging overdue requests)\n",
    "\n"
   ]
  }
 ],
 "metadata": {
  "kernelspec": {
   "display_name": "data-analysis-env",
   "language": "python",
   "name": "python3"
  },
  "language_info": {
   "codemirror_mode": {
    "name": "ipython",
    "version": 3
   },
   "file_extension": ".py",
   "mimetype": "text/x-python",
   "name": "python",
   "nbconvert_exporter": "python",
   "pygments_lexer": "ipython3",
   "version": "3.9.22"
  }
 },
 "nbformat": 4,
 "nbformat_minor": 2
}
