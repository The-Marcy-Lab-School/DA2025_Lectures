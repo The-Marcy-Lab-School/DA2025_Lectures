{
 "cells": [
  {
   "cell_type": "markdown",
   "metadata": {},
   "source": [
    "## 🛠️ Mod5 Data Challenge 3: Data Transformations\n",
    "\n",
    "\n",
    "**Goal:** Practice using data transformations and interpreting the transformation to stakeholders\n",
    "\n",
    "**Structure**\n",
    "- Instructor: perform a square root and box-cox transformation on response time\n",
    "- Students: build a new feature and chose ONE transformation \n",
    "- Wrap-up: talk through chosen transformation and its interpretability \n",
    "\n",
    "\n",
    "### Data\n",
    "Use the **nyc311.csv** file located in your Github's `data` folder within Mod5/DataChallenges.  This is a sample of the originial file looking at just one week of data since the dataset is HUGE.  Read more about the columns [HERE](https://data.cityofnewyork.us/Social-Services/311-Service-Requests-from-2010-to-Present/erm2-nwe9/about_data).   "
   ]
  },
  {
   "cell_type": "markdown",
   "metadata": {},
   "source": [
    "### 👩‍🏫 Instructor-Led Demo (25 minutes)\n"
   ]
  },
  {
   "cell_type": "markdown",
   "metadata": {},
   "source": [
    "#### Step 0:  Read in & Prep the Data \n",
    "* You have seen a majority of this code already!  \n",
    "* Read in data, and run the next cell AS IS! "
   ]
  },
  {
   "cell_type": "code",
   "execution_count": 11,
   "metadata": {},
   "outputs": [],
   "source": [
    "import pandas as pd\n",
    "import numpy as np\n",
    "import matplotlib.pyplot as plt\n",
    "from scipy import stats\n",
    "\n",
    "df = pd.read_csv('/Users/kabbo/Downloads/nyc311.csv')"
   ]
  },
  {
   "cell_type": "code",
   "execution_count": 12,
   "metadata": {},
   "outputs": [
    {
     "data": {
      "text/html": [
       "<div>\n",
       "<style scoped>\n",
       "    .dataframe tbody tr th:only-of-type {\n",
       "        vertical-align: middle;\n",
       "    }\n",
       "\n",
       "    .dataframe tbody tr th {\n",
       "        vertical-align: top;\n",
       "    }\n",
       "\n",
       "    .dataframe thead th {\n",
       "        text-align: right;\n",
       "    }\n",
       "</style>\n",
       "<table border=\"1\" class=\"dataframe\">\n",
       "  <thead>\n",
       "    <tr style=\"text-align: right;\">\n",
       "      <th></th>\n",
       "      <th>Unique Key</th>\n",
       "      <th>Created Date</th>\n",
       "      <th>Closed Date</th>\n",
       "      <th>Agency</th>\n",
       "      <th>Agency Name</th>\n",
       "      <th>Complaint Type</th>\n",
       "      <th>Descriptor</th>\n",
       "      <th>Location Type</th>\n",
       "      <th>Incident Zip</th>\n",
       "      <th>Incident Address</th>\n",
       "      <th>...</th>\n",
       "      <th>response_time_hrs</th>\n",
       "      <th>hour_of_day</th>\n",
       "      <th>weekday</th>\n",
       "      <th>is_weekend</th>\n",
       "      <th>is_night</th>\n",
       "      <th>is_peak_commute</th>\n",
       "      <th>complaint_norm</th>\n",
       "      <th>is_high_priority</th>\n",
       "      <th>borough_norm</th>\n",
       "      <th>is_brooklyn</th>\n",
       "    </tr>\n",
       "  </thead>\n",
       "  <tbody>\n",
       "    <tr>\n",
       "      <th>7</th>\n",
       "      <td>66176906</td>\n",
       "      <td>2025-09-17 05:49:53+00:00</td>\n",
       "      <td>2025-09-17 07:00:34+00:00</td>\n",
       "      <td>DHS</td>\n",
       "      <td>Department of Homeless Services</td>\n",
       "      <td>Homeless Person Assistance</td>\n",
       "      <td>Non-Chronic</td>\n",
       "      <td>Store/Commercial</td>\n",
       "      <td>11385.0</td>\n",
       "      <td>55-25 MYRTLE AVENUE</td>\n",
       "      <td>...</td>\n",
       "      <td>1.178056</td>\n",
       "      <td>5</td>\n",
       "      <td>2</td>\n",
       "      <td>False</td>\n",
       "      <td>True</td>\n",
       "      <td>False</td>\n",
       "      <td>homeless person assistance</td>\n",
       "      <td>False</td>\n",
       "      <td>Queens</td>\n",
       "      <td>False</td>\n",
       "    </tr>\n",
       "    <tr>\n",
       "      <th>37</th>\n",
       "      <td>66170659</td>\n",
       "      <td>2025-09-17 05:33:27+00:00</td>\n",
       "      <td>2025-09-17 05:42:59+00:00</td>\n",
       "      <td>NYPD</td>\n",
       "      <td>New York City Police Department</td>\n",
       "      <td>Blocked Driveway</td>\n",
       "      <td>No Access</td>\n",
       "      <td>Street/Sidewalk</td>\n",
       "      <td>11419.0</td>\n",
       "      <td>111-01 101 AVENUE</td>\n",
       "      <td>...</td>\n",
       "      <td>0.158889</td>\n",
       "      <td>5</td>\n",
       "      <td>2</td>\n",
       "      <td>False</td>\n",
       "      <td>True</td>\n",
       "      <td>False</td>\n",
       "      <td>blocked driveway</td>\n",
       "      <td>False</td>\n",
       "      <td>Queens</td>\n",
       "      <td>False</td>\n",
       "    </tr>\n",
       "    <tr>\n",
       "      <th>43</th>\n",
       "      <td>66175356</td>\n",
       "      <td>2025-09-17 05:29:57+00:00</td>\n",
       "      <td>2025-09-17 05:46:21+00:00</td>\n",
       "      <td>NYPD</td>\n",
       "      <td>New York City Police Department</td>\n",
       "      <td>Noise - Residential</td>\n",
       "      <td>Loud Music/Party</td>\n",
       "      <td>Residential Building/House</td>\n",
       "      <td>10009.0</td>\n",
       "      <td>103 AVENUE B</td>\n",
       "      <td>...</td>\n",
       "      <td>0.273333</td>\n",
       "      <td>5</td>\n",
       "      <td>2</td>\n",
       "      <td>False</td>\n",
       "      <td>True</td>\n",
       "      <td>False</td>\n",
       "      <td>noise - residential</td>\n",
       "      <td>False</td>\n",
       "      <td>Manhattan</td>\n",
       "      <td>False</td>\n",
       "    </tr>\n",
       "  </tbody>\n",
       "</table>\n",
       "<p>3 rows × 51 columns</p>\n",
       "</div>"
      ],
      "text/plain": [
       "    Unique Key              Created Date               Closed Date Agency  \\\n",
       "7     66176906 2025-09-17 05:49:53+00:00 2025-09-17 07:00:34+00:00    DHS   \n",
       "37    66170659 2025-09-17 05:33:27+00:00 2025-09-17 05:42:59+00:00   NYPD   \n",
       "43    66175356 2025-09-17 05:29:57+00:00 2025-09-17 05:46:21+00:00   NYPD   \n",
       "\n",
       "                        Agency Name              Complaint Type  \\\n",
       "7   Department of Homeless Services  Homeless Person Assistance   \n",
       "37  New York City Police Department            Blocked Driveway   \n",
       "43  New York City Police Department         Noise - Residential   \n",
       "\n",
       "          Descriptor               Location Type  Incident Zip  \\\n",
       "7        Non-Chronic            Store/Commercial       11385.0   \n",
       "37         No Access             Street/Sidewalk       11419.0   \n",
       "43  Loud Music/Party  Residential Building/House       10009.0   \n",
       "\n",
       "       Incident Address  ... response_time_hrs hour_of_day weekday is_weekend  \\\n",
       "7   55-25 MYRTLE AVENUE  ...          1.178056           5       2      False   \n",
       "37    111-01 101 AVENUE  ...          0.158889           5       2      False   \n",
       "43         103 AVENUE B  ...          0.273333           5       2      False   \n",
       "\n",
       "   is_night is_peak_commute              complaint_norm is_high_priority  \\\n",
       "7      True           False  homeless person assistance            False   \n",
       "37     True           False            blocked driveway            False   \n",
       "43     True           False         noise - residential            False   \n",
       "\n",
       "   borough_norm is_brooklyn  \n",
       "7        Queens       False  \n",
       "37       Queens       False  \n",
       "43    Manhattan       False  \n",
       "\n",
       "[3 rows x 51 columns]"
      ]
     },
     "execution_count": 12,
     "metadata": {},
     "output_type": "execute_result"
    }
   ],
   "source": [
    "# RUN THIS CELL WITHOUT CHANGES \n",
    "\n",
    "# Helper: robust tz conversion\n",
    "LOCAL_TZ = \"America/New_York\"\n",
    "\n",
    "def to_utc(series, local_tz=LOCAL_TZ):\n",
    "    s = pd.to_datetime(series, errors=\"coerce\")\n",
    "    if s.dt.tz is None:\n",
    "        s = s.dt.tz_localize(local_tz, nonexistent=\"shift_forward\", ambiguous=\"NaT\")\n",
    "    return s.dt.tz_convert(\"UTC\")\n",
    "\n",
    "# Identify likely datetime columns\n",
    "candidate_created = [c for c in df.columns if \"Created\" in c and \"Date\" in c]\n",
    "candidate_closed  = [c for c in df.columns if \"Closed\"  in c and \"Date\" in c]\n",
    "if not candidate_created or not candidate_closed:\n",
    "    raise KeyError(\"Could not find 'Created Date' and 'Closed Date' columns. Rename or update detection logic.\")\n",
    "\n",
    "CREATED_COL, CLOSED_COL = candidate_created[0], candidate_closed[0]\n",
    "\n",
    "# Drop nulls, convert to tz-aware UTC\n",
    "df = df.dropna(subset=[CREATED_COL, CLOSED_COL]).copy()\n",
    "df[CREATED_COL] = to_utc(df[CREATED_COL])\n",
    "df[CLOSED_COL]  = to_utc(df[CLOSED_COL])\n",
    "df = df.dropna(subset=[CREATED_COL, CLOSED_COL])\n",
    "\n",
    "# Compute response time (hrs)\n",
    "delta = df[CLOSED_COL] - df[CREATED_COL]\n",
    "df[\"response_time_hrs\"] = delta.dt.total_seconds() / 3600\n",
    "\n",
    "# Base temporal features\n",
    "df[\"hour_of_day\"] = df[CREATED_COL].dt.hour\n",
    "df[\"weekday\"]     = df[CREATED_COL].dt.weekday  # 0=Mon\n",
    "df[\"is_weekend\"]  = df[\"weekday\"] >= 5\n",
    "df[\"is_night\"]    = df[\"hour_of_day\"].isin([0,1,2,3,4,5])\n",
    "df[\"is_peak_commute\"] = df[\"hour_of_day\"].isin([7,8,9,16,17,18,19])\n",
    "\n",
    "# Complaint text normalization (helps reproducibility)\n",
    "if \"Complaint Type\" in df.columns:\n",
    "    df[\"complaint_norm\"] = (df[\"Complaint Type\"].astype(str)\n",
    "                            .str.normalize(\"NFKC\")\n",
    "                            .str.strip()\n",
    "                            .str.casefold())\n",
    "else:\n",
    "    df[\"complaint_norm\"] = \"\"\n",
    "\n",
    "# High-priority complaint flag (example list)\n",
    "priority_list = {\"heat/hot water\",\"electric\",\"elevator\",\"structural\",\"gas\",\"sewer\",\"water system\"}\n",
    "df[\"is_high_priority\"] = df[\"complaint_norm\"].isin(priority_list)\n",
    "\n",
    "# Borough normalization + a borough flag (example)\n",
    "if \"Borough\" in df.columns:\n",
    "    df[\"borough_norm\"] = df[\"Borough\"].astype(str).str.strip().str.title()\n",
    "    example_borough = \"Brooklyn\"\n",
    "    df[\"is_brooklyn\"] = df[\"borough_norm\"].eq(example_borough)\n",
    "else:\n",
    "    df[\"borough_norm\"] = \"\"\n",
    "    df[\"is_brooklyn\"] = False\n",
    "\n",
    "# Clean negatives & NaNs for response_time_hrs\n",
    "df = df[df[\"response_time_hrs\"] >= 0].dropna(subset=[\"response_time_hrs\"]).copy()\n",
    "\n",
    "df.head(3)\n"
   ]
  },
  {
   "cell_type": "markdown",
   "metadata": {},
   "source": [
    "#### Step 1:  Clip the Variable (can't take log of 0)\n"
   ]
  },
  {
   "cell_type": "code",
   "execution_count": 13,
   "metadata": {},
   "outputs": [],
   "source": [
    "df[\"response_time_hrs\"] = df[\"response_time_hrs\"].clip(lower=0.01)"
   ]
  },
  {
   "cell_type": "markdown",
   "metadata": {},
   "source": [
    "### Side Teaching Note:  Comparison of Transformations\n",
    "\n",
    "| Transformation | Formula              | Use Case                    | Interpretation Challenge     |\n",
    "|----------------|----------------------|-----------------------------|------------------------------|\n",
    "| Log            | log(x + 1)           | Right-skewed with large outliers | Hard to explain to non-techs |\n",
    "| Square Root    | sqrt(x)              | Moderate skew, less extreme | Easier to interpret          |\n",
    "| Box-Cox        | scipy boxcox(x)      | Strictly positive data, allows tuning | Hardest to interpret |\n",
    "\n",
    "> 📝 Reminder: Box-Cox finds the best power transformation to make your data more normal.\n"
   ]
  },
  {
   "cell_type": "markdown",
   "metadata": {},
   "source": [
    "#### 🧠 So How Do I Interpret Box-Cox Transformed Values?\n",
    "\n",
    "Box-Cox transformations help smooth out skewed data by automatically applying a power function (like square root, log, cube root, etc.). The transformed values are **no longer in the original units** (like hours), so we need to interpret them carefully.\n",
    "\n",
    "---\n",
    "\n",
    "#### 🤔 Say You Have:\n",
    "- A Box-Cox transformed value = **3**\n",
    "- The transformation used **λ = 0.25**\n",
    "\n",
    "To get the original value (e.g., in hours), use this formula:\n",
    "\n",
    "x = ((λ * BoxCox_Value) + 1)^(1/λ)\n",
    "\n",
    "In this example:\n",
    "\n",
    "x = ((0.25 * 3) + 1)^(1 / 0.25)\n",
    "= (1.75)^4\n",
    "≈ 9.4\n",
    "\n",
    "\n",
    "✅ So a value of **3** on your transformed x-axis corresponds to about **9.4 hours** in the original data.\n",
    "\n",
    "---\n",
    "\n",
    "### Box-Cox Table\n",
    "\n",
    "| Box-Cox Value | What It Suggests             | Notes                                 |\n",
    "|---------------|-------------------------------|----------------------------------------|\n",
    "| 0–1           | Very fast response time        | Maybe a quick fix (<3 hrs)             |\n",
    "| 2–3           | Typical requests               | Likely around 5–10 hours               |\n",
    "| 4+            | Long or delayed responses      | Possibly 1+ day (24+ hours)            |\n",
    "\n",
    "> 📌 Reminder: The **exact mapping** depends on the λ used.  \n",
    "> Box-Cox helps make skewed data more bell-shaped for analysis —  \n",
    "> but always remember it's a transformed scale!\n"
   ]
  },
  {
   "cell_type": "markdown",
   "metadata": {},
   "source": [
    "#### Step 2:  Apply the 3 transformations listed in the first table above"
   ]
  },
  {
   "cell_type": "code",
   "execution_count": 14,
   "metadata": {},
   "outputs": [
    {
     "name": "stdout",
     "output_type": "stream",
     "text": [
      "Box-Cox lambda: 0.020\n"
     ]
    }
   ],
   "source": [
    "df[\"sqrt_response_time\"] = np.sqrt(df[\"response_time_hrs\"])\n",
    "df[\"log_response_time\"] = np.log(df[\"response_time_hrs\"]) \n",
    "df[\"boxcox_response_time\"], fitted_lambda = stats.boxcox(df[\"response_time_hrs\"])\n",
    "\n",
    "print(f\"Box-Cox lambda: {fitted_lambda:.3f}\")"
   ]
  },
  {
   "cell_type": "markdown",
   "metadata": {},
   "source": [
    "#### Step 3:  Visualize the tramsformations"
   ]
  },
  {
   "cell_type": "code",
   "execution_count": 15,
   "metadata": {},
   "outputs": [
    {
     "data": {
      "image/png": "[encoded data removed]",
      "text/plain": [
       "<Figure size 1200x1000 with 3 Axes>"
      ]
     },
     "metadata": {},
     "output_type": "display_data"
    }
   ],
   "source": [
    "plt.figure(figsize=(12, 10))\n",
    "\n",
    "plt.subplot(3, 1, 1)\n",
    "df[\"sqrt_response_time\"].hist(bins=50)\n",
    "plt.title(\"Square Root Transform\")\n",
    "\n",
    "plt.subplot(3, 1, 2)\n",
    "df[\"log_response_time\"].hist(bins=50)\n",
    "plt.title(\"Log Transform\")\n",
    "\n",
    "plt.subplot(3, 1, 3)\n",
    "df[\"boxcox_response_time\"].hist(bins=50)\n",
    "plt.title(\"Box-Cox Transform\")\n",
    "\n",
    "plt.tight_layout()\n",
    "plt.show()\n"
   ]
  },
  {
   "cell_type": "markdown",
   "metadata": {},
   "source": [
    "#### Instructor Section Notes: Interpreting the Histogram\n",
    "\n",
    "- In the **log-transformed** version, the peak of the histogram is near `log ≈ 2`.\n",
    "    - This means most complaints were resolved in about \\( e^2 ≈ 7.4 \\) hours.\n",
    "- In the **square root** version, the peak is closer to `sqrt ≈ 3`, which corresponds to \\( 3^2 = 9 \\) hours.\n",
    "    - **Interpretation:** Transformations reduce the influence of extreme outliers and let us better see the \"typical\" experience.\n",
    "\n",
    "\n",
    "- Stakeholders now get a more realistic view of service performance (e.g., “most are resolved in 7–9 hours”), instead of being distracted by rare 48-hour delays.\n"
   ]
  },
  {
   "cell_type": "markdown",
   "metadata": {},
   "source": [
    "### 👩‍💻 Student-Led Section (15 minutes)"
   ]
  },
  {
   "cell_type": "markdown",
   "metadata": {},
   "source": [
    "To avoid duplicating the instructor’s work, you will:\n",
    "\n",
    "1) Create **hourly intake** = number of new 311 requests **created per hour** (focus on one borough to keep it coherent).\n",
    "2) Choose **one** transformation: \"sqrt\", \"log\", or \"boxcox\".\n",
    "3) Plot a histogram of the transformed hourly intake.\n",
    "4) Interpret the histogram (translate one meaningful value back to the original scale).\n",
    "\n"
   ]
  },
  {
   "cell_type": "markdown",
   "metadata": {},
   "source": [
    "#### Task 1:  Build Hourly Intake \n"
   ]
  },
  {
   "cell_type": "code",
   "execution_count": 16,
   "metadata": {},
   "outputs": [
    {
     "name": "stderr",
     "output_type": "stream",
     "text": [
      "/var/folders/78/8f22v_ln4kvg9b_7fr3_2nfh0000gn/T/ipykernel_57724/4201508154.py:12: FutureWarning: 'H' is deprecated and will be removed in a future version, please use 'h' instead.\n",
      "  df_b[\"created_hour\"] = df_b[created_col].dt.floor(\"H\")\n"
     ]
    },
    {
     "data": {
      "text/html": [
       "<div>\n",
       "<style scoped>\n",
       "    .dataframe tbody tr th:only-of-type {\n",
       "        vertical-align: middle;\n",
       "    }\n",
       "\n",
       "    .dataframe tbody tr th {\n",
       "        vertical-align: top;\n",
       "    }\n",
       "\n",
       "    .dataframe thead th {\n",
       "        text-align: right;\n",
       "    }\n",
       "</style>\n",
       "<table border=\"1\" class=\"dataframe\">\n",
       "  <thead>\n",
       "    <tr style=\"text-align: right;\">\n",
       "      <th></th>\n",
       "      <th>created_hour</th>\n",
       "      <th>hourly_intake</th>\n",
       "    </tr>\n",
       "  </thead>\n",
       "  <tbody>\n",
       "    <tr>\n",
       "      <th>0</th>\n",
       "      <td>2025-09-11 14:00:00+00:00</td>\n",
       "      <td>28</td>\n",
       "    </tr>\n",
       "    <tr>\n",
       "      <th>1</th>\n",
       "      <td>2025-09-11 15:00:00+00:00</td>\n",
       "      <td>145</td>\n",
       "    </tr>\n",
       "    <tr>\n",
       "      <th>2</th>\n",
       "      <td>2025-09-11 16:00:00+00:00</td>\n",
       "      <td>139</td>\n",
       "    </tr>\n",
       "    <tr>\n",
       "      <th>3</th>\n",
       "      <td>2025-09-11 17:00:00+00:00</td>\n",
       "      <td>123</td>\n",
       "    </tr>\n",
       "    <tr>\n",
       "      <th>4</th>\n",
       "      <td>2025-09-11 18:00:00+00:00</td>\n",
       "      <td>98</td>\n",
       "    </tr>\n",
       "  </tbody>\n",
       "</table>\n",
       "</div>"
      ],
      "text/plain": [
       "               created_hour  hourly_intake\n",
       "0 2025-09-11 14:00:00+00:00             28\n",
       "1 2025-09-11 15:00:00+00:00            145\n",
       "2 2025-09-11 16:00:00+00:00            139\n",
       "3 2025-09-11 17:00:00+00:00            123\n",
       "4 2025-09-11 18:00:00+00:00             98"
      ]
     },
     "execution_count": 16,
     "metadata": {},
     "output_type": "execute_result"
    }
   ],
   "source": [
    "# 1) Pick a borough to analyze (match your dataset's capitalization after normalization if used)\n",
    "target_borough = \"Brooklyn\"  # e.g., \"Brooklyn\"\n",
    "\n",
    "# 2) Identify your Created Date column (auto-detected earlier as CREATED_COL). We reuse it here.\n",
    "#    If you don't have CREATED_COL in memory, set it explicitly to your column name.\n",
    "created_col = CREATED_COL if 'CREATED_COL' in globals() else \"Created Date\"\n",
    "\n",
    "# 3) Filter to that borough (assumes you have a normalized borough column like 'borough_norm')\n",
    "df_b = df[df[\"borough_norm\"] == target_borough].copy()\n",
    "\n",
    "# 4) Truncate to hour and count requests per hour\n",
    "df_b[\"created_hour\"] = df_b[created_col].dt.floor(\"H\")\n",
    "hourly = (df_b\n",
    "          .groupby(\"created_hour\", as_index=False)\n",
    "          .size()\n",
    "          .rename(columns={\"size\":\"hourly_intake\"}))\n",
    "\n",
    "hourly.head()\n"
   ]
  },
  {
   "cell_type": "markdown",
   "metadata": {},
   "source": [
    "#### Task 2: Choose ONE Transformation AND Apply It"
   ]
  },
  {
   "cell_type": "code",
   "execution_count": 17,
   "metadata": {},
   "outputs": [],
   "source": [
    "# make a working copy\n",
    "h = hourly.copy()\n",
    "h[\"hourly_intake\"] = h[\"hourly_intake\"].clip(lower=0.01)\n",
    "\n",
    "chosen_method = \"sqrt\"   # \"sqrt\" or \"log\" or \"boxcox\"\n",
    "\n",
    "if chosen_method == \"sqrt\":\n",
    "    h[\"intake_transformed\"] = np.sqrt(h[\"hourly_intake\"])  \n",
    "elif chosen_method == \"log\":\n",
    "    h[\"intake_transformed\"] = np.log(h[\"hourly_intake\"]) \n",
    "elif chosen_method == \"boxcox\":\n",
    "    # Box-Cox requires strictly positive values\n",
    "    h[\"intake_transformed\"], lambda_bc = stats.boxcox(h[\"hourly_intake\"])  \n",
    "    print(\"Box-Cox λ:\", lambda_bc)\n",
    "else:\n",
    "    raise ValueError(\"Please choose 'sqrt', 'log', or 'boxcox' for chosen_method.\")\n",
    "\n"
   ]
  },
  {
   "cell_type": "markdown",
   "metadata": {},
   "source": [
    "#### Task 3 — Plot a Histogram"
   ]
  },
  {
   "cell_type": "code",
   "execution_count": 18,
   "metadata": {},
   "outputs": [
    {
     "data": {
      "image/png": "[encoded data removed]",
      "text/plain": [
       "<Figure size 640x480 with 1 Axes>"
      ]
     },
     "metadata": {},
     "output_type": "display_data"
    }
   ],
   "source": [
    "h[\"intake_transformed\"].hist(bins=50, alpha=0.75)\n",
    "plt.axvline(h[\"intake_transformed\"].median(), color=\"red\", linestyle=\"--\")\n",
    "plt.title(f\"Hourly Intake — {chosen_method.capitalize()} Transform (median in red)\")\n",
    "plt.xlabel(\"Transformed hourly count\")\n",
    "plt.ylabel(\"Frequency\")\n",
    "plt.show()\n"
   ]
  },
  {
   "cell_type": "markdown",
   "metadata": {},
   "source": [
    "### Interpretation of Your Transformed Histogram (Fill in answers to the questions)\n",
    "\n",
    "- What did the **raw** hourly intake distribution look like (right-skewed? clumpy?) before transforming?\n",
    "Answer: The raw hourly intake distribution was right-skewed. There was a large cluster of hours with a low number of requests and a long \"tail\" of less frequent hours with a very high number of requests. \n",
    "\n",
    "- After transforming, is the shape **more symmetric** or easier to summarize?\n",
    "Answer: Yes, after applying the Box-Cox transformation, the distribution is significantly more symmetric and resembles a bell curve (normal distribution). This makes it much easier to summarize because the mean and median are now very close, providing a clear and reliable measure of the \"center\" of the data.\n",
    "\n",
    "\n",
    "- Interpret a **concrete value**: pick the median (red line) from the transformed plot and convert back.\n",
    "  - For **log**: if median ≈ 1.6 ⇒ hourly intake ≈ \\( e^{1.6} \\approx 5 \\) requests/hour.\n",
    "  - For **sqrt**: if median ≈ 3 ⇒ hourly intake ≈ \\( 3^2 = 9 \\) requests/hour.\n",
    "  - For **Box-Cox**: use the inverse of the Box-Cox with the printed λ (view instructor notes at the beginning).\n",
    "Answer: I don't know how to do this one. Maybe you can explain this to me?\n",
    "\n",
    "- Would this transformation help for **dashboards** (clearer “typical” load), **capacity planning** (crews per hour), or **modeling** (e.g., forecasting intake)?\n",
    "Answer: Yes, it is helpful in all three ways:\n",
    "\n",
    "For Reports & Dashboards: It gives us a more trustworthy number for a \"typical\" hourly workload, so managers get a clearer picture.\n",
    "\n",
    "For Staff Planning: It helps the city figure out how many crews they really need. We get a better idea of a normal workload, which helps plan for both average days and peak times.\n",
    "\n",
    "For Predicting the Future (Forecasting): Computer models that predict future service requests work much better with stable, balanced data. This step is key to making their forecasts more accurate."
   ]
  },
  {
   "cell_type": "markdown",
   "metadata": {},
   "source": [
    "### 📣 Class Share-Out & Instructor Wrap-Up (20 minutes)\n",
    "\n",
    "Be ready to share out the following points with the class: \n",
    "\n",
    "**Explain:**\n",
    "Your chosen transformation and how would this transformation help a hypothetical stakeholder"
   ]
  },
  {
   "cell_type": "markdown",
   "metadata": {},
   "source": [
    "#### Instructor Wrap-Up (Notes)\n",
    "\n",
    "\n",
    "- Different feature → different story: transforming **hourly intake** answers “how many incoming requests per hour,” not “how long resolution takes.”\n",
    "- **Interpretability vs. power:**\n",
    "  - `sqrt` is intuitive (“bigger grows slower”), good for dashboards.\n",
    "  - `log` strongly reduces skew; be ready to translate back for stakeholders.\n",
    "  - `boxcox` can improve model fit but is hardest to explain; document λ and why you used it.\n",
    "- Always convert one **concrete value** back to original units (e.g., “median ≈ 5 requests/hour”).\n",
    "- Visual checks matter: show **before/after** shape when you present final results (even if students only plotted one).\n",
    "- Next step: try the same transformation across **different boroughs or complaint types** to see if patterns generalize.\n",
    "\n"
   ]
  }
 ],
 "metadata": {
  "kernelspec": {
   "display_name": "data-analysis-env",
   "language": "python",
   "name": "python3"
  },
  "language_info": {
   "codemirror_mode": {
    "name": "ipython",
    "version": 3
   },
   "file_extension": ".py",
   "mimetype": "text/x-python",
   "name": "python",
   "nbconvert_exporter": "python",
   "pygments_lexer": "ipython3",
   "version": "3.9.22"
  }
 },
 "nbformat": 4,
 "nbformat_minor": 2
}
