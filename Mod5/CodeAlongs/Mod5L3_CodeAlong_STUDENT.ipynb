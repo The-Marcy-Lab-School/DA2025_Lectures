{
 "cells": [
  {
   "cell_type": "markdown",
   "metadata": {},
   "source": [
    "## Mod 5 Lecture 3 Code-Along:  Data Transformations \n",
    "\n",
    "### Goals\n",
    "* Apply a log-transformation on a continous numeric variable \n",
    "* Be able to articulate the difference between \"non-logged\" and log variables \n",
    "\n",
    "### Data\n",
    "Using the same NYC 311 dataset (remember the data is HUGE so we extracted just a week).  Data information exists [HERE](https://data.cityofnewyork.us/Social-Services/311-Service-Requests-from-2010-to-Present/erm2-nwe9/about_data)"
   ]
  },
  {
   "cell_type": "code",
   "execution_count": 1,
   "metadata": {},
   "outputs": [],
   "source": [
    "import pandas as pd\n",
    "import numpy as np\n",
    "import matplotlib.pyplot as plt"
   ]
  },
  {
   "cell_type": "code",
   "execution_count": 9,
   "metadata": {},
   "outputs": [],
   "source": [
    "# Read in data nyc311.csv \n",
    "\n",
    "df = pd.read_csv(\"/Users/Marcy_Student/Desktop/Marcy_Lab/DA2025_Lectures/Mod5/DataChallenges/data/nyc311.csv\")"
   ]
  },
  {
   "cell_type": "code",
   "execution_count": 11,
   "metadata": {},
   "outputs": [],
   "source": [
    "#Run this cell without changes!  You've done this in the previous code\n",
    "\n",
    "LOCAL_TZ = \"America/New_York\"\n",
    "\n",
    "def to_utc(series, local_tz=LOCAL_TZ):\n",
    "    \"\"\"\n",
    "    Idempotent conversion:\n",
    "      1) Parse to datetime.\n",
    "      2) If naive -> localize to local_tz (handle DST).\n",
    "      3) Convert to UTC.\n",
    "    Safe to re-run without raising 'Already tz-aware' errors.\n",
    "    \"\"\"\n",
    "    s = pd.to_datetime(series, errors=\"coerce\")\n",
    "\n",
    "    # if tz-naive, localize; if tz-aware, leave as-is\n",
    "    if s.dt.tz is None:\n",
    "        s = s.dt.tz_localize(local_tz, nonexistent=\"shift_forward\", ambiguous=\"NaT\")\n",
    "\n",
    "    return s.dt.tz_convert(\"UTC\")\n",
    "\n",
    "# --- Apply to your DataFrame (df) ---\n",
    "# Ensure the columns exist; adjust names if your file uses different headers\n",
    "required_cols = [\"Created Date\", \"Closed Date\"]\n",
    "missing = [c for c in required_cols if c not in df.columns]\n",
    "if missing:\n",
    "    raise KeyError(f\"Missing expected columns: {missing}\")\n",
    "\n",
    "# Optionally drop rows that lack either timestamp before conversion\n",
    "df = df.dropna(subset=[\"Created Date\", \"Closed Date\"]).copy()\n",
    "\n",
    "df[\"Created Date\"] = to_utc(df[\"Created Date\"])\n",
    "df[\"Closed Date\"]  = to_utc(df[\"Closed Date\"])\n",
    "\n",
    "# Compute response time in hours\n",
    "delta = df[\"Closed Date\"] - df[\"Created Date\"]\n",
    "df[\"response_time_hrs\"] = delta.dt.total_seconds() / 3600\n",
    "\n",
    "# Drop any rows that became NaT due to ambiguous DST cases\n",
    "df = df.dropna(subset=[\"Created Date\", \"Closed Date\"])"
   ]
  },
  {
   "cell_type": "markdown",
   "metadata": {},
   "source": [
    "### Task 1:  Visualize the \"response time\" BEFORE LOGGING "
   ]
  },
  {
   "cell_type": "code",
   "execution_count": 12,
   "metadata": {},
   "outputs": [
    {
     "data": {
      "text/plain": [
       "<Axes: >"
      ]
     },
     "execution_count": 12,
     "metadata": {},
     "output_type": "execute_result"
    },
    {
     "data": {
      "image/png": "[encoded data removed]",
      "text/plain": [
       "<Figure size 640x480 with 1 Axes>"
      ]
     },
     "metadata": {},
     "output_type": "display_data"
    }
   ],
   "source": [
    "# Assume df already loaded with tz-aware dates and response_time_hrs\n",
    "df[\"response_time_hrs\"] = df['response_time_hrs'].clip(lower=0.01) # avoid log(0)\n",
    "\n",
    "# Quick look at original distribution\n",
    "df['response_time_hrs'].hist(bins=50)"
   ]
  },
  {
   "cell_type": "markdown",
   "metadata": {},
   "source": [
    "### Task 2:  Apply a log transformation "
   ]
  },
  {
   "cell_type": "code",
   "execution_count": 18,
   "metadata": {},
   "outputs": [
    {
     "data": {
      "text/html": [
       "<div>\n",
       "<style scoped>\n",
       "    .dataframe tbody tr th:only-of-type {\n",
       "        vertical-align: middle;\n",
       "    }\n",
       "\n",
       "    .dataframe tbody tr th {\n",
       "        vertical-align: top;\n",
       "    }\n",
       "\n",
       "    .dataframe thead th {\n",
       "        text-align: right;\n",
       "    }\n",
       "</style>\n",
       "<table border=\"1\" class=\"dataframe\">\n",
       "  <thead>\n",
       "    <tr style=\"text-align: right;\">\n",
       "      <th></th>\n",
       "      <th>response_time_hrs</th>\n",
       "      <th>log_response_time</th>\n",
       "    </tr>\n",
       "  </thead>\n",
       "  <tbody>\n",
       "    <tr>\n",
       "      <th>count</th>\n",
       "      <td>41348.000000</td>\n",
       "      <td>41348.000000</td>\n",
       "    </tr>\n",
       "    <tr>\n",
       "      <th>mean</th>\n",
       "      <td>8.015254</td>\n",
       "      <td>1.273887</td>\n",
       "    </tr>\n",
       "    <tr>\n",
       "      <th>std</th>\n",
       "      <td>17.837423</td>\n",
       "      <td>1.151379</td>\n",
       "    </tr>\n",
       "    <tr>\n",
       "      <th>min</th>\n",
       "      <td>0.010000</td>\n",
       "      <td>0.009950</td>\n",
       "    </tr>\n",
       "    <tr>\n",
       "      <th>25%</th>\n",
       "      <td>0.542222</td>\n",
       "      <td>0.433224</td>\n",
       "    </tr>\n",
       "    <tr>\n",
       "      <th>50%</th>\n",
       "      <td>1.398611</td>\n",
       "      <td>0.874890</td>\n",
       "    </tr>\n",
       "    <tr>\n",
       "      <th>75%</th>\n",
       "      <td>4.626042</td>\n",
       "      <td>1.727406</td>\n",
       "    </tr>\n",
       "    <tr>\n",
       "      <th>max</th>\n",
       "      <td>127.672222</td>\n",
       "      <td>4.857268</td>\n",
       "    </tr>\n",
       "  </tbody>\n",
       "</table>\n",
       "</div>"
      ],
      "text/plain": [
       "       response_time_hrs  log_response_time\n",
       "count       41348.000000       41348.000000\n",
       "mean            8.015254           1.273887\n",
       "std            17.837423           1.151379\n",
       "min             0.010000           0.009950\n",
       "25%             0.542222           0.433224\n",
       "50%             1.398611           0.874890\n",
       "75%             4.626042           1.727406\n",
       "max           127.672222           4.857268"
      ]
     },
     "execution_count": 18,
     "metadata": {},
     "output_type": "execute_result"
    }
   ],
   "source": [
    "df[\"log_response_time\"] = np.log1p(df['response_time_hrs'])\n",
    "df[[\"response_time_hrs\", \"log_response_time\"]].describe()"
   ]
  },
  {
   "cell_type": "markdown",
   "metadata": {},
   "source": [
    "### Task 3:  Visualize the Difference "
   ]
  },
  {
   "cell_type": "code",
   "execution_count": 19,
   "metadata": {},
   "outputs": [
    {
     "data": {
      "image/png": "[encoded data removed]",
      "text/plain": [
       "<Figure size 1200x500 with 2 Axes>"
      ]
     },
     "metadata": {},
     "output_type": "display_data"
    }
   ],
   "source": [
    "plt.figure(figsize=(12,5))\n",
    "\n",
    "plt.subplot(1, 2, 1)\n",
    "df['response_time_hrs'].hist(bins=50)\n",
    "plt.title(\"Original Response Time\")\n",
    "\n",
    "plt.subplot(1, 2, 2)\n",
    "df['log_response_time'].hist(bins=50)\n",
    "plt.title(\"Log-Transformed\")\n",
    "\n",
    "plt.tight_layout()\n",
    "plt.show()\n"
   ]
  }
 ],
 "metadata": {
  "kernelspec": {
   "display_name": "data-analysis-env",
   "language": "python",
   "name": "python3"
  },
  "language_info": {
   "codemirror_mode": {
    "name": "ipython",
    "version": 3
   },
   "file_extension": ".py",
   "mimetype": "text/x-python",
   "name": "python",
   "nbconvert_exporter": "python",
   "pygments_lexer": "ipython3",
   "version": "3.9.22"
  }
 },
 "nbformat": 4,
 "nbformat_minor": 2
}
