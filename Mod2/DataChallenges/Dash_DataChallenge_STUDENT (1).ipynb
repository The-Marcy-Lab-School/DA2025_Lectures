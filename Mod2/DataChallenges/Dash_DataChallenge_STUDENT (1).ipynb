{
 "cells": [
  {
   "cell_type": "markdown",
   "metadata": {},
   "source": [
    "## 📘 Data Challenge 11 – Dash App with a Pie or Scatter Plot\n",
    "\n",
    "Assignment Type: Partner/Group \n",
    "Estimated Time: 45–60 minutes\n",
    "\n",
    "---\n",
    "### 🎯 Targeted KSBs (Knowledge, Skills, and Behaviors)\n",
    "S6 – Creates dynamic visualizations using Python (Plotly)\n",
    "\n",
    "S7 – Designs clear dashboards using Dash\n",
    "\n",
    "K10 – Chooses appropriate chart types for data and audience\n",
    "\n",
    "B6 – Applies structured thinking to turn analysis into a dashboard app\n",
    "\n",
    "---\n",
    "\n",
    "### 📊 Scenario:\n",
    "You’re helping an athletic director create a quick dashboard for just **five sports**. She wants to better understand how men’s and women’s revenue compare across a few programs. Your job is to make a simple Dash app with a pie chart or scatter plot showing the difference.\n",
    "\n",
    "---\n",
    "### ✅ Your Task (Step-by-Step)\n",
    "\n",
    "- Load the sports.csv file using pandas.\n",
    "\n",
    "- Drop missing values in the sports, rev_men, and rev_women columns.\n",
    "\n",
    "- Pick 5 unique sports (your choice!) and filter the DataFrame to only include those.\n",
    "\n",
    "    - Example: \"Basketball\", \"Tennis\", \"Soccer\", \"Volleyball\", \"Golf\"\n",
    "\n",
    "- Create a new column called \"Total_Revenue\" by adding men’s and women’s revenue.\n",
    "\n",
    "- Create either a pie chart or a scatter plot:"
   ]
  },
  {
   "cell_type": "code",
   "execution_count": 59,
   "metadata": {},
   "outputs": [],
   "source": [
    "# Import packages \n",
    "\n",
    "import dash\n",
    "from dash import html, dcc\n",
    "import pandas as pd\n",
    "import plotly.express as px"
   ]
  },
  {
   "cell_type": "code",
   "execution_count": 60,
   "metadata": {},
   "outputs": [
    {
     "name": "stderr",
     "output_type": "stream",
     "text": [
      "/var/folders/_z/410cfm6x4fl_4m_6s41fnf4w0000gp/T/ipykernel_43234/676336124.py:2: DtypeWarning:\n",
      "\n",
      "Columns (8) have mixed types. Specify dtype option on import or set low_memory=False.\n",
      "\n"
     ]
    },
    {
     "data": {
      "text/plain": [
       "array(['Basketball', 'All Track Combined', 'Tennis', 'Golf', 'Soccer',\n",
       "       'Lacrosse', 'Swimming and Diving', 'Track and Field, X-Country',\n",
       "       'Track and Field, Indoor', 'Track and Field, Outdoor', 'Skiing',\n",
       "       'Rodeo', 'Volleyball', 'Archery', 'Wrestling', 'Swimming',\n",
       "       'Other Sports', 'Water Polo', 'Fencing', 'Gymnastics', 'Rowing',\n",
       "       'Sailing', 'Ice Hockey', 'Squash', 'Bowling', 'Table Tennis',\n",
       "       'Equestrian', 'Diving', 'Rifle', 'Beach Volleyball',\n",
       "       'Weight Lifting'], dtype=object)"
      ]
     },
     "execution_count": 60,
     "metadata": {},
     "output_type": "execute_result"
    }
   ],
   "source": [
    "# Load and filter the data\n",
    "df = pd.read_csv('/Users/Marcy_Student/DA2025_Lectures/Mod2/data/sports.csv')\n",
    "df = df[[\"sports\", \"rev_men\", \"rev_women\"]].dropna()\n",
    "df['sports'].unique()"
   ]
  },
  {
   "cell_type": "code",
   "execution_count": 61,
   "metadata": {},
   "outputs": [],
   "source": [
    "# Pick 5 sports\n",
    "top5 = {'Basketball','Soccer','Table Tennis','Volleyball','Bowling'}\n",
    "#Copying the dataframe to not overwrite the original \n",
    "df_5 = df[df[\"sports\"].isin(top5)].copy()"
   ]
  },
  {
   "cell_type": "code",
   "execution_count": 62,
   "metadata": {},
   "outputs": [],
   "source": [
    "# Create new column called Total_Revenue that adds up the men and women's revenue columns\n",
    "df_5[\"Total_Revenue\"] = df_5['rev_men'].sum() + df_5['rev_women']"
   ]
  },
  {
   "cell_type": "code",
   "execution_count": 63,
   "metadata": {},
   "outputs": [],
   "source": [
    "# Make your pie or scatteplot using plotly \n",
    "\n",
    "x = px.pie(df_5, names = df_5['sports'], values = df_5['Total_Revenue']) "
   ]
  },
  {
   "cell_type": "code",
   "execution_count": 64,
   "metadata": {},
   "outputs": [
    {
     "data": {
      "text/html": [
       "\n",
       "        <iframe\n",
       "            width=\"100%\"\n",
       "            height=\"650\"\n",
       "            src=\"http://127.0.0.1:8050/\"\n",
       "            frameborder=\"0\"\n",
       "            allowfullscreen\n",
       "            \n",
       "        ></iframe>\n",
       "        "
      ],
      "text/plain": [
       "<IPython.lib.display.IFrame at 0x1219b6540>"
      ]
     },
     "metadata": {},
     "output_type": "display_data"
    }
   ],
   "source": [
    "# Make the App -- DO NOT RUN THIS CELL YET It may give you a \"port already in use error if you do\"\n",
    "\n",
    "app = dash.Dash(__name__)\n",
    "app.title = 'Top 5 Sports Revenues'\n",
    "\n",
    "app.layout = html.Div([\n",
    "    html.H1(\"Revenue Analysis for 5 Sports\", style={'textAlign': 'center'}),\n",
    "    dcc.Graph(figure = x)\n",
    "])\n",
    "\n",
    "if __name__ == '__main__':\n",
    "    app.run(debug=True)"
   ]
  },
  {
   "cell_type": "markdown",
   "metadata": {},
   "source": [
    "### Copy and paste the code in this notebook into a file called `app.py` and run that file; then go to your localhost address:  http://localhost:8050/ to see the updated visual"
   ]
  }
 ],
 "metadata": {
  "kernelspec": {
   "display_name": "Python (learn-env)",
   "language": "python",
   "name": "learn-env"
  },
  "language_info": {
   "codemirror_mode": {
    "name": "ipython",
    "version": 3
   },
   "file_extension": ".py",
   "mimetype": "text/x-python",
   "name": "python",
   "nbconvert_exporter": "python",
   "pygments_lexer": "ipython3",
   "version": "3.12.4"
  }
 },
 "nbformat": 4,
 "nbformat_minor": 2
}
