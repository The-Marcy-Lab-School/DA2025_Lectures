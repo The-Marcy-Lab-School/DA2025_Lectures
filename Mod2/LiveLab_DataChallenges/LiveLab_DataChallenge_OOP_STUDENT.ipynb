{
 "cells": [
  {
   "cell_type": "markdown",
   "metadata": {},
   "source": [
    "# 🧪 Live Lab: Introduction to Object-Oriented Programming (OOP) in Python\n",
    "\n",
    "Welcome to your first hands-on lab with **classes**, **attributes**, and **methods**! In this notebook, you’ll:\n",
    "\n",
    "- Create a basic class (`Vehicle`)\n",
    "- Create a subclass (`Car`)\n",
    "- Add your own attributes and behaviors\n",
    "- Use `__init__` to set up your objects\n",
    "- Use `id()` to inspect your object in memory\n",
    "\n",
    "---"
   ]
  },
  {
   "cell_type": "markdown",
   "metadata": {},
   "source": [
    "## 🚗 Step 1: Create a Basic Class\n",
    "\n",
    "This is your blueprint for all types of vehicles."
   ]
  },
  {
   "cell_type": "code",
   "execution_count": 1,
   "metadata": {},
   "outputs": [],
   "source": [
    "class Vehicle:\n",
    "    def __init__(self, wheels, color):\n",
    "        self.wheels = wheels\n",
    "        self.color = color\n",
    "\n",
    "    def describe(self):\n",
    "        print(f\"This vehicle has {self.wheels} wheels and is {self.color}.\")\n"
   ]
  },
  {
   "cell_type": "markdown",
   "metadata": {},
   "source": [
    "## 🧪 Step 2: Make an Object from the Class\n",
    "\n",
    "Let's create a real vehicle!"
   ]
  },
  {
   "cell_type": "code",
   "execution_count": 2,
   "metadata": {},
   "outputs": [
    {
     "name": "stdout",
     "output_type": "stream",
     "text": [
      "This vehicle has 2 wheels and is blue.\n",
      "Memory address: 4575138048\n"
     ]
    }
   ],
   "source": [
    "bike = Vehicle(2, 'blue')\n",
    "bike.describe()\n",
    "print(\"Memory address:\", id(bike))\n"
   ]
  },
  {
   "cell_type": "markdown",
   "metadata": {},
   "source": [
    "## 🚙 Step 3: Create a Subclass Called `Car`\n",
    "\n",
    "Cars are a type of Vehicle. We'll give them an extra feature: brand.\n"
   ]
  },
  {
   "cell_type": "code",
   "execution_count": 19,
   "metadata": {},
   "outputs": [],
   "source": [
    "class Car(Vehicle):\n",
    "    def __init__(self, wheels, color, brand):\n",
    "        super().__init__(wheels, color)\n",
    "        self.brand = brand\n",
    "\n",
    "    def honk(self):\n",
    "        print(f'{self.brand} goes: Honk honky')\n",
    "\n"
   ]
  },
  {
   "cell_type": "markdown",
   "metadata": {},
   "source": [
    "## 🧪 Step 4: Try Out Your `Car` Class\n"
   ]
  },
  {
   "cell_type": "code",
   "execution_count": 20,
   "metadata": {},
   "outputs": [
    {
     "name": "stdout",
     "output_type": "stream",
     "text": [
      "This vehicle has 4 wheels and is blue.\n",
      "mercedes goes: Honk honky\n",
      "Car memory address: 4575235440\n"
     ]
    }
   ],
   "source": [
    "my_car = Car( 4, 'blue', 'mercedes')\n",
    "my_car.describe()  # Uses method from Vehicle\n",
    "my_car.honk()      # Unique to Car\n",
    "print(\"Car memory address:\", id(my_car))\n"
   ]
  },
  {
   "cell_type": "markdown",
   "metadata": {},
   "source": [
    "# 🏠 Data Challenge: Make Your Own Subclasses\n",
    "\n",
    "Create two new types of vehicles: `Truck` and `Bicycle`.\n",
    "\n",
    "Each one must:\n",
    "\n",
    "- Inherit from the `Vehicle` class\n",
    "- Use `super().__init__()` to initialize wheels and color\n",
    "- Add at least 1 unique attribute\n",
    "- Add at least 1 unique method"
   ]
  },
  {
   "cell_type": "markdown",
   "metadata": {},
   "source": [
    "## 🛻 Task 1: Create a Truck class\n"
   ]
  },
  {
   "cell_type": "code",
   "execution_count": 30,
   "metadata": {},
   "outputs": [],
   "source": [
    "class Truck(Vehicle):\n",
    "    def __init__(self, wheels, color, height):\n",
    "        super().__init__(wheels, color)\n",
    "        self.height = height\n",
    "\n",
    "    def cargo(self, cargo):\n",
    "        self.cargo = cargo\n",
    "        print(f'This {self.height} truck is holding {cargo} as cargo')"
   ]
  },
  {
   "cell_type": "markdown",
   "metadata": {},
   "source": [
    "## 🚴 Task 2: Create a Bicycle class\n"
   ]
  },
  {
   "cell_type": "code",
   "execution_count": 33,
   "metadata": {},
   "outputs": [],
   "source": [
    "class Bike(Vehicle):\n",
    "    def __init__(self, wheels, color, type):\n",
    "        super().__init__(wheels, color)\n",
    "        self.type = type\n",
    "\n",
    "    def wheelie(self):\n",
    "        print(f'I just popped a wheelie on my {self.type} bike')"
   ]
  },
  {
   "cell_type": "markdown",
   "metadata": {},
   "source": [
    "## ✅ Task 3: Test Your Classes"
   ]
  },
  {
   "cell_type": "code",
   "execution_count": 34,
   "metadata": {},
   "outputs": [
    {
     "name": "stdout",
     "output_type": "stream",
     "text": [
      "This vehicle has 18 wheels and is blue.\n",
      "This 12.5 foot truck is holding Logs as cargo\n",
      "This vehicle has 2 wheels and is blue.\n",
      "I just popped a wheelie on my dirt bike\n"
     ]
    }
   ],
   "source": [
    "my_truck = Truck(18, 'blue', '12.5 foot')\n",
    "my_truck.describe()  # Uses method from Vehicle\n",
    "my_truck.cargo('Logs')      # Unique to truck\n",
    "\n",
    "\n",
    "my_bike = Bike( 2, 'blue', 'dirt')\n",
    "my_bike.describe()  # Uses method from Vehicle\n",
    "my_bike.wheelie()      # Unique to bike\n"
   ]
  },
  {
   "cell_type": "markdown",
   "metadata": {},
   "source": [
    "## 🧠 Task 4 Reflection (Markdown Only – No Code)\n",
    "\n",
    "In 2–3 sentences, explain the following:\n",
    "\n",
    "1. Why is using a parent class like `Vehicle` better than writing separate, duplicate classes for `Car`, `Truck`, and `Bicycle`?\n",
    "2. What are the advantages of using `super()` in your subclass constructors?\n"
   ]
  },
  {
   "cell_type": "markdown",
   "metadata": {},
   "source": [
    "You don't have to re define the attributes you can just references them. Super() keeps the attributes and brings the methods and the properties so you don't have to define them."
   ]
  }
 ],
 "metadata": {
  "kernelspec": {
   "display_name": "base",
   "language": "python",
   "name": "python3"
  },
  "language_info": {
   "codemirror_mode": {
    "name": "ipython",
    "version": 3
   },
   "file_extension": ".py",
   "mimetype": "text/x-python",
   "name": "python",
   "nbconvert_exporter": "python",
   "pygments_lexer": "ipython3",
   "version": "3.12.9"
  }
 },
 "nbformat": 4,
 "nbformat_minor": 2
}
