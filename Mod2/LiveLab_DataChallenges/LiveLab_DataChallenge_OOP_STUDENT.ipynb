{
 "cells": [
  {
   "cell_type": "markdown",
   "metadata": {},
   "source": [
    "# 🧪 Live Lab: Introduction to Object-Oriented Programming (OOP) in Python\n",
    "\n",
    "Welcome to your first hands-on lab with **classes**, **attributes**, and **methods**! In this notebook, you’ll:\n",
    "\n",
    "- Create a basic class (`Vehicle`)\n",
    "- Create a subclass (`Car`)\n",
    "- Add your own attributes and behaviors\n",
    "- Use `__init__` to set up your objects\n",
    "- Use `id()` to inspect your object in memory\n",
    "\n",
    "---"
   ]
  },
  {
   "cell_type": "markdown",
   "metadata": {},
   "source": [
    "## 🚗 Step 1: Create a Basic Class\n",
    "\n",
    "This is your blueprint for all types of vehicles."
   ]
  },
  {
   "cell_type": "code",
   "execution_count": 2,
   "metadata": {},
   "outputs": [],
   "source": [
    "class Vehicle:\n",
    "    def __init__(self, wheels, color):\n",
    "        self.wheels = wheels\n",
    "        self.color = color\n",
    "\n",
    "    def describe(self):\n",
    "        print(f\"This vehicle has {self.wheels} wheels and is {self.color}.\")\n"
   ]
  },
  {
   "cell_type": "markdown",
   "metadata": {},
   "source": [
    "## 🧪 Step 2: Make an Object from the Class\n",
    "\n",
    "Let's create a real vehicle!"
   ]
  },
  {
   "cell_type": "code",
   "execution_count": 3,
   "metadata": {},
   "outputs": [
    {
     "name": "stdout",
     "output_type": "stream",
     "text": [
      "This vehicle has 2 wheels and is blue.\n",
      "Memory address: 4420842832\n"
     ]
    }
   ],
   "source": [
    "bike = Vehicle(2,\"blue\")\n",
    "bike.describe()\n",
    "print(\"Memory address:\", id(bike))\n"
   ]
  },
  {
   "cell_type": "markdown",
   "metadata": {},
   "source": [
    "## 🚙 Step 3: Create a Subclass Called `Car`\n",
    "\n",
    "Cars are a type of Vehicle. We'll give them an extra feature: brand.\n"
   ]
  },
  {
   "cell_type": "code",
   "execution_count": 4,
   "metadata": {},
   "outputs": [],
   "source": [
    "class Car(Vehicle):\n",
    "    def __init__(self, wheels, color, brand):\n",
    "        super().__init__(wheels, color)\n",
    "        self.brand = brand\n",
    "\n",
    "    def honk(self):\n",
    "        print(f\"{self.brand} says: Beep beep!\")\n",
    "\n"
   ]
  },
  {
   "cell_type": "markdown",
   "metadata": {},
   "source": [
    "## 🧪 Step 4: Try Out Your `Car` Class\n"
   ]
  },
  {
   "cell_type": "code",
   "execution_count": 5,
   "metadata": {},
   "outputs": [
    {
     "name": "stdout",
     "output_type": "stream",
     "text": [
      "This vehicle has 4 wheels and is yellow.\n",
      "Lambo says: Beep beep!\n",
      "Car memory address: 4418315600\n"
     ]
    }
   ],
   "source": [
    "my_car = Car(4, \"yellow\", \"Lambo\")\n",
    "my_car.describe()  # Uses method from Vehicle\n",
    "my_car.honk()      # Unique to Car\n",
    "print(\"Car memory address:\", id(my_car))\n"
   ]
  },
  {
   "cell_type": "markdown",
   "metadata": {},
   "source": [
    "# 🏠 Data Challenge: Make Your Own Subclasses\n",
    "\n",
    "Create two new types of vehicles: `Truck` and `Bicycle`.\n",
    "\n",
    "Each one must:\n",
    "\n",
    "- Inherit from the `Vehicle` class\n",
    "- Use `super().__init__()` to initialize wheels and color\n",
    "- Add at least 1 unique attribute\n",
    "- Add at least 1 unique method"
   ]
  },
  {
   "cell_type": "markdown",
   "metadata": {},
   "source": [
    "## 🛻 Task 1: Create a Truck class\n"
   ]
  },
  {
   "cell_type": "code",
   "execution_count": null,
   "metadata": {},
   "outputs": [
    {
     "name": "stdout",
     "output_type": "stream",
     "text": [
      "This vehicle has 4 wheels and is Black.\n",
      "Ford says: Vroom vroom!\n",
      "Truck memory address: 4424246656\n"
     ]
    }
   ],
   "source": [
    "class Truck(Vehicle):\n",
    "    def __init__(self, wheels, color, brand):\n",
    "        super().__init__(wheels, color)\n",
    "        self.brand = brand\n",
    "\n",
    "    def engine(self):\n",
    "        print(f\"{self.brand} says: Vroom vroom!\")\n",
    "\n"
   ]
  },
  {
   "cell_type": "markdown",
   "metadata": {},
   "source": [
    "## 🚴 Task 2: Create a Bicycle class\n"
   ]
  },
  {
   "cell_type": "code",
   "execution_count": null,
   "metadata": {},
   "outputs": [
    {
     "name": "stdout",
     "output_type": "stream",
     "text": [
      "This vehicle has 2 wheels and is Red.\n",
      "Track says: Ring ring!\n",
      "Bicycle memory address: 4424290752\n"
     ]
    }
   ],
   "source": [
    "class Bicycle(Vehicle):\n",
    "    def __init__(self, wheels, color, brand):\n",
    "        super().__init__(wheels, color)\n",
    "        self.brand = brand\n",
    "\n",
    "    def honk(self):\n",
    "        print(f\"{self.brand} says: Ring ring!\")\n",
    "\n"
   ]
  },
  {
   "cell_type": "markdown",
   "metadata": {},
   "source": [
    "## ✅ Task 3: Test Your Classes"
   ]
  },
  {
   "cell_type": "code",
   "execution_count": 11,
   "metadata": {},
   "outputs": [
    {
     "name": "stdout",
     "output_type": "stream",
     "text": [
      "This vehicle has 4 wheels and is Black.\n",
      "Ford says: Vroom vroom!\n",
      "Truck memory address: 4422568208\n",
      "This vehicle has 2 wheels and is Red.\n",
      "Track says: Ring ring!\n",
      "Bicycle memory address: 4424246656\n"
     ]
    }
   ],
   "source": [
    "my_truck = Truck(4, \"Black\", \"Ford\")\n",
    "my_truck.describe()  # Uses method from Vehicle\n",
    "my_truck.engine()      # Unique to Car\n",
    "print(\"Truck memory address:\", id(my_truck))\n",
    "\n",
    "my_bicycle = Bicycle(2, \"Red\", \"Track\")\n",
    "my_bicycle.describe()  # Uses method from Vehicle\n",
    "my_bicycle.honk()      # Unique to Car\n",
    "print(\"Bicycle memory address:\", id(my_bicycle))"
   ]
  },
  {
   "cell_type": "markdown",
   "metadata": {},
   "source": [
    "## 🧠 Task 4 Reflection (Markdown Only – No Code)\n",
    "\n",
    "In 2–3 sentences, explain the following:\n",
    "\n",
    "1. Why is using a parent class like `Vehicle` better than writing separate, duplicate classes for `Car`, `Truck`, and `Bicycle`?\n",
    "2. What are the advantages of using `super()` in your subclass constructors?\n"
   ]
  }
 ],
 "metadata": {
  "kernelspec": {
   "display_name": "data-analysis-env",
   "language": "python",
   "name": "python3"
  },
  "language_info": {
   "codemirror_mode": {
    "name": "ipython",
    "version": 3
   },
   "file_extension": ".py",
   "mimetype": "text/x-python",
   "name": "python",
   "nbconvert_exporter": "python",
   "pygments_lexer": "ipython3",
   "version": "3.9.22"
  }
 },
 "nbformat": 4,
 "nbformat_minor": 2
}
