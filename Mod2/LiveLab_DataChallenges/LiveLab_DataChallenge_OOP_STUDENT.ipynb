{
 "cells": [
  {
   "cell_type": "markdown",
   "metadata": {},
   "source": [
    "# 🧪 Live Lab: Introduction to Object-Oriented Programming (OOP) in Python\n",
    "\n",
    "Welcome to your first hands-on lab with **classes**, **attributes**, and **methods**! In this notebook, you’ll:\n",
    "\n",
    "- Create a basic class (`Vehicle`)\n",
    "- Create a subclass (`Car`)\n",
    "- Add your own attributes and behaviors\n",
    "- Use `__init__` to set up your objects\n",
    "- Use `id()` to inspect your object in memory\n",
    "\n",
    "---"
   ]
  },
  {
   "cell_type": "markdown",
   "metadata": {},
   "source": [
    "## 🚗 Step 1: Create a Basic Class\n",
    "\n",
    "This is your blueprint for all types of vehicles."
   ]
  },
  {
   "cell_type": "code",
   "execution_count": 31,
   "metadata": {},
   "outputs": [],
   "source": [
    "class Vehicle:\n",
    "    def __init__(self, wheels, color):\n",
    "        self.wheels = wheels\n",
    "        self.color = color\n",
    "\n",
    "    def describe(self):\n",
    "        print(f\"This vehicle has {self.wheels} wheels and is {self.color}.\")\n"
   ]
  },
  {
   "cell_type": "markdown",
   "metadata": {},
   "source": [
    "## 🧪 Step 2: Make an Object from the Class\n",
    "\n",
    "Let's create a real vehicle!"
   ]
  },
  {
   "cell_type": "code",
   "execution_count": 32,
   "metadata": {},
   "outputs": [
    {
     "name": "stdout",
     "output_type": "stream",
     "text": [
      "This vehicle has 2 wheels and is Blue.\n",
      "Memory address: 4432703616\n"
     ]
    }
   ],
   "source": [
    "bike = Vehicle(2, \"Blue\")\n",
    "bike.describe()\n",
    "print(\"Memory address:\", id(bike))\n"
   ]
  },
  {
   "cell_type": "markdown",
   "metadata": {},
   "source": [
    "## 🚙 Step 3: Create a Subclass Called `Car`\n",
    "\n",
    "Cars are a type of Vehicle. We'll give them an extra feature: brand.\n"
   ]
  },
  {
   "cell_type": "code",
   "execution_count": 33,
   "metadata": {},
   "outputs": [],
   "source": [
    "class Car(Vehicle):\n",
    "    def __init__(self, wheels, color, brand):\n",
    "        super().__init__(wheels, color)  # calls Vehicle's __init__\n",
    "        self.brand = brand\n",
    "\n",
    "    def honk(self):\n",
    "        print(f\"This {self.brand} is honking! BEEP BEEP BEEEEEEEEEP!\")\n"
   ]
  },
  {
   "cell_type": "markdown",
   "metadata": {},
   "source": [
    "## 🧪 Step 4: Try Out Your `Car` Class\n"
   ]
  },
  {
   "cell_type": "code",
   "execution_count": 34,
   "metadata": {},
   "outputs": [
    {
     "name": "stdout",
     "output_type": "stream",
     "text": [
      "This vehicle has 4 wheels and is Red.\n",
      "This Ferrari is honking! BEEP BEEP BEEEEEEEEEP!\n",
      "Car memory address: 4432697424\n"
     ]
    }
   ],
   "source": [
    "my_car = Car(4, \"Red\", \"Ferrari\")\n",
    "my_car.describe()  # Uses method from Vehicle\n",
    "my_car.honk()      # Unique to Car\n",
    "print(\"Car memory address:\", id(my_car))\n"
   ]
  },
  {
   "cell_type": "markdown",
   "metadata": {},
   "source": [
    "# 🏠 Data Challenge: Make Your Own Subclasses\n",
    "\n",
    "Create two new types of vehicles: `Truck` and `Bicycle`.\n",
    "\n",
    "Each one must:\n",
    "\n",
    "- Inherit from the `Vehicle` class\n",
    "- Use `super().__init__()` to initialize wheels and color\n",
    "- Add at least 1 unique attribute\n",
    "- Add at least 1 unique method"
   ]
  },
  {
   "cell_type": "markdown",
   "metadata": {},
   "source": [
    "## 🛻 Task 1: Create a Truck class\n"
   ]
  },
  {
   "cell_type": "code",
   "execution_count": 35,
   "metadata": {},
   "outputs": [],
   "source": [
    "class Truck(Vehicle):\n",
    "    def __init__(self, wheels, color, num_of_doors):\n",
    "        super().__init__(wheels, color)\n",
    "        self.doors = num_of_doors #unique attribute\n",
    "\n",
    "    def cargo(self):\n",
    "        print(f\"This truck has {self.doors} doors, and holds cargo\")\n"
   ]
  },
  {
   "cell_type": "markdown",
   "metadata": {},
   "source": [
    "## 🚴 Task 2: Create a Bicycle class\n"
   ]
  },
  {
   "cell_type": "code",
   "execution_count": 36,
   "metadata": {},
   "outputs": [],
   "source": [
    "class Bicycle(Vehicle):\n",
    "    def __init__(self, wheels, color, has_rear_rack=False):\n",
    "        super().__init__(wheels, color)\n",
    "        self.has_rear_rack = has_rear_rack  # unique attribute\n",
    "\n",
    "    def rear_rack(self):\n",
    "        if self.has_rear_rack:\n",
    "            print(\"This bicycle has a rear rack for carrying items.\")\n",
    "        else:\n",
    "            print(\"This bicycle does not have a rear rack.\")\n",
    "\n",
    "    def ring_bell(self):\n",
    "        print(\"Ring ring! 🚲🔔\")\n"
   ]
  },
  {
   "cell_type": "markdown",
   "metadata": {},
   "source": [
    "## ✅ Task 3: Test Your Classes"
   ]
  },
  {
   "cell_type": "code",
   "execution_count": 37,
   "metadata": {},
   "outputs": [
    {
     "name": "stdout",
     "output_type": "stream",
     "text": [
      "This vehicle has 6 wheels and is White.\n",
      "This truck has 2 doors, and holds cargo\n",
      "Car memory address: 4432697232\n"
     ]
    }
   ],
   "source": [
    "my_truck= Truck(6, \"White\", 2)\n",
    "my_truck.describe()  # Uses method from Vehicle\n",
    "my_truck.cargo()      # Unique to Car\n",
    "print(\"Car memory address:\", id(my_truck))\n"
   ]
  },
  {
   "cell_type": "code",
   "execution_count": 38,
   "metadata": {},
   "outputs": [
    {
     "name": "stdout",
     "output_type": "stream",
     "text": [
      "This vehicle has 2 wheels and is Neon yellow.\n",
      "This bicycle has a rear rack for carrying items.\n",
      "Ring ring! 🚲🔔\n",
      "Car memory address: 4432698384\n"
     ]
    }
   ],
   "source": [
    "my_bicycle = Bicycle(2, \"Neon yellow\", True)\n",
    "my_bicycle.describe()  # Uses method from Vehicle\n",
    "my_bicycle.rear_rack()      # Unique to Car\n",
    "my_bicycle.ring_bell()\n",
    "print(\"Car memory address:\", id(my_bicycle))\n"
   ]
  },
  {
   "cell_type": "markdown",
   "metadata": {},
   "source": [
    "## 🧠 Task 4 Reflection (Markdown Only – No Code)\n",
    "\n",
    "In 2–3 sentences, explain the following:\n",
    "\n",
    "1. Why is using a parent class like `Vehicle` better than writing separate, duplicate classes for `Car`, `Truck`, and `Bicycle`?\n",
    "2. What are the advantages of using `super()` in your subclass constructors?\n"
   ]
  },
  {
   "cell_type": "markdown",
   "metadata": {},
   "source": [
    "1. Using a parent class like Vehicle is better because it lets you reuse shared attributes and methods across similar objects like cars, trucks, and bicycles. This saves time, avoids repetition, and makes your code cleaner and easier to manage.\n",
    "\n",
    "2. Using super() in a subclass constructor allows you to inherit existing properties from the parent class while adding new, unique features to your subclass. It helps you build on what's already defined without rewriting everything.\n",
    "\n"
   ]
  }
 ],
 "metadata": {
  "kernelspec": {
   "display_name": "base",
   "language": "python",
   "name": "python3"
  },
  "language_info": {
   "codemirror_mode": {
    "name": "ipython",
    "version": 3
   },
   "file_extension": ".py",
   "mimetype": "text/x-python",
   "name": "python",
   "nbconvert_exporter": "python",
   "pygments_lexer": "ipython3",
   "version": "3.12.9"
  }
 },
 "nbformat": 4,
 "nbformat_minor": 2
}
