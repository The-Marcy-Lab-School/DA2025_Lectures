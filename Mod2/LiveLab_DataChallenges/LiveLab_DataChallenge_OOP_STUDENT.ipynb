{
 "cells": [
  {
   "cell_type": "markdown",
   "metadata": {},
   "source": [
    "# 🧪 Live Lab: Introduction to Object-Oriented Programming (OOP) in Python\n",
    "\n",
    "Welcome to your first hands-on lab with **classes**, **attributes**, and **methods**! In this notebook, you’ll:\n",
    "\n",
    "- Create a basic class (`Vehicle`)\n",
    "- Create a subclass (`Car`)\n",
    "- Add your own attributes and behaviors\n",
    "- Use `__init__` to set up your objects\n",
    "- Use `id()` to inspect your object in memory\n",
    "\n",
    "---"
   ]
  },
  {
   "cell_type": "markdown",
   "metadata": {},
   "source": [
    "## 🚗 Step 1: Create a Basic Class\n",
    "\n",
    "This is your blueprint for all types of vehicles."
   ]
  },
  {
   "cell_type": "code",
   "execution_count": 25,
   "metadata": {},
   "outputs": [],
   "source": [
    "class Vehicle:\n",
    "    def __init__ (self, wheels, color):\n",
    "        self.wheels = wheels\n",
    "        self.color = color\n",
    "\n",
    "    def describe(self):\n",
    "        print(f\"This vehicle has {self.wheels} wheels and is {self.color}.\")\n"
   ]
  },
  {
   "cell_type": "markdown",
   "metadata": {},
   "source": [
    "## 🧪 Step 2: Make an Object from the Class\n",
    "\n",
    "Let's create a real vehicle!"
   ]
  },
  {
   "cell_type": "code",
   "execution_count": 28,
   "metadata": {},
   "outputs": [
    {
     "name": "stdout",
     "output_type": "stream",
     "text": [
      "This vehicle has 2 wheels and is blue.\n",
      "Memory address: 4673816896\n"
     ]
    }
   ],
   "source": [
    "bike = Vehicle (2, \"blue\")\n",
    "bike.describe()\n",
    "print(\"Memory address:\",id(bike))\n"
   ]
  },
  {
   "cell_type": "markdown",
   "metadata": {},
   "source": [
    "## 🚙 Step 3: Create a Subclass Called `Car`\n",
    "\n",
    "Cars are a type of Vehicle. We'll give them an extra feature: brand.\n"
   ]
  },
  {
   "cell_type": "code",
   "execution_count": 82,
   "metadata": {},
   "outputs": [],
   "source": [
    "class Car(Vehicle):\n",
    "    def __init__(self, wheels, color, brand):\n",
    "        super().__init__(wheels, color)\n",
    "        self.brand = brand\n",
    "\n",
    "    def honk(self):\n",
    "        print(\"Beep beep!\")\n",
    "\n"
   ]
  },
  {
   "cell_type": "markdown",
   "metadata": {},
   "source": [
    "## 🧪 Step 4: Try Out Your `Car` Class\n"
   ]
  },
  {
   "cell_type": "code",
   "execution_count": 83,
   "metadata": {},
   "outputs": [
    {
     "name": "stdout",
     "output_type": "stream",
     "text": [
      "lexus\n",
      "Beep beep!\n",
      "Car memory address: 4680584400\n"
     ]
    }
   ],
   "source": [
    "my_car = Car (4, \"blue\", \"lexus\")\n",
    "print(my_car.brand)  # Uses method from Vehicle\n",
    "my_car.honk()      # Unique to Car\n",
    "print(\"Car memory address:\", id(my_car))\n"
   ]
  },
  {
   "cell_type": "markdown",
   "metadata": {},
   "source": [
    "# 🏠 Data Challenge: Make Your Own Subclasses\n",
    "\n",
    "Create two new types of vehicles: `Truck` and `Bicycle`.\n",
    "\n",
    "Each one must:\n",
    "\n",
    "- Inherit from the `Vehicle` class\n",
    "- Use `super().__init__()` to initialize wheels and color\n",
    "- Add at least 1 unique attribute\n",
    "- Add at least 1 unique method"
   ]
  },
  {
   "cell_type": "markdown",
   "metadata": {},
   "source": [
    "## 🛻 Task 1: Create a Truck class\n"
   ]
  },
  {
   "cell_type": "code",
   "execution_count": 84,
   "metadata": {},
   "outputs": [],
   "source": [
    "class Truck(Vehicle):\n",
    "    def __init__(self, wheels, color, brand):\n",
    "        self.wheels = wheels\n",
    "        self.color = color\n",
    "        self.brand = brand\n",
    "\n",
    "def describe(self):\n",
    "    print(f\"This truck has {self.wheels} wheels and is {self.color} and is made by {self.brand}\")\n",
    "        "
   ]
  },
  {
   "cell_type": "markdown",
   "metadata": {},
   "source": [
    "## 🚴 Task 2: Create a Bicycle class\n"
   ]
  },
  {
   "cell_type": "code",
   "execution_count": 85,
   "metadata": {},
   "outputs": [],
   "source": [
    "class bike(Vehicle):\n",
    "    def __init__(self,wheels, color):\n",
    "        self.wheels = wheels\n",
    "        self.color = color \n",
    "def describe(self):\n",
    "    print(f\"This bike has {self.wheels} wheels and is {self.color}.\")"
   ]
  },
  {
   "cell_type": "markdown",
   "metadata": {},
   "source": [
    "## ✅ Task 3: Test Your Classes"
   ]
  },
  {
   "cell_type": "code",
   "execution_count": 86,
   "metadata": {},
   "outputs": [
    {
     "name": "stdout",
     "output_type": "stream",
     "text": [
      "Ford\n",
      "This vehicle has 8 wheels and is Grey.\n",
      "Truck memory address: 4680998576\n",
      "This vehicle has 2 wheels and is Yellow.\n",
      "Bike memory address: 4680997376\n"
     ]
    }
   ],
   "source": [
    "my_truck = Truck (8, \"Grey\",\"Ford\")\n",
    "print (my_truck.brand)\n",
    "my_truck.describe()\n",
    "print(\"Truck memory address:\", id(my_truck))\n",
    "\n",
    "my_bike = bike (2, \"Yellow\")\n",
    "my_bike.describe()\n",
    "print(\"Bike memory address:\", id(my_bike))\n",
    "\n"
   ]
  },
  {
   "cell_type": "markdown",
   "metadata": {},
   "source": [
    "## 🧠 Task 4 Reflection (Markdown Only – No Code)\n",
    "\n",
    "In 2–3 sentences, explain the following:\n",
    "\n",
    "1. Why is using a parent class like `Vehicle` better than writing separate, duplicate classes for `Car`, `Truck`, and `Bicycle`?\n",
    "2. What are the advantages of using `super()` in your subclass constructors?\n"
   ]
  },
  {
   "cell_type": "markdown",
   "metadata": {},
   "source": [
    "1. It makes it easier accessable to create and to call from then to create an entire class for that specific subclass that you are creating for. It complicates it .\n",
    "2. the advantages of using the super() , is that it calls what you previously assigns yet just replaces it with what it is you are newly creating from that parent class to the subset . "
   ]
  }
 ],
 "metadata": {
  "kernelspec": {
   "display_name": "data-analysis-env",
   "language": "python",
   "name": "python3"
  },
  "language_info": {
   "codemirror_mode": {
    "name": "ipython",
    "version": 3
   },
   "file_extension": ".py",
   "mimetype": "text/x-python",
   "name": "python",
   "nbconvert_exporter": "python",
   "pygments_lexer": "ipython3",
   "version": "3.9.22"
  }
 },
 "nbformat": 4,
 "nbformat_minor": 2
}
