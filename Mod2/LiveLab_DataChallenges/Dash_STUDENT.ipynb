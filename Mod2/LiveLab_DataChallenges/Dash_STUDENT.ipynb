{
 "cells": [
  {
   "cell_type": "markdown",
   "metadata": {},
   "source": [
    "# LiveLab: Creating a Simple Dash App \n",
    "\n",
    "\n",
    "## Dataset Description:\n",
    "\n",
    "You are working with a college sports dataset from [Kaggle](https://www.kaggle.com/datasets/umerhaddii/us-collegiate-sports-dataset)"
   ]
  },
  {
   "cell_type": "markdown",
   "metadata": {},
   "source": [
    "### Step 1:  Load & Inspect Data "
   ]
  },
  {
   "cell_type": "code",
   "execution_count": 3,
   "metadata": {},
   "outputs": [],
   "source": [
    "#Import pandas, plotly, and dash packages \n",
    "#import dash\n",
    "#from dash import html, dcc\n",
    "#from dash.dependencies import Input, Output\n",
    "import pandas as pd\n",
    "import plotly.express as px"
   ]
  },
  {
   "cell_type": "code",
   "execution_count": 5,
   "metadata": {},
   "outputs": [
    {
     "name": "stderr",
     "output_type": "stream",
     "text": [
      "/var/folders/h0/75t8pd8571n2l1zzjcyqp7kh0000gp/T/ipykernel_56893/2988330143.py:3: DtypeWarning: Columns (8) have mixed types. Specify dtype option on import or set low_memory=False.\n",
      "  df = pd.read_csv(\"../data/sports.csv\")\n"
     ]
    }
   ],
   "source": [
    "# Read in the data \n",
    "\n",
    "df = pd.read_csv(\"../data/sports.csv\")"
   ]
  },
  {
   "cell_type": "markdown",
   "metadata": {},
   "source": [
    "### Step 2:  Clean the Data and Only keep the Revenue Columns "
   ]
  },
  {
   "cell_type": "code",
   "execution_count": 6,
   "metadata": {},
   "outputs": [
    {
     "data": {
      "text/html": [
       "<div>\n",
       "<style scoped>\n",
       "    .dataframe tbody tr th:only-of-type {\n",
       "        vertical-align: middle;\n",
       "    }\n",
       "\n",
       "    .dataframe tbody tr th {\n",
       "        vertical-align: top;\n",
       "    }\n",
       "\n",
       "    .dataframe thead th {\n",
       "        text-align: right;\n",
       "    }\n",
       "</style>\n",
       "<table border=\"1\" class=\"dataframe\">\n",
       "  <thead>\n",
       "    <tr style=\"text-align: right;\">\n",
       "      <th></th>\n",
       "      <th>year</th>\n",
       "      <th>unitid</th>\n",
       "      <th>institution_name</th>\n",
       "      <th>city_txt</th>\n",
       "      <th>state_cd</th>\n",
       "      <th>zip_text</th>\n",
       "      <th>classification_code</th>\n",
       "      <th>classification_name</th>\n",
       "      <th>classification_other</th>\n",
       "      <th>ef_male_count</th>\n",
       "      <th>...</th>\n",
       "      <th>partic_coed_women</th>\n",
       "      <th>sum_partic_men</th>\n",
       "      <th>sum_partic_women</th>\n",
       "      <th>rev_men</th>\n",
       "      <th>rev_women</th>\n",
       "      <th>total_rev_menwomen</th>\n",
       "      <th>exp_men</th>\n",
       "      <th>exp_women</th>\n",
       "      <th>total_exp_menwomen</th>\n",
       "      <th>sports</th>\n",
       "    </tr>\n",
       "  </thead>\n",
       "  <tbody>\n",
       "    <tr>\n",
       "      <th>0</th>\n",
       "      <td>2015</td>\n",
       "      <td>100654</td>\n",
       "      <td>Alabama A &amp; M University</td>\n",
       "      <td>Normal</td>\n",
       "      <td>AL</td>\n",
       "      <td>35762.0</td>\n",
       "      <td>2</td>\n",
       "      <td>NCAA Division I-FCS</td>\n",
       "      <td>NaN</td>\n",
       "      <td>1923</td>\n",
       "      <td>...</td>\n",
       "      <td>NaN</td>\n",
       "      <td>31</td>\n",
       "      <td>0</td>\n",
       "      <td>345592.0</td>\n",
       "      <td>NaN</td>\n",
       "      <td>345592.0</td>\n",
       "      <td>397818.0</td>\n",
       "      <td>NaN</td>\n",
       "      <td>397818.0</td>\n",
       "      <td>Baseball</td>\n",
       "    </tr>\n",
       "    <tr>\n",
       "      <th>1</th>\n",
       "      <td>2015</td>\n",
       "      <td>100654</td>\n",
       "      <td>Alabama A &amp; M University</td>\n",
       "      <td>Normal</td>\n",
       "      <td>AL</td>\n",
       "      <td>35762.0</td>\n",
       "      <td>2</td>\n",
       "      <td>NCAA Division I-FCS</td>\n",
       "      <td>NaN</td>\n",
       "      <td>1923</td>\n",
       "      <td>...</td>\n",
       "      <td>NaN</td>\n",
       "      <td>19</td>\n",
       "      <td>16</td>\n",
       "      <td>1211095.0</td>\n",
       "      <td>748833.0</td>\n",
       "      <td>1959928.0</td>\n",
       "      <td>817868.0</td>\n",
       "      <td>742460.0</td>\n",
       "      <td>1560328.0</td>\n",
       "      <td>Basketball</td>\n",
       "    </tr>\n",
       "    <tr>\n",
       "      <th>2</th>\n",
       "      <td>2015</td>\n",
       "      <td>100654</td>\n",
       "      <td>Alabama A &amp; M University</td>\n",
       "      <td>Normal</td>\n",
       "      <td>AL</td>\n",
       "      <td>35762.0</td>\n",
       "      <td>2</td>\n",
       "      <td>NCAA Division I-FCS</td>\n",
       "      <td>NaN</td>\n",
       "      <td>1923</td>\n",
       "      <td>...</td>\n",
       "      <td>NaN</td>\n",
       "      <td>61</td>\n",
       "      <td>46</td>\n",
       "      <td>183333.0</td>\n",
       "      <td>315574.0</td>\n",
       "      <td>498907.0</td>\n",
       "      <td>246949.0</td>\n",
       "      <td>251184.0</td>\n",
       "      <td>498133.0</td>\n",
       "      <td>All Track Combined</td>\n",
       "    </tr>\n",
       "    <tr>\n",
       "      <th>3</th>\n",
       "      <td>2015</td>\n",
       "      <td>100654</td>\n",
       "      <td>Alabama A &amp; M University</td>\n",
       "      <td>Normal</td>\n",
       "      <td>AL</td>\n",
       "      <td>35762.0</td>\n",
       "      <td>2</td>\n",
       "      <td>NCAA Division I-FCS</td>\n",
       "      <td>NaN</td>\n",
       "      <td>1923</td>\n",
       "      <td>...</td>\n",
       "      <td>NaN</td>\n",
       "      <td>99</td>\n",
       "      <td>0</td>\n",
       "      <td>2808949.0</td>\n",
       "      <td>NaN</td>\n",
       "      <td>2808949.0</td>\n",
       "      <td>3059353.0</td>\n",
       "      <td>NaN</td>\n",
       "      <td>3059353.0</td>\n",
       "      <td>Football</td>\n",
       "    </tr>\n",
       "    <tr>\n",
       "      <th>4</th>\n",
       "      <td>2015</td>\n",
       "      <td>100654</td>\n",
       "      <td>Alabama A &amp; M University</td>\n",
       "      <td>Normal</td>\n",
       "      <td>AL</td>\n",
       "      <td>35762.0</td>\n",
       "      <td>2</td>\n",
       "      <td>NCAA Division I-FCS</td>\n",
       "      <td>NaN</td>\n",
       "      <td>1923</td>\n",
       "      <td>...</td>\n",
       "      <td>NaN</td>\n",
       "      <td>9</td>\n",
       "      <td>0</td>\n",
       "      <td>78270.0</td>\n",
       "      <td>NaN</td>\n",
       "      <td>78270.0</td>\n",
       "      <td>83913.0</td>\n",
       "      <td>NaN</td>\n",
       "      <td>83913.0</td>\n",
       "      <td>Golf</td>\n",
       "    </tr>\n",
       "  </tbody>\n",
       "</table>\n",
       "<p>5 rows × 28 columns</p>\n",
       "</div>"
      ],
      "text/plain": [
       "   year  unitid          institution_name city_txt state_cd  zip_text  \\\n",
       "0  2015  100654  Alabama A & M University   Normal       AL   35762.0   \n",
       "1  2015  100654  Alabama A & M University   Normal       AL   35762.0   \n",
       "2  2015  100654  Alabama A & M University   Normal       AL   35762.0   \n",
       "3  2015  100654  Alabama A & M University   Normal       AL   35762.0   \n",
       "4  2015  100654  Alabama A & M University   Normal       AL   35762.0   \n",
       "\n",
       "   classification_code  classification_name classification_other  \\\n",
       "0                    2  NCAA Division I-FCS                  NaN   \n",
       "1                    2  NCAA Division I-FCS                  NaN   \n",
       "2                    2  NCAA Division I-FCS                  NaN   \n",
       "3                    2  NCAA Division I-FCS                  NaN   \n",
       "4                    2  NCAA Division I-FCS                  NaN   \n",
       "\n",
       "   ef_male_count  ...  partic_coed_women  sum_partic_men  sum_partic_women  \\\n",
       "0           1923  ...                NaN              31                 0   \n",
       "1           1923  ...                NaN              19                16   \n",
       "2           1923  ...                NaN              61                46   \n",
       "3           1923  ...                NaN              99                 0   \n",
       "4           1923  ...                NaN               9                 0   \n",
       "\n",
       "     rev_men  rev_women  total_rev_menwomen    exp_men  exp_women  \\\n",
       "0   345592.0        NaN            345592.0   397818.0        NaN   \n",
       "1  1211095.0   748833.0           1959928.0   817868.0   742460.0   \n",
       "2   183333.0   315574.0            498907.0   246949.0   251184.0   \n",
       "3  2808949.0        NaN           2808949.0  3059353.0        NaN   \n",
       "4    78270.0        NaN             78270.0    83913.0        NaN   \n",
       "\n",
       "   total_exp_menwomen              sports  \n",
       "0            397818.0            Baseball  \n",
       "1           1560328.0          Basketball  \n",
       "2            498133.0  All Track Combined  \n",
       "3           3059353.0            Football  \n",
       "4             83913.0                Golf  \n",
       "\n",
       "[5 rows x 28 columns]"
      ]
     },
     "execution_count": 6,
     "metadata": {},
     "output_type": "execute_result"
    }
   ],
   "source": [
    "# Drop the NAs on the revenue columns \n",
    "\n",
    "df.head()\n",
    "#df_clean = df.dropna()\n"
   ]
  },
  {
   "cell_type": "markdown",
   "metadata": {},
   "source": [
    "### Step 3:  Compute Averages and Put in a New DataFrame "
   ]
  },
  {
   "cell_type": "code",
   "execution_count": null,
   "metadata": {},
   "outputs": [],
   "source": [
    "# Compute averages\n",
    "avg_men = None\n",
    "avg_women = None\n",
    "\n",
    "# Put in a new DataFrame for plotting\n",
    "df_plot = pd.DataFrame({\n",
    "    \"Gender\": [\"Men\", \"Women\"],\n",
    "    \"Average Revenue\": [avg_men, avg_women]\n",
    "})"
   ]
  },
  {
   "cell_type": "markdown",
   "metadata": {},
   "source": [
    "### Step 4:  Plot the Data"
   ]
  },
  {
   "cell_type": "code",
   "execution_count": null,
   "metadata": {},
   "outputs": [],
   "source": [
    "# Plot grouped bar chart of Gender and Average Revenue \n",
    "fig = px.bar(df_plot, x=None, y=None, title=\"Average Sports Revenue by Gender\")\n",
    "fig.show()"
   ]
  },
  {
   "cell_type": "markdown",
   "metadata": {},
   "source": [
    "### Step 4 Build the Dash App"
   ]
  },
  {
   "cell_type": "code",
   "execution_count": null,
   "metadata": {},
   "outputs": [],
   "source": [
    "app = dash.Dash(__name__)\n",
    "app.title = None\n",
    "\n",
    "app.layout = html.Div([\n",
    "    html.H1(None style={'textAlign': 'center'}),\n",
    "    dcc.Graph(figure=None)\n",
    "])\n",
    "\n",
    "if __name__ == \"__main__\":\n",
    "    app.run(debug=True)"
   ]
  },
  {
   "cell_type": "markdown",
   "metadata": {},
   "source": [
    "### Step 5:  View in Browser\n",
    "\n",
    "Open up a browser to see if it pops up:  http://localhost:8050/\n"
   ]
  }
 ],
 "metadata": {
  "kernelspec": {
   "display_name": "data-analysis-env",
   "language": "python",
   "name": "python3"
  },
  "language_info": {
   "codemirror_mode": {
    "name": "ipython",
    "version": 3
   },
   "file_extension": ".py",
   "mimetype": "text/x-python",
   "name": "python",
   "nbconvert_exporter": "python",
   "pygments_lexer": "ipython3",
   "version": "3.9.22"
  }
 },
 "nbformat": 4,
 "nbformat_minor": 2
}
