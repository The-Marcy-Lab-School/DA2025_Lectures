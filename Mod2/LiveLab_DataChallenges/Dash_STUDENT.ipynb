{
 "cells": [
  {
   "cell_type": "markdown",
   "metadata": {},
   "source": [
    "# LiveLab: Creating a Simple Dash App \n",
    "\n",
    "\n",
    "## Dataset Description:\n",
    "\n",
    "You are working with a college sports dataset from [Kaggle](https://www.kaggle.com/datasets/umerhaddii/us-collegiate-sports-dataset)"
   ]
  },
  {
   "cell_type": "markdown",
   "metadata": {},
   "source": [
    "### Step 1:  Load & Inspect Data "
   ]
  },
  {
   "cell_type": "code",
   "execution_count": 1,
   "metadata": {},
   "outputs": [],
   "source": [
    "#Import pandas, plotly, and dash packages \n",
    "import dash\n",
    "from dash import html, dcc\n",
    "from dash.dependencies import Input, Output\n",
    "import pandas as pd\n",
    "import plotly.express as px"
   ]
  },
  {
   "cell_type": "code",
   "execution_count": 2,
   "metadata": {},
   "outputs": [
    {
     "name": "stderr",
     "output_type": "stream",
     "text": [
      "/var/folders/78/8f22v_ln4kvg9b_7fr3_2nfh0000gn/T/ipykernel_87839/927381193.py:3: DtypeWarning: Columns (8) have mixed types. Specify dtype option on import or set low_memory=False.\n",
      "  df = pd.read_csv(\"/Users/kabbo/Desktop/marcy/DA2025_Lectures/Mod2/data/sports.csv\")\n"
     ]
    }
   ],
   "source": [
    "# Read in the data \n",
    "\n",
    "df = pd.read_csv(\"/Users/kabbo/Desktop/marcy/DA2025_Lectures/Mod2/data/sports.csv\")\n"
   ]
  },
  {
   "cell_type": "markdown",
   "metadata": {},
   "source": [
    "### Step 2:  Clean the Data and Only keep the Revenue Columns "
   ]
  },
  {
   "cell_type": "code",
   "execution_count": null,
   "metadata": {},
   "outputs": [
    {
     "data": {
      "text/html": [
       "<div>\n",
       "<style scoped>\n",
       "    .dataframe tbody tr th:only-of-type {\n",
       "        vertical-align: middle;\n",
       "    }\n",
       "\n",
       "    .dataframe tbody tr th {\n",
       "        vertical-align: top;\n",
       "    }\n",
       "\n",
       "    .dataframe thead th {\n",
       "        text-align: right;\n",
       "    }\n",
       "</style>\n",
       "<table border=\"1\" class=\"dataframe\">\n",
       "  <thead>\n",
       "    <tr style=\"text-align: right;\">\n",
       "      <th></th>\n",
       "      <th>year</th>\n",
       "      <th>unitid</th>\n",
       "      <th>institution_name</th>\n",
       "      <th>city_txt</th>\n",
       "      <th>state_cd</th>\n",
       "      <th>zip_text</th>\n",
       "      <th>classification_code</th>\n",
       "      <th>classification_name</th>\n",
       "      <th>classification_other</th>\n",
       "      <th>ef_male_count</th>\n",
       "      <th>...</th>\n",
       "      <th>partic_coed_women</th>\n",
       "      <th>sum_partic_men</th>\n",
       "      <th>sum_partic_women</th>\n",
       "      <th>rev_men</th>\n",
       "      <th>rev_women</th>\n",
       "      <th>total_rev_menwomen</th>\n",
       "      <th>exp_men</th>\n",
       "      <th>exp_women</th>\n",
       "      <th>total_exp_menwomen</th>\n",
       "      <th>sports</th>\n",
       "    </tr>\n",
       "  </thead>\n",
       "  <tbody>\n",
       "    <tr>\n",
       "      <th>1</th>\n",
       "      <td>2015</td>\n",
       "      <td>100654</td>\n",
       "      <td>Alabama A &amp; M University</td>\n",
       "      <td>Normal</td>\n",
       "      <td>AL</td>\n",
       "      <td>35762.0</td>\n",
       "      <td>2</td>\n",
       "      <td>NCAA Division I-FCS</td>\n",
       "      <td>NaN</td>\n",
       "      <td>1923</td>\n",
       "      <td>...</td>\n",
       "      <td>NaN</td>\n",
       "      <td>19</td>\n",
       "      <td>16</td>\n",
       "      <td>1211095.0</td>\n",
       "      <td>748833.0</td>\n",
       "      <td>1959928.0</td>\n",
       "      <td>817868.0</td>\n",
       "      <td>742460.0</td>\n",
       "      <td>1560328.0</td>\n",
       "      <td>Basketball</td>\n",
       "    </tr>\n",
       "    <tr>\n",
       "      <th>2</th>\n",
       "      <td>2015</td>\n",
       "      <td>100654</td>\n",
       "      <td>Alabama A &amp; M University</td>\n",
       "      <td>Normal</td>\n",
       "      <td>AL</td>\n",
       "      <td>35762.0</td>\n",
       "      <td>2</td>\n",
       "      <td>NCAA Division I-FCS</td>\n",
       "      <td>NaN</td>\n",
       "      <td>1923</td>\n",
       "      <td>...</td>\n",
       "      <td>NaN</td>\n",
       "      <td>61</td>\n",
       "      <td>46</td>\n",
       "      <td>183333.0</td>\n",
       "      <td>315574.0</td>\n",
       "      <td>498907.0</td>\n",
       "      <td>246949.0</td>\n",
       "      <td>251184.0</td>\n",
       "      <td>498133.0</td>\n",
       "      <td>All Track Combined</td>\n",
       "    </tr>\n",
       "    <tr>\n",
       "      <th>7</th>\n",
       "      <td>2015</td>\n",
       "      <td>100654</td>\n",
       "      <td>Alabama A &amp; M University</td>\n",
       "      <td>Normal</td>\n",
       "      <td>AL</td>\n",
       "      <td>35762.0</td>\n",
       "      <td>2</td>\n",
       "      <td>NCAA Division I-FCS</td>\n",
       "      <td>NaN</td>\n",
       "      <td>1923</td>\n",
       "      <td>...</td>\n",
       "      <td>NaN</td>\n",
       "      <td>7</td>\n",
       "      <td>10</td>\n",
       "      <td>78274.0</td>\n",
       "      <td>131145.0</td>\n",
       "      <td>209419.0</td>\n",
       "      <td>99612.0</td>\n",
       "      <td>113886.0</td>\n",
       "      <td>213498.0</td>\n",
       "      <td>Tennis</td>\n",
       "    </tr>\n",
       "    <tr>\n",
       "      <th>11</th>\n",
       "      <td>2015</td>\n",
       "      <td>100663</td>\n",
       "      <td>University of Alabama at Birmingham</td>\n",
       "      <td>Birmingham</td>\n",
       "      <td>AL</td>\n",
       "      <td>352940110.0</td>\n",
       "      <td>1</td>\n",
       "      <td>NCAA Division I-FBS</td>\n",
       "      <td>NaN</td>\n",
       "      <td>3397</td>\n",
       "      <td>...</td>\n",
       "      <td>NaN</td>\n",
       "      <td>13</td>\n",
       "      <td>20</td>\n",
       "      <td>4189826.0</td>\n",
       "      <td>1966556.0</td>\n",
       "      <td>6156382.0</td>\n",
       "      <td>4189826.0</td>\n",
       "      <td>1962579.0</td>\n",
       "      <td>6152405.0</td>\n",
       "      <td>Basketball</td>\n",
       "    </tr>\n",
       "    <tr>\n",
       "      <th>13</th>\n",
       "      <td>2015</td>\n",
       "      <td>100663</td>\n",
       "      <td>University of Alabama at Birmingham</td>\n",
       "      <td>Birmingham</td>\n",
       "      <td>AL</td>\n",
       "      <td>352940110.0</td>\n",
       "      <td>1</td>\n",
       "      <td>NCAA Division I-FBS</td>\n",
       "      <td>NaN</td>\n",
       "      <td>3397</td>\n",
       "      <td>...</td>\n",
       "      <td>NaN</td>\n",
       "      <td>10</td>\n",
       "      <td>7</td>\n",
       "      <td>407728.0</td>\n",
       "      <td>346987.0</td>\n",
       "      <td>754715.0</td>\n",
       "      <td>407728.0</td>\n",
       "      <td>345979.0</td>\n",
       "      <td>753707.0</td>\n",
       "      <td>Golf</td>\n",
       "    </tr>\n",
       "    <tr>\n",
       "      <th>...</th>\n",
       "      <td>...</td>\n",
       "      <td>...</td>\n",
       "      <td>...</td>\n",
       "      <td>...</td>\n",
       "      <td>...</td>\n",
       "      <td>...</td>\n",
       "      <td>...</td>\n",
       "      <td>...</td>\n",
       "      <td>...</td>\n",
       "      <td>...</td>\n",
       "      <td>...</td>\n",
       "      <td>...</td>\n",
       "      <td>...</td>\n",
       "      <td>...</td>\n",
       "      <td>...</td>\n",
       "      <td>...</td>\n",
       "      <td>...</td>\n",
       "      <td>...</td>\n",
       "      <td>...</td>\n",
       "      <td>...</td>\n",
       "      <td>...</td>\n",
       "    </tr>\n",
       "    <tr>\n",
       "      <th>132319</th>\n",
       "      <td>2019</td>\n",
       "      <td>800001</td>\n",
       "      <td>Simon Fraser University</td>\n",
       "      <td>NaN</td>\n",
       "      <td>NaN</td>\n",
       "      <td>NaN</td>\n",
       "      <td>4</td>\n",
       "      <td>NCAA Division II with football</td>\n",
       "      <td>NaN</td>\n",
       "      <td>5681</td>\n",
       "      <td>...</td>\n",
       "      <td>NaN</td>\n",
       "      <td>98</td>\n",
       "      <td>68</td>\n",
       "      <td>403871.0</td>\n",
       "      <td>378615.0</td>\n",
       "      <td>782486.0</td>\n",
       "      <td>403871.0</td>\n",
       "      <td>378615.0</td>\n",
       "      <td>782486.0</td>\n",
       "      <td>All Track Combined</td>\n",
       "    </tr>\n",
       "    <tr>\n",
       "      <th>132321</th>\n",
       "      <td>2019</td>\n",
       "      <td>800001</td>\n",
       "      <td>Simon Fraser University</td>\n",
       "      <td>NaN</td>\n",
       "      <td>NaN</td>\n",
       "      <td>NaN</td>\n",
       "      <td>4</td>\n",
       "      <td>NCAA Division II with football</td>\n",
       "      <td>NaN</td>\n",
       "      <td>5681</td>\n",
       "      <td>...</td>\n",
       "      <td>NaN</td>\n",
       "      <td>10</td>\n",
       "      <td>8</td>\n",
       "      <td>221193.0</td>\n",
       "      <td>224243.0</td>\n",
       "      <td>445436.0</td>\n",
       "      <td>221193.0</td>\n",
       "      <td>224243.0</td>\n",
       "      <td>445436.0</td>\n",
       "      <td>Golf</td>\n",
       "    </tr>\n",
       "    <tr>\n",
       "      <th>132322</th>\n",
       "      <td>2019</td>\n",
       "      <td>800001</td>\n",
       "      <td>Simon Fraser University</td>\n",
       "      <td>NaN</td>\n",
       "      <td>NaN</td>\n",
       "      <td>NaN</td>\n",
       "      <td>4</td>\n",
       "      <td>NCAA Division II with football</td>\n",
       "      <td>NaN</td>\n",
       "      <td>5681</td>\n",
       "      <td>...</td>\n",
       "      <td>NaN</td>\n",
       "      <td>30</td>\n",
       "      <td>21</td>\n",
       "      <td>652950.0</td>\n",
       "      <td>357251.0</td>\n",
       "      <td>1010201.0</td>\n",
       "      <td>652950.0</td>\n",
       "      <td>357251.0</td>\n",
       "      <td>1010201.0</td>\n",
       "      <td>Soccer</td>\n",
       "    </tr>\n",
       "    <tr>\n",
       "      <th>132324</th>\n",
       "      <td>2019</td>\n",
       "      <td>800001</td>\n",
       "      <td>Simon Fraser University</td>\n",
       "      <td>NaN</td>\n",
       "      <td>NaN</td>\n",
       "      <td>NaN</td>\n",
       "      <td>4</td>\n",
       "      <td>NCAA Division II with football</td>\n",
       "      <td>NaN</td>\n",
       "      <td>5681</td>\n",
       "      <td>...</td>\n",
       "      <td>NaN</td>\n",
       "      <td>17</td>\n",
       "      <td>17</td>\n",
       "      <td>281726.0</td>\n",
       "      <td>237917.0</td>\n",
       "      <td>519643.0</td>\n",
       "      <td>281726.0</td>\n",
       "      <td>237917.0</td>\n",
       "      <td>519643.0</td>\n",
       "      <td>Swimming</td>\n",
       "    </tr>\n",
       "    <tr>\n",
       "      <th>132326</th>\n",
       "      <td>2019</td>\n",
       "      <td>800001</td>\n",
       "      <td>Simon Fraser University</td>\n",
       "      <td>NaN</td>\n",
       "      <td>NaN</td>\n",
       "      <td>NaN</td>\n",
       "      <td>4</td>\n",
       "      <td>NCAA Division II with football</td>\n",
       "      <td>NaN</td>\n",
       "      <td>5681</td>\n",
       "      <td>...</td>\n",
       "      <td>NaN</td>\n",
       "      <td>24</td>\n",
       "      <td>23</td>\n",
       "      <td>259794.0</td>\n",
       "      <td>241066.0</td>\n",
       "      <td>500860.0</td>\n",
       "      <td>259794.0</td>\n",
       "      <td>241066.0</td>\n",
       "      <td>500860.0</td>\n",
       "      <td>Wrestling</td>\n",
       "    </tr>\n",
       "  </tbody>\n",
       "</table>\n",
       "<p>43614 rows × 28 columns</p>\n",
       "</div>"
      ],
      "text/plain": [
       "        year  unitid                     institution_name    city_txt  \\\n",
       "1       2015  100654             Alabama A & M University      Normal   \n",
       "2       2015  100654             Alabama A & M University      Normal   \n",
       "7       2015  100654             Alabama A & M University      Normal   \n",
       "11      2015  100663  University of Alabama at Birmingham  Birmingham   \n",
       "13      2015  100663  University of Alabama at Birmingham  Birmingham   \n",
       "...      ...     ...                                  ...         ...   \n",
       "132319  2019  800001              Simon Fraser University         NaN   \n",
       "132321  2019  800001              Simon Fraser University         NaN   \n",
       "132322  2019  800001              Simon Fraser University         NaN   \n",
       "132324  2019  800001              Simon Fraser University         NaN   \n",
       "132326  2019  800001              Simon Fraser University         NaN   \n",
       "\n",
       "       state_cd     zip_text  classification_code  \\\n",
       "1            AL      35762.0                    2   \n",
       "2            AL      35762.0                    2   \n",
       "7            AL      35762.0                    2   \n",
       "11           AL  352940110.0                    1   \n",
       "13           AL  352940110.0                    1   \n",
       "...         ...          ...                  ...   \n",
       "132319      NaN          NaN                    4   \n",
       "132321      NaN          NaN                    4   \n",
       "132322      NaN          NaN                    4   \n",
       "132324      NaN          NaN                    4   \n",
       "132326      NaN          NaN                    4   \n",
       "\n",
       "                   classification_name classification_other  ef_male_count  \\\n",
       "1                  NCAA Division I-FCS                  NaN           1923   \n",
       "2                  NCAA Division I-FCS                  NaN           1923   \n",
       "7                  NCAA Division I-FCS                  NaN           1923   \n",
       "11                 NCAA Division I-FBS                  NaN           3397   \n",
       "13                 NCAA Division I-FBS                  NaN           3397   \n",
       "...                                ...                  ...            ...   \n",
       "132319  NCAA Division II with football                  NaN           5681   \n",
       "132321  NCAA Division II with football                  NaN           5681   \n",
       "132322  NCAA Division II with football                  NaN           5681   \n",
       "132324  NCAA Division II with football                  NaN           5681   \n",
       "132326  NCAA Division II with football                  NaN           5681   \n",
       "\n",
       "        ...  partic_coed_women  sum_partic_men  sum_partic_women    rev_men  \\\n",
       "1       ...                NaN              19                16  1211095.0   \n",
       "2       ...                NaN              61                46   183333.0   \n",
       "7       ...                NaN               7                10    78274.0   \n",
       "11      ...                NaN              13                20  4189826.0   \n",
       "13      ...                NaN              10                 7   407728.0   \n",
       "...     ...                ...             ...               ...        ...   \n",
       "132319  ...                NaN              98                68   403871.0   \n",
       "132321  ...                NaN              10                 8   221193.0   \n",
       "132322  ...                NaN              30                21   652950.0   \n",
       "132324  ...                NaN              17                17   281726.0   \n",
       "132326  ...                NaN              24                23   259794.0   \n",
       "\n",
       "        rev_women  total_rev_menwomen    exp_men  exp_women  \\\n",
       "1        748833.0           1959928.0   817868.0   742460.0   \n",
       "2        315574.0            498907.0   246949.0   251184.0   \n",
       "7        131145.0            209419.0    99612.0   113886.0   \n",
       "11      1966556.0           6156382.0  4189826.0  1962579.0   \n",
       "13       346987.0            754715.0   407728.0   345979.0   \n",
       "...           ...                 ...        ...        ...   \n",
       "132319   378615.0            782486.0   403871.0   378615.0   \n",
       "132321   224243.0            445436.0   221193.0   224243.0   \n",
       "132322   357251.0           1010201.0   652950.0   357251.0   \n",
       "132324   237917.0            519643.0   281726.0   237917.0   \n",
       "132326   241066.0            500860.0   259794.0   241066.0   \n",
       "\n",
       "        total_exp_menwomen              sports  \n",
       "1                1560328.0          Basketball  \n",
       "2                 498133.0  All Track Combined  \n",
       "7                 213498.0              Tennis  \n",
       "11               6152405.0          Basketball  \n",
       "13                753707.0                Golf  \n",
       "...                    ...                 ...  \n",
       "132319            782486.0  All Track Combined  \n",
       "132321            445436.0                Golf  \n",
       "132322           1010201.0              Soccer  \n",
       "132324            519643.0            Swimming  \n",
       "132326            500860.0           Wrestling  \n",
       "\n",
       "[43614 rows x 28 columns]"
      ]
     },
     "execution_count": 3,
     "metadata": {},
     "output_type": "execute_result"
    }
   ],
   "source": [
    "# Drop the NAs on the revenue columns \n",
    "df_clean = df.dropna(subset=['rev_women', 'rev_men'])"
   ]
  },
  {
   "cell_type": "markdown",
   "metadata": {},
   "source": [
    "### Step 3:  Compute Averages and Put in a New DataFrame "
   ]
  },
  {
   "cell_type": "code",
   "execution_count": 4,
   "metadata": {},
   "outputs": [],
   "source": [
    "# Compute averages\n",
    "avg_men = df_clean['rev_men'].mean()\n",
    "avg_women = df_clean['rev_women'].mean()\n",
    "\n",
    "# Put in a new DataFrame for plotting\n",
    "df_plot = pd.DataFrame({\n",
    "    \"Gender\": [\"Men\", \"Women\"],\n",
    "    \"Average Revenue\": [avg_men, avg_women]\n",
    "})"
   ]
  },
  {
   "cell_type": "markdown",
   "metadata": {},
   "source": [
    "### Step 4:  Plot the Data"
   ]
  },
  {
   "cell_type": "code",
   "execution_count": 10,
   "metadata": {},
   "outputs": [
    {
     "data": {
      "application/vnd.plotly.v1+json": {
       "config": {
        "plotlyServerURL": "https://plot.ly"
       },
       "data": [
        {
         "hovertemplate": "Gender=%{x}<br>Average Revenue=%{y}<extra></extra>",
         "legendgroup": "",
         "marker": {
          "color": "#636efa",
          "pattern": {
           "shape": ""
          }
         },
         "name": "",
         "orientation": "v",
         "showlegend": false,
         "textposition": "auto",
         "type": "bar",
         "x": [
          "Men",
          "Women"
         ],
         "xaxis": "x",
         "y": {
          "bdata": "190Bb1a4GEFCaOExvXcQQQ==",
          "dtype": "f8"
         },
         "yaxis": "y"
        }
       ],
       "layout": {
        "barmode": "relative",
        "legend": {
         "tracegroupgap": 0
        },
        "template": {
         "data": {
          "bar": [
           {
            "error_x": {
             "color": "#2a3f5f"
            },
            "error_y": {
             "color": "#2a3f5f"
            },
            "marker": {
             "line": {
              "color": "#E5ECF6",
              "width": 0.5
             },
             "pattern": {
              "fillmode": "overlay",
              "size": 10,
              "solidity": 0.2
             }
            },
            "type": "bar"
           }
          ],
          "barpolar": [
           {
            "marker": {
             "line": {
              "color": "#E5ECF6",
              "width": 0.5
             },
             "pattern": {
              "fillmode": "overlay",
              "size": 10,
              "solidity": 0.2
             }
            },
            "type": "barpolar"
           }
          ],
          "carpet": [
           {
            "aaxis": {
             "endlinecolor": "#2a3f5f",
             "gridcolor": "white",
             "linecolor": "white",
             "minorgridcolor": "white",
             "startlinecolor": "#2a3f5f"
            },
            "baxis": {
             "endlinecolor": "#2a3f5f",
             "gridcolor": "white",
             "linecolor": "white",
             "minorgridcolor": "white",
             "startlinecolor": "#2a3f5f"
            },
            "type": "carpet"
           }
          ],
          "choropleth": [
           {
            "colorbar": {
             "outlinewidth": 0,
             "ticks": ""
            },
            "type": "choropleth"
           }
          ],
          "contour": [
           {
            "colorbar": {
             "outlinewidth": 0,
             "ticks": ""
            },
            "colorscale": [
             [
              0,
              "#0d0887"
             ],
             [
              0.1111111111111111,
              "#46039f"
             ],
             [
              0.2222222222222222,
              "#7201a8"
             ],
             [
              0.3333333333333333,
              "#9c179e"
             ],
             [
              0.4444444444444444,
              "#bd3786"
             ],
             [
              0.5555555555555556,
              "#d8576b"
             ],
             [
              0.6666666666666666,
              "#ed7953"
             ],
             [
              0.7777777777777778,
              "#fb9f3a"
             ],
             [
              0.8888888888888888,
              "#fdca26"
             ],
             [
              1,
              "#f0f921"
             ]
            ],
            "type": "contour"
           }
          ],
          "contourcarpet": [
           {
            "colorbar": {
             "outlinewidth": 0,
             "ticks": ""
            },
            "type": "contourcarpet"
           }
          ],
          "heatmap": [
           {
            "colorbar": {
             "outlinewidth": 0,
             "ticks": ""
            },
            "colorscale": [
             [
              0,
              "#0d0887"
             ],
             [
              0.1111111111111111,
              "#46039f"
             ],
             [
              0.2222222222222222,
              "#7201a8"
             ],
             [
              0.3333333333333333,
              "#9c179e"
             ],
             [
              0.4444444444444444,
              "#bd3786"
             ],
             [
              0.5555555555555556,
              "#d8576b"
             ],
             [
              0.6666666666666666,
              "#ed7953"
             ],
             [
              0.7777777777777778,
              "#fb9f3a"
             ],
             [
              0.8888888888888888,
              "#fdca26"
             ],
             [
              1,
              "#f0f921"
             ]
            ],
            "type": "heatmap"
           }
          ],
          "histogram": [
           {
            "marker": {
             "pattern": {
              "fillmode": "overlay",
              "size": 10,
              "solidity": 0.2
             }
            },
            "type": "histogram"
           }
          ],
          "histogram2d": [
           {
            "colorbar": {
             "outlinewidth": 0,
             "ticks": ""
            },
            "colorscale": [
             [
              0,
              "#0d0887"
             ],
             [
              0.1111111111111111,
              "#46039f"
             ],
             [
              0.2222222222222222,
              "#7201a8"
             ],
             [
              0.3333333333333333,
              "#9c179e"
             ],
             [
              0.4444444444444444,
              "#bd3786"
             ],
             [
              0.5555555555555556,
              "#d8576b"
             ],
             [
              0.6666666666666666,
              "#ed7953"
             ],
             [
              0.7777777777777778,
              "#fb9f3a"
             ],
             [
              0.8888888888888888,
              "#fdca26"
             ],
             [
              1,
              "#f0f921"
             ]
            ],
            "type": "histogram2d"
           }
          ],
          "histogram2dcontour": [
           {
            "colorbar": {
             "outlinewidth": 0,
             "ticks": ""
            },
            "colorscale": [
             [
              0,
              "#0d0887"
             ],
             [
              0.1111111111111111,
              "#46039f"
             ],
             [
              0.2222222222222222,
              "#7201a8"
             ],
             [
              0.3333333333333333,
              "#9c179e"
             ],
             [
              0.4444444444444444,
              "#bd3786"
             ],
             [
              0.5555555555555556,
              "#d8576b"
             ],
             [
              0.6666666666666666,
              "#ed7953"
             ],
             [
              0.7777777777777778,
              "#fb9f3a"
             ],
             [
              0.8888888888888888,
              "#fdca26"
             ],
             [
              1,
              "#f0f921"
             ]
            ],
            "type": "histogram2dcontour"
           }
          ],
          "mesh3d": [
           {
            "colorbar": {
             "outlinewidth": 0,
             "ticks": ""
            },
            "type": "mesh3d"
           }
          ],
          "parcoords": [
           {
            "line": {
             "colorbar": {
              "outlinewidth": 0,
              "ticks": ""
             }
            },
            "type": "parcoords"
           }
          ],
          "pie": [
           {
            "automargin": true,
            "type": "pie"
           }
          ],
          "scatter": [
           {
            "fillpattern": {
             "fillmode": "overlay",
             "size": 10,
             "solidity": 0.2
            },
            "type": "scatter"
           }
          ],
          "scatter3d": [
           {
            "line": {
             "colorbar": {
              "outlinewidth": 0,
              "ticks": ""
             }
            },
            "marker": {
             "colorbar": {
              "outlinewidth": 0,
              "ticks": ""
             }
            },
            "type": "scatter3d"
           }
          ],
          "scattercarpet": [
           {
            "marker": {
             "colorbar": {
              "outlinewidth": 0,
              "ticks": ""
             }
            },
            "type": "scattercarpet"
           }
          ],
          "scattergeo": [
           {
            "marker": {
             "colorbar": {
              "outlinewidth": 0,
              "ticks": ""
             }
            },
            "type": "scattergeo"
           }
          ],
          "scattergl": [
           {
            "marker": {
             "colorbar": {
              "outlinewidth": 0,
              "ticks": ""
             }
            },
            "type": "scattergl"
           }
          ],
          "scattermap": [
           {
            "marker": {
             "colorbar": {
              "outlinewidth": 0,
              "ticks": ""
             }
            },
            "type": "scattermap"
           }
          ],
          "scattermapbox": [
           {
            "marker": {
             "colorbar": {
              "outlinewidth": 0,
              "ticks": ""
             }
            },
            "type": "scattermapbox"
           }
          ],
          "scatterpolar": [
           {
            "marker": {
             "colorbar": {
              "outlinewidth": 0,
              "ticks": ""
             }
            },
            "type": "scatterpolar"
           }
          ],
          "scatterpolargl": [
           {
            "marker": {
             "colorbar": {
              "outlinewidth": 0,
              "ticks": ""
             }
            },
            "type": "scatterpolargl"
           }
          ],
          "scatterternary": [
           {
            "marker": {
             "colorbar": {
              "outlinewidth": 0,
              "ticks": ""
             }
            },
            "type": "scatterternary"
           }
          ],
          "surface": [
           {
            "colorbar": {
             "outlinewidth": 0,
             "ticks": ""
            },
            "colorscale": [
             [
              0,
              "#0d0887"
             ],
             [
              0.1111111111111111,
              "#46039f"
             ],
             [
              0.2222222222222222,
              "#7201a8"
             ],
             [
              0.3333333333333333,
              "#9c179e"
             ],
             [
              0.4444444444444444,
              "#bd3786"
             ],
             [
              0.5555555555555556,
              "#d8576b"
             ],
             [
              0.6666666666666666,
              "#ed7953"
             ],
             [
              0.7777777777777778,
              "#fb9f3a"
             ],
             [
              0.8888888888888888,
              "#fdca26"
             ],
             [
              1,
              "#f0f921"
             ]
            ],
            "type": "surface"
           }
          ],
          "table": [
           {
            "cells": {
             "fill": {
              "color": "#EBF0F8"
             },
             "line": {
              "color": "white"
             }
            },
            "header": {
             "fill": {
              "color": "#C8D4E3"
             },
             "line": {
              "color": "white"
             }
            },
            "type": "table"
           }
          ]
         },
         "layout": {
          "annotationdefaults": {
           "arrowcolor": "#2a3f5f",
           "arrowhead": 0,
           "arrowwidth": 1
          },
          "autotypenumbers": "strict",
          "coloraxis": {
           "colorbar": {
            "outlinewidth": 0,
            "ticks": ""
           }
          },
          "colorscale": {
           "diverging": [
            [
             0,
             "#8e0152"
            ],
            [
             0.1,
             "#c51b7d"
            ],
            [
             0.2,
             "#de77ae"
            ],
            [
             0.3,
             "#f1b6da"
            ],
            [
             0.4,
             "#fde0ef"
            ],
            [
             0.5,
             "#f7f7f7"
            ],
            [
             0.6,
             "#e6f5d0"
            ],
            [
             0.7,
             "#b8e186"
            ],
            [
             0.8,
             "#7fbc41"
            ],
            [
             0.9,
             "#4d9221"
            ],
            [
             1,
             "#276419"
            ]
           ],
           "sequential": [
            [
             0,
             "#0d0887"
            ],
            [
             0.1111111111111111,
             "#46039f"
            ],
            [
             0.2222222222222222,
             "#7201a8"
            ],
            [
             0.3333333333333333,
             "#9c179e"
            ],
            [
             0.4444444444444444,
             "#bd3786"
            ],
            [
             0.5555555555555556,
             "#d8576b"
            ],
            [
             0.6666666666666666,
             "#ed7953"
            ],
            [
             0.7777777777777778,
             "#fb9f3a"
            ],
            [
             0.8888888888888888,
             "#fdca26"
            ],
            [
             1,
             "#f0f921"
            ]
           ],
           "sequentialminus": [
            [
             0,
             "#0d0887"
            ],
            [
             0.1111111111111111,
             "#46039f"
            ],
            [
             0.2222222222222222,
             "#7201a8"
            ],
            [
             0.3333333333333333,
             "#9c179e"
            ],
            [
             0.4444444444444444,
             "#bd3786"
            ],
            [
             0.5555555555555556,
             "#d8576b"
            ],
            [
             0.6666666666666666,
             "#ed7953"
            ],
            [
             0.7777777777777778,
             "#fb9f3a"
            ],
            [
             0.8888888888888888,
             "#fdca26"
            ],
            [
             1,
             "#f0f921"
            ]
           ]
          },
          "colorway": [
           "#636efa",
           "#EF553B",
           "#00cc96",
           "#ab63fa",
           "#FFA15A",
           "#19d3f3",
           "#FF6692",
           "#B6E880",
           "#FF97FF",
           "#FECB52"
          ],
          "font": {
           "color": "#2a3f5f"
          },
          "geo": {
           "bgcolor": "white",
           "lakecolor": "white",
           "landcolor": "#E5ECF6",
           "showlakes": true,
           "showland": true,
           "subunitcolor": "white"
          },
          "hoverlabel": {
           "align": "left"
          },
          "hovermode": "closest",
          "mapbox": {
           "style": "light"
          },
          "paper_bgcolor": "white",
          "plot_bgcolor": "#E5ECF6",
          "polar": {
           "angularaxis": {
            "gridcolor": "white",
            "linecolor": "white",
            "ticks": ""
           },
           "bgcolor": "#E5ECF6",
           "radialaxis": {
            "gridcolor": "white",
            "linecolor": "white",
            "ticks": ""
           }
          },
          "scene": {
           "xaxis": {
            "backgroundcolor": "#E5ECF6",
            "gridcolor": "white",
            "gridwidth": 2,
            "linecolor": "white",
            "showbackground": true,
            "ticks": "",
            "zerolinecolor": "white"
           },
           "yaxis": {
            "backgroundcolor": "#E5ECF6",
            "gridcolor": "white",
            "gridwidth": 2,
            "linecolor": "white",
            "showbackground": true,
            "ticks": "",
            "zerolinecolor": "white"
           },
           "zaxis": {
            "backgroundcolor": "#E5ECF6",
            "gridcolor": "white",
            "gridwidth": 2,
            "linecolor": "white",
            "showbackground": true,
            "ticks": "",
            "zerolinecolor": "white"
           }
          },
          "shapedefaults": {
           "line": {
            "color": "#2a3f5f"
           }
          },
          "ternary": {
           "aaxis": {
            "gridcolor": "white",
            "linecolor": "white",
            "ticks": ""
           },
           "baxis": {
            "gridcolor": "white",
            "linecolor": "white",
            "ticks": ""
           },
           "bgcolor": "#E5ECF6",
           "caxis": {
            "gridcolor": "white",
            "linecolor": "white",
            "ticks": ""
           }
          },
          "title": {
           "x": 0.05
          },
          "xaxis": {
           "automargin": true,
           "gridcolor": "white",
           "linecolor": "white",
           "ticks": "",
           "title": {
            "standoff": 15
           },
           "zerolinecolor": "white",
           "zerolinewidth": 2
          },
          "yaxis": {
           "automargin": true,
           "gridcolor": "white",
           "linecolor": "white",
           "ticks": "",
           "title": {
            "standoff": 15
           },
           "zerolinecolor": "white",
           "zerolinewidth": 2
          }
         }
        },
        "title": {
         "text": "Average Sports Revenue by Gender"
        },
        "xaxis": {
         "anchor": "y",
         "domain": [
          0,
          1
         ],
         "title": {
          "text": "Gender"
         }
        },
        "yaxis": {
         "anchor": "x",
         "domain": [
          0,
          1
         ],
         "title": {
          "text": "Average Revenue"
         }
        }
       }
      }
     },
     "metadata": {},
     "output_type": "display_data"
    }
   ],
   "source": [
    "# Plot grouped bar chart of Gender and Average Revenue \n",
    "fig = px.bar(df_plot, x='Gender', y='Average Revenue', title=\"Average Sports Revenue by Gender\")\n",
    "fig.show()"
   ]
  },
  {
   "cell_type": "markdown",
   "metadata": {},
   "source": [
    "### Step 4 Build the Dash App"
   ]
  },
  {
   "cell_type": "code",
   "execution_count": 12,
   "metadata": {},
   "outputs": [
    {
     "data": {
      "text/html": [
       "\n",
       "        <iframe\n",
       "            width=\"100%\"\n",
       "            height=\"650\"\n",
       "            src=\"http://127.0.0.1:54112/\"\n",
       "            frameborder=\"0\"\n",
       "            allowfullscreen\n",
       "            \n",
       "        ></iframe>\n",
       "        "
      ],
      "text/plain": [
       "<IPython.lib.display.IFrame at 0x169a06d60>"
      ]
     },
     "metadata": {},
     "output_type": "display_data"
    },
    {
     "name": "stdout",
     "output_type": "stream",
     "text": [
      "---------------------------------------------------------------------------\n",
      "MethodNotAllowed                          Traceback (most recent call last)\n",
      "MethodNotAllowed: 405 Method Not Allowed: The method is not allowed for the requested URL.\n",
      "\n",
      "---------------------------------------------------------------------------\n",
      "MethodNotAllowed                          Traceback (most recent call last)\n",
      "MethodNotAllowed: 405 Method Not Allowed: The method is not allowed for the requested URL.\n",
      "\n",
      "---------------------------------------------------------------------------\n",
      "MethodNotAllowed                          Traceback (most recent call last)\n",
      "MethodNotAllowed: 405 Method Not Allowed: The method is not allowed for the requested URL.\n",
      "\n"
     ]
    }
   ],
   "source": [
    "app = dash.Dash(__name__)\n",
    "app.title = 'Dash Board'\n",
    "\n",
    "app.layout = html.Div([\n",
    "    html.H1('Average Sports Revenue by Gender', style={'textAlign': 'center'}),\n",
    "    dcc.Graph(figure=fig)\n",
    "])\n",
    "\n",
    "if __name__ == \"__main__\":\n",
    "    app.run(debug=True)"
   ]
  },
  {
   "cell_type": "markdown",
   "metadata": {},
   "source": [
    "### Step 5:  View in Browser\n",
    "\n",
    "Open up a browser to see if it pops up:  http://localhost:8050/\n"
   ]
  }
 ],
 "metadata": {
  "kernelspec": {
   "display_name": "data-analysis-env",
   "language": "python",
   "name": "python3"
  },
  "language_info": {
   "codemirror_mode": {
    "name": "ipython",
    "version": 3
   },
   "file_extension": ".py",
   "mimetype": "text/x-python",
   "name": "python",
   "nbconvert_exporter": "python",
   "pygments_lexer": "ipython3",
   "version": "3.9.22"
  }
 },
 "nbformat": 4,
 "nbformat_minor": 2
}
