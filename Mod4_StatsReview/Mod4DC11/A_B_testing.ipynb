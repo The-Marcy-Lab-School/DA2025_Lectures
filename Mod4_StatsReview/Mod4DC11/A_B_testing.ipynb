{
 "cells": [
  {
   "cell_type": "code",
   "execution_count": 3,
   "id": "0ea0a546",
   "metadata": {},
   "outputs": [],
   "source": [
    "import pandas as pd\n",
    "import pingouin as pg "
   ]
  },
  {
   "cell_type": "code",
   "execution_count": 5,
   "id": "15845fec",
   "metadata": {},
   "outputs": [],
   "source": [
    "df = pd.read_csv(\"/Users/Marcy_Student/Desktop/Marcy_Lab/DA2025_Lectures/Mod4_StatsReview/Mod4DC11/cookie_cats.csv\")\n",
    "A = df.loc[df[\"version\"] == 'gate_30', \"sum_gamerounds\"]\n",
    "B = df.loc[df[\"version\"] == 'gate_40', \"sum_gamerounds\"]"
   ]
  },
  {
   "cell_type": "code",
   "execution_count": 8,
   "id": "dfc5d48e",
   "metadata": {},
   "outputs": [
    {
     "data": {
      "text/html": [
       "<div>\n",
       "<style scoped>\n",
       "    .dataframe tbody tr th:only-of-type {\n",
       "        vertical-align: middle;\n",
       "    }\n",
       "\n",
       "    .dataframe tbody tr th {\n",
       "        vertical-align: top;\n",
       "    }\n",
       "\n",
       "    .dataframe thead th {\n",
       "        text-align: right;\n",
       "    }\n",
       "</style>\n",
       "<table border=\"1\" class=\"dataframe\">\n",
       "  <thead>\n",
       "    <tr style=\"text-align: right;\">\n",
       "      <th></th>\n",
       "      <th>T</th>\n",
       "      <th>dof</th>\n",
       "      <th>alternative</th>\n",
       "      <th>p-val</th>\n",
       "      <th>CI95%</th>\n",
       "      <th>cohen-d</th>\n",
       "      <th>BF10</th>\n",
       "      <th>power</th>\n",
       "    </tr>\n",
       "  </thead>\n",
       "  <tbody>\n",
       "    <tr>\n",
       "      <th>T-test</th>\n",
       "      <td>0.885437</td>\n",
       "      <td>58595.481423</td>\n",
       "      <td>two-sided</td>\n",
       "      <td>0.375924</td>\n",
       "      <td>[-1.4, 3.72]</td>\n",
       "      <td>0.005934</td>\n",
       "      <td>0.011</td>\n",
       "      <td>0.14473</td>\n",
       "    </tr>\n",
       "  </tbody>\n",
       "</table>\n",
       "</div>"
      ],
      "text/plain": [
       "               T           dof alternative     p-val         CI95%   cohen-d  \\\n",
       "T-test  0.885437  58595.481423   two-sided  0.375924  [-1.4, 3.72]  0.005934   \n",
       "\n",
       "         BF10    power  \n",
       "T-test  0.011  0.14473  "
      ]
     },
     "execution_count": 8,
     "metadata": {},
     "output_type": "execute_result"
    }
   ],
   "source": [
    "results = pg.ttest(x=A, y=B, paired=False, alternative=\"two-sided\", correction=\"auto\")\n",
    "results"
   ]
  },
  {
   "cell_type": "code",
   "execution_count": 9,
   "id": "97865903",
   "metadata": {},
   "outputs": [
    {
     "name": "stderr",
     "output_type": "stream",
     "text": [
      "/var/folders/h0/75t8pd8571n2l1zzjcyqp7kh0000gp/T/ipykernel_79005/1332650064.py:1: FutureWarning: Calling float on a single element Series is deprecated and will raise a TypeError in the future. Use float(ser.iloc[0]) instead\n",
      "  d = float(results[\"cohen-d\"])\n"
     ]
    }
   ],
   "source": [
    "d = float(results[\"cohen-d\"])"
   ]
  },
  {
   "cell_type": "code",
   "execution_count": 11,
   "id": "15c1f6fb",
   "metadata": {},
   "outputs": [
    {
     "name": "stdout",
     "output_type": "stream",
     "text": [
      "0.005934283736779187\n"
     ]
    }
   ],
   "source": [
    "print(d)"
   ]
  },
  {
   "cell_type": "code",
   "execution_count": 12,
   "id": "e3827381",
   "metadata": {},
   "outputs": [
    {
     "name": "stdout",
     "output_type": "stream",
     "text": [
      "\n",
      "Cohen's d = 0.01 tiny effect\n",
      "Treatement > Control\n"
     ]
    }
   ],
   "source": [
    "label = (\"tiny\" if abs(d) < .2 else\n",
    "         \"small\" if abs(d) < .5 else\n",
    "         \"medium\" if abs(d) < .8 else\n",
    "         \"large\")\n",
    "print(f\"\\nCohen's d = {d:.2f} {label} effect\"\n",
    "      f\"\\nTreatement > Control\" if d > 0 else \"Treatement < Control\")"
   ]
  },
  {
   "cell_type": "code",
   "execution_count": null,
   "id": "e26306a8",
   "metadata": {},
   "outputs": [],
   "source": []
  },
  {
   "cell_type": "code",
   "execution_count": null,
   "id": "97f14a0f",
   "metadata": {},
   "outputs": [],
   "source": []
  },
  {
   "cell_type": "code",
   "execution_count": null,
   "id": "e07e167c",
   "metadata": {},
   "outputs": [],
   "source": []
  },
  {
   "cell_type": "code",
   "execution_count": null,
   "id": "99fd9b70",
   "metadata": {},
   "outputs": [
    {
     "name": "stdout",
     "output_type": "stream",
     "text": [
      "<class 'pandas.core.frame.DataFrame'>\n",
      "RangeIndex: 90189 entries, 0 to 90188\n",
      "Data columns (total 5 columns):\n",
      " #   Column          Non-Null Count  Dtype \n",
      "---  ------          --------------  ----- \n",
      " 0   userid          90189 non-null  int64 \n",
      " 1   version         90189 non-null  object\n",
      " 2   sum_gamerounds  90189 non-null  int64 \n",
      " 3   retention_1     90189 non-null  bool  \n",
      " 4   retention_7     90189 non-null  bool  \n",
      "dtypes: bool(2), int64(2), object(1)\n",
      "memory usage: 2.2+ MB\n",
      "\n",
      "Cohen's d = 0.01 tiny effect\n",
      "Treatement > Control\n"
     ]
    },
    {
     "name": "stderr",
     "output_type": "stream",
     "text": [
      "/var/folders/h0/75t8pd8571n2l1zzjcyqp7kh0000gp/T/ipykernel_79005/827182471.py:10: FutureWarning: Operation between non boolean Series with different indexes will no longer return a boolean result in a future version. Cast both Series to object type to maintain the prior behavior.\n",
      "  group_size = len(A & B)\n",
      "/var/folders/h0/75t8pd8571n2l1zzjcyqp7kh0000gp/T/ipykernel_79005/827182471.py:17: FutureWarning: Calling float on a single element Series is deprecated and will raise a TypeError in the future. Use float(ser.iloc[0]) instead\n",
      "  d = float(res['cohen-d'])\n"
     ]
    },
    {
     "data": {
      "text/html": [
       "<div>\n",
       "<style scoped>\n",
       "    .dataframe tbody tr th:only-of-type {\n",
       "        vertical-align: middle;\n",
       "    }\n",
       "\n",
       "    .dataframe tbody tr th {\n",
       "        vertical-align: top;\n",
       "    }\n",
       "\n",
       "    .dataframe thead th {\n",
       "        text-align: right;\n",
       "    }\n",
       "</style>\n",
       "<table border=\"1\" class=\"dataframe\">\n",
       "  <thead>\n",
       "    <tr style=\"text-align: right;\">\n",
       "      <th></th>\n",
       "      <th>T</th>\n",
       "      <th>dof</th>\n",
       "      <th>alternative</th>\n",
       "      <th>p-val</th>\n",
       "      <th>CI95%</th>\n",
       "      <th>cohen-d</th>\n",
       "      <th>BF10</th>\n",
       "      <th>power</th>\n",
       "    </tr>\n",
       "  </thead>\n",
       "  <tbody>\n",
       "    <tr>\n",
       "      <th>T-test</th>\n",
       "      <td>0.885437</td>\n",
       "      <td>58595.481423</td>\n",
       "      <td>two-sided</td>\n",
       "      <td>0.375924</td>\n",
       "      <td>[-1.4, 3.72]</td>\n",
       "      <td>0.005934</td>\n",
       "      <td>0.011</td>\n",
       "      <td>0.14473</td>\n",
       "    </tr>\n",
       "  </tbody>\n",
       "</table>\n",
       "</div>"
      ],
      "text/plain": [
       "               T           dof alternative     p-val         CI95%   cohen-d  \\\n",
       "T-test  0.885437  58595.481423   two-sided  0.375924  [-1.4, 3.72]  0.005934   \n",
       "\n",
       "         BF10    power  \n",
       "T-test  0.011  0.14473  "
      ]
     },
     "execution_count": 44,
     "metadata": {},
     "output_type": "execute_result"
    }
   ],
   "source": [
    "import pandas as pd\n",
    "dataframe = pd.read_csv(\"/Users/Marcy_Student/Desktop/Marcy_Lab/DA2025_Lectures/Mod4_StatsReview/Mod4DC11/cookie_cats.csv\")\n",
    "dataframe.info()\n",
    "\n",
    "# Let's define control and treatment a pandas series\n",
    "A = dataframe.loc[dataframe[\"version\"] == \"gate_30\", \"sum_gamerounds\"]\n",
    "B = dataframe.loc[dataframe[\"version\"] == \"gate_40\", \"sum_gamerounds\"]\n",
    "\n",
    "#next lets find the sample size, and the mean difference\n",
    "group_size = len(A & B)\n",
    "A.mean() \n",
    "B.mean()\n",
    "diff_mean = A.mean() - B.mean()\n",
    "\n",
    "# One call A/B test with effect size\n",
    "res = pg.ttest(x=A, y=B, paired=False,confidence=.95, alternative=\"two-sided\", correction=\"auto\")\n",
    "d = float(res['cohen-d'])\n",
    "\n",
    "label = (\"tiny\" if abs(d) < .2 else\n",
    "         \"small\" if abs(d) < .5 else\n",
    "         \"medium\" if abs(d) < .8 else\n",
    "         \"large\")\n",
    "print(f\"\\nCohen's d = {d:.2f} {label} effect\"\n",
    "      f\"\\nTreatement > Control\" if d > 0 else \"Treatement < Control\")\n",
    "res"
   ]
  },
  {
   "cell_type": "code",
   "execution_count": 38,
   "id": "307cd028",
   "metadata": {},
   "outputs": [
    {
     "name": "stdout",
     "output_type": "stream",
     "text": [
      "73408\n"
     ]
    },
    {
     "data": {
      "text/plain": [
       "np.int64(44700)"
      ]
     },
     "execution_count": 38,
     "metadata": {},
     "output_type": "execute_result"
    }
   ],
   "source": [
    "group_size\n",
    "print(36198+37210)\n",
    "group_a.mean()\n",
    "group_b.mean()\n",
    "group_a.value_counts().sum()\n"
   ]
  },
  {
   "cell_type": "code",
   "execution_count": null,
   "id": "cac86018",
   "metadata": {},
   "outputs": [
    {
     "name": "stdout",
     "output_type": "stream",
     "text": [
      "retention_7\n",
      "False    36198\n",
      "True      8502\n",
      "Name: count, dtype: int64\n",
      "retention_7\n",
      "False    37210\n",
      "True      8279\n",
      "Name: count, dtype: int64\n",
      "0.018780864567321472 0.5074920405026299\n",
      "\n",
      "we fail to reject the null hypothesis, we have no evidence of harm at a significant level of 10%\n"
     ]
    }
   ],
   "source": [
    "import pandas as pd\n",
    "from statsmodels.stats.proportion import proportions_ztest\n",
    "group_a = dataframe.loc[dataframe[\"version\"]==\"gate_30\",\"retention_7\"]\n",
    "group_b = dataframe.loc[dataframe[\"version\"]==\"gate_40\",\"retention_7\"]\n",
    "\n",
    "counts = [group_a.mean(),group_b.mean()] # successes in each group\n",
    "nobs = [44700,45489] # total observations in each group\n",
    "z_stat, p_val = proportions_ztest(counts, nobs, alternative='smaller')\n",
    "#z_statistic, p_value = proportions_ztest(group_size , )\n",
    "print(group_a.value_counts())\n",
    "print(group_b.value_counts())\n",
    "print(z_stat, p_val)\n",
    "\n",
    "if p_val < 0.01:\n",
    "    print(\"At the 10% significance level, treatement B is significantly worse than control A for retention_7.\") \n",
    "else:\n",
    "    print(\"\\nwe fail to reject the null hypothesis, we have no evidence of harm at a significant level of 10%\" \\\n",
    "           \"Treatement B is no worse than control A\")\n",
    "\n"
   ]
  }
 ],
 "metadata": {
  "kernelspec": {
   "display_name": "data-analysis-env",
   "language": "python",
   "name": "python3"
  },
  "language_info": {
   "codemirror_mode": {
    "name": "ipython",
    "version": 3
   },
   "file_extension": ".py",
   "mimetype": "text/x-python",
   "name": "python",
   "nbconvert_exporter": "python",
   "pygments_lexer": "ipython3",
   "version": "3.9.22"
  }
 },
 "nbformat": 4,
 "nbformat_minor": 5
}
