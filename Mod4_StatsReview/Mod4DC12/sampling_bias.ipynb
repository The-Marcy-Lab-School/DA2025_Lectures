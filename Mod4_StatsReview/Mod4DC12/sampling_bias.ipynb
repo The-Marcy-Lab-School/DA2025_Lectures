{
 "cells": [
  {
   "cell_type": "code",
   "execution_count": 1,
   "id": "ad607087",
   "metadata": {},
   "outputs": [
    {
     "name": "stdout",
     "output_type": "stream",
     "text": [
      "Population pass rate: 0.444\n"
     ]
    },
    {
     "data": {
      "text/plain": [
       "segment\n",
       "basic    0.2964\n",
       "free     0.4983\n",
       "pro      0.2053\n",
       "Name: pop_share, dtype: float64"
      ]
     },
     "execution_count": 1,
     "metadata": {},
     "output_type": "execute_result"
    }
   ],
   "source": [
    "import numpy as np, pandas as pd\n",
    "from statsmodels.stats.proportion import proportions_ztest\n",
    "\n",
    "rng = np.random.default_rng(7)\n",
    "N = 10_000\n",
    "\n",
    "segment = rng.choice(['free','basic','pro'], size=N, p=[0.5, 0.3, 0.2])\n",
    "region  = rng.choice(['NE','SE','MW','W'], size=N, p=[0.2, 0.3, 0.3, 0.2])\n",
    "age     = rng.normal(30, 8, N).clip(18, 65)\n",
    "\n",
    "# True pass probability has real segment/region effects (creates risk of bias)\n",
    "base = 0.40 + (segment=='pro')*0.12 + (segment=='basic')*0.05 + (region=='W')*0.03 + (age>40)*(-0.02)\n",
    "p = np.clip(base, 0.05, 0.95)\n",
    "passed = rng.binomial(1, p, N).astype(bool)\n",
    "\n",
    "df_pop = pd.DataFrame({'segment':segment, 'region':region, 'age':age, 'passed':passed})\n",
    "pop_rates = df_pop['passed'].mean()\n",
    "pop_mix   = df_pop['segment'].value_counts(normalize=True).rename('pop_share').sort_index()\n",
    "pop_mix_reg = df_pop['region'].value_counts(normalize=True).rename('pop_share').sort_index()\n",
    "\n",
    "print(f\"Population pass rate: {pop_rates:.3f}\")\n",
    "pop_mix"
   ]
  },
  {
   "cell_type": "markdown",
   "id": "bf004ae9",
   "metadata": {},
   "source": [
    "### 1. Draw a proportional stratified sample of size n = 600"
   ]
  },
  {
   "cell_type": "code",
   "execution_count": 2,
   "id": "82c687f3",
   "metadata": {},
   "outputs": [],
   "source": [
    "n = 600\n",
    "# Perform a value_counts with normalize = TRUE on the \"segment\" column \n",
    "draws_valuecounts = df_pop['segment'].value_counts(normalize=True)\n",
    "\n",
    "# Translates proportions to add up to the sample count -- feel free to print this var out \n",
    "draws = (draws_valuecounts * n).round().astype(int)\n",
    "\n",
    "sample_strat = []\n",
    "for seg, k in draws.items():\n",
    "    #None should be the key identified in the for statement \n",
    "    sample_strat.append(df_pop[df_pop['segment']==seg].sample(k, random_state=7))\n",
    "df_strat = pd.concat(sample_strat, ignore_index=True)"
   ]
  },
  {
   "cell_type": "markdown",
   "id": "0c988de7",
   "metadata": {},
   "source": [
    "### 2.\tRepresentation check (sample vs population shares by segment)"
   ]
  },
  {
   "cell_type": "code",
   "execution_count": 3,
   "id": "f88a3e15",
   "metadata": {},
   "outputs": [
    {
     "data": {
      "text/html": [
       "<div>\n",
       "<style scoped>\n",
       "    .dataframe tbody tr th:only-of-type {\n",
       "        vertical-align: middle;\n",
       "    }\n",
       "\n",
       "    .dataframe tbody tr th {\n",
       "        vertical-align: top;\n",
       "    }\n",
       "\n",
       "    .dataframe thead th {\n",
       "        text-align: right;\n",
       "    }\n",
       "</style>\n",
       "<table border=\"1\" class=\"dataframe\">\n",
       "  <thead>\n",
       "    <tr style=\"text-align: right;\">\n",
       "      <th></th>\n",
       "      <th>pop_share</th>\n",
       "      <th>sample_share</th>\n",
       "      <th>abs_diff</th>\n",
       "    </tr>\n",
       "    <tr>\n",
       "      <th>segment</th>\n",
       "      <th></th>\n",
       "      <th></th>\n",
       "      <th></th>\n",
       "    </tr>\n",
       "  </thead>\n",
       "  <tbody>\n",
       "    <tr>\n",
       "      <th>basic</th>\n",
       "      <td>0.2964</td>\n",
       "      <td>0.296667</td>\n",
       "      <td>0.000267</td>\n",
       "    </tr>\n",
       "    <tr>\n",
       "      <th>free</th>\n",
       "      <td>0.4983</td>\n",
       "      <td>0.498333</td>\n",
       "      <td>0.000033</td>\n",
       "    </tr>\n",
       "    <tr>\n",
       "      <th>pro</th>\n",
       "      <td>0.2053</td>\n",
       "      <td>0.205000</td>\n",
       "      <td>-0.000300</td>\n",
       "    </tr>\n",
       "  </tbody>\n",
       "</table>\n",
       "</div>"
      ],
      "text/plain": [
       "         pop_share  sample_share  abs_diff\n",
       "segment                                   \n",
       "basic       0.2964      0.296667  0.000267\n",
       "free        0.4983      0.498333  0.000033\n",
       "pro         0.2053      0.205000 -0.000300"
      ]
     },
     "execution_count": 3,
     "metadata": {},
     "output_type": "execute_result"
    }
   ],
   "source": [
    "strat_mix = df_strat['segment'].value_counts(normalize=True).rename('sample_share').sort_index()\n",
    "rep_check = pd.concat([pop_mix, strat_mix], axis=1)\n",
    "\n",
    "#Should be the sample share minus the pop share within the 'rep_check' dataframe -- don't forget to use the .abs() at the end of the formula\n",
    "rep_check['abs_diff'] = rep_check['sample_share'].abs() - rep_check['pop_share'].abs()\n",
    "rep_check"
   ]
  },
  {
   "cell_type": "markdown",
   "id": "9d7a686a",
   "metadata": {},
   "source": [
    "### 3. Describe (K5): mean/SD of age, pass rate"
   ]
  },
  {
   "cell_type": "code",
   "execution_count": 4,
   "id": "02da9cfa",
   "metadata": {},
   "outputs": [
    {
     "data": {
      "text/html": [
       "<div>\n",
       "<style scoped>\n",
       "    .dataframe tbody tr th:only-of-type {\n",
       "        vertical-align: middle;\n",
       "    }\n",
       "\n",
       "    .dataframe tbody tr th {\n",
       "        vertical-align: top;\n",
       "    }\n",
       "\n",
       "    .dataframe thead th {\n",
       "        text-align: right;\n",
       "    }\n",
       "</style>\n",
       "<table border=\"1\" class=\"dataframe\">\n",
       "  <thead>\n",
       "    <tr style=\"text-align: right;\">\n",
       "      <th></th>\n",
       "      <th>age</th>\n",
       "      <th>passed</th>\n",
       "    </tr>\n",
       "  </thead>\n",
       "  <tbody>\n",
       "    <tr>\n",
       "      <th>age_mean</th>\n",
       "      <td>29.969704</td>\n",
       "      <td>NaN</td>\n",
       "    </tr>\n",
       "    <tr>\n",
       "      <th>age_sd</th>\n",
       "      <td>7.429717</td>\n",
       "      <td>NaN</td>\n",
       "    </tr>\n",
       "    <tr>\n",
       "      <th>pass_rate</th>\n",
       "      <td>NaN</td>\n",
       "      <td>0.421667</td>\n",
       "    </tr>\n",
       "  </tbody>\n",
       "</table>\n",
       "</div>"
      ],
      "text/plain": [
       "                 age    passed\n",
       "age_mean   29.969704       NaN\n",
       "age_sd      7.429717       NaN\n",
       "pass_rate        NaN  0.421667"
      ]
     },
     "execution_count": 4,
     "metadata": {},
     "output_type": "execute_result"
    }
   ],
   "source": [
    "desc = df_strat.agg(age_mean=('age','mean'),\n",
    "                    age_sd=('age','std'),\n",
    "                    pass_rate=('passed','mean'))\n",
    "desc\n"
   ]
  },
  {
   "cell_type": "markdown",
   "id": "033d6076",
   "metadata": {},
   "source": [
    "### 4. Quick hypothesis test: Does your sample’s pass rate differ from the population?(One-sample proportion z-test vs pop mean; approximate but intuitive.)"
   ]
  },
  {
   "cell_type": "code",
   "execution_count": 5,
   "id": "f92afadc",
   "metadata": {},
   "outputs": [
    {
     "name": "stdout",
     "output_type": "stream",
     "text": [
      "z=-1.12, p=0.2637\n",
      "We fail to reject the null hypothesis, the sample pass rate is the same as the population.\n"
     ]
    }
   ],
   "source": [
    "count = df_strat['passed'].sum()\n",
    "nobs  = len(df_strat)\n",
    "# H0: p_sample = p_pop  vs  H1: p_sample != p_pop\n",
    "#Use the count and nobs vars above to fill in Nones\n",
    "stat, pval = proportions_ztest(count=count, nobs=nobs, value=pop_rates)\n",
    "print(f\"z={stat:.2f}, p={pval:.4f}\")\n",
    "\n",
    "if pval < 0.05:\n",
    "    print(\"We have enough evidence to reject the null hypothesis, the sample pass rate is truly different from the population\")\n",
    "else: \n",
    "    print(\"We fail to reject the null hypothesis, the sample pass rate is the same as the population.\")\n"
   ]
  },
  {
   "cell_type": "markdown",
   "id": "174bb919",
   "metadata": {},
   "source": [
    "## Bias & Ethics write-up\n",
    "- Where could sampling bias arise here and why (hint: region affects true pass probability in the population-generating process)?\n",
    "    - Sampling bias could arise if the stratified sampling is done incorrectly, for example, if the samples are not properly defined and do not reflect the true population. In this scenario, for example, segment, age, and pass are different in each region. If we stratify a sample and take 50% from each, we could introduce bias. \n",
    "- One mitigation you would implement (weighting regions back to population shares or a stratified-cluster design).\n",
    "    - One mitigation I'd implement is applying post-stratification weighting, adjusting the sample's data so that each region is represented in proportion to its actual population size.\n",
    "- One fairness metric you would monitor across segments in your sample vs population (e.g., disparate impact ratio = min(group_rate)/max(group_rate) or demographic parity difference). Flag if ratio < 0.80.\n",
    "    - One metric I'd monitor would be the rate for the true population and for the sample, and see how they behave and change across time. \n",
    "- One product decision risk if you deploy insights from a biased sample (tie to business/user impact).\n",
    "   - Any insight derived from a biased sample would be cost-effective for businesses, as they will spend money on the wrong feature and lose revenues. Also, it will impact users and underrepresented groups and lead to dissatisfaction or disengagement."
   ]
  }
 ],
 "metadata": {
  "kernelspec": {
   "display_name": "data-analysis-env",
   "language": "python",
   "name": "python3"
  },
  "language_info": {
   "codemirror_mode": {
    "name": "ipython",
    "version": 3
   },
   "file_extension": ".py",
   "mimetype": "text/x-python",
   "name": "python",
   "nbconvert_exporter": "python",
   "pygments_lexer": "ipython3",
   "version": "3.9.22"
  }
 },
 "nbformat": 4,
 "nbformat_minor": 5
}
