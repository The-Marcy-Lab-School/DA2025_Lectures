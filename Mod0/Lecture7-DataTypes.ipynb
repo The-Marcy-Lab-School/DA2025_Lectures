{
 "cells": [
  {
   "cell_type": "markdown",
   "metadata": {},
   "source": [
    "# Exploring Data Types in Python: A Playlist Example\n",
    "\n",
    "In this notebook, we’ll explore different data types in Python using a relatable scenario: managing a music playlist.  \n",
    "We’ll cover:\n",
    "- Variable assignments.\n",
    "- Numeric and non-numeric data types.\n",
    "- Accessing and determining data types.\n",
    "\n",
    "Let’s get started! (This will be somewhat a review from pre-work)"
   ]
  },
  {
   "cell_type": "markdown",
   "metadata": {},
   "source": [
    "## Section 1:  Assign Variables "
   ]
  },
  {
   "cell_type": "code",
   "execution_count": null,
   "metadata": {},
   "outputs": [],
   "source": [
    "# Assigning variables for a playlist\n",
    "song_title = bhfhurhufrurhu     # Non-numeric (string)\n",
    "artist = None         # Non-numeric (string)\n",
    "duration = None       # Numeric (float)\n",
    "play_count = None     # Numeric (integer) can make this up\n",
    "is_favorite = True    # Non-numeric (boolean)\n",
    "\n",
    "\n",
    "# Printing the variables -- finish the print statements \n",
    "print(\"Song Title:\", song_title)"
   ]
  },
  {
   "cell_type": "markdown",
   "metadata": {},
   "source": [
    "## Section 2:  Verify the Data Type using the `type` function"
   ]
  },
  {
   "cell_type": "code",
   "execution_count": null,
   "metadata": {},
   "outputs": [],
   "source": [
    "print(\"Data type of song_title:\", type(song_title))\n",
    "\n",
    "## Fill in the rest of the print statements below for duration, play_count, & is_favorite "
   ]
  },
  {
   "cell_type": "markdown",
   "metadata": {},
   "source": [
    "## Section 3:  Accessing Data in a List"
   ]
  },
  {
   "cell_type": "code",
   "execution_count": null,
   "metadata": {},
   "outputs": [],
   "source": [
    "## Run this cell without changes \n",
    "\n",
    "playlist = [\"Thriller\", 1982, \"Michael Jackson\", {'Budget': 500000}]"
   ]
  },
  {
   "cell_type": "code",
   "execution_count": null,
   "metadata": {},
   "outputs": [],
   "source": [
    "## Before running this cell what item for the list will print out?\n",
    "playlist[1]"
   ]
  },
  {
   "cell_type": "code",
   "execution_count": null,
   "metadata": {},
   "outputs": [],
   "source": [
    "## Return the last item of the list -- try negative indexing \n",
    "\n",
    "None "
   ]
  },
  {
   "cell_type": "code",
   "execution_count": null,
   "metadata": {},
   "outputs": [],
   "source": [
    "## Return the type of the last item in the list \n",
    "\n",
    "None "
   ]
  },
  {
   "cell_type": "code",
   "execution_count": null,
   "metadata": {},
   "outputs": [],
   "source": [
    "## Run this -- why did it return what it returned? \n",
    "\n",
    "playlist[:2]"
   ]
  },
  {
   "cell_type": "markdown",
   "metadata": {},
   "source": [
    "## Section 4:  Numeric Data Calculations "
   ]
  },
  {
   "cell_type": "code",
   "execution_count": null,
   "metadata": {},
   "outputs": [],
   "source": [
    "# Numeric data: durations of songs\n",
    "durations = [3.45, 4.02, 3.50, 4.10]\n",
    "\n",
    "# Non-numeric data: genres of songs\n",
    "genres = [\"Pop\", \"R&B\", \"Pop\", \"R&B\"]\n",
    "\n",
    "# Calculating the average duration of all songs \n",
    "average_duration = None "
   ]
  },
  {
   "cell_type": "markdown",
   "metadata": {},
   "source": [
    "## Section 5:  Combining Lists into Dictionaries "
   ]
  },
  {
   "cell_type": "code",
   "execution_count": null,
   "metadata": {},
   "outputs": [],
   "source": [
    "# Creating a dictionary to combine data types\n",
    "playlist_info = {\n",
    "    \"Song Items\": playlist,\n",
    "    \"Durations\": durations,\n",
    "    \"Genres\": genres\n",
    "}\n",
    "\n",
    "# Accessing data from the dictionary\n",
    "print(\"All song items:\", playlist_info[\"Song Titles\"])\n",
    "print(\"First song duration:\", playlist_info[\"Durations\"][0])\n",
    "\n",
    "# Print the last genre in the genres list use the above print statements to guide you \n",
    "None "
   ]
  },
  {
   "cell_type": "markdown",
   "metadata": {},
   "source": [
    "# Conclusion\n",
    "\n",
    "In this notebook, we explored:\n",
    "- Assigning variables with different data types.\n",
    "- Differentiating between numeric and non-numeric data.\n",
    "- Using Python data structures like lists and dictionaries to manage data.\n",
    "\n",
    "Understanding data types is essential for working with real-world datasets. Keep practicing, and you’ll be ready to tackle more complex scenarios!"
   ]
  }
 ],
 "metadata": {
  "kernelspec": {
   "display_name": "Python (learn-env)",
   "language": "python",
   "name": "learn-env"
  },
  "language_info": {
   "name": "python",
   "version": "3.12.4"
  }
 },
 "nbformat": 4,
 "nbformat_minor": 2
}
