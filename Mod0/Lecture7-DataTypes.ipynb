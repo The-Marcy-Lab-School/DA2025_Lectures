{
 "cells": [
  {
   "cell_type": "markdown",
   "metadata": {},
   "source": [
    "# Exploring Data Types in Python: A Playlist Example\n",
    "\n",
    "In this notebook, we’ll explore different data types in Python using a relatable scenario: managing a music playlist.  \n",
    "We’ll cover:\n",
    "- Variable assignments.\n",
    "- Numeric and non-numeric data types.\n",
    "- Accessing and determining data types.\n",
    "\n",
    "Let’s get started! (This will be somewhat a review from pre-work)"
   ]
  },
  {
   "cell_type": "markdown",
   "metadata": {},
   "source": [
    "## Section 1:  Assign Variables "
   ]
  },
  {
   "cell_type": "code",
   "execution_count": 12,
   "metadata": {},
   "outputs": [
    {
     "name": "stdout",
     "output_type": "stream",
     "text": [
      "Song Title: Fluorine - Demo\n",
      "Artist: Blandest\n",
      "Duration: 4.65min\n",
      "Listens: 18525\n",
      "Favorite Song?: True\n"
     ]
    }
   ],
   "source": [
    "# Assigning variables for a playlist\n",
    "song_title = \"Fluorine - Demo\"     # Non-numeric (string)\n",
    "artist = \"Blandest\"         # Non-numeric (string)\n",
    "duration = 4.65       # Numeric (float)\n",
    "play_count = 18525     # Numeric (integer) can make this up\n",
    "is_favorite = True    # Non-numeric (boolean)\n",
    "\n",
    "\n",
    "# Printing the variables -- finish the print statements \n",
    "print(\"Song Title:\", song_title)\n",
    "print(\"Artist:\", artist)\n",
    "print(\"Duration:\", str(duration) + \"min\")\n",
    "print(\"Listens:\", play_count)\n",
    "print(\"Favorite Song?:\", is_favorite)"
   ]
  },
  {
   "cell_type": "markdown",
   "metadata": {},
   "source": [
    "## Section 2:  Verify the Data Type using the `type` function"
   ]
  },
  {
   "cell_type": "code",
   "execution_count": 15,
   "metadata": {},
   "outputs": [
    {
     "name": "stdout",
     "output_type": "stream",
     "text": [
      "Data type of song_title: <class 'str'>\n",
      "Data type of duration: <class 'float'>\n",
      "Data type of play_count: <class 'int'>\n",
      "Data type of is_favorite: <class 'bool'>\n"
     ]
    }
   ],
   "source": [
    "print(\"Data type of song_title:\", type(song_title))\n",
    "print(\"Data type of duration:\", type(duration))\n",
    "print(\"Data type of play_count:\", type(play_count))\n",
    "print(\"Data type of is_favorite:\", type(is_favorite))\n",
    "## Fill in the rest of the print statements below for duration, play_count, & is_favorite "
   ]
  },
  {
   "cell_type": "markdown",
   "metadata": {},
   "source": [
    "## Section 3:  Accessing Data in a List"
   ]
  },
  {
   "cell_type": "code",
   "execution_count": 16,
   "metadata": {},
   "outputs": [],
   "source": [
    "## Run this cell without changes \n",
    "\n",
    "playlist = [\"Thriller\", 1982, \"Michael Jackson\", {'Budget': 500000}]"
   ]
  },
  {
   "cell_type": "code",
   "execution_count": 17,
   "metadata": {},
   "outputs": [
    {
     "data": {
      "text/plain": [
       "1982"
      ]
     },
     "execution_count": 17,
     "metadata": {},
     "output_type": "execute_result"
    }
   ],
   "source": [
    "## Before running this cell what item for the list will print out?\n",
    "playlist[1]"
   ]
  },
  {
   "cell_type": "code",
   "execution_count": 18,
   "metadata": {},
   "outputs": [
    {
     "data": {
      "text/plain": [
       "{'Budget': 500000}"
      ]
     },
     "execution_count": 18,
     "metadata": {},
     "output_type": "execute_result"
    }
   ],
   "source": [
    "## Return the last item of the list -- try negative indexing \n",
    "\n",
    "playlist[-1] "
   ]
  },
  {
   "cell_type": "code",
   "execution_count": 19,
   "metadata": {},
   "outputs": [
    {
     "data": {
      "text/plain": [
       "dict"
      ]
     },
     "execution_count": 19,
     "metadata": {},
     "output_type": "execute_result"
    }
   ],
   "source": [
    "## Return the type of the last item in the list \n",
    "\n",
    "type(playlist[-1]) "
   ]
  },
  {
   "cell_type": "code",
   "execution_count": 21,
   "metadata": {},
   "outputs": [
    {
     "data": {
      "text/plain": [
       "['Thriller', 1982]"
      ]
     },
     "execution_count": 21,
     "metadata": {},
     "output_type": "execute_result"
    }
   ],
   "source": [
    "## Run this -- why did it return what it returned? \n",
    "\n",
    "playlist[:2]\n",
    "# colon indicates a range. An empty space for the first value indicates the first value of the range. Up until the 2nd value, not including the 2nd"
   ]
  },
  {
   "cell_type": "markdown",
   "metadata": {},
   "source": [
    "## Section 4:  Numeric Data Calculations "
   ]
  },
  {
   "cell_type": "code",
   "execution_count": 22,
   "metadata": {},
   "outputs": [
    {
     "name": "stdout",
     "output_type": "stream",
     "text": [
      "3.7674999999999996\n"
     ]
    }
   ],
   "source": [
    "# Numeric data: durations of songs\n",
    "durations = [3.45, 4.02, 3.50, 4.10]\n",
    "\n",
    "# Non-numeric data: genres of songs\n",
    "genres = [\"Pop\", \"R&B\", \"Pop\", \"R&B\"]\n",
    "\n",
    "# Calculating the average duration of all songs \n",
    "average_duration = sum(durations) / len(durations)\n",
    "print(average_duration) "
   ]
  },
  {
   "cell_type": "markdown",
   "metadata": {},
   "source": [
    "## Section 5:  Combining Lists into Dictionaries "
   ]
  },
  {
   "cell_type": "code",
   "execution_count": 26,
   "metadata": {},
   "outputs": [
    {
     "name": "stdout",
     "output_type": "stream",
     "text": [
      "All song items: ['Thriller', 1982, 'Michael Jackson', {'Budget': 500000}]\n",
      "First song duration: 3.45\n",
      "last genre R&B\n"
     ]
    }
   ],
   "source": [
    "# Creating a dictionary to combine data types\n",
    "playlist_info = {\n",
    "    \"Song Items\": playlist,\n",
    "    \"Durations\": durations,\n",
    "    \"Genres\": genres\n",
    "}\n",
    "\n",
    "# Accessing data from the dictionary\n",
    "print(\"All song items:\", playlist_info[\"Song Items\"])\n",
    "print(\"First song duration:\", playlist_info[\"Durations\"][0])\n",
    "\n",
    "# Print the last genre in the genres list use the above print statements to guide you \n",
    "print(\"last genre\", playlist_info[\"Genres\"][-1])"
   ]
  },
  {
   "cell_type": "markdown",
   "metadata": {},
   "source": [
    "# Conclusion\n",
    "\n",
    "In this notebook, we explored:\n",
    "- Assigning variables with different data types.\n",
    "- Differentiating between numeric and non-numeric data.\n",
    "- Using Python data structures like lists and dictionaries to manage data.\n",
    "\n",
    "Understanding data types is essential for working with real-world datasets. Keep practicing, and you’ll be ready to tackle more complex scenarios!"
   ]
  }
 ],
 "metadata": {
  "kernelspec": {
   "display_name": "data-analysis-env",
   "language": "python",
   "name": "python3"
  },
  "language_info": {
   "codemirror_mode": {
    "name": "ipython",
    "version": 3
   },
   "file_extension": ".py",
   "mimetype": "text/x-python",
   "name": "python",
   "nbconvert_exporter": "python",
   "pygments_lexer": "ipython3",
   "version": "3.9.22"
  }
 },
 "nbformat": 4,
 "nbformat_minor": 2
}
