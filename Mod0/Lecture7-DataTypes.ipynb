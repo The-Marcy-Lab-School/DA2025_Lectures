{
 "cells": [
  {
   "cell_type": "markdown",
   "metadata": {},
   "source": [
    "# Exploring Data Types in Python: A Playlist Example\n",
    "\n",
    "In this notebook, we’ll explore different data types in Python using a relatable scenario: managing a music playlist.  \n",
    "We’ll cover:\n",
    "- Variable assignments.\n",
    "- Numeric and non-numeric data types.\n",
    "- Accessing and determining data types.\n",
    "\n",
    "Let’s get started! (This will be somewhat a review from pre-work)"
   ]
  },
  {
   "cell_type": "markdown",
   "metadata": {},
   "source": [
    "## Section 1:  Assign Variables "
   ]
  },
  {
   "cell_type": "code",
   "execution_count": 5,
   "metadata": {},
   "outputs": [
    {
     "name": "stdout",
     "output_type": "stream",
     "text": [
      "Song Title: Solas x intersteller\n",
      "Artist: Gabriel Albuquerqüe, Gabriel Piano\n",
      "Duration time: 2.36\n",
      "Play count: 4\n",
      "Is it a favorite: True\n"
     ]
    }
   ],
   "source": [
    "# Assigning variables for a playlist\n",
    "song_title = 'Solas x intersteller'    # Non-numeric (string)\n",
    "artist = 'Gabriel Albuquerqüe, Gabriel Piano'         # Non-numeric (string)\n",
    "duration = 2.36       # Numeric (float)\n",
    "play_count = 4     # Numeric (integer) can make this up\n",
    "is_favorite = True    # Non-numeric (boolean)\n",
    "\n",
    "\n",
    "# Printing the variables -- finish the print statements \n",
    "print(\"Song Title:\", song_title)\n",
    "print('Artist:', artist)\n",
    "print('Duration time:',duration)\n",
    "print('Play count:', play_count )\n",
    "print('Is it a favorite:', is_favorite)"
   ]
  },
  {
   "cell_type": "markdown",
   "metadata": {},
   "source": [
    "## Section 2:  Verify the Data Type using the `type` function"
   ]
  },
  {
   "cell_type": "code",
   "execution_count": 6,
   "metadata": {},
   "outputs": [
    {
     "name": "stdout",
     "output_type": "stream",
     "text": [
      "Data type of song_title: <class 'str'>\n",
      "Data type of artist: <class 'str'>\n",
      "Data type of duration: <class 'float'>\n",
      "Data type of play_count: <class 'int'>\n",
      "Data type of is_favorite: <class 'bool'>\n"
     ]
    }
   ],
   "source": [
    "print(\"Data type of song_title:\", type(song_title))\n",
    "print(\"Data type of artist:\", type(artist))\n",
    "print(\"Data type of duration:\", type(duration))\n",
    "print(\"Data type of play_count:\", type(play_count))\n",
    "print(\"Data type of is_favorite:\", type(is_favorite))\n",
    "## Fill in the rest of the print statements below for duration, play_count, & is_favorite "
   ]
  },
  {
   "cell_type": "markdown",
   "metadata": {},
   "source": [
    "## Section 3:  Accessing Data in a List"
   ]
  },
  {
   "cell_type": "code",
   "execution_count": 7,
   "metadata": {},
   "outputs": [],
   "source": [
    "## Run this cell without changes \n",
    "\n",
    "playlist = [\"Thriller\", 1982, \"Michael Jackson\", {'Budget': 500000}]\n"
   ]
  },
  {
   "cell_type": "code",
   "execution_count": 8,
   "metadata": {},
   "outputs": [
    {
     "data": {
      "text/plain": [
       "1982"
      ]
     },
     "execution_count": 8,
     "metadata": {},
     "output_type": "execute_result"
    }
   ],
   "source": [
    "## Before running this cell what item for the list will print out?\n",
    "playlist[1] #1982"
   ]
  },
  {
   "cell_type": "code",
   "execution_count": 9,
   "metadata": {},
   "outputs": [
    {
     "data": {
      "text/plain": [
       "{'Budget': 500000}"
      ]
     },
     "execution_count": 9,
     "metadata": {},
     "output_type": "execute_result"
    }
   ],
   "source": [
    "## Return the last item of the list -- try negative indexing \n",
    "playlist[-1]"
   ]
  },
  {
   "cell_type": "code",
   "execution_count": 10,
   "metadata": {},
   "outputs": [
    {
     "data": {
      "text/plain": [
       "dict"
      ]
     },
     "execution_count": 10,
     "metadata": {},
     "output_type": "execute_result"
    }
   ],
   "source": [
    "## Return the type of the last item in the list \n",
    "\n",
    "type(playlist[3])"
   ]
  },
  {
   "cell_type": "code",
   "execution_count": 11,
   "metadata": {},
   "outputs": [
    {
     "data": {
      "text/plain": [
       "['Thriller', 1982]"
      ]
     },
     "execution_count": 11,
     "metadata": {},
     "output_type": "execute_result"
    }
   ],
   "source": [
    "## Run this -- why did it return what it returned? \n",
    "# it prints the item before index 2\n",
    "playlist[:2]"
   ]
  },
  {
   "cell_type": "markdown",
   "metadata": {},
   "source": [
    "## Section 4:  Numeric Data Calculations "
   ]
  },
  {
   "cell_type": "code",
   "execution_count": 12,
   "metadata": {},
   "outputs": [
    {
     "name": "stdout",
     "output_type": "stream",
     "text": [
      "Average duration: 3.7674999999999996\n",
      "Another way to find average duration: 3.7675\n"
     ]
    }
   ],
   "source": [
    "# Numeric data: durations of songs\n",
    "durations = [3.45, 4.02, 3.50, 4.10]\n",
    "\n",
    "# Non-numeric data: genres of songs\n",
    "genres = [\"Pop\", \"R&B\", \"Pop\", \"R&B\"]\n",
    "\n",
    "# Calculating the average duration of all songs\n",
    "total_duration = 0.0\n",
    "for value in durations:\n",
    "    total_duration += value\n",
    "\n",
    "average_duration = total_duration/len(durations)\n",
    "print(\"Average duration:\", average_duration)\n",
    "\n",
    "print(\"Another way to find average duration:\",sum(durations)/len(durations))\n",
    "\n"
   ]
  },
  {
   "cell_type": "markdown",
   "metadata": {},
   "source": [
    "## Section 5:  Combining Lists into Dictionaries "
   ]
  },
  {
   "cell_type": "code",
   "execution_count": 13,
   "metadata": {},
   "outputs": [
    {
     "name": "stdout",
     "output_type": "stream",
     "text": [
      "All song items: ['Thriller', 1982, 'Michael Jackson', {'Budget': 500000}]\n",
      "First song duration: 3.45\n",
      "Last genre: R&B\n"
     ]
    }
   ],
   "source": [
    "# Creating a dictionary to combine data types\n",
    "playlist_info = {\n",
    "    \"Song Items\": playlist,\n",
    "    \"Durations\": durations,\n",
    "    \"Genres\": genres\n",
    "}\n",
    "\n",
    "# Accessing data from the dictionary\n",
    "print(\"All song items:\", playlist[:])\n",
    "print(\"First song duration:\", durations[0])\n",
    "\n",
    "# Print the last genre in the genres list use the above print statements to guide you \n",
    "print(\"Last genre:\", genres[-1])"
   ]
  },
  {
   "cell_type": "markdown",
   "metadata": {},
   "source": [
    "# Conclusion\n",
    "\n",
    "In this notebook, we explored:\n",
    "- Assigning variables with different data types.\n",
    "- Differentiating between numeric and non-numeric data.\n",
    "- Using Python data structures like lists and dictionaries to manage data.\n",
    "\n",
    "Understanding data types is essential for working with real-world datasets. Keep practicing, and you’ll be ready to tackle more complex scenarios!"
   ]
  }
 ],
 "metadata": {
  "kernelspec": {
   "display_name": "Python 3",
   "language": "python",
   "name": "python3"
  },
  "language_info": {
   "codemirror_mode": {
    "name": "ipython",
    "version": 3
   },
   "file_extension": ".py",
   "mimetype": "text/x-python",
   "name": "python",
   "nbconvert_exporter": "python",
   "pygments_lexer": "ipython3",
   "version": "3.12.7"
  }
 },
 "nbformat": 4,
 "nbformat_minor": 2
}
