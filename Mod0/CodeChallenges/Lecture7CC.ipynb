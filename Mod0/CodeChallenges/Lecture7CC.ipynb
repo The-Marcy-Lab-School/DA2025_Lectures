{
 "cells": [
  {
   "cell_type": "markdown",
   "metadata": {},
   "source": [
    "# **Python Code Challenge: Managing Your Favorite Sports Team**\n",
    "\n",
    "Welcome to your Python code challenge! In this notebook, you will work with strings, lists, and dictionaries to manage information about your favorite sports team. Follow the instructions in each section and fill in the code where indicated.\n",
    "\n",
    "---\n",
    "\n",
    "## **Challenge Objectives**\n",
    "By the end of this challenge, you will:\n",
    "1. Use **variable assignments** to store data.\n",
    "2. Work with **strings** and apply built-in string functions.\n",
    "3. Manipulate **lists** to store and access data.\n",
    "4. Use **dictionaries** to organize and retrieve information.\n",
    "5. Practice using **built-in Python functions** to analyze and manipulate data.\n",
    "\n",
    "---\n",
    "\n",
    "## **Scenario**\n",
    "You are managing information about your favorite sports team. Your team has players, their positions, and their stats. You will:\n",
    "1. Store this information in variables, lists, and dictionaries.\n",
    "2. Use built-in functions to manipulate and analyze the data.\n",
    "3. Answer questions about your team using Python.\n",
    "\n",
    "---\n",
    "\n",
    "## **Instructions**\n",
    "- Replace `None` with your code.\n",
    "- Use only **built-in Python functions** (no external libraries or packages).\n",
    "- Follow the prompts and answer the questions in each section.\n",
    "\n",
    "---\n",
    "\n",
    "## **Part 1: Variable Assignments**\n",
    "\n",
    "### Task:\n",
    "Assign the following information to variables:\n",
    "- Team name: \"Golden Eagles\"\n",
    "- Sport: \"Basketball\"\n",
    "- Number of players: 12\n",
    "- Team captain: \"Jordan Smith\"\n",
    "\n",
    "Fill in the code blocks below:"
   ]
  },
  {
   "cell_type": "code",
   "execution_count": 9,
   "metadata": {},
   "outputs": [
    {
     "name": "stdout",
     "output_type": "stream",
     "text": [
      "Team Name: Golden Egals\n",
      "Sport: Basketball\n",
      "Number of Players: 12\n",
      "Team Captain: Jordan Smith\n"
     ]
    }
   ],
   "source": [
    "# Assign the variables\n",
    "team_name = \"Golden Egals\" # Replace None with the team name\n",
    "sport = \"Basketball\"      # Replace None with the sport\n",
    "num_players = 12  # Replace None with the number of players\n",
    "team_captain = \"Jordan Smith\"  # Replace None with the team captain's name\n",
    "\n",
    "# Print the variables\n",
    "print(\"Team Name:\", team_name)\n",
    "print(\"Sport:\", sport)\n",
    "print(\"Number of Players:\", num_players)\n",
    "print(\"Team Captain:\", team_captain) "
   ]
  },
  {
   "cell_type": "markdown",
   "metadata": {},
   "source": [
    "## **Part 2: Working with Strings**\n",
    "\n",
    "### Task:\n",
    "Use **string methods** to manipulate the team name and captain's name:\n",
    "1. Convert the team name to uppercase.\n",
    "2. Check if the captain's name contains the letter \"a\".\n",
    "3. Replace the word \"Basketball\" in the sport with \"Hoops\".\n",
    "\n",
    "example = \"hello\"\n",
    "example.upper()  # Output: \"HELLO\"\n",
    "\n",
    "Here is a link to documentation of methods [Here](https://www.w3schools.com/python/python_ref_string.asp)\n",
    "\n",
    "Fill in the code below:"
   ]
  },
  {
   "cell_type": "code",
   "execution_count": 6,
   "metadata": {},
   "outputs": [
    {
     "name": "stdout",
     "output_type": "stream",
     "text": [
      "Uppercase Team Name: GOLDEN EGALS\n",
      "Does the captain's name contain 'a'? 1\n",
      "Updated Sport Name: Hoops\n"
     ]
    }
   ],
   "source": [
    "# String manipulations\n",
    "uppercase_team_name = team_name.upper()  # Convert the team name to uppercase\n",
    "contains_a = team_captain.count('a')           # Check if the captain's name contains the letter \"a\"\n",
    "new_sport = sport.replace(\"Basketball\",\"Hoops\")            # Replace \"Basketball\" with \"Hoops\"\n",
    "\n",
    "# Print the results\n",
    "print(\"Uppercase Team Name:\", uppercase_team_name)\n",
    "print(\"Does the captain's name contain 'a'?\", contains_a)\n",
    "print(\"Updated Sport Name:\", new_sport)"
   ]
  },
  {
   "cell_type": "markdown",
   "metadata": {},
   "source": [
    "## **Part 3: Working with Lists**\n",
    "\n",
    "### Task:\n",
    "Create a list to store the names of the players on your team:\n",
    "1. Add the following players to your list:\n",
    "   - \"Jordan Smith\"\n",
    "   - \"Taylor Brown\"\n",
    "   - \"Chris Johnson\"\n",
    "   - \"Alex Lee\"\n",
    "2. Access the first and last players in the list.\n",
    "3. Add a new player, \"Jamie Carter\", to the list.\n",
    "\n",
    "Fill in the code below:"
   ]
  },
  {
   "cell_type": "code",
   "execution_count": 15,
   "metadata": {},
   "outputs": [
    {
     "name": "stdout",
     "output_type": "stream",
     "text": [
      "Players List: ['Jordan Smith', 'Taylor Brown', 'Chris Johnson', 'Alex Lee', 'Jamie Carter']\n",
      "First Player: Jordan Smith\n",
      "Last Player: Alex Lee\n"
     ]
    }
   ],
   "source": [
    "# Create a list of players\n",
    "players = [\"Jordan Smith\",\"Taylor Brown\",\"Chris Johnson\",\"Alex Lee\"]  # Replace None with a list of player names\n",
    "\n",
    "# Access the first and last players\n",
    "first_player = players[0]  # Access the first player\n",
    "last_player = players[-1]   # Access the last player\n",
    "\n",
    "# Add a new player to the list\n",
    "players.append(\"Jamie Carter\")  # Add \"Jamie Carter\"\n",
    "\n",
    "# Print the results\n",
    "print(\"Players List:\", players)\n",
    "print(\"First Player:\", first_player)\n",
    "print(\"Last Player:\", last_player)"
   ]
  },
  {
   "cell_type": "markdown",
   "metadata": {},
   "source": [
    "## **Part 4: Working with Dictionaries**\n",
    "\n",
    "### Task:\n",
    "Create a dictionary to store information about your team:\n",
    "1. Use the following keys and values:\n",
    "   - \"Team Name\": The name of your team.\n",
    "   - \"Sport\": The sport your team plays.\n",
    "   - \"Players\": A list of player names.\n",
    "   - \"Positions\": A list of positions: [\"Guard\", \"Forward\", \"Center\", \"Guard\", \"Forward\"].\n",
    "2. Access the position of the second player.\n",
    "3. Count how many players are \"Guards\".\n",
    "\n",
    "Fill in the code below:"
   ]
  },
  {
   "cell_type": "code",
   "execution_count": 31,
   "metadata": {},
   "outputs": [
    {
     "name": "stdout",
     "output_type": "stream",
     "text": [
      "Team Info: {'Team Name': 'Golden Egals', 'Sport': 'Basketball', 'Players': ['Jordan Smith', 'Taylor Brown', 'Chris Johnson', 'Alex Lee', 'Jamie Carter'], 'Positions': ['Guard', 'Forward', 'Center', 'Guard', 'Forward']}\n",
      "Position of Second Player: Forward\n",
      "Number of Guards: 2\n"
     ]
    }
   ],
   "source": [
    "# Create a dictionary\n",
    "team_info = {\n",
    "    \"Team Name\": team_name,  # Replace None with the team name\n",
    "    \"Sport\": sport,      # Replace None with the sport\n",
    "    \"Players\": players,    # Replace None with the list of players\n",
    "    \"Positions\": [\"Guard\",\"Forward\",\"Center\",\"Guard\",\"Forward\"]   # Replace None with the list of positions\n",
    "}\n",
    "\n",
    "# Access the position of the second player\n",
    "second_player_position = team_info[\"Positions\"][1]  # Access the second position\n",
    "\n",
    "# Count the number of \"Guards\"\n",
    "guard_count = team_info[\"Positions\"].count(\"Guard\") # Count how many times \"Guard\" appears in the positions list\n",
    "\n",
    "# Print the results\n",
    "print(\"Team Info:\", team_info)\n",
    "print(\"Position of Second Player:\", second_player_position)\n",
    "print(\"Number of Guards:\", guard_count)"
   ]
  },
  {
   "cell_type": "markdown",
   "metadata": {},
   "source": [
    "## **Part 5: Analyzing Your Team**\n",
    "\n",
    "### Task:\n",
    "Answer the following questions using Python:\n",
    "1. How many players are on the team?\n",
    "2. What is the total number of unique positions on the team?\n",
    "3. Is \"Jordan Smith\" the team captain?\n",
    "\n",
    "Fill in the code below:"
   ]
  },
  {
   "cell_type": "code",
   "execution_count": 40,
   "metadata": {},
   "outputs": [
    {
     "name": "stdout",
     "output_type": "stream",
     "text": [
      "Total Players: 5\n",
      "Unique Positions: {'Forward', 'Guard', 'Center'}\n",
      "Is Jordan Smith the Captain? True\n"
     ]
    }
   ],
   "source": [
    "# Calculate the number of players\n",
    "total_players = len(players)  # Use the len() function to calculate the number of players\n",
    "\n",
    "# Calculate the number of unique positions\n",
    "unique_positions = set(team_info[\"Positions\"])  # Use the set() function to find unique positions\n",
    "\n",
    "# Check if \"Jordan Smith\" is the team captain\n",
    "is_captain = \"Jordan Smith\" == team_captain  # Use a comparison to check if \"Jordan Smith\" is the captain\n",
    "\n",
    "# Print the results\n",
    "print(\"Total Players:\", total_players)\n",
    "print(\"Unique Positions:\", unique_positions)\n",
    "print(\"Is Jordan Smith the Captain?\", is_captain)"
   ]
  },
  {
   "cell_type": "markdown",
   "metadata": {},
   "source": [
    "## **Part 6: Reflection**\n",
    "\n",
    "### Task:\n",
    "Answer the following questions in the markdown cell below:\n",
    "1. How did working with strings, lists, and dictionaries help you organize your team's information?\n",
    "2. What challenges did you face while completing this challenge?\n",
    "3. How would you use these concepts in a real-world scenario?\n",
    "\n",
    "Write your answers below:"
   ]
  },
  {
   "cell_type": "markdown",
   "metadata": {},
   "source": [
    "# Reflection\n",
    "\n",
    "1. None\n",
    "2. None\n",
    "3. None"
   ]
  }
 ],
 "metadata": {
  "kernelspec": {
   "display_name": "data-analysis-env",
   "language": "python",
   "name": "python3"
  },
  "language_info": {
   "codemirror_mode": {
    "name": "ipython",
    "version": 3
   },
   "file_extension": ".py",
   "mimetype": "text/x-python",
   "name": "python",
   "nbconvert_exporter": "python",
   "pygments_lexer": "ipython3",
   "version": "3.9.22"
  }
 },
 "nbformat": 4,
 "nbformat_minor": 2
}
