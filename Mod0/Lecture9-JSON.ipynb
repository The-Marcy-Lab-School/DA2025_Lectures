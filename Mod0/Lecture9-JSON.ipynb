{
 "cells": [
  {
   "cell_type": "markdown",
   "metadata": {},
   "source": [
    "# Lecture 9 Code-Along: Working with JSON in Python\n",
    "\n",
    "### Objective: Learn how to load, parse, and manipulate JSON data in Python.\n",
    "### Tools: Python's built-in `json` module.\n",
    "### Dataset: A small, open-use JSON file containing sample employee data data stored as `sample.json` in the data folder."
   ]
  },
  {
   "cell_type": "markdown",
   "metadata": {},
   "source": [
    "## Instructions \n",
    "\n",
    "- Step 1: Load a JSON file into Python.\n",
    "- Step 2: Parse the JSON data into a Python dictionary.\n",
    "- Step 3: Access specific data points using keys.\n",
    "- Step 4: Modify the data and save it back to a JSON file.\n"
   ]
  },
  {
   "cell_type": "code",
   "execution_count": 1,
   "metadata": {},
   "outputs": [],
   "source": [
    "# Import the JSON module\n",
    "import json"
   ]
  },
  {
   "cell_type": "code",
   "execution_count": 2,
   "metadata": {},
   "outputs": [],
   "source": [
    "# Step 1: Load the JSON file\n",
    "# Replace 'None' with the correct code to open and load the JSON file\n",
    "with open('data/sample.json', 'r') as file:\n",
    "    data = json.load(file)  # Use json.load() to parse the JSON file"
   ]
  },
  {
   "cell_type": "code",
   "execution_count": null,
   "metadata": {},
   "outputs": [
    {
     "name": "stdout",
     "output_type": "stream",
     "text": [
      "{'employees': [{'name': 'John', 'age': 30}, {'name': 'Anna', 'age': 25}, {'name': 'Peter', 'age': 40}]}\n"
     ]
    }
   ],
   "source": [
    "# Step 2: Access specific data\n",
    "# Replace 'None' with the correct key to access the \"employees\" list\n",
    "employees = data"
   ]
  },
  {
   "cell_type": "code",
   "execution_count": 15,
   "metadata": {},
   "outputs": [
    {
     "data": {
      "text/plain": [
       "{'name': 'Peter', 'age': 40}"
      ]
     },
     "execution_count": 15,
     "metadata": {},
     "output_type": "execute_result"
    }
   ],
   "source": [
    "employees['employees'][-1]"
   ]
  },
  {
   "cell_type": "code",
   "execution_count": 16,
   "metadata": {},
   "outputs": [
    {
     "name": "stdout",
     "output_type": "stream",
     "text": [
      "{'employees': [{'name': 'John', 'age': 30}, {'name': 'Anna', 'age': 25}, {'name': 'Peter', 'age': 40}]}\n"
     ]
    }
   ],
   "source": [
    "\n",
    "\n",
    "print(employees)"
   ]
  },
  {
   "cell_type": "code",
   "execution_count": 17,
   "metadata": {},
   "outputs": [
    {
     "name": "stdout",
     "output_type": "stream",
     "text": [
      "First Employee: {'name': 'John', 'age': 30}\n"
     ]
    }
   ],
   "source": [
    "# Step 3: Access a specific employee's details\n",
    "# Replace 'None' with the correct index to access the first employee\n",
    "first_employee = employees['employees'][0]\n",
    "print(\"First Employee:\", first_employee)"
   ]
  },
  {
   "cell_type": "code",
   "execution_count": 21,
   "metadata": {},
   "outputs": [],
   "source": [
    "# Step 4: Modify the data\n",
    "# Add a new employee to the list\n",
    "new_employee = {\"name\": \"Alice\", \"age\": 28}\n",
    "employees['employees'].append(new_employee)"
   ]
  },
  {
   "cell_type": "code",
   "execution_count": 22,
   "metadata": {},
   "outputs": [
    {
     "data": {
      "text/plain": [
       "{'employees': [{'name': 'John', 'age': 30},\n",
       "  {'name': 'Anna', 'age': 25},\n",
       "  {'name': 'Peter', 'age': 40},\n",
       "  {'name': 'Alice', 'age': 28}]}"
      ]
     },
     "execution_count": 22,
     "metadata": {},
     "output_type": "execute_result"
    }
   ],
   "source": [
    "employees"
   ]
  },
  {
   "cell_type": "code",
   "execution_count": 23,
   "metadata": {},
   "outputs": [],
   "source": [
    "# Step 5: Save the modified data back to a JSON file\n",
    "# Replace 'None' with the correct code to write the updated data to a file\n",
    "with open('updated_sample.json', 'w') as file:\n",
    "    json.dump(employees, file)  # Use json.dump() to save the data"
   ]
  }
 ],
 "metadata": {
  "kernelspec": {
   "display_name": "Python 3",
   "language": "python",
   "name": "python3"
  },
  "language_info": {
   "codemirror_mode": {
    "name": "ipython",
    "version": 3
   },
   "file_extension": ".py",
   "mimetype": "text/x-python",
   "name": "python",
   "nbconvert_exporter": "python",
   "pygments_lexer": "ipython3",
   "version": "3.11.11"
  }
 },
 "nbformat": 4,
 "nbformat_minor": 2
}
