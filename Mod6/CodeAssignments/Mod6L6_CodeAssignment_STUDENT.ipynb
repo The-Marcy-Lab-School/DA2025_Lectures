{
 "cells": [
  {
   "cell_type": "markdown",
   "metadata": {},
   "source": [
    "# Data Challenge 7 — Evaluating SLR, Assumptions, & the Bias–Variance Tradeoff\n",
    "\n",
    "**Goal:** Fit a simple linear regression (SLR) with a **train–test split**, report **MAE/RMSE** on *unseen* data, and use **training residuals** to check assumptions. Explain **bias vs. variance** in plain English.\n",
    "\n",
    "\n",
    "> Dataset: **NYC Yellow Taxi — Dec 2023** (CSV). Keep code *simple* — minimal coercion for chosen columns only."
   ]
  },
  {
   "cell_type": "markdown",
   "metadata": {},
   "source": [
    "## We Do — Instructor Session (20 mins)\n",
    "Use this **step-by-step plan** to guide students. Keep it high-level; they will implement in the *You Do* section.\n",
    "\n",
    "**Docs (quick links):**\n",
    "- Train/Test Split — scikit-learn: https://scikit-learn.org/stable/modules/generated/sklearn.model_selection.train_test_split.html\n",
    "- MAE / MSE / RMSE — scikit-learn: https://scikit-learn.org/stable/modules/generated/sklearn.metrics.mean_absolute_error.html\n",
    "- OLS (fit/predict/residuals) — statsmodels: https://www.statsmodels.org/stable/generated/statsmodels.regression.linear_model.OLS.html\n",
    "- OLS Results (attributes like `resid`, `fittedvalues`, `summary`) — statsmodels: https://www.statsmodels.org/stable/generated/statsmodels.regression.linear_model.RegressionResults.html\n",
    "- Q–Q plot — SciPy: https://docs.scipy.org/doc/scipy/reference/generated/scipy.stats.probplot.html\n",
    "\n",
    "### Pseudocode Plan\n",
    "1) **Load CSV** → preview columns/shape.\n",
    "2) **Assign Y and X (one predictor)** → pick numeric columns that matter; if needed, coerce **just** these to numeric and drop NAs.\n",
    "3) **Add intercept** → `X = add_constant(X)`.\n",
    "4) **Train–test split (80/20)** → `X_train, X_test, y_train, y_test = train_test_split(...)` (set `random_state`).\n",
    "5) **Fit on TRAIN** → `model = OLS(y_train, X_train).fit()`.\n",
    "6) **Predict on TEST** → `y_pred = model.predict(X_test)`.\n",
    "7) **Evaluate on TEST** → compute **MAE** and **RMSE** using `y_test` & `y_pred`; speak in **units of Y**.\n",
    "8) **Diagnostics on TRAIN** → use `model.resid` & `model.fittedvalues` for residuals vs fitted; Q–Q plot; check Durbin–Watson in `model.summary()`.\n",
    "9) **Bias–variance read (optional)** → compare train vs test errors.\n",
    "10) **Stakeholder one-liner** → MAE/RMSE in units + brief reliability note.\n"
   ]
  },
  {
   "cell_type": "markdown",
   "metadata": {},
   "source": [
    "## You Do — Student Section\n",
    "Work in pairs. Keep code simple and comment your choices."
   ]
  },
  {
   "cell_type": "markdown",
   "metadata": {},
   "source": [
    "### Step 0 — Setup & Imports"
   ]
  },
  {
   "cell_type": "code",
   "execution_count": 2,
   "metadata": {},
   "outputs": [],
   "source": [
    "import statsmodels.api as sm\n",
    "from sklearn.linear_model import LinearRegression\n",
    "import pandas as pd\n",
    "import numpy as np\n",
    "import matplotlib.pyplot as plt\n",
    "import scipy.stats as stats\n",
    "from statsmodels.api import add_constant"
   ]
  },
  {
   "cell_type": "markdown",
   "metadata": {},
   "source": [
    "### Step 1 & 2 — Read in the file and Choose **Y** (target) and **X** (one predictor)\n",
    "- Keep them numeric and present in your CSV.\n",
    "\n",
    "**Hint: You may have to drop missing values and do a force coercion to make sure the variables stay numeric (other coding assignments may help)**"
   ]
  },
  {
   "cell_type": "code",
   "execution_count": 3,
   "metadata": {},
   "outputs": [
    {
     "name": "stderr",
     "output_type": "stream",
     "text": [
      "/var/folders/v2/9k8drrwj5h39kpr935vvx6j80000gn/T/ipykernel_1101/1111186147.py:1: DtypeWarning: Columns (4,10,13,16) have mixed types. Specify dtype option on import or set low_memory=False.\n",
      "  df = pd.read_csv('/Users/ayemaq/Desktop/marcy_lab/DA2025_Lectures/Mod6/data/2023_Yellow_Taxi_Trip_Data_20251015.csv')\n"
     ]
    }
   ],
   "source": [
    "df = pd.read_csv('/Users/ayemaq/Desktop/marcy_lab/DA2025_Lectures/Mod6/data/2023_Yellow_Taxi_Trip_Data_20251015.csv')\n"
   ]
  },
  {
   "cell_type": "code",
   "execution_count": 4,
   "metadata": {},
   "outputs": [
    {
     "data": {
      "text/html": [
       "<div>\n",
       "<style scoped>\n",
       "    .dataframe tbody tr th:only-of-type {\n",
       "        vertical-align: middle;\n",
       "    }\n",
       "\n",
       "    .dataframe tbody tr th {\n",
       "        vertical-align: top;\n",
       "    }\n",
       "\n",
       "    .dataframe thead th {\n",
       "        text-align: right;\n",
       "    }\n",
       "</style>\n",
       "<table border=\"1\" class=\"dataframe\">\n",
       "  <thead>\n",
       "    <tr style=\"text-align: right;\">\n",
       "      <th></th>\n",
       "      <th>VendorID</th>\n",
       "      <th>tpep_pickup_datetime</th>\n",
       "      <th>tpep_dropoff_datetime</th>\n",
       "      <th>passenger_count</th>\n",
       "      <th>trip_distance</th>\n",
       "      <th>RatecodeID</th>\n",
       "      <th>store_and_fwd_flag</th>\n",
       "      <th>PULocationID</th>\n",
       "      <th>DOLocationID</th>\n",
       "      <th>payment_type</th>\n",
       "      <th>fare_amount</th>\n",
       "      <th>extra</th>\n",
       "      <th>mta_tax</th>\n",
       "      <th>tip_amount</th>\n",
       "      <th>tolls_amount</th>\n",
       "      <th>improvement_surcharge</th>\n",
       "      <th>total_amount</th>\n",
       "      <th>congestion_surcharge</th>\n",
       "      <th>airport_fee</th>\n",
       "    </tr>\n",
       "  </thead>\n",
       "  <tbody>\n",
       "    <tr>\n",
       "      <th>0</th>\n",
       "      <td>2</td>\n",
       "      <td>12/01/2023 04:11:39 PM</td>\n",
       "      <td>12/01/2023 04:19:13 PM</td>\n",
       "      <td>2.0</td>\n",
       "      <td>0.69</td>\n",
       "      <td>1.0</td>\n",
       "      <td>N</td>\n",
       "      <td>141</td>\n",
       "      <td>140</td>\n",
       "      <td>1</td>\n",
       "      <td>7.9</td>\n",
       "      <td>2.5</td>\n",
       "      <td>0.5</td>\n",
       "      <td>3.0</td>\n",
       "      <td>0.0</td>\n",
       "      <td>1.0</td>\n",
       "      <td>17.4</td>\n",
       "      <td>2.5</td>\n",
       "      <td>0.0</td>\n",
       "    </tr>\n",
       "    <tr>\n",
       "      <th>1</th>\n",
       "      <td>1</td>\n",
       "      <td>12/01/2023 04:11:39 PM</td>\n",
       "      <td>12/01/2023 04:20:41 PM</td>\n",
       "      <td>3.0</td>\n",
       "      <td>1.1</td>\n",
       "      <td>1.0</td>\n",
       "      <td>N</td>\n",
       "      <td>236</td>\n",
       "      <td>263</td>\n",
       "      <td>2</td>\n",
       "      <td>10.0</td>\n",
       "      <td>5.0</td>\n",
       "      <td>0.5</td>\n",
       "      <td>0.0</td>\n",
       "      <td>0.0</td>\n",
       "      <td>1.0</td>\n",
       "      <td>16.5</td>\n",
       "      <td>2.5</td>\n",
       "      <td>0.0</td>\n",
       "    </tr>\n",
       "    <tr>\n",
       "      <th>2</th>\n",
       "      <td>2</td>\n",
       "      <td>12/01/2023 04:11:39 PM</td>\n",
       "      <td>12/01/2023 04:20:38 PM</td>\n",
       "      <td>1.0</td>\n",
       "      <td>1.57</td>\n",
       "      <td>1.0</td>\n",
       "      <td>N</td>\n",
       "      <td>48</td>\n",
       "      <td>239</td>\n",
       "      <td>4</td>\n",
       "      <td>-10.7</td>\n",
       "      <td>-2.5</td>\n",
       "      <td>-0.5</td>\n",
       "      <td>0.0</td>\n",
       "      <td>0.0</td>\n",
       "      <td>-1.0</td>\n",
       "      <td>-17.2</td>\n",
       "      <td>-2.5</td>\n",
       "      <td>0.0</td>\n",
       "    </tr>\n",
       "    <tr>\n",
       "      <th>3</th>\n",
       "      <td>2</td>\n",
       "      <td>12/01/2023 04:11:39 PM</td>\n",
       "      <td>12/01/2023 04:20:38 PM</td>\n",
       "      <td>1.0</td>\n",
       "      <td>1.57</td>\n",
       "      <td>1.0</td>\n",
       "      <td>N</td>\n",
       "      <td>48</td>\n",
       "      <td>239</td>\n",
       "      <td>4</td>\n",
       "      <td>10.7</td>\n",
       "      <td>2.5</td>\n",
       "      <td>0.5</td>\n",
       "      <td>0.0</td>\n",
       "      <td>0.0</td>\n",
       "      <td>1.0</td>\n",
       "      <td>17.2</td>\n",
       "      <td>2.5</td>\n",
       "      <td>0.0</td>\n",
       "    </tr>\n",
       "    <tr>\n",
       "      <th>4</th>\n",
       "      <td>1</td>\n",
       "      <td>12/01/2023 04:11:39 PM</td>\n",
       "      <td>12/01/2023 04:34:39 PM</td>\n",
       "      <td>2.0</td>\n",
       "      <td>3</td>\n",
       "      <td>1.0</td>\n",
       "      <td>N</td>\n",
       "      <td>164</td>\n",
       "      <td>211</td>\n",
       "      <td>1</td>\n",
       "      <td>21.9</td>\n",
       "      <td>5.0</td>\n",
       "      <td>0.5</td>\n",
       "      <td>3.0</td>\n",
       "      <td>0.0</td>\n",
       "      <td>1.0</td>\n",
       "      <td>31.4</td>\n",
       "      <td>2.5</td>\n",
       "      <td>0.0</td>\n",
       "    </tr>\n",
       "  </tbody>\n",
       "</table>\n",
       "</div>"
      ],
      "text/plain": [
       "   VendorID    tpep_pickup_datetime   tpep_dropoff_datetime  passenger_count  \\\n",
       "0         2  12/01/2023 04:11:39 PM  12/01/2023 04:19:13 PM              2.0   \n",
       "1         1  12/01/2023 04:11:39 PM  12/01/2023 04:20:41 PM              3.0   \n",
       "2         2  12/01/2023 04:11:39 PM  12/01/2023 04:20:38 PM              1.0   \n",
       "3         2  12/01/2023 04:11:39 PM  12/01/2023 04:20:38 PM              1.0   \n",
       "4         1  12/01/2023 04:11:39 PM  12/01/2023 04:34:39 PM              2.0   \n",
       "\n",
       "  trip_distance  RatecodeID store_and_fwd_flag  PULocationID  DOLocationID  \\\n",
       "0          0.69         1.0                  N           141           140   \n",
       "1           1.1         1.0                  N           236           263   \n",
       "2          1.57         1.0                  N            48           239   \n",
       "3          1.57         1.0                  N            48           239   \n",
       "4             3         1.0                  N           164           211   \n",
       "\n",
       "   payment_type fare_amount  extra  mta_tax tip_amount  tolls_amount  \\\n",
       "0             1         7.9    2.5      0.5        3.0           0.0   \n",
       "1             2        10.0    5.0      0.5        0.0           0.0   \n",
       "2             4       -10.7   -2.5     -0.5        0.0           0.0   \n",
       "3             4        10.7    2.5      0.5        0.0           0.0   \n",
       "4             1        21.9    5.0      0.5        3.0           0.0   \n",
       "\n",
       "   improvement_surcharge total_amount  congestion_surcharge  airport_fee  \n",
       "0                    1.0         17.4                   2.5          0.0  \n",
       "1                    1.0         16.5                   2.5          0.0  \n",
       "2                   -1.0        -17.2                  -2.5          0.0  \n",
       "3                    1.0         17.2                   2.5          0.0  \n",
       "4                    1.0         31.4                   2.5          0.0  "
      ]
     },
     "execution_count": 4,
     "metadata": {},
     "output_type": "execute_result"
    }
   ],
   "source": [
    "df.head()"
   ]
  },
  {
   "cell_type": "code",
   "execution_count": 5,
   "metadata": {},
   "outputs": [
    {
     "data": {
      "text/plain": [
       "Index(['VendorID', 'tpep_pickup_datetime', 'tpep_dropoff_datetime',\n",
       "       'passenger_count', 'trip_distance', 'RatecodeID', 'store_and_fwd_flag',\n",
       "       'PULocationID', 'DOLocationID', 'payment_type', 'fare_amount', 'extra',\n",
       "       'mta_tax', 'tip_amount', 'tolls_amount', 'improvement_surcharge',\n",
       "       'total_amount', 'congestion_surcharge', 'airport_fee'],\n",
       "      dtype='object')"
      ]
     },
     "execution_count": 5,
     "metadata": {},
     "output_type": "execute_result"
    }
   ],
   "source": [
    "df.keys()"
   ]
  },
  {
   "cell_type": "code",
   "execution_count": 6,
   "metadata": {},
   "outputs": [],
   "source": [
    "# y will be tolls_amount and x will be airport_fee\n",
    "\n",
    "# Select relevant columns\n",
    "df_model = df[['tolls_amount', 'airport_fee']]\n",
    "\n",
    "# Replace inf values with NaN\n",
    "df_model = df_model.replace([np.inf, -np.inf], np.nan)\n",
    "\n",
    "# Drop missing rows\n",
    "df_model = df_model.dropna()\n"
   ]
  },
  {
   "cell_type": "code",
   "execution_count": 7,
   "metadata": {},
   "outputs": [],
   "source": [
    "# This is the input we think explains Y. Here, whether a trip had an airport fee.\n",
    "X = sm.add_constant(df_model[['airport_fee']]) \n",
    "\n",
    "# This is the thing we want to predict, how much toll cost a trip has.\n",
    "y = df_model['tolls_amount']"
   ]
  },
  {
   "cell_type": "markdown",
   "metadata": {},
   "source": [
    "### Step 3 — Train–Test Split (80/20 random split for practice)"
   ]
  },
  {
   "cell_type": "code",
   "execution_count": 8,
   "metadata": {},
   "outputs": [],
   "source": [
    "from sklearn.model_selection import train_test_split"
   ]
  },
  {
   "cell_type": "code",
   "execution_count": 9,
   "metadata": {},
   "outputs": [],
   "source": [
    "# train test split , doing 80;20 split\n",
    "X_train, X_test, y_train, y_test = train_test_split(X, y, test_size=0.2, random_state=42)\n"
   ]
  },
  {
   "cell_type": "markdown",
   "metadata": {},
   "source": [
    "### Step 4 — Fit on TRAIN only; Evaluate on TEST\n",
    "Compute **MAE** and **RMSE** in the **units of Y**."
   ]
  },
  {
   "cell_type": "code",
   "execution_count": 10,
   "metadata": {},
   "outputs": [],
   "source": [
    "from sklearn.metrics import mean_absolute_error, mean_squared_error\n",
    "# Fit the model\n",
    "model = sm.OLS(y_train, X_train).fit()"
   ]
  },
  {
   "cell_type": "code",
   "execution_count": 11,
   "metadata": {},
   "outputs": [
    {
     "name": "stdout",
     "output_type": "stream",
     "text": [
      "\n",
      "Mean Absolute Error (MAE) on Test Data: 0.79\n",
      "Root Mean Squared Error (RMSE) on Test Data: 1.97\n",
      "\n",
      "Interpretation: Our model's predictions on new data are off by an average of $0.79.\n"
     ]
    }
   ],
   "source": [
    "# Evaluate the model on the unseen testing data \n",
    "predictions = model.predict(X_test)\n",
    "\n",
    "mae = mean_absolute_error(y_test, predictions)\n",
    "rmse = np.sqrt(mean_squared_error(y_test, predictions))\n",
    "\n",
    "print(f\"\\nMean Absolute Error (MAE) on Test Data: {mae:.2f}\")\n",
    "print(f\"Root Mean Squared Error (RMSE) on Test Data: {rmse:.2f}\")\n",
    "print(f\"\\nInterpretation: Our model's predictions on new data are off by an average of ${mae:.2f}.\")\n",
    "            "
   ]
  },
  {
   "cell_type": "markdown",
   "metadata": {},
   "source": [
    "When this model tries to predict toll amounts for unseen trips, it’s off by about 79 cents on average."
   ]
  },
  {
   "cell_type": "code",
   "execution_count": 12,
   "metadata": {},
   "outputs": [
    {
     "name": "stdout",
     "output_type": "stream",
     "text": [
      "                            OLS Regression Results                            \n",
      "==============================================================================\n",
      "Dep. Variable:           tolls_amount   R-squared:                       0.220\n",
      "Model:                            OLS   Adj. R-squared:                  0.220\n",
      "Method:                 Least Squares   F-statistic:                 7.070e+05\n",
      "Date:                Thu, 30 Oct 2025   Prob (F-statistic):               0.00\n",
      "Time:                        12:16:32   Log-Likelihood:            -5.2624e+06\n",
      "No. Observations:             2506821   AIC:                         1.052e+07\n",
      "Df Residuals:                 2506819   BIC:                         1.052e+07\n",
      "Df Model:                           1                                         \n",
      "Covariance Type:            nonrobust                                         \n",
      "===============================================================================\n",
      "                  coef    std err          t      P>|t|      [0.025      0.975]\n",
      "-------------------------------------------------------------------------------\n",
      "const           0.2798      0.001    215.733      0.000       0.277       0.282\n",
      "airport_fee     2.1856      0.003    840.808      0.000       2.181       2.191\n",
      "==============================================================================\n",
      "Omnibus:                  2995856.100   Durbin-Watson:                   2.000\n",
      "Prob(Omnibus):                  0.000   Jarque-Bera (JB):       1176147234.586\n",
      "Skew:                           5.965   Prob(JB):                         0.00\n",
      "Kurtosis:                     108.442   Cond. No.                         2.13\n",
      "==============================================================================\n",
      "\n",
      "Notes:\n",
      "[1] Standard Errors assume that the covariance matrix of the errors is correctly specified.\n"
     ]
    }
   ],
   "source": [
    "# summary of the model\n",
    "print(model.summary())"
   ]
  },
  {
   "cell_type": "markdown",
   "metadata": {},
   "source": [
    "### Step 5 — Diagnostic Plots (TRAIN residuals)\n",
    "Check regression assumptions using **training** residuals.\n",
    "- **Homoscedasticity:** random cloud around 0 (no cone).\n",
    "- **Normality:** Q–Q plot ~ diagonal."
   ]
  },
  {
   "cell_type": "code",
   "execution_count": 13,
   "metadata": {},
   "outputs": [
    {
     "data": {
      "text/plain": [
       "Text(0, 0.5, 'Residuals (from Training Data)')"
      ]
     },
     "execution_count": 13,
     "metadata": {},
     "output_type": "execute_result"
    },
    {
     "data": {
      "image/png": "[encoded data removed]",
      "text/plain": [
       "<Figure size 1200x500 with 1 Axes>"
      ]
     },
     "metadata": {},
     "output_type": "display_data"
    }
   ],
   "source": [
    "train_residuals = model.resid \n",
    "\n",
    "# plot  for homoscedasticity\n",
    "plt.figure(figsize=(12, 5)) \n",
    "plt.subplot(1, 2, 1)\n",
    "plt.scatter(model.fittedvalues, train_residuals)\n",
    "plt.axhline(0, color='red', linestyle='--')\n",
    "plt.title('Residual Plot (for Homoscedasticity)')\n",
    "plt.xlabel('Fitted Values (from Training Data)')\n",
    "plt.ylabel('Residuals (from Training Data)')\n"
   ]
  },
  {
   "cell_type": "code",
   "execution_count": 14,
   "metadata": {},
   "outputs": [
    {
     "data": {
      "image/png": "[encoded data removed]",
      "text/plain": [
       "<Figure size 640x480 with 1 Axes>"
      ]
     },
     "metadata": {},
     "output_type": "display_data"
    },
    {
     "name": "stdout",
     "output_type": "stream",
     "text": [
      "                            OLS Regression Results                            \n",
      "==============================================================================\n",
      "Dep. Variable:           tolls_amount   R-squared:                       0.220\n",
      "Model:                            OLS   Adj. R-squared:                  0.220\n",
      "Method:                 Least Squares   F-statistic:                 7.070e+05\n",
      "Date:                Thu, 30 Oct 2025   Prob (F-statistic):               0.00\n",
      "Time:                        12:16:36   Log-Likelihood:            -5.2624e+06\n",
      "No. Observations:             2506821   AIC:                         1.052e+07\n",
      "Df Residuals:                 2506819   BIC:                         1.052e+07\n",
      "Df Model:                           1                                         \n",
      "Covariance Type:            nonrobust                                         \n",
      "===============================================================================\n",
      "                  coef    std err          t      P>|t|      [0.025      0.975]\n",
      "-------------------------------------------------------------------------------\n",
      "const           0.2798      0.001    215.733      0.000       0.277       0.282\n",
      "airport_fee     2.1856      0.003    840.808      0.000       2.181       2.191\n",
      "==============================================================================\n",
      "Omnibus:                  2995856.100   Durbin-Watson:                   2.000\n",
      "Prob(Omnibus):                  0.000   Jarque-Bera (JB):       1176147234.586\n",
      "Skew:                           5.965   Prob(JB):                         0.00\n",
      "Kurtosis:                     108.442   Cond. No.                         2.13\n",
      "==============================================================================\n",
      "\n",
      "Notes:\n",
      "[1] Standard Errors assume that the covariance matrix of the errors is correctly specified.\n"
     ]
    }
   ],
   "source": [
    "# 2. Q-Q Plot for Normality\n",
    "plt.subplot(1, 2, 2)\n",
    "stats.probplot(train_residuals, dist=\"norm\", plot=plt)\n",
    "plt.title('Q-Q Plot (for Normality)')\n",
    "\n",
    "plt.tight_layout()\n",
    "plt.show()\n",
    "\n",
    "# 3. Durbin-Watson statistic is in the summary output below\n",
    "print(model.summary())\n",
    "            \n"
   ]
  },
  {
   "cell_type": "markdown",
   "metadata": {},
   "source": [
    "We have the assumption of normal data, when we get ht s shape, part of it is that the middle part of the dstiturbiton, is simialr to normail distuibution, but hte tail are thickers, so that hte part of the s i s akigned iwth the line on top m those are both normal but ur tails are differeing sp if it were perfect it owuld match the line. "
   ]
  },
  {
   "cell_type": "markdown",
   "metadata": {},
   "source": [
    "### Step 6 — Quick Bias–Variance Read (optional)\n",
    "Compare **train** and **test** errors and describe what you see.\n",
    "\n"
   ]
  },
  {
   "cell_type": "code",
   "execution_count": 15,
   "metadata": {},
   "outputs": [
    {
     "name": "stdout",
     "output_type": "stream",
     "text": [
      "Train MAE: 0.79\n",
      "Test MAE: 0.79\n",
      "Train RMSE: 1.97\n",
      "Test RMSE: 1.97\n"
     ]
    }
   ],
   "source": [
    "train_predictions = model.predict(X_train)\n",
    "train_mae = mean_absolute_error(y_train, train_predictions)\n",
    "train_rmse = np.sqrt(mean_squared_error(y_train, train_predictions))\n",
    "\n",
    "print(f\"Train MAE: {train_mae:.2f}\")\n",
    "print(f\"Test MAE: {mae:.2f}\")\n",
    "print(f\"Train RMSE: {train_rmse:.2f}\")\n",
    "print(f\"Test RMSE: {rmse:.2f}\")\n"
   ]
  },
  {
   "cell_type": "markdown",
   "metadata": {},
   "source": [
    "- The training set (how well it learned known data)\n",
    "- The test set (how well it generalizes to new data)\n",
    "\n",
    "The model performs consistently on both training and testing data, with identical MAE (0.79) and RMSE (1.97). This suggests it generalizes well and avoids overfitting or underfitting. In other words, the model’s predictions on new taxi data are off by about 79 cents on average, which is fairly accurate for predicting toll amounts based on airport fees alone.\n",
    "\n",
    "However, since the model only uses one variable (airport_fee), it may not capture other important factors that influence tolls, like trip distance or time of day. \n"
   ]
  },
  {
   "cell_type": "markdown",
   "metadata": {},
   "source": [
    "## We Share — Reflection & Wrap‑Up\n",
    "Write **1–2 short paragraphs** addressing:\n",
    "\n",
    "\n",
    "1) **Is this model good enough** for a real decision **right now**? Why/why not?\n",
    "Refer to **MAE/RMSE in units**, any **assumption issues**, and whether accuracy meets a reasonable business threshold.\n",
    "\n",
    "\n",
    "2) **What’s your next move** to improve trust/accuracy?\n",
    "Examples: adopt a **time‑aware split**, try a more relevant **X**, transform variables, segment checks (hour/zone), or move to **Multiple Linear Regression** with validation."
   ]
  },
  {
   "cell_type": "markdown",
   "metadata": {},
   "source": [
    "### Answer\n",
    "1.  The model performs well, with nearly identical MAE and RMSE on both training and testing data (0.79 and 1.97). This means it generalizes consistently and isn’t overfitting or underfitting. However, it’s not strong enough for a real-world decision just yet because it only uses one predictor (airport_fee), which limits its explanatory power. Toll amounts are also influenced by trip distance, route, and congestion, which aren’t included here. So, while it’s a good starting point, it’s too simple for business use at this stage.\n",
    "\n",
    "2. To strengthen trust in this model, I’d move to a Multiple Linear Regression that includes additional predictors like trip_distance, time_of_day, or pickup_borough. This would help capture more real-world variation and improve accuracy. I’d also perform validation checks such as time-based splits or segmenting by airport routes to ensure the model performs consistently across different trip patterns."
   ]
  },
  {
   "cell_type": "markdown",
   "metadata": {},
   "source": []
  }
 ],
 "metadata": {
  "kernelspec": {
   "display_name": "base",
   "language": "python",
   "name": "python3"
  },
  "language_info": {
   "codemirror_mode": {
    "name": "ipython",
    "version": 3
   },
   "file_extension": ".py",
   "mimetype": "text/x-python",
   "name": "python",
   "nbconvert_exporter": "python",
   "pygments_lexer": "ipython3",
   "version": "3.12.7"
  }
 },
 "nbformat": 4,
 "nbformat_minor": 2
}
