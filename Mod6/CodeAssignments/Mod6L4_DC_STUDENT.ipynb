{
 "cells": [
  {
   "cell_type": "markdown",
   "metadata": {},
   "source": [
    "## Mod 6 Lecture 4 Data Challenge:  Simple Linear Regression\n",
    "\n",
    "### Purpose\n",
    "\n",
    "**Purpose**: Run a simple linear regression (SLR) on the NYC Yellow Taxi Dec 2023 excerpt to explain how a single input (X) relates to Tip % (Y). Practice picking a sensible X, fitting the line, and interpreting β₁, p‑value, and 95% confidence interval—plus basic assumption checks.\n",
    "\n",
    "### Data\n",
    "We are looking at ONE month's worth of data (December 2023 to be exact).  Remember the data dictionary is found [HERE](https://data.cityofnewyork.us/Transportation/2023-Yellow-Taxi-Trip-Data/4b4i-vvec/about_data)"
   ]
  },
  {
   "cell_type": "markdown",
   "metadata": {},
   "source": [
    "### Instructor Guidance (10 Minutes)\n",
    "\n",
    "#### Goals\n",
    "\n",
    "- Pick an X with a plausible relationship to Tip % that is available at trip time.\n",
    "\n",
    "- Communicate β₁ with units, p-vale, and a 95% CI.\n",
    "\n",
    "#### Special considerations\n",
    "\n",
    "- `Tip %` is `tip_amount / fare_amount`. Choosing `fare_amount` as X can create a built‑in relationship because it’s in the definition of Y (mathematical coupling). Encourage alternative X’s like `trip_distance`, `pickup_hour (as numeric)`, or `passenger_count`.\n",
    "\n",
    "- Linearity check: Is the relationship roughly straight‑line? If X is discrete (e.g., passenger_count), SLR still works but discuss meaning.\n",
    "\n",
    "- Intercept meaning: If X=0 is unrealistic (0 miles), say the intercept is just a mathematical anchor.\n",
    "\n",
    "- Outliers: Large distances/fares can dominate. Consider trimming extremes thoughtfully or explaining how you would handle outliers.  \n",
    "\n",
    "#### Critical thinking prompts as you work through the challenge (be prepared to answer at the end):\n",
    "\n",
    "- Which input would you use to make a decision before the ride starts? Why?\n",
    "\n",
    "- If β₁ is tiny but the p‑value is very small, is that useful for the business?\n",
    "\n",
    "- If residuals (can only get residuals after fitting the model) \"fan out\" as X grows, what story might that tell about tipping behavior?\n",
    "\n",
    "- Would your conclusion change if you looked at daytime vs. late night rides separately?"
   ]
  },
  {
   "cell_type": "markdown",
   "metadata": {},
   "source": [
    "### Student Tasks (35 minutes)"
   ]
  },
  {
   "cell_type": "markdown",
   "metadata": {},
   "source": [
    "Step 0 — Load Packages and Data, Fix Data Types, Create Tip % Column \n",
    "\n",
    "**Hint**:  You did this in the Code-Along, refer back to the notebook to help you!"
   ]
  },
  {
   "cell_type": "code",
   "execution_count": 11,
   "metadata": {},
   "outputs": [],
   "source": [
    "# import packages\n",
    "import statsmodels.api as sm\n",
    "from sklearn.linear_model import LinearRegression\n",
    "import pandas as pd\n",
    "import numpy as np"
   ]
  },
  {
   "cell_type": "code",
   "execution_count": 2,
   "metadata": {},
   "outputs": [],
   "source": [
    "df = pd.read_csv('/Users/ayemaq/Desktop/marcy_lab/DA2025_Lectures/Mod6/data/2023_Yellow_Taxi_Trip_Data_20251015.csv', low_memory=False)"
   ]
  },
  {
   "cell_type": "markdown",
   "metadata": {},
   "source": [
    "Step 1 — Choose Your X (be sure to chose an X variable that would be available at trip time (not after the trip takes place))\n",
    "\n",
    "Add a 2–3 sentence rationale in Markdown: Why could X relate to `tip_pct`? Why is it available **when the decision is made** (meaning driver has the information before the actual drive takes place)?\n",
    "- I chose passenger_count as my X variable because the driver can see how many riders are in the taxi before the trip starts. This variable could relate to tip_pct since tipping behavior may vary depending on group size; for example, larger groups might tip more collectively, or split the fare and tip less per person. Understanding this relationship can help identify how group dynamics influence tipping patterns."
   ]
  },
  {
   "cell_type": "code",
   "execution_count": 3,
   "metadata": {},
   "outputs": [
    {
     "data": {
      "text/html": [
       "<div>\n",
       "<style scoped>\n",
       "    .dataframe tbody tr th:only-of-type {\n",
       "        vertical-align: middle;\n",
       "    }\n",
       "\n",
       "    .dataframe tbody tr th {\n",
       "        vertical-align: top;\n",
       "    }\n",
       "\n",
       "    .dataframe thead th {\n",
       "        text-align: right;\n",
       "    }\n",
       "</style>\n",
       "<table border=\"1\" class=\"dataframe\">\n",
       "  <thead>\n",
       "    <tr style=\"text-align: right;\">\n",
       "      <th></th>\n",
       "      <th>VendorID</th>\n",
       "      <th>tpep_pickup_datetime</th>\n",
       "      <th>tpep_dropoff_datetime</th>\n",
       "      <th>passenger_count</th>\n",
       "      <th>trip_distance</th>\n",
       "      <th>RatecodeID</th>\n",
       "      <th>store_and_fwd_flag</th>\n",
       "      <th>PULocationID</th>\n",
       "      <th>DOLocationID</th>\n",
       "      <th>payment_type</th>\n",
       "      <th>fare_amount</th>\n",
       "      <th>extra</th>\n",
       "      <th>mta_tax</th>\n",
       "      <th>tip_amount</th>\n",
       "      <th>tolls_amount</th>\n",
       "      <th>improvement_surcharge</th>\n",
       "      <th>total_amount</th>\n",
       "      <th>congestion_surcharge</th>\n",
       "      <th>airport_fee</th>\n",
       "    </tr>\n",
       "  </thead>\n",
       "  <tbody>\n",
       "    <tr>\n",
       "      <th>0</th>\n",
       "      <td>2</td>\n",
       "      <td>12/01/2023 04:11:39 PM</td>\n",
       "      <td>12/01/2023 04:19:13 PM</td>\n",
       "      <td>2.0</td>\n",
       "      <td>0.69</td>\n",
       "      <td>1.0</td>\n",
       "      <td>N</td>\n",
       "      <td>141</td>\n",
       "      <td>140</td>\n",
       "      <td>1</td>\n",
       "      <td>7.9</td>\n",
       "      <td>2.5</td>\n",
       "      <td>0.5</td>\n",
       "      <td>3</td>\n",
       "      <td>0.0</td>\n",
       "      <td>1.0</td>\n",
       "      <td>17.4</td>\n",
       "      <td>2.5</td>\n",
       "      <td>0.0</td>\n",
       "    </tr>\n",
       "    <tr>\n",
       "      <th>1</th>\n",
       "      <td>1</td>\n",
       "      <td>12/01/2023 04:11:39 PM</td>\n",
       "      <td>12/01/2023 04:20:41 PM</td>\n",
       "      <td>3.0</td>\n",
       "      <td>1.1</td>\n",
       "      <td>1.0</td>\n",
       "      <td>N</td>\n",
       "      <td>236</td>\n",
       "      <td>263</td>\n",
       "      <td>2</td>\n",
       "      <td>10</td>\n",
       "      <td>5.0</td>\n",
       "      <td>0.5</td>\n",
       "      <td>0</td>\n",
       "      <td>0.0</td>\n",
       "      <td>1.0</td>\n",
       "      <td>16.5</td>\n",
       "      <td>2.5</td>\n",
       "      <td>0.0</td>\n",
       "    </tr>\n",
       "    <tr>\n",
       "      <th>2</th>\n",
       "      <td>2</td>\n",
       "      <td>12/01/2023 04:11:39 PM</td>\n",
       "      <td>12/01/2023 04:20:38 PM</td>\n",
       "      <td>1.0</td>\n",
       "      <td>1.57</td>\n",
       "      <td>1.0</td>\n",
       "      <td>N</td>\n",
       "      <td>48</td>\n",
       "      <td>239</td>\n",
       "      <td>4</td>\n",
       "      <td>-10.7</td>\n",
       "      <td>-2.5</td>\n",
       "      <td>-0.5</td>\n",
       "      <td>0</td>\n",
       "      <td>0.0</td>\n",
       "      <td>-1.0</td>\n",
       "      <td>-17.2</td>\n",
       "      <td>-2.5</td>\n",
       "      <td>0.0</td>\n",
       "    </tr>\n",
       "    <tr>\n",
       "      <th>3</th>\n",
       "      <td>2</td>\n",
       "      <td>12/01/2023 04:11:39 PM</td>\n",
       "      <td>12/01/2023 04:20:38 PM</td>\n",
       "      <td>1.0</td>\n",
       "      <td>1.57</td>\n",
       "      <td>1.0</td>\n",
       "      <td>N</td>\n",
       "      <td>48</td>\n",
       "      <td>239</td>\n",
       "      <td>4</td>\n",
       "      <td>10.7</td>\n",
       "      <td>2.5</td>\n",
       "      <td>0.5</td>\n",
       "      <td>0</td>\n",
       "      <td>0.0</td>\n",
       "      <td>1.0</td>\n",
       "      <td>17.2</td>\n",
       "      <td>2.5</td>\n",
       "      <td>0.0</td>\n",
       "    </tr>\n",
       "    <tr>\n",
       "      <th>4</th>\n",
       "      <td>1</td>\n",
       "      <td>12/01/2023 04:11:39 PM</td>\n",
       "      <td>12/01/2023 04:34:39 PM</td>\n",
       "      <td>2.0</td>\n",
       "      <td>3</td>\n",
       "      <td>1.0</td>\n",
       "      <td>N</td>\n",
       "      <td>164</td>\n",
       "      <td>211</td>\n",
       "      <td>1</td>\n",
       "      <td>21.9</td>\n",
       "      <td>5.0</td>\n",
       "      <td>0.5</td>\n",
       "      <td>3</td>\n",
       "      <td>0.0</td>\n",
       "      <td>1.0</td>\n",
       "      <td>31.4</td>\n",
       "      <td>2.5</td>\n",
       "      <td>0.0</td>\n",
       "    </tr>\n",
       "  </tbody>\n",
       "</table>\n",
       "</div>"
      ],
      "text/plain": [
       "   VendorID    tpep_pickup_datetime   tpep_dropoff_datetime  passenger_count  \\\n",
       "0         2  12/01/2023 04:11:39 PM  12/01/2023 04:19:13 PM              2.0   \n",
       "1         1  12/01/2023 04:11:39 PM  12/01/2023 04:20:41 PM              3.0   \n",
       "2         2  12/01/2023 04:11:39 PM  12/01/2023 04:20:38 PM              1.0   \n",
       "3         2  12/01/2023 04:11:39 PM  12/01/2023 04:20:38 PM              1.0   \n",
       "4         1  12/01/2023 04:11:39 PM  12/01/2023 04:34:39 PM              2.0   \n",
       "\n",
       "  trip_distance  RatecodeID store_and_fwd_flag  PULocationID  DOLocationID  \\\n",
       "0          0.69         1.0                  N           141           140   \n",
       "1           1.1         1.0                  N           236           263   \n",
       "2          1.57         1.0                  N            48           239   \n",
       "3          1.57         1.0                  N            48           239   \n",
       "4             3         1.0                  N           164           211   \n",
       "\n",
       "   payment_type fare_amount  extra  mta_tax tip_amount  tolls_amount  \\\n",
       "0             1         7.9    2.5      0.5          3           0.0   \n",
       "1             2          10    5.0      0.5          0           0.0   \n",
       "2             4       -10.7   -2.5     -0.5          0           0.0   \n",
       "3             4        10.7    2.5      0.5          0           0.0   \n",
       "4             1        21.9    5.0      0.5          3           0.0   \n",
       "\n",
       "   improvement_surcharge total_amount  congestion_surcharge  airport_fee  \n",
       "0                    1.0         17.4                   2.5          0.0  \n",
       "1                    1.0         16.5                   2.5          0.0  \n",
       "2                   -1.0        -17.2                  -2.5          0.0  \n",
       "3                    1.0         17.2                   2.5          0.0  \n",
       "4                    1.0         31.4                   2.5          0.0  "
      ]
     },
     "execution_count": 3,
     "metadata": {},
     "output_type": "execute_result"
    }
   ],
   "source": [
    "# trip_time\n",
    "df.head()"
   ]
  },
  {
   "cell_type": "code",
   "execution_count": 4,
   "metadata": {},
   "outputs": [
    {
     "data": {
      "text/plain": [
       "Index(['VendorID', 'tpep_pickup_datetime', 'tpep_dropoff_datetime',\n",
       "       'passenger_count', 'trip_distance', 'RatecodeID', 'store_and_fwd_flag',\n",
       "       'PULocationID', 'DOLocationID', 'payment_type', 'fare_amount', 'extra',\n",
       "       'mta_tax', 'tip_amount', 'tolls_amount', 'improvement_surcharge',\n",
       "       'total_amount', 'congestion_surcharge', 'airport_fee'],\n",
       "      dtype='object')"
      ]
     },
     "execution_count": 4,
     "metadata": {},
     "output_type": "execute_result"
    }
   ],
   "source": [
    "df.keys()"
   ]
  },
  {
   "cell_type": "markdown",
   "metadata": {},
   "source": [
    "Step 2 — Quick Visual Check (Linearity & Outliers)\n",
    "\n",
    "Add a 2-3 sentence rationale on how you would handle outliers or how you did handle outliers (if you handled them for this challenge).  Is the linear relationship there between your X and Y?  Is it a strong relationship?  What is the benefits of a strong relationship between X and Y?\n",
    "- I would handle outliers by removing trips with unrealistic passenger counts (for example, more than 6 passengers, since most NYC taxis only allow up to 6). The relationship between passenger count and tip percentage appears weak and not strongly linear. Most tips seem similar regardless of group size. A strong linear relationship would make it easier to predict tips accurately and understand how group size influences tipping behavior."
   ]
  },
  {
   "cell_type": "markdown",
   "metadata": {},
   "source": [
    "Step 3 — Fit SLR Model to Data"
   ]
  },
  {
   "cell_type": "code",
   "execution_count": 16,
   "metadata": {},
   "outputs": [],
   "source": [
    "# Coerce fare, tip, distance to numeric safely\n",
    "num_cols = ['fare_amount', 'tip_amount', 'trip_distance']\n",
    "for c in num_cols:\n",
    "    df[c] = pd.to_numeric(\n",
    "        df[c].astype(str).str.strip().str.replace(r'[^0-9.+\\-eE]', '', regex=True),\n",
    "        errors='coerce'\n",
    "    )"
   ]
  },
  {
   "cell_type": "code",
   "execution_count": 17,
   "metadata": {},
   "outputs": [],
   "source": [
    "# Clean data some and add a new column called 'tip_pct' as the target \n",
    "df = df[(df['fare_amount'] > 0) & (df['tip_amount'] >= 0) & (df['trip_distance'] > 0)]\n",
    "df = df.replace([np.inf, -np.inf], np.nan).dropna(subset=num_cols)\n",
    "df['tip_pct'] = (df['tip_amount']/df['fare_amount']).clip(0,1)"
   ]
  },
  {
   "cell_type": "code",
   "execution_count": 19,
   "metadata": {},
   "outputs": [
    {
     "name": "stdout",
     "output_type": "stream",
     "text": [
      "Intercept (β₀): 0.21216545933498546\n",
      "Slope (β₁): -0.0051002882017328905\n"
     ]
    }
   ],
   "source": [
    "# Drop rows with missing values in passenger_count or tip_pct\n",
    "df = df.dropna(subset=['passenger_count', 'tip_pct'])\n",
    "\n",
    "# Define X and y\n",
    "X = df[['passenger_count']]\n",
    "y = df['tip_pct']\n",
    "\n",
    "# Create and fit the model\n",
    "lin = LinearRegression().fit(X, y)\n",
    "\n",
    "# Print coefficients\n",
    "print(f\"Intercept (β₀): {lin.intercept_}\")\n",
    "print(f\"Slope (β₁): {lin.coef_[0]}\")\n"
   ]
  },
  {
   "cell_type": "markdown",
   "metadata": {},
   "source": [
    "Step 4 — Interpret the model's coefficients, p-values, and CI \n",
    "\n",
    "The model suggests that when there are 0 passengers, the predicted tip percentage is around 21.2% (the intercept). The slope (-0.0051) means that for each additional passenger, the tip percentage decreases slightly by about 0.5 percentage points. This indicates a very weak negative relationship, suggesting that group size has little to no meaningful impact on tipping behavior."
   ]
  },
  {
   "cell_type": "markdown",
   "metadata": {},
   "source": [
    "Step 5 — Post‑Fit Assumption Glance \n",
    "\n",
    "Add 2-3 sentences about the residuals any curve? funnel shape? obvious outliers?  How would you go about checking if residuals were normally distributed?  "
   ]
  },
  {
   "cell_type": "code",
   "execution_count": 20,
   "metadata": {},
   "outputs": [
    {
     "ename": "NameError",
     "evalue": "name 'ols' is not defined",
     "output_type": "error",
     "traceback": [
      "\u001b[0;31m---------------------------------------------------------------------------\u001b[0m",
      "\u001b[0;31mNameError\u001b[0m                                 Traceback (most recent call last)",
      "Cell \u001b[0;32mIn[20], line 2\u001b[0m\n\u001b[1;32m      1\u001b[0m \u001b[38;5;66;03m#RUN THIS CELL WITHOUT CHANGES\u001b[39;00m\n\u001b[0;32m----> 2\u001b[0m resid \u001b[38;5;241m=\u001b[39m ols\u001b[38;5;241m.\u001b[39mresid\n\u001b[1;32m      3\u001b[0m fitted \u001b[38;5;241m=\u001b[39m ols\u001b[38;5;241m.\u001b[39mfittedvalues\n\u001b[1;32m      4\u001b[0m plt\u001b[38;5;241m.\u001b[39mfigure(figsize\u001b[38;5;241m=\u001b[39m(\u001b[38;5;241m5\u001b[39m,\u001b[38;5;241m4\u001b[39m))\n",
      "\u001b[0;31mNameError\u001b[0m: name 'ols' is not defined"
     ]
    }
   ],
   "source": [
    "#RUN THIS CELL WITHOUT CHANGES\n",
    "resid = ols.resid\n",
    "fitted = ols.fittedvalues\n",
    "plt.figure(figsize=(5,4))\n",
    "plt.scatter(fitted, resid, s=6, alpha=0.3)\n",
    "plt.axhline(0, color='k', lw=1)\n",
    "plt.xlabel('Fitted values (tip_pct)')\n",
    "plt.ylabel('Residuals')\n",
    "plt.title('Residuals vs Fitted (visual check)')\n",
    "plt.show()"
   ]
  },
  {
   "cell_type": "code",
   "execution_count": 22,
   "metadata": {},
   "outputs": [
    {
     "data": {
      "image/png": "[encoded data removed]",
      "text/plain": [
       "<Figure size 500x400 with 1 Axes>"
      ]
     },
     "metadata": {},
     "output_type": "display_data"
    }
   ],
   "source": [
    "import matplotlib.pyplot as plt\n",
    "import statsmodels.api as sm\n",
    "# Add constant term\n",
    "X = sm.add_constant(df[['passenger_count']])\n",
    "\n",
    "# Fit model\n",
    "ols = sm.OLS(y, X).fit()\n",
    "\n",
    "# Plot residuals vs fitted values\n",
    "resid = ols.resid\n",
    "fitted = ols.fittedvalues\n",
    "\n",
    "plt.figure(figsize=(5,4))\n",
    "plt.scatter(fitted, resid, s=6, alpha=0.3)\n",
    "plt.axhline(0, color='k', lw=1)\n",
    "plt.xlabel('Fitted values (tip_pct)')\n",
    "plt.ylabel('Residuals')\n",
    "plt.title('Residuals vs Fitted (visual check)')\n",
    "plt.show()\n",
    "\n"
   ]
  },
  {
   "cell_type": "markdown",
   "metadata": {},
   "source": [
    "### Reflection (10-15 mins)\n",
    "\n",
    "**In addition to the critical thinking questions at the top** of the notebook be prepared to discuss: \n",
    "\n",
    "- If you had to make a decision tomorrow, would this simple model be enough? Why/why not?\n",
    "    - I wouldn’t rely on this simple model to make a decision tomorrow because the relationship between passenger count and tip percentage is really weak. There isn’t enough evidence that group size actually affects tipping in a meaningful way.\n",
    "\n",
    "- What’s one different X you’d try next and why?\n",
    "     - I would try fare_amount because that has a direct impact on how much passengers tip. It makes sense that hte total fare could influence tipping behavior because people tend to base their tips on a percentage of the fare amount. "
   ]
  },
  {
   "cell_type": "code",
   "execution_count": null,
   "metadata": {},
   "outputs": [],
   "source": []
  }
 ],
 "metadata": {
  "kernelspec": {
   "display_name": "base",
   "language": "python",
   "name": "python3"
  },
  "language_info": {
   "codemirror_mode": {
    "name": "ipython",
    "version": 3
   },
   "file_extension": ".py",
   "mimetype": "text/x-python",
   "name": "python",
   "nbconvert_exporter": "python",
   "pygments_lexer": "ipython3",
   "version": "3.12.7"
  }
 },
 "nbformat": 4,
 "nbformat_minor": 2
}
